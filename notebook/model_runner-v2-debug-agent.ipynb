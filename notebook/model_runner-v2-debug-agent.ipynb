{
 "cells": [
  {
   "cell_type": "code",
   "execution_count": 1,
   "id": "5203fe3a-5ed4-4115-b3a1-871ecd06181b",
   "metadata": {},
   "outputs": [],
   "source": [
    "import numpy as np\n",
    "import pandas as pd\n",
    "\n",
    "import seaborn as sns\n",
    "import matplotlib.pyplot as plt\n",
    "\n",
    "%matplotlib inline"
   ]
  },
  {
   "cell_type": "code",
   "execution_count": 2,
   "id": "6c5b9358-bd41-4461-8c4b-a9a714fa53bb",
   "metadata": {},
   "outputs": [],
   "source": [
    "import sys\n",
    "\n",
    "sys.path.insert(0, \"/Users/flynnwang/repo/flynn/eco_bang_bang\")"
   ]
  },
  {
   "cell_type": "code",
   "execution_count": 3,
   "id": "58957063-fb3e-4cbb-97ec-e1646e1e557b",
   "metadata": {},
   "outputs": [
    {
     "data": {
      "text/plain": [
       "'/Users/flynnwang/repo/flynn/eco_bang_bang/ebb/__init__.py'"
      ]
     },
     "execution_count": 3,
     "metadata": {},
     "output_type": "execute_result"
    }
   ],
   "source": [
    "import ebb\n",
    "\n",
    "ebb.__file__"
   ]
  },
  {
   "cell_type": "code",
   "execution_count": 4,
   "id": "80676d1a-8ee0-46f1-a5fb-f59c162c2b77",
   "metadata": {},
   "outputs": [],
   "source": [
    "import torch\n",
    "\n",
    "from ebb.env.luxenv import get_ob_sapce\n",
    "from ebb.model import _create_model, RewardSpec\n",
    "\n",
    "reward_spec = RewardSpec(\n",
    "        reward_min=-5,\n",
    "        reward_max=+5,\n",
    "        zero_sum=False,\n",
    "    )\n",
    "\n",
    "reward_shaping_params = dict(\n",
    "  new_observed_down_tri=0.0001,\n",
    "  match_observed=0,\n",
    "  match_win=1,\n",
    "  use_hidden_relic_estimator=True,\n",
    "  energy_cost_change=0.001,                             \n",
    ")\n",
    "\n",
    "obs_space_kwargs = {\n",
    "    'use_energy_cost_map': True,\n",
    "    'use_single_player': False,\n",
    "    \"use_agent\": False,\n",
    "}"
   ]
  },
  {
   "cell_type": "markdown",
   "id": "31b61ef5-8bd0-40cf-8e43-9f1762fa0fe8",
   "metadata": {},
   "source": [
    "# Load model"
   ]
  },
  {
   "cell_type": "code",
   "execution_count": 5,
   "id": "cc5db45b-c255-43a9-a061-11964988817c",
   "metadata": {},
   "outputs": [
    {
     "data": {
      "text/plain": [
       "<All keys matched successfully>"
      ]
     },
     "execution_count": 5,
     "metadata": {},
     "output_type": "execute_result"
    }
   ],
   "source": [
    "# model_path = \"/Users/flynnwang/repo/flynn/runs/new_md/run_2025026_imitation_r0/011321856_weights.pt\"\n",
    "# model_path = \"/Users/flynnwang/repo/flynn/runs/new_md/run_20250207_behaviour_cloning_test_run_v4/000161856_weights.pt\"\n",
    "\n",
    "# model_path = \"/Users/flynnwang/repo/flynn/runs/new_md/run_20250208_behaviour_cloning_r0_with_drift_estimation_cont3/027721664_weights.pt\"\n",
    "\n",
    "# model_path = \"/Users/flynnwang/repo/flynn/runs/new_md/run_20250210_post_training_full_kl_and_entropy_r0/028716800_weights.pt\"\n",
    "\n",
    "model_path = \"/Users/flynnwang/repo/flynn/runs/mds/submits/run_20250211_post_training_game_win_loss_cont_r2/069065216_weights.pt\"\n",
    "\n",
    "ob_space = get_ob_sapce(obs_space_kwargs)\n",
    "model = _create_model(ob_space, reward_spec=reward_spec, n_blocks=8, hidden_dim=128, base_out_channels=128,\n",
    "                      embedding_dim=16, kernel_size=5, use_separate_base=False)\n",
    "\n",
    "\n",
    "checkpoint_state = torch.load(model_path, map_location=torch.device(\"cpu\"), weights_only=True)\n",
    "model.load_state_dict(checkpoint_state[\"model_state_dict\"])"
   ]
  },
  {
   "cell_type": "markdown",
   "id": "83b8acf9-cfff-43a8-910f-e3dae466ac81",
   "metadata": {},
   "source": [
    "# Model Run"
   ]
  },
  {
   "cell_type": "code",
   "execution_count": 6,
   "id": "d2481513-e0bf-478a-bcdb-22ae0b934513",
   "metadata": {},
   "outputs": [],
   "source": [
    "from luxai_s3.params import EnvParams\n",
    "\n",
    "from luxai_s3.wrappers import LuxAIS3GymEnv, RecordEpisode\n",
    "from ebb.env.luxenv import LuxS3Env\n",
    "from ebb.env.wrappers import VecEnv, PytorchEnv, DictEnv\n",
    "from ebb.torchbeast.core.selfplay import split_env_output_by_player, pair_env_output_for_players\n",
    "\n",
    "\n",
    "def actor_model_apply(env_output, sample=True):\n",
    "  lef_env_out, rig_env_out = split_env_output_by_player(env_output)\n",
    "  lef_agent_out = actor_model(lef_env_out, sample=sample, probs_output=True)\n",
    "  rig_agent_out = actor_model(rig_env_out, sample=sample, probs_output=True)\n",
    "  return [(lef_env_out, lef_agent_out), (rig_env_out, rig_agent_out)]\n",
    "\n",
    "def get_merged_actions(env_agent_out):\n",
    "  lef_actions = env_agent_out[0][1]['actions']\n",
    "  rig_actions = env_agent_out[1][1]['actions']\n",
    "  return pair_env_output_for_players(lef_actions, rig_actions)\n",
    "\n",
    "class AgentStats:\n",
    "\n",
    "    def __init__(self):\n",
    "        self.baseline = []\n",
    "\n",
    "\n",
    "    def add_baseline(self, b):\n",
    "        self.baseline.append(float(b.detach().numpy()))\n",
    "\n",
    "        "
   ]
  },
  {
   "cell_type": "code",
   "execution_count": 7,
   "id": "a83e48dd-8c20-479e-bc16-8c87779ff31d",
   "metadata": {},
   "outputs": [],
   "source": [
    "sys.path.insert(0, \"/Users/flynnwang/repo/flynn/eco_bang_bang/agents\")"
   ]
  },
  {
   "cell_type": "code",
   "execution_count": 8,
   "id": "c64490da-3931-48ae-9ea5-f779915d2dbc",
   "metadata": {},
   "outputs": [],
   "source": [
    "from rl_b8_70M_0213.ecobangbang.agent import Agent as RlAgent"
   ]
  },
  {
   "cell_type": "code",
   "execution_count": null,
   "id": "fa0e4e5d-5dbc-452f-b865-11ac4996d6c7",
   "metadata": {},
   "outputs": [],
   "source": []
  },
  {
   "cell_type": "code",
   "execution_count": null,
   "id": "01d7a693-e9c0-4e00-a095-aac543f9c73b",
   "metadata": {},
   "outputs": [],
   "source": []
  },
  {
   "cell_type": "code",
   "execution_count": null,
   "id": "d280da0e-57b9-498a-96c3-b0e39490b569",
   "metadata": {},
   "outputs": [],
   "source": []
  },
  {
   "cell_type": "code",
   "execution_count": null,
   "id": "ce232311-44d5-4a46-965f-d92b1b4c938a",
   "metadata": {},
   "outputs": [],
   "source": []
  },
  {
   "cell_type": "code",
   "execution_count": 10,
   "id": "84dfc490-92ec-471d-922d-f18556c5093e",
   "metadata": {},
   "outputs": [
    {
     "name": "stderr",
     "output_type": "stream",
     "text": [
      "Model loaded\n",
      "step=0, player=player_0\n"
     ]
    },
    {
     "name": "stdout",
     "output_type": "stream",
     "text": [
      "step=1 final_state.energy_nodes=[[10 19]\n",
      " [10 21]\n",
      " [12 22]\n",
      " [ 4 13]\n",
      " [ 2 13]\n",
      " [ 1 11]], final_state.energy_nodes_mask=[ True  True False  True  True False]\n"
     ]
    },
    {
     "name": "stderr",
     "output_type": "stream",
     "text": [
      "***** --> found energy node at [ 2 13]\n",
      "step=0 (after update), energy field found=True, node=[ 2 13], candidates=[array([ 2, 13])]\n",
      "--> using energy node at [ 2 13]\n",
      "***** --> found energy node at [ 2 13]\n",
      "step=0 (after update), energy field found=True, node=[ 2 13], candidates=[array([ 2, 13])]\n",
      "--> using energy node at [ 2 13]\n",
      "***** --> found energy node at [ 2 13]\n",
      "step=0 (after update), energy field found=True, node=[ 2 13], candidates=[array([ 2, 13])]\n",
      "--> using energy node at [ 2 13]\n",
      "step=1, player=player_0\n",
      "***** --> found energy node at [ 4 13]\n"
     ]
    },
    {
     "name": "stdout",
     "output_type": "stream",
     "text": [
      "step=2 final_state.energy_nodes=[[10 19]\n",
      " [10 21]\n",
      " [12 22]\n",
      " [ 4 13]\n",
      " [ 2 13]\n",
      " [ 1 11]], final_state.energy_nodes_mask=[ True  True False  True  True False]\n"
     ]
    },
    {
     "name": "stderr",
     "output_type": "stream",
     "text": [
      "----------small reset energy node positions, found? = True\n",
      "energy field changed at step = 1\n",
      "step=1 (after update), energy field found=True, node=[ 4 13], candidates=[array([ 4, 13])]\n",
      "--> using energy node at [ 4 13]\n",
      "***** --> found energy node at [ 4 13]\n",
      "----------small reset energy node positions, found? = True\n",
      "energy field changed at step = 1\n",
      "step=1 (after update), energy field found=True, node=[ 4 13], candidates=[array([ 4, 13])]\n",
      "--> using energy node at [ 4 13]\n",
      "***** --> found energy node at [ 4 13]\n",
      "----------small reset energy node positions, found? = True\n",
      "energy field changed at step = 1\n",
      "step=1 (after update), energy field found=True, node=[ 4 13], candidates=[array([ 4, 13])]\n",
      "--> using energy node at [ 4 13]\n",
      "step=2, player=player_0\n",
      "step=2 (after update), energy field found=True, node=[ 4 13], candidates=[array([ 4, 13])]\n",
      "--> using energy node at [ 4 13]\n",
      "step=2 (after update), energy field found=True, node=[ 4 13], candidates=[array([ 4, 13])]\n",
      "--> using energy node at [ 4 13]\n",
      "step=2 (after update), energy field found=True, node=[ 4 13], candidates=[array([ 4, 13])]\n",
      "--> using energy node at [ 4 13]\n",
      "step=3, player=player_0\n",
      "step=3 (after update), energy field found=True, node=[ 4 13], candidates=[array([ 4, 13])]\n",
      "--> using energy node at [ 4 13]\n",
      "step=3 (after update), energy field found=True, node=[ 4 13], candidates=[array([ 4, 13])]\n",
      "--> using energy node at [ 4 13]\n",
      "step=3 (after update), energy field found=True, node=[ 4 13], candidates=[array([ 4, 13])]\n",
      "--> using energy node at [ 4 13]\n",
      "step=4, player=player_0\n",
      "step=4 (after update), energy field found=True, node=[ 4 13], candidates=[array([ 4, 13])]\n",
      "--> using energy node at [ 4 13]\n",
      "step=4 (after update), energy field found=True, node=[ 4 13], candidates=[array([ 4, 13])]\n",
      "--> using energy node at [ 4 13]\n",
      "step=4 (after update), energy field found=True, node=[ 4 13], candidates=[array([ 4, 13])]\n",
      "--> using energy node at [ 4 13]\n",
      "step=5, player=player_0\n",
      "step=5 (after update), energy field found=True, node=[ 4 13], candidates=[array([ 4, 13])]\n",
      "--> using energy node at [ 4 13]\n",
      "step=5 (after update), energy field found=True, node=[ 4 13], candidates=[array([ 4, 13])]\n",
      "--> using energy node at [ 4 13]\n",
      "step=5 (after update), energy field found=True, node=[ 4 13], candidates=[array([ 4, 13])]\n",
      "--> using energy node at [ 4 13]\n",
      "step=6, player=player_0\n",
      "step=6 (after update), energy field found=True, node=[ 4 13], candidates=[array([ 4, 13])]\n",
      "--> using energy node at [ 4 13]\n",
      "step=6 (after update), energy field found=True, node=[ 4 13], candidates=[array([ 4, 13])]\n",
      "--> using energy node at [ 4 13]\n"
     ]
    },
    {
     "name": "stdout",
     "output_type": "stream",
     "text": [
      "step=3 final_state.energy_nodes=[[10 19]\n",
      " [10 21]\n",
      " [12 22]\n",
      " [ 4 13]\n",
      " [ 2 13]\n",
      " [ 1 11]], final_state.energy_nodes_mask=[ True  True False  True  True False]\n",
      "step=4 final_state.energy_nodes=[[10 19]\n",
      " [10 21]\n",
      " [12 22]\n",
      " [ 4 13]\n",
      " [ 2 13]\n",
      " [ 1 11]], final_state.energy_nodes_mask=[ True  True False  True  True False]\n",
      "step=5 final_state.energy_nodes=[[10 19]\n",
      " [10 21]\n",
      " [12 22]\n",
      " [ 4 13]\n",
      " [ 2 13]\n",
      " [ 1 11]], final_state.energy_nodes_mask=[ True  True False  True  True False]\n",
      "step=6 final_state.energy_nodes=[[10 19]\n",
      " [10 21]\n",
      " [12 22]\n",
      " [ 4 13]\n",
      " [ 2 13]\n",
      " [ 1 11]], final_state.energy_nodes_mask=[ True  True False  True  True False]\n",
      "step=7 final_state.energy_nodes=[[10 19]\n",
      " [10 21]\n",
      " [12 22]\n",
      " [ 4 13]\n",
      " [ 2 13]\n",
      " [ 1 11]], final_state.energy_nodes_mask=[ True  True False  True  True False]\n"
     ]
    },
    {
     "name": "stderr",
     "output_type": "stream",
     "text": [
      "step=6 (after update), energy field found=True, node=[ 4 13], candidates=[array([ 4, 13])]\n",
      "--> using energy node at [ 4 13]\n",
      "step=7, player=player_0\n",
      "step=8, apply nebula drift = -0.15, Counter({-0.15: 2, 0.15: 0, -0.1: -99, -0.05: -99, -0.025: -99, 0.025: -99, 0.05: -99, 0.1: -99})\n",
      "step=7 (after update), energy field found=True, node=[ 4 13], candidates=[array([ 4, 13])]\n",
      "--> using energy node at [ 4 13]\n",
      "step=8, apply nebula drift = -0.15, Counter({-0.15: 2, 0.15: 0, -0.1: -99, -0.05: -99, -0.025: -99, 0.025: -99, 0.05: -99, 0.1: -99})\n",
      "step=7 (after update), energy field found=True, node=[ 4 13], candidates=[array([ 4, 13])]\n",
      "--> using energy node at [ 4 13]\n",
      "step=8, apply nebula drift = -0.15, Counter({-0.15: 2, 0.15: 0, -0.1: -99, -0.05: -99, -0.025: -99, 0.025: -99, 0.05: -99, 0.1: -99})\n",
      "step=7 (after update), energy field found=True, node=[ 4 13], candidates=[array([ 4, 13])]\n",
      "--> using energy node at [ 4 13]\n",
      "step=8, player=player_0\n",
      "step=8 (after update), energy field found=True, node=[ 4 13], candidates=[array([ 4, 13])]\n",
      "--> using energy node at [ 4 13]\n",
      "step=8 (after update), energy field found=True, node=[ 4 13], candidates=[array([ 4, 13])]\n",
      "--> using energy node at [ 4 13]\n",
      "step=8 (after update), energy field found=True, node=[ 4 13], candidates=[array([ 4, 13])]\n",
      "--> using energy node at [ 4 13]\n",
      "step=9, player=player_0\n",
      "step=9 (after update), energy field found=True, node=[ 4 13], candidates=[array([ 4, 13])]\n",
      "--> using energy node at [ 4 13]\n",
      "step=9 (after update), energy field found=True, node=[ 4 13], candidates=[array([ 4, 13])]\n",
      "--> using energy node at [ 4 13]\n",
      "step=9 (after update), energy field found=True, node=[ 4 13], candidates=[array([ 4, 13])]\n",
      "--> using energy node at [ 4 13]\n",
      "step=10, player=player_0\n",
      "step=10 (after update), energy field found=True, node=[ 4 13], candidates=[array([ 4, 13])]\n",
      "--> using energy node at [ 4 13]\n",
      "step=10 (after update), energy field found=True, node=[ 4 13], candidates=[array([ 4, 13])]\n",
      "--> using energy node at [ 4 13]\n",
      "step=10 (after update), energy field found=True, node=[ 4 13], candidates=[array([ 4, 13])]\n",
      "--> using energy node at [ 4 13]\n",
      "step=11, player=player_0\n",
      "step=11 (after update), energy field found=True, node=[ 4 13], candidates=[array([ 4, 13])]\n",
      "--> using energy node at [ 4 13]\n",
      "step=11 (after update), energy field found=True, node=[ 4 13], candidates=[array([ 4, 13])]\n",
      "--> using energy node at [ 4 13]\n"
     ]
    },
    {
     "name": "stdout",
     "output_type": "stream",
     "text": [
      "step=8 final_state.energy_nodes=[[10 19]\n",
      " [10 21]\n",
      " [12 22]\n",
      " [ 4 13]\n",
      " [ 2 13]\n",
      " [ 1 11]], final_state.energy_nodes_mask=[ True  True False  True  True False]\n",
      "step=9 final_state.energy_nodes=[[10 19]\n",
      " [10 21]\n",
      " [12 22]\n",
      " [ 4 13]\n",
      " [ 2 13]\n",
      " [ 1 11]], final_state.energy_nodes_mask=[ True  True False  True  True False]\n",
      "step=10 final_state.energy_nodes=[[10 19]\n",
      " [10 21]\n",
      " [12 22]\n",
      " [ 4 13]\n",
      " [ 2 13]\n",
      " [ 1 11]], final_state.energy_nodes_mask=[ True  True False  True  True False]\n",
      "step=11 final_state.energy_nodes=[[10 19]\n",
      " [10 21]\n",
      " [12 22]\n",
      " [ 4 13]\n",
      " [ 2 13]\n",
      " [ 1 11]], final_state.energy_nodes_mask=[ True  True False  True  True False]\n",
      "step=12 final_state.energy_nodes=[[10 19]\n",
      " [10 21]\n",
      " [12 22]\n",
      " [ 4 13]\n",
      " [ 2 13]\n",
      " [ 1 11]], final_state.energy_nodes_mask=[ True  True False  True  True False]\n"
     ]
    },
    {
     "name": "stderr",
     "output_type": "stream",
     "text": [
      "step=11 (after update), energy field found=True, node=[ 4 13], candidates=[array([ 4, 13])]\n",
      "--> using energy node at [ 4 13]\n",
      "step=12, player=player_0\n",
      "step=12 (after update), energy field found=True, node=[ 4 13], candidates=[array([ 4, 13])]\n",
      "--> using energy node at [ 4 13]\n",
      "step=12 (after update), energy field found=True, node=[ 4 13], candidates=[array([ 4, 13])]\n",
      "--> using energy node at [ 4 13]\n",
      "step=12 (after update), energy field found=True, node=[ 4 13], candidates=[array([ 4, 13])]\n",
      "--> using energy node at [ 4 13]\n",
      "step=13, player=player_0\n",
      "step=13 (after update), energy field found=True, node=[ 4 13], candidates=[array([ 4, 13])]\n",
      "--> using energy node at [ 4 13]\n",
      "step=13 (after update), energy field found=True, node=[ 4 13], candidates=[array([ 4, 13])]\n",
      "--> using energy node at [ 4 13]\n",
      "step=13 (after update), energy field found=True, node=[ 4 13], candidates=[array([ 4, 13])]\n",
      "--> using energy node at [ 4 13]\n",
      "step=14, player=player_0\n",
      "step=15, apply nebula drift = -0.15, Counter({-0.15: 3, 0.15: -1, -0.1: -199, -0.05: -199, -0.025: -199, 0.025: -199, 0.05: -199, 0.1: -199})\n",
      "step=14 (after update), energy field found=True, node=[ 4 13], candidates=[array([ 4, 13])]\n",
      "--> using energy node at [ 4 13]\n",
      "step=15, apply nebula drift = -0.15, Counter({-0.15: 3, 0.15: -1, -0.1: -199, -0.05: -199, -0.025: -199, 0.025: -199, 0.05: -199, 0.1: -199})\n",
      "step=14 (after update), energy field found=True, node=[ 4 13], candidates=[array([ 4, 13])]\n",
      "--> using energy node at [ 4 13]\n",
      "step=15, apply nebula drift = -0.15, Counter({-0.15: 3, 0.15: -1, -0.1: -199, -0.05: -199, -0.025: -199, 0.025: -199, 0.05: -199, 0.1: -199})\n",
      "step=14 (after update), energy field found=True, node=[ 4 13], candidates=[array([ 4, 13])]\n",
      "--> using energy node at [ 4 13]\n",
      "step=15, player=player_0\n",
      "step=15 (after update), energy field found=True, node=[ 4 13], candidates=[array([ 4, 13])]\n",
      "--> using energy node at [ 4 13]\n",
      "step=15 (after update), energy field found=True, node=[ 4 13], candidates=[array([ 4, 13])]\n",
      "--> using energy node at [ 4 13]\n",
      "step=15 (after update), energy field found=True, node=[ 4 13], candidates=[array([ 4, 13])]\n",
      "--> using energy node at [ 4 13]\n",
      "step=16, player=player_0\n",
      "step=16 (after update), energy field found=True, node=[ 4 13], candidates=[array([ 4, 13])]\n",
      "--> using energy node at [ 4 13]\n",
      "step=16 (after update), energy field found=True, node=[ 4 13], candidates=[array([ 4, 13])]\n",
      "--> using energy node at [ 4 13]\n"
     ]
    },
    {
     "name": "stdout",
     "output_type": "stream",
     "text": [
      "step=13 final_state.energy_nodes=[[10 19]\n",
      " [10 21]\n",
      " [12 22]\n",
      " [ 4 13]\n",
      " [ 2 13]\n",
      " [ 1 11]], final_state.energy_nodes_mask=[ True  True False  True  True False]\n",
      "step=14 final_state.energy_nodes=[[10 19]\n",
      " [10 21]\n",
      " [12 22]\n",
      " [ 4 13]\n",
      " [ 2 13]\n",
      " [ 1 11]], final_state.energy_nodes_mask=[ True  True False  True  True False]\n",
      "step=15 final_state.energy_nodes=[[10 19]\n",
      " [10 21]\n",
      " [12 22]\n",
      " [ 4 13]\n",
      " [ 2 13]\n",
      " [ 1 11]], final_state.energy_nodes_mask=[ True  True False  True  True False]\n",
      "step=16 final_state.energy_nodes=[[10 19]\n",
      " [10 21]\n",
      " [12 22]\n",
      " [ 4 13]\n",
      " [ 2 13]\n",
      " [ 1 11]], final_state.energy_nodes_mask=[ True  True False  True  True False]\n",
      "step=17 final_state.energy_nodes=[[10 19]\n",
      " [10 21]\n",
      " [12 22]\n",
      " [ 4 13]\n",
      " [ 2 13]\n",
      " [ 1 11]], final_state.energy_nodes_mask=[ True  True False  True  True False]\n"
     ]
    },
    {
     "name": "stderr",
     "output_type": "stream",
     "text": [
      "step=16 (after update), energy field found=True, node=[ 4 13], candidates=[array([ 4, 13])]\n",
      "--> using energy node at [ 4 13]\n",
      "step=17, player=player_0\n",
      "step=17 (after update), energy field found=True, node=[ 4 13], candidates=[array([ 4, 13])]\n",
      "--> using energy node at [ 4 13]\n",
      "step=17 (after update), energy field found=True, node=[ 4 13], candidates=[array([ 4, 13])]\n",
      "--> using energy node at [ 4 13]\n",
      "step=17 (after update), energy field found=True, node=[ 4 13], candidates=[array([ 4, 13])]\n",
      "--> using energy node at [ 4 13]\n",
      "step=18, player=player_0\n",
      "step=18 (after update), energy field found=True, node=[ 4 13], candidates=[array([ 4, 13])]\n",
      "--> using energy node at [ 4 13]\n",
      "step=18 (after update), energy field found=True, node=[ 4 13], candidates=[array([ 4, 13])]\n",
      "--> using energy node at [ 4 13]\n",
      "step=18 (after update), energy field found=True, node=[ 4 13], candidates=[array([ 4, 13])]\n",
      "--> using energy node at [ 4 13]\n",
      "step=19, player=player_0\n",
      "step=19 (after update), energy field found=True, node=[ 4 13], candidates=[array([ 4, 13])]\n",
      "--> using energy node at [ 4 13]\n",
      "step=19 (after update), energy field found=True, node=[ 4 13], candidates=[array([ 4, 13])]\n",
      "--> using energy node at [ 4 13]\n",
      "step=19 (after update), energy field found=True, node=[ 4 13], candidates=[array([ 4, 13])]\n",
      "--> using energy node at [ 4 13]\n",
      "step=20, player=player_0\n",
      "step=21, apply nebula drift = -0.15, Counter({-0.15: 4, 0.15: -2, -0.1: -198, -0.05: -198, 0.05: -200, 0.1: -200, -0.025: -299, 0.025: -299})\n",
      "step=20 (after update), energy field found=True, node=[ 4 13], candidates=[array([ 4, 13])]\n",
      "--> using energy node at [ 4 13]\n",
      "step=21, apply nebula drift = -0.15, Counter({-0.15: 4, 0.15: -2, -0.1: -198, -0.05: -198, 0.05: -200, 0.1: -200, -0.025: -299, 0.025: -299})\n",
      "step=20 (after update), energy field found=True, node=[ 4 13], candidates=[array([ 4, 13])]\n",
      "--> using energy node at [ 4 13]\n",
      "step=21, apply nebula drift = -0.15, Counter({-0.15: 4, 0.15: -2, -0.1: -198, -0.05: -198, 0.05: -200, 0.1: -200, -0.025: -299, 0.025: -299})\n",
      "step=20 (after update), energy field found=True, node=[ 4 13], candidates=[array([ 4, 13])]\n",
      "--> using energy node at [ 4 13]\n",
      "step=21, player=player_0\n",
      "step=21 (after update), energy field found=True, node=[ 4 13], candidates=[array([ 4, 13])]\n",
      "--> using energy node at [ 4 13]\n",
      "step=21 (after update), energy field found=True, node=[ 4 13], candidates=[array([ 4, 13])]\n",
      "--> using energy node at [ 4 13]\n"
     ]
    },
    {
     "name": "stdout",
     "output_type": "stream",
     "text": [
      "step=18 final_state.energy_nodes=[[10 19]\n",
      " [10 21]\n",
      " [12 22]\n",
      " [ 4 13]\n",
      " [ 2 13]\n",
      " [ 1 11]], final_state.energy_nodes_mask=[ True  True False  True  True False]\n",
      "step=19 final_state.energy_nodes=[[10 19]\n",
      " [10 21]\n",
      " [12 22]\n",
      " [ 4 13]\n",
      " [ 2 13]\n",
      " [ 1 11]], final_state.energy_nodes_mask=[ True  True False  True  True False]\n",
      "step=20 final_state.energy_nodes=[[10 19]\n",
      " [10 21]\n",
      " [12 22]\n",
      " [ 4 13]\n",
      " [ 2 13]\n",
      " [ 1 11]], final_state.energy_nodes_mask=[ True  True False  True  True False]\n",
      "step=21 final_state.energy_nodes=[[10 19]\n",
      " [10 21]\n",
      " [12 22]\n",
      " [ 4 13]\n",
      " [ 2 13]\n",
      " [ 1 11]], final_state.energy_nodes_mask=[ True  True False  True  True False]\n",
      "step=22 final_state.energy_nodes=[[10 19]\n",
      " [10 21]\n",
      " [12 22]\n",
      " [ 4 13]\n",
      " [ 2 13]\n",
      " [ 1 11]], final_state.energy_nodes_mask=[ True  True False  True  True False]\n"
     ]
    },
    {
     "name": "stderr",
     "output_type": "stream",
     "text": [
      "step=21 (after update), energy field found=True, node=[ 4 13], candidates=[array([ 4, 13])]\n",
      "--> using energy node at [ 4 13]\n",
      "step=22, player=player_0\n",
      "step=22 (after update), energy field found=True, node=[ 4 13], candidates=[array([ 4, 13])]\n",
      "--> using energy node at [ 4 13]\n",
      "step=22 (after update), energy field found=True, node=[ 4 13], candidates=[array([ 4, 13])]\n",
      "--> using energy node at [ 4 13]\n",
      "step=22 (after update), energy field found=True, node=[ 4 13], candidates=[array([ 4, 13])]\n",
      "--> using energy node at [ 4 13]\n",
      "step=23, player=player_0\n",
      "step=23 (after update), energy field found=True, node=[ 4 13], candidates=[array([ 4, 13])]\n",
      "--> using energy node at [ 4 13]\n",
      "step=23 (after update), energy field found=True, node=[ 4 13], candidates=[array([ 4, 13])]\n",
      "--> using energy node at [ 4 13]\n",
      "step=23 (after update), energy field found=True, node=[ 4 13], candidates=[array([ 4, 13])]\n",
      "--> using energy node at [ 4 13]\n",
      "step=24, player=player_0\n",
      "step=24 (after update), energy field found=True, node=[ 4 13], candidates=[array([ 4, 13])]\n",
      "--> using energy node at [ 4 13]\n",
      "step=24 (after update), energy field found=True, node=[ 4 13], candidates=[array([ 4, 13])]\n",
      "--> using energy node at [ 4 13]\n",
      "step=24 (after update), energy field found=True, node=[ 4 13], candidates=[array([ 4, 13])]\n",
      "--> using energy node at [ 4 13]\n",
      "step=25, player=player_0\n",
      "step=25 (after update), energy field found=True, node=[ 4 13], candidates=[array([ 4, 13])]\n",
      "--> using energy node at [ 4 13]\n",
      "step=25 (after update), energy field found=True, node=[ 4 13], candidates=[array([ 4, 13])]\n",
      "--> using energy node at [ 4 13]\n",
      "step=25 (after update), energy field found=True, node=[ 4 13], candidates=[array([ 4, 13])]\n",
      "--> using energy node at [ 4 13]\n",
      "step=26, player=player_0\n",
      "step=26 (after update), energy field found=True, node=[ 4 13], candidates=[array([ 4, 13])]\n",
      "--> using energy node at [ 4 13]\n",
      "step=26 (after update), energy field found=True, node=[ 4 13], candidates=[array([ 4, 13])]\n",
      "--> using energy node at [ 4 13]\n"
     ]
    },
    {
     "name": "stdout",
     "output_type": "stream",
     "text": [
      "step=23 final_state.energy_nodes=[[10 19]\n",
      " [10 21]\n",
      " [12 22]\n",
      " [ 4 13]\n",
      " [ 2 13]\n",
      " [ 1 11]], final_state.energy_nodes_mask=[ True  True False  True  True False]\n",
      "step=24 final_state.energy_nodes=[[10 19]\n",
      " [10 21]\n",
      " [12 22]\n",
      " [ 4 13]\n",
      " [ 2 13]\n",
      " [ 1 11]], final_state.energy_nodes_mask=[ True  True False  True  True False]\n",
      "step=25 final_state.energy_nodes=[[10 19]\n",
      " [10 21]\n",
      " [12 22]\n",
      " [ 4 13]\n",
      " [ 2 13]\n",
      " [ 1 11]], final_state.energy_nodes_mask=[ True  True False  True  True False]\n",
      "step=26 final_state.energy_nodes=[[10 19]\n",
      " [10 21]\n",
      " [12 22]\n",
      " [ 4 13]\n",
      " [ 2 13]\n",
      " [ 1 11]], final_state.energy_nodes_mask=[ True  True False  True  True False]\n",
      "step=27 final_state.energy_nodes=[[10 19]\n",
      " [10 21]\n",
      " [12 22]\n",
      " [ 4 13]\n",
      " [ 2 13]\n",
      " [ 1 11]], final_state.energy_nodes_mask=[ True  True False  True  True False]\n"
     ]
    },
    {
     "name": "stderr",
     "output_type": "stream",
     "text": [
      "step=26 (after update), energy field found=True, node=[ 4 13], candidates=[array([ 4, 13])]\n",
      "--> using energy node at [ 4 13]\n",
      "step=27, player=player_0\n",
      "step=28, apply nebula drift = -0.15, Counter({-0.15: 5, 0.15: -3, -0.1: -298, -0.05: -298, 0.05: -300, 0.1: -300, -0.025: -399, 0.025: -399})\n",
      "step=27 (after update), energy field found=True, node=[ 4 13], candidates=[array([ 4, 13])]\n",
      "--> using energy node at [ 4 13]\n",
      "step=28, apply nebula drift = -0.15, Counter({-0.15: 5, 0.15: -3, -0.1: -298, -0.05: -298, 0.05: -300, 0.1: -300, -0.025: -399, 0.025: -399})\n",
      "step=27 (after update), energy field found=True, node=[ 4 13], candidates=[array([ 4, 13])]\n",
      "--> using energy node at [ 4 13]\n",
      "step=28, apply nebula drift = -0.15, Counter({-0.15: 5, 0.15: -3, -0.1: -298, -0.05: -298, 0.05: -300, 0.1: -300, -0.025: -399, 0.025: -399})\n",
      "step=27 (after update), energy field found=True, node=[ 4 13], candidates=[array([ 4, 13])]\n",
      "--> using energy node at [ 4 13]\n",
      "step=28, player=player_0\n",
      "step=28 (after update), energy field found=True, node=[ 4 13], candidates=[array([ 4, 13])]\n",
      "--> using energy node at [ 4 13]\n",
      "step=28 (after update), energy field found=True, node=[ 4 13], candidates=[array([ 4, 13])]\n",
      "--> using energy node at [ 4 13]\n",
      "step=28 (after update), energy field found=True, node=[ 4 13], candidates=[array([ 4, 13])]\n",
      "--> using energy node at [ 4 13]\n",
      "step=29, player=player_0\n",
      "step=29 (after update), energy field found=True, node=[ 4 13], candidates=[array([ 4, 13])]\n",
      "--> using energy node at [ 4 13]\n",
      "step=29 (after update), energy field found=True, node=[ 4 13], candidates=[array([ 4, 13])]\n",
      "--> using energy node at [ 4 13]\n",
      "step=29 (after update), energy field found=True, node=[ 4 13], candidates=[array([ 4, 13])]\n",
      "--> using energy node at [ 4 13]\n",
      "step=30, player=player_0\n",
      "step=30 (after update), energy field found=True, node=[ 4 13], candidates=[array([ 4, 13])]\n",
      "--> using energy node at [ 4 13]\n",
      "step=30 (after update), energy field found=True, node=[ 4 13], candidates=[array([ 4, 13])]\n",
      "--> using energy node at [ 4 13]\n",
      "step=30 (after update), energy field found=True, node=[ 4 13], candidates=[array([ 4, 13])]\n",
      "--> using energy node at [ 4 13]\n",
      "step=31, player=player_0\n",
      "step=31 (after update), energy field found=True, node=[ 4 13], candidates=[array([ 4, 13])]\n",
      "--> using energy node at [ 4 13]\n",
      "step=31 (after update), energy field found=True, node=[ 4 13], candidates=[array([ 4, 13])]\n",
      "--> using energy node at [ 4 13]\n"
     ]
    },
    {
     "name": "stdout",
     "output_type": "stream",
     "text": [
      "step=28 final_state.energy_nodes=[[10 19]\n",
      " [10 21]\n",
      " [12 22]\n",
      " [ 4 13]\n",
      " [ 2 13]\n",
      " [ 1 11]], final_state.energy_nodes_mask=[ True  True False  True  True False]\n",
      "step=29 final_state.energy_nodes=[[10 19]\n",
      " [10 21]\n",
      " [12 22]\n",
      " [ 4 13]\n",
      " [ 2 13]\n",
      " [ 1 11]], final_state.energy_nodes_mask=[ True  True False  True  True False]\n",
      "step=30 final_state.energy_nodes=[[10 19]\n",
      " [10 21]\n",
      " [12 22]\n",
      " [ 4 13]\n",
      " [ 2 13]\n",
      " [ 1 11]], final_state.energy_nodes_mask=[ True  True False  True  True False]\n",
      "step=31 final_state.energy_nodes=[[10 19]\n",
      " [10 21]\n",
      " [12 22]\n",
      " [ 4 13]\n",
      " [ 2 13]\n",
      " [ 1 11]], final_state.energy_nodes_mask=[ True  True False  True  True False]\n",
      "step=32 final_state.energy_nodes=[[10 19]\n",
      " [10 21]\n",
      " [12 22]\n",
      " [ 4 13]\n",
      " [ 2 13]\n",
      " [ 1 11]], final_state.energy_nodes_mask=[ True  True False  True  True False]\n"
     ]
    },
    {
     "name": "stderr",
     "output_type": "stream",
     "text": [
      "step=31 (after update), energy field found=True, node=[ 4 13], candidates=[array([ 4, 13])]\n",
      "--> using energy node at [ 4 13]\n",
      "step=32, player=player_0\n",
      "step=32 (after update), energy field found=True, node=[ 4 13], candidates=[array([ 4, 13])]\n",
      "--> using energy node at [ 4 13]\n",
      "step=32 (after update), energy field found=True, node=[ 4 13], candidates=[array([ 4, 13])]\n",
      "--> using energy node at [ 4 13]\n",
      "step=32 (after update), energy field found=True, node=[ 4 13], candidates=[array([ 4, 13])]\n",
      "--> using energy node at [ 4 13]\n",
      "step=33, player=player_0\n",
      "step=33 (after update), energy field found=True, node=[ 4 13], candidates=[array([ 4, 13])]\n",
      "--> using energy node at [ 4 13]\n",
      "step=33 (after update), energy field found=True, node=[ 4 13], candidates=[array([ 4, 13])]\n",
      "--> using energy node at [ 4 13]\n",
      "step=33 (after update), energy field found=True, node=[ 4 13], candidates=[array([ 4, 13])]\n",
      "--> using energy node at [ 4 13]\n",
      "step=34, player=player_0\n",
      "step=35, apply nebula drift = -0.15, Counter({-0.15: 6, 0.15: -4, -0.1: -398, -0.05: -398, 0.05: -400, 0.1: -400, -0.025: -499, 0.025: -499})\n",
      "step=34 (after update), energy field found=True, node=[ 4 13], candidates=[array([ 4, 13])]\n",
      "--> using energy node at [ 4 13]\n",
      "step=35, apply nebula drift = -0.15, Counter({-0.15: 6, 0.15: -4, -0.1: -398, -0.05: -398, 0.05: -400, 0.1: -400, -0.025: -499, 0.025: -499})\n",
      "step=34 (after update), energy field found=True, node=[ 4 13], candidates=[array([ 4, 13])]\n",
      "--> using energy node at [ 4 13]\n",
      "step=35, apply nebula drift = -0.15, Counter({-0.15: 6, 0.15: -4, -0.1: -398, -0.05: -398, 0.05: -400, 0.1: -400, -0.025: -499, 0.025: -499})\n",
      "step=34 (after update), energy field found=True, node=[ 4 13], candidates=[array([ 4, 13])]\n",
      "--> using energy node at [ 4 13]\n",
      "step=35, player=player_0\n",
      "step=35 (after update), energy field found=True, node=[ 4 13], candidates=[array([ 4, 13])]\n",
      "--> using energy node at [ 4 13]\n",
      "step=35 (after update), energy field found=True, node=[ 4 13], candidates=[array([ 4, 13])]\n",
      "--> using energy node at [ 4 13]\n",
      "step=35 (after update), energy field found=True, node=[ 4 13], candidates=[array([ 4, 13])]\n",
      "--> using energy node at [ 4 13]\n",
      "step=36, player=player_0\n",
      "step=36 (after update), energy field found=True, node=[ 4 13], candidates=[array([ 4, 13])]\n",
      "--> using energy node at [ 4 13]\n",
      "step=36 (after update), energy field found=True, node=[ 4 13], candidates=[array([ 4, 13])]\n",
      "--> using energy node at [ 4 13]\n"
     ]
    },
    {
     "name": "stdout",
     "output_type": "stream",
     "text": [
      "step=33 final_state.energy_nodes=[[10 19]\n",
      " [10 21]\n",
      " [12 22]\n",
      " [ 4 13]\n",
      " [ 2 13]\n",
      " [ 1 11]], final_state.energy_nodes_mask=[ True  True False  True  True False]\n",
      "step=34 final_state.energy_nodes=[[10 19]\n",
      " [10 21]\n",
      " [12 22]\n",
      " [ 4 13]\n",
      " [ 2 13]\n",
      " [ 1 11]], final_state.energy_nodes_mask=[ True  True False  True  True False]\n",
      "step=35 final_state.energy_nodes=[[10 19]\n",
      " [10 21]\n",
      " [12 22]\n",
      " [ 4 13]\n",
      " [ 2 13]\n",
      " [ 1 11]], final_state.energy_nodes_mask=[ True  True False  True  True False]\n",
      "step=36 final_state.energy_nodes=[[10 19]\n",
      " [10 21]\n",
      " [12 22]\n",
      " [ 4 13]\n",
      " [ 2 13]\n",
      " [ 1 11]], final_state.energy_nodes_mask=[ True  True False  True  True False]\n",
      "step=37 final_state.energy_nodes=[[10 19]\n",
      " [10 21]\n",
      " [12 22]\n",
      " [ 4 13]\n",
      " [ 2 13]\n",
      " [ 1 11]], final_state.energy_nodes_mask=[ True  True False  True  True False]\n"
     ]
    },
    {
     "name": "stderr",
     "output_type": "stream",
     "text": [
      "step=36 (after update), energy field found=True, node=[ 4 13], candidates=[array([ 4, 13])]\n",
      "--> using energy node at [ 4 13]\n",
      "step=37, player=player_0\n",
      "step=37 (after update), energy field found=True, node=[ 4 13], candidates=[array([ 4, 13])]\n",
      "--> using energy node at [ 4 13]\n",
      "step=37 (after update), energy field found=True, node=[ 4 13], candidates=[array([ 4, 13])]\n",
      "--> using energy node at [ 4 13]\n",
      "step=37 (after update), energy field found=True, node=[ 4 13], candidates=[array([ 4, 13])]\n",
      "--> using energy node at [ 4 13]\n",
      "step=38, player=player_0\n",
      "step=38 (after update), energy field found=True, node=[ 4 13], candidates=[array([ 4, 13])]\n",
      "--> using energy node at [ 4 13]\n",
      "step=38 (after update), energy field found=True, node=[ 4 13], candidates=[array([ 4, 13])]\n",
      "--> using energy node at [ 4 13]\n",
      "step=38 (after update), energy field found=True, node=[ 4 13], candidates=[array([ 4, 13])]\n",
      "--> using energy node at [ 4 13]\n",
      "step=39, player=player_0\n",
      "step=39 (after update), energy field found=True, node=[ 4 13], candidates=[array([ 4, 13])]\n",
      "--> using energy node at [ 4 13]\n",
      "step=39 (after update), energy field found=True, node=[ 4 13], candidates=[array([ 4, 13])]\n",
      "--> using energy node at [ 4 13]\n",
      "step=39 (after update), energy field found=True, node=[ 4 13], candidates=[array([ 4, 13])]\n",
      "--> using energy node at [ 4 13]\n",
      "step=40, player=player_0\n",
      "step=41, apply nebula drift = -0.15, Counter({-0.15: 7, 0.15: -5, -0.1: -397, -0.05: -397, 0.05: -401, 0.1: -401, -0.025: -498, 0.025: -500})\n",
      "step=40 (after update), energy field found=True, node=[ 4 13], candidates=[array([ 4, 13])]\n",
      "--> using energy node at [ 4 13]\n",
      "step=41, apply nebula drift = -0.15, Counter({-0.15: 7, 0.15: -5, -0.1: -397, -0.05: -397, 0.05: -401, 0.1: -401, -0.025: -498, 0.025: -500})\n",
      "step=40 (after update), energy field found=True, node=[ 4 13], candidates=[array([ 4, 13])]\n",
      "--> using energy node at [ 4 13]\n",
      "step=41, apply nebula drift = -0.15, Counter({-0.15: 7, 0.15: -5, -0.1: -397, -0.05: -397, 0.05: -401, 0.1: -401, -0.025: -498, 0.025: -500})\n",
      "step=40 (after update), energy field found=True, node=[ 4 13], candidates=[array([ 4, 13])]\n",
      "--> using energy node at [ 4 13]\n",
      "step=41, player=player_0\n"
     ]
    },
    {
     "name": "stdout",
     "output_type": "stream",
     "text": [
      "step=38 final_state.energy_nodes=[[10 19]\n",
      " [10 21]\n",
      " [12 22]\n",
      " [ 4 13]\n",
      " [ 2 13]\n",
      " [ 1 11]], final_state.energy_nodes_mask=[ True  True False  True  True False]\n",
      "step=39 final_state.energy_nodes=[[10 19]\n",
      " [10 21]\n",
      " [12 22]\n",
      " [ 4 13]\n",
      " [ 2 13]\n",
      " [ 1 11]], final_state.energy_nodes_mask=[ True  True False  True  True False]\n",
      "step=40 final_state.energy_nodes=[[10 19]\n",
      " [10 21]\n",
      " [12 22]\n",
      " [ 4 13]\n",
      " [ 2 13]\n",
      " [ 1 11]], final_state.energy_nodes_mask=[ True  True False  True  True False]\n",
      "step=41 final_state.energy_nodes=[[10 19]\n",
      " [10 21]\n",
      " [12 22]\n",
      " [ 4 13]\n",
      " [ 2 13]\n",
      " [ 1 11]], final_state.energy_nodes_mask=[ True  True False  True  True False]\n",
      "step=42 final_state.energy_nodes=[[10 19]\n",
      " [10 21]\n",
      " [12 22]\n",
      " [ 4 13]\n",
      " [ 2 13]\n",
      " [ 1 11]], final_state.energy_nodes_mask=[ True  True False  True  True False]\n",
      "step=43 final_state.energy_nodes=[[10 19]\n",
      " [10 21]\n",
      " [12 22]\n",
      " [ 4 13]\n",
      " [ 2 13]\n",
      " [ 1 11]], final_state.energy_nodes_mask=[ True  True False  True  True False]\n",
      "step=44 final_state.energy_nodes=[[10 19]\n",
      " [10 21]\n",
      " [12 22]\n",
      " [ 4 13]\n",
      " [ 2 13]\n",
      " [ 1 11]], final_state.energy_nodes_mask=[ True  True False  True  True False]\n"
     ]
    },
    {
     "name": "stderr",
     "output_type": "stream",
     "text": [
      "step=41 (after update), energy field found=True, node=[ 4 13], candidates=[array([ 4, 13])]\n",
      "--> using energy node at [ 4 13]\n",
      "step=41 (after update), energy field found=True, node=[ 4 13], candidates=[array([ 4, 13])]\n",
      "--> using energy node at [ 4 13]\n",
      "step=41 (after update), energy field found=True, node=[ 4 13], candidates=[array([ 4, 13])]\n",
      "--> using energy node at [ 4 13]\n",
      "step=42, player=player_0\n",
      "step=42 (after update), energy field found=True, node=[ 4 13], candidates=[array([ 4, 13])]\n",
      "--> using energy node at [ 4 13]\n",
      "step=42 (after update), energy field found=True, node=[ 4 13], candidates=[array([ 4, 13])]\n",
      "--> using energy node at [ 4 13]\n",
      "step=42 (after update), energy field found=True, node=[ 4 13], candidates=[array([ 4, 13])]\n",
      "--> using energy node at [ 4 13]\n",
      "step=43, player=player_0\n",
      "step=43 (after update), energy field found=True, node=[ 4 13], candidates=[array([ 4, 13])]\n",
      "--> using energy node at [ 4 13]\n",
      "step=43 (after update), energy field found=True, node=[ 4 13], candidates=[array([ 4, 13])]\n",
      "--> using energy node at [ 4 13]\n",
      "step=43 (after update), energy field found=True, node=[ 4 13], candidates=[array([ 4, 13])]\n",
      "--> using energy node at [ 4 13]\n",
      "step=44, player=player_0\n"
     ]
    },
    {
     "name": "stdout",
     "output_type": "stream",
     "text": [
      "step=45 final_state.energy_nodes=[[10 19]\n",
      " [10 21]\n",
      " [12 22]\n",
      " [ 4 13]\n",
      " [ 2 13]\n",
      " [ 1 11]], final_state.energy_nodes_mask=[ True  True False  True  True False]\n",
      "step=46 final_state.energy_nodes=[[10 19]\n",
      " [10 21]\n",
      " [12 22]\n",
      " [ 4 13]\n",
      " [ 2 13]\n",
      " [ 1 11]], final_state.energy_nodes_mask=[ True  True False  True  True False]\n",
      "step=47 final_state.energy_nodes=[[10 19]\n",
      " [10 21]\n",
      " [12 22]\n",
      " [ 4 13]\n",
      " [ 2 13]\n",
      " [ 1 11]], final_state.energy_nodes_mask=[ True  True False  True  True False]\n",
      "step=48 final_state.energy_nodes=[[10 19]\n",
      " [10 21]\n",
      " [12 22]\n",
      " [ 4 13]\n",
      " [ 2 13]\n",
      " [ 1 11]], final_state.energy_nodes_mask=[ True  True False  True  True False]\n"
     ]
    },
    {
     "name": "stderr",
     "output_type": "stream",
     "text": [
      "step=44 (after update), energy field found=True, node=[ 4 13], candidates=[array([ 4, 13])]\n",
      "--> using energy node at [ 4 13]\n",
      "step=44 (after update), energy field found=True, node=[ 4 13], candidates=[array([ 4, 13])]\n",
      "--> using energy node at [ 4 13]\n",
      "step=44 (after update), energy field found=True, node=[ 4 13], candidates=[array([ 4, 13])]\n",
      "--> using energy node at [ 4 13]\n",
      "step=45, player=player_0\n",
      "step=45 (after update), energy field found=True, node=[ 4 13], candidates=[array([ 4, 13])]\n",
      "--> using energy node at [ 4 13]\n",
      "step=45 (after update), energy field found=True, node=[ 4 13], candidates=[array([ 4, 13])]\n",
      "--> using energy node at [ 4 13]\n",
      "step=45 (after update), energy field found=True, node=[ 4 13], candidates=[array([ 4, 13])]\n",
      "--> using energy node at [ 4 13]\n",
      "step=46, player=player_0\n",
      "step=46 (after update), energy field found=True, node=[ 4 13], candidates=[array([ 4, 13])]\n",
      "--> using energy node at [ 4 13]\n",
      "step=46 (after update), energy field found=True, node=[ 4 13], candidates=[array([ 4, 13])]\n",
      "--> using energy node at [ 4 13]\n",
      "step=46 (after update), energy field found=True, node=[ 4 13], candidates=[array([ 4, 13])]\n",
      "--> using energy node at [ 4 13]\n",
      "step=47, player=player_0\n",
      "step=48, apply nebula drift = -0.15, Counter({-0.15: 8, 0.15: -6, -0.1: -497, -0.05: -497, 0.05: -501, 0.1: -501, -0.025: -598, 0.025: -600})\n",
      "step=47 (after update), energy field found=True, node=[ 4 13], candidates=[array([ 4, 13])]\n",
      "--> using energy node at [ 4 13]\n",
      "step=48, apply nebula drift = -0.15, Counter({-0.15: 8, 0.15: -6, -0.1: -497, -0.05: -497, 0.05: -501, 0.1: -501, -0.025: -598, 0.025: -600})\n",
      "step=47 (after update), energy field found=True, node=[ 4 13], candidates=[array([ 4, 13])]\n",
      "--> using energy node at [ 4 13]\n",
      "step=48, apply nebula drift = -0.15, Counter({-0.15: 8, 0.15: -6, -0.1: -497, -0.05: -497, 0.05: -501, 0.1: -501, -0.025: -598, 0.025: -600})\n",
      "step=47 (after update), energy field found=True, node=[ 4 13], candidates=[array([ 4, 13])]\n",
      "--> using energy node at [ 4 13]\n",
      "step=48, player=player_0\n",
      "step=48 (after update), energy field found=True, node=[ 4 13], candidates=[array([ 4, 13])]\n",
      "--> using energy node at [ 4 13]\n",
      "step=48 (after update), energy field found=True, node=[ 4 13], candidates=[array([ 4, 13])]\n",
      "--> using energy node at [ 4 13]\n",
      "step=48 (after update), energy field found=True, node=[ 4 13], candidates=[array([ 4, 13])]\n",
      "--> using energy node at [ 4 13]\n",
      "step=49, player=player_0\n",
      "step=49 (after update), energy field found=True, node=[ 4 13], candidates=[array([ 4, 13])]\n",
      "--> using energy node at [ 4 13]\n",
      "step=49 (after update), energy field found=True, node=[ 4 13], candidates=[array([ 4, 13])]\n",
      "--> using energy node at [ 4 13]\n",
      "step=49 (after update), energy field found=True, node=[ 4 13], candidates=[array([ 4, 13])]\n",
      "--> using energy node at [ 4 13]\n",
      "step=50, player=player_0\n",
      "step=50 (after update), energy field found=True, node=[ 4 13], candidates=[array([ 4, 13])]\n",
      "--> using energy node at [ 4 13]\n",
      "step=50 (after update), energy field found=True, node=[ 4 13], candidates=[array([ 4, 13])]\n",
      "--> using energy node at [ 4 13]\n",
      "step=50 (after update), energy field found=True, node=[ 4 13], candidates=[array([ 4, 13])]\n",
      "--> using energy node at [ 4 13]\n",
      "step=51, player=player_0\n",
      "step=51 (after update), energy field found=True, node=[ 4 13], candidates=[array([ 4, 13])]\n",
      "--> using energy node at [ 4 13]\n",
      "step=51 (after update), energy field found=True, node=[ 4 13], candidates=[array([ 4, 13])]\n",
      "--> using energy node at [ 4 13]\n"
     ]
    },
    {
     "name": "stdout",
     "output_type": "stream",
     "text": [
      "step=49 final_state.energy_nodes=[[10 19]\n",
      " [10 21]\n",
      " [12 22]\n",
      " [ 4 13]\n",
      " [ 2 13]\n",
      " [ 1 11]], final_state.energy_nodes_mask=[ True  True False  True  True False]\n",
      "step=50 final_state.energy_nodes=[[10 19]\n",
      " [10 21]\n",
      " [12 22]\n",
      " [ 4 13]\n",
      " [ 2 13]\n",
      " [ 1 11]], final_state.energy_nodes_mask=[ True  True False  True  True False]\n",
      "step=51 final_state.energy_nodes=[[10 19]\n",
      " [10 21]\n",
      " [12 22]\n",
      " [ 4 13]\n",
      " [ 2 13]\n",
      " [ 1 11]], final_state.energy_nodes_mask=[ True  True False  True  True False]\n",
      "step=52 final_state.energy_nodes=[[10 19]\n",
      " [10 21]\n",
      " [12 22]\n",
      " [ 4 13]\n",
      " [ 2 13]\n",
      " [ 1 11]], final_state.energy_nodes_mask=[ True  True False  True  True False]\n"
     ]
    },
    {
     "name": "stderr",
     "output_type": "stream",
     "text": [
      "step=51 (after update), energy field found=True, node=[ 4 13], candidates=[array([ 4, 13])]\n",
      "--> using energy node at [ 4 13]\n",
      "step=52, player=player_0\n"
     ]
    },
    {
     "ename": "AssertionError",
     "evalue": "action probs not same",
     "output_type": "error",
     "traceback": [
      "\u001b[0;31m---------------------------------------------------------------------------\u001b[0m",
      "\u001b[0;31mAssertionError\u001b[0m                            Traceback (most recent call last)",
      "Cell \u001b[0;32mIn[10], line 68\u001b[0m\n\u001b[1;32m     64\u001b[0m     \u001b[38;5;28;01massert\u001b[39;00m check_feature(f), \u001b[38;5;124mf\u001b[39m\u001b[38;5;124m\"\u001b[39m\u001b[38;5;124mfeature not the same: \u001b[39m\u001b[38;5;132;01m{\u001b[39;00mf\u001b[38;5;132;01m}\u001b[39;00m\u001b[38;5;124m, game_step=\u001b[39m\u001b[38;5;132;01m{\u001b[39;00mgame_step\u001b[38;5;132;01m}\u001b[39;00m\u001b[38;5;124m\"\u001b[39m\n\u001b[1;32m     66\u001b[0m \u001b[38;5;28;01massert\u001b[39;00m (env_action_mask \u001b[38;5;241m==\u001b[39m rl_action_mask)\u001b[38;5;241m.\u001b[39mall(), \u001b[38;5;124mf\u001b[39m\u001b[38;5;124m\"\u001b[39m\u001b[38;5;124maction_mask not the same: game_step=\u001b[39m\u001b[38;5;132;01m{\u001b[39;00mgame_step\u001b[38;5;132;01m}\u001b[39;00m\u001b[38;5;124m\"\u001b[39m\n\u001b[0;32m---> 68\u001b[0m \u001b[38;5;28;01massert\u001b[39;00m ((env_aciton_probs \u001b[38;5;241m-\u001b[39m rl_action_probs)\u001b[38;5;241m.\u001b[39mabs() \u001b[38;5;241m<\u001b[39m \u001b[38;5;241m1e-6\u001b[39m)\u001b[38;5;241m.\u001b[39mall(), \u001b[38;5;124mf\u001b[39m\u001b[38;5;124m\"\u001b[39m\u001b[38;5;124maction probs not same\u001b[39m\u001b[38;5;124m\"\u001b[39m\n\u001b[1;32m     71\u001b[0m env_output \u001b[38;5;241m=\u001b[39m env\u001b[38;5;241m.\u001b[39mstep(actions)\n\u001b[1;32m     73\u001b[0m \u001b[38;5;28;01mif\u001b[39;00m game_step \u001b[38;5;241m==\u001b[39m \u001b[38;5;241m200\u001b[39m:\n",
      "\u001b[0;31mAssertionError\u001b[0m: action probs not same"
     ]
    }
   ],
   "source": [
    "game_env = LuxAIS3GymEnv(numpy_output=True)\n",
    "game_env = RecordEpisode(game_env, save_dir=\"episodes1\")\n",
    "\n",
    "lux_env = LuxS3Env('match_explore_win_loss', \n",
    "                   obs_space_kwargs,\n",
    "                   game_env,\n",
    "                   reward_shaping_params=reward_shaping_params)\n",
    "env = VecEnv([lux_env])\n",
    "env = PytorchEnv(env, torch.device('cpu'))\n",
    "env = DictEnv(env)\n",
    "\n",
    "actor_model = model\n",
    "\n",
    "env_output = env.reset(force=True, seed=96290790)\n",
    "# env_output = env.reset(force=True)\n",
    "\n",
    "def check_feature(name):\n",
    "    if name.startswith('_b') or name in ['unit_sap_dropoff_factor'] :\n",
    "        return True\n",
    "    return (env_obs[name] == rl_obs[name]).all()\n",
    "\n",
    "\n",
    "env_cfg = lux_env.mms[0].env_cfg\n",
    "rl_agent = RlAgent('player_0', env_cfg)\n",
    "\n",
    "a1_stats = AgentStats()\n",
    "a2_stats = AgentStats()\n",
    "\n",
    "\n",
    "use_single_player = obs_space_kwargs['use_single_player']\n",
    "while True:\n",
    "    env_agent_output = actor_model_apply(env_output)\n",
    "\n",
    "    game_step = lux_env.raw_obs['player_0']['steps']\n",
    "    raw_ob = lux_env.raw_obs['player_0']\n",
    "    rl_step_action = rl_agent.act(game_step, raw_ob)\n",
    "    # print('action mask', env_agent_output[0][0]['info']['available_action_mask']['units_action'][0][0])\n",
    "    # print('probs ~~~~~~~~~~~', env_agent_output[0][1]['probs'])\n",
    "    # print('actions ~~~~~~~~~~~', env_agent_output[0][1]['actions'])\n",
    "\n",
    "    \n",
    "    a1_stats.add_baseline(env_agent_output[0][1]['baseline'][0][0])\n",
    "    a2_stats.add_baseline(env_agent_output[1][1]['baseline'][0][0])\n",
    "\n",
    "    actions = get_merged_actions(env_agent_output)\n",
    "\n",
    "    # overwrite\n",
    "    # actions['units_action'][0] = rl_agent.prev_model_action['units_action']\n",
    "    # print('actions')\n",
    "\n",
    "    lef_env_out = env_agent_output[0][0]\n",
    "    env_aciton_probs = env_agent_output[0][1]['probs']\n",
    "    env_obs = lef_env_out['obs']\n",
    "    env_action_mask = lef_env_out['info']['available_action_mask']['units_action']\n",
    "    # env_step_action = lux_env.\n",
    "    \n",
    "    rl_md_input = rl_agent.last_model_input\n",
    "    rl_obs = rl_md_input['obs']\n",
    "    rl_action_mask = rl_md_input['info']['available_action_mask']['units_action']\n",
    "    rl_action_probs = rl_agent.model_output['probs']\n",
    "\n",
    "\n",
    "    for f in rl_obs.keys():\n",
    "        assert check_feature(f), f\"feature not the same: {f}, game_step={game_step}\"\n",
    "\n",
    "    assert (env_action_mask == rl_action_mask).all(), f\"action_mask not the same: game_step={game_step}\"\n",
    "\n",
    "    assert ((env_aciton_probs - rl_action_probs).abs() < 1e-6).all(), f\"action probs not same\"\n",
    "\n",
    "    \n",
    "    env_output = env.step(actions)\n",
    "\n",
    "    if game_step == 200:\n",
    "        break # for debug\n",
    "\n",
    "\n",
    "    if env_output[\"done\"].any():\n",
    "        break\n",
    "\n",
    "game_env.close()\n",
    "\n",
    "lux_env._seed"
   ]
  },
  {
   "cell_type": "code",
   "execution_count": 12,
   "id": "3d2e6811-3d78-4514-af56-ed8bee5167a2",
   "metadata": {},
   "outputs": [
    {
     "data": {
      "text/plain": [
       "tensor(0.0193)"
      ]
     },
     "execution_count": 12,
     "metadata": {},
     "output_type": "execute_result"
    }
   ],
   "source": [
    "(env_aciton_probs - rl_action_probs).max()"
   ]
  },
  {
   "cell_type": "code",
   "execution_count": 16,
   "id": "0cedcaf6-0668-4f05-84f5-83a69fd1c678",
   "metadata": {},
   "outputs": [
    {
     "data": {
      "text/plain": [
       "torch.Size([16, 230])"
      ]
     },
     "execution_count": 16,
     "metadata": {},
     "output_type": "execute_result"
    }
   ],
   "source": [
    "rl_action_probs.shape"
   ]
  },
  {
   "cell_type": "code",
   "execution_count": 17,
   "id": "167a7531-3769-4149-84b6-c2cd95369efd",
   "metadata": {},
   "outputs": [
    {
     "data": {
      "text/plain": [
       "array(52, dtype=int32)"
      ]
     },
     "execution_count": 17,
     "metadata": {},
     "output_type": "execute_result"
    }
   ],
   "source": [
    "game_step"
   ]
  },
  {
   "cell_type": "code",
   "execution_count": 18,
   "id": "9dff0f32-c59c-47e6-9e47-e87af8e620e2",
   "metadata": {},
   "outputs": [
    {
     "data": {
      "text/plain": [
       "dict_keys(['game_step', 'match_step', 'unit_move_cost', 'unit_sensor_range', 'unit_sap_cost', 'unit_sap_range', 'nebula_vision_reduction', 'nebula_energy_reduction', 'unit_sap_dropoff_factor', 'player_id', 'units_team_points', 'team_points_delta', 'units_team_points_growth', 'team_points_growth_delta', 'units_wins', 'match_wins_delta', '_a_cell_type', '_b_cell_type', 'visible', 'last_observed_age', 'last_visited_age', '_a_is_relic_node', '_b_is_relic_node', '_a_is_relic_neighbour', '_b_is_relic_neighbour', '_a_team_point_prob', '_b_team_point_prob', '_a_energy_cost_map', '_b_energy_cost_map', '_a_cell_energy', '_b_cell_energy', 'units_loc_t0', 'units_energy_t0', 'units_loc_t1', 'units_energy_t1', 'enemy_loc_t0', 'enemy_energy_t0', 'enemy_loc_t1', 'enemy_energy_t1', '_units_info', 'units_total_energy', '_baseline_extras'])"
      ]
     },
     "execution_count": 18,
     "metadata": {},
     "output_type": "execute_result"
    }
   ],
   "source": [
    "rl_obs.keys()"
   ]
  },
  {
   "cell_type": "code",
   "execution_count": 21,
   "id": "a5eb4637-7e75-4a96-94a0-9b41075e629e",
   "metadata": {},
   "outputs": [
    {
     "data": {
      "text/plain": [
       "<matplotlib.image.AxesImage at 0x14c19b920>"
      ]
     },
     "execution_count": 21,
     "metadata": {},
     "output_type": "execute_result"
    },
    {
     "data": {
      "image/png": "[encoded data removed]",
      "text/plain": [
       "<Figure size 640x480 with 1 Axes>"
      ]
     },
     "metadata": {},
     "output_type": "display_data"
    }
   ],
   "source": [
    "plt.imshow((rl_action_probs - env_aciton_probs).abs() > 1e-3)"
   ]
  },
  {
   "cell_type": "code",
   "execution_count": 22,
   "id": "b2c6cf12-807a-4f66-8e51-8264502ceeec",
   "metadata": {},
   "outputs": [
    {
     "data": {
      "text/plain": [
       "tensor([[False, False, False,  ...,  True,  True,  True],\n",
       "        [False, False, False,  ...,  True,  True,  True],\n",
       "        [False, False, False,  ...,  True,  True,  True],\n",
       "        ...,\n",
       "        [False, False, False,  ...,  True,  True,  True],\n",
       "        [False, False, False,  ...,  True,  True,  True],\n",
       "        [False,  True, False,  ...,  True,  True,  True]])"
      ]
     },
     "execution_count": 22,
     "metadata": {},
     "output_type": "execute_result"
    }
   ],
   "source": [
    "(rl_action_probs - env_aciton_probs).abs() < 1e-6"
   ]
  },
  {
   "cell_type": "code",
   "execution_count": 23,
   "id": "6804fa2a-fd22-4648-ac3e-2162447829c6",
   "metadata": {},
   "outputs": [
    {
     "data": {
      "text/plain": [
       "<matplotlib.image.AxesImage at 0x14929f080>"
      ]
     },
     "execution_count": 23,
     "metadata": {},
     "output_type": "execute_result"
    },
    {
     "data": {
      "image/png": "[encoded data removed]",
      "text/plain": [
       "<Figure size 640x480 with 1 Axes>"
      ]
     },
     "metadata": {},
     "output_type": "display_data"
    }
   ],
   "source": [
    "plt.imshow(((rl_action_probs - env_aciton_probs) < 1e-6))"
   ]
  },
  {
   "cell_type": "code",
   "execution_count": 24,
   "id": "b361b19d-eb4e-48bd-a6db-fced4da3ab86",
   "metadata": {},
   "outputs": [
    {
     "data": {
      "text/plain": [
       "112"
      ]
     },
     "execution_count": 24,
     "metadata": {},
     "output_type": "execute_result"
    }
   ],
   "source": [
    "len(rl_action_probs[rl_action_probs != env_aciton_probs])"
   ]
  },
  {
   "cell_type": "code",
   "execution_count": null,
   "id": "80927746-1e28-4df1-b486-15ba65947f42",
   "metadata": {},
   "outputs": [],
   "source": [
    "\n",
    "\n",
    "\n",
    "\n",
    "\n",
    "\n",
    "\n",
    "\n",
    "\n",
    "\n",
    "\n",
    "\n",
    "\n",
    "\n",
    "\n",
    "\n",
    "\n",
    "\n",
    "\n",
    "\n",
    "\n",
    "\n",
    "\n",
    "\n",
    "\n",
    "\n",
    "\n",
    "\n",
    "\n",
    "\n",
    "\n"
   ]
  },
  {
   "cell_type": "code",
   "execution_count": null,
   "id": "d0cf422a-7b7b-40de-ab45-bf666c689622",
   "metadata": {},
   "outputs": [],
   "source": []
  },
  {
   "cell_type": "code",
   "execution_count": null,
   "id": "8cc7b69d-371a-412e-a696-64ce82cbad36",
   "metadata": {},
   "outputs": [],
   "source": [
    "\n",
    "\n",
    "\n",
    "check_feature('game_step')"
   ]
  },
  {
   "cell_type": "code",
   "execution_count": null,
   "id": "5511b757-282b-4631-85e9-77125cc3ecba",
   "metadata": {},
   "outputs": [],
   "source": [
    "for f in rl_obs.keys():\n",
    "    print(f, check_feature(f))"
   ]
  },
  {
   "cell_type": "code",
   "execution_count": null,
   "id": "4ddac2ab-494c-406c-9ddb-387bb42287bd",
   "metadata": {},
   "outputs": [],
   "source": []
  },
  {
   "cell_type": "code",
   "execution_count": null,
   "id": "7c602512-36d4-488f-b3e9-496af54287e3",
   "metadata": {},
   "outputs": [],
   "source": [
    "rl_agent_output.shape"
   ]
  },
  {
   "cell_type": "code",
   "execution_count": null,
   "id": "b118e8b7-b2ab-4b44-bad4-27dae2ab9e22",
   "metadata": {},
   "outputs": [],
   "source": [
    "rl_agent.prev_model_action['units_action']"
   ]
  },
  {
   "cell_type": "code",
   "execution_count": null,
   "id": "4e099a2c-5d8b-471f-bd42-2c4982dbc8a4",
   "metadata": {},
   "outputs": [],
   "source": [
    "actions['units_action'].shape"
   ]
  },
  {
   "cell_type": "code",
   "execution_count": null,
   "id": "3c34d11d-068e-42e5-8ae0-e19166c56051",
   "metadata": {},
   "outputs": [],
   "source": [
    "fig, axes = plt.subplots(1, 2, figsize=(15, 5)) \n",
    "\n",
    "\n",
    "axes[0].imshow(rl_agent.mm.team_point_mass.T)\n",
    "axes[1].imshow(lux_env.mms[0].team_point_mass.T)"
   ]
  },
  {
   "cell_type": "code",
   "execution_count": null,
   "id": "2a861c8c-d6a0-4044-a221-15565714357c",
   "metadata": {},
   "outputs": [],
   "source": []
  },
  {
   "cell_type": "code",
   "execution_count": null,
   "id": "ef1113ed-20db-4dde-9d5a-271504f32bba",
   "metadata": {},
   "outputs": [],
   "source": []
  },
  {
   "cell_type": "code",
   "execution_count": null,
   "id": "9ccbe117-eec3-4bd8-a565-3a70c149eb6d",
   "metadata": {},
   "outputs": [],
   "source": []
  },
  {
   "cell_type": "code",
   "execution_count": null,
   "id": "2c0fea24-0ca6-4158-b336-4b95d20d4369",
   "metadata": {},
   "outputs": [],
   "source": []
  },
  {
   "cell_type": "code",
   "execution_count": null,
   "id": "ec927f03-b936-467b-818b-ad2514eae515",
   "metadata": {},
   "outputs": [],
   "source": []
  },
  {
   "cell_type": "code",
   "execution_count": null,
   "id": "1130e1cc-9304-4401-988d-8c850b6091fc",
   "metadata": {},
   "outputs": [],
   "source": []
  },
  {
   "cell_type": "code",
   "execution_count": null,
   "id": "b5c88171-df00-4b4e-8f8b-74f34d3bb734",
   "metadata": {},
   "outputs": [],
   "source": []
  }
 ],
 "metadata": {
  "kernelspec": {
   "display_name": "Python 3 (ipykernel)",
   "language": "python",
   "name": "python3"
  },
  "language_info": {
   "codemirror_mode": {
    "name": "ipython",
    "version": 3
   },
   "file_extension": ".py",
   "mimetype": "text/x-python",
   "name": "python",
   "nbconvert_exporter": "python",
   "pygments_lexer": "ipython3",
   "version": "3.12.5"
  }
 },
 "nbformat": 4,
 "nbformat_minor": 5
}
