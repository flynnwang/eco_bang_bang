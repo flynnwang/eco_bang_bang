{
 "cells": [
  {
   "cell_type": "code",
   "execution_count": 1,
   "id": "5203fe3a-5ed4-4115-b3a1-871ecd06181b",
   "metadata": {},
   "outputs": [],
   "source": [
    "import numpy as np\n",
    "import pandas as pd\n",
    "\n",
    "import seaborn as sns\n",
    "import matplotlib.pyplot as plt\n",
    "\n",
    "%matplotlib inline"
   ]
  },
  {
   "cell_type": "code",
   "execution_count": 2,
   "id": "6c5b9358-bd41-4461-8c4b-a9a714fa53bb",
   "metadata": {},
   "outputs": [],
   "source": [
    "import sys\n",
    "\n",
    "sys.path.insert(0, \"/Users/flynnwang/repo/flynn/eco_bang_bang\")"
   ]
  },
  {
   "cell_type": "code",
   "execution_count": 3,
   "id": "80676d1a-8ee0-46f1-a5fb-f59c162c2b77",
   "metadata": {},
   "outputs": [
    {
     "ename": "ImportError",
     "evalue": "cannot import name 'OBSERVATION_SPACE' from 'ebb.env.luxenv' (/Users/flynnwang/repo/flynn/eco_bang_bang/ebb/env/luxenv.py)",
     "output_type": "error",
     "traceback": [
      "\u001b[0;31m---------------------------------------------------------------------------\u001b[0m",
      "\u001b[0;31mImportError\u001b[0m                               Traceback (most recent call last)",
      "Cell \u001b[0;32mIn[3], line 3\u001b[0m\n\u001b[1;32m      1\u001b[0m \u001b[38;5;28;01mimport\u001b[39;00m \u001b[38;5;21;01mtorch\u001b[39;00m\n\u001b[0;32m----> 3\u001b[0m \u001b[38;5;28;01mfrom\u001b[39;00m \u001b[38;5;21;01mebb\u001b[39;00m\u001b[38;5;21;01m.\u001b[39;00m\u001b[38;5;21;01menv\u001b[39;00m\u001b[38;5;21;01m.\u001b[39;00m\u001b[38;5;21;01mluxenv\u001b[39;00m \u001b[38;5;28;01mimport\u001b[39;00m OBSERVATION_SPACE\n\u001b[1;32m      4\u001b[0m \u001b[38;5;28;01mfrom\u001b[39;00m \u001b[38;5;21;01mebb\u001b[39;00m\u001b[38;5;21;01m.\u001b[39;00m\u001b[38;5;21;01mmodel\u001b[39;00m \u001b[38;5;28;01mimport\u001b[39;00m _create_model, RewardSpec\n\u001b[1;32m      6\u001b[0m reward_spec \u001b[38;5;241m=\u001b[39m RewardSpec(\n\u001b[1;32m      7\u001b[0m         reward_min\u001b[38;5;241m=\u001b[39m\u001b[38;5;241m-\u001b[39m\u001b[38;5;241m1.06\u001b[39m,\n\u001b[1;32m      8\u001b[0m         reward_max\u001b[38;5;241m=\u001b[39m\u001b[38;5;241m+\u001b[39m\u001b[38;5;241m1.06\u001b[39m,\n\u001b[1;32m      9\u001b[0m         zero_sum\u001b[38;5;241m=\u001b[39m\u001b[38;5;28;01mFalse\u001b[39;00m,\n\u001b[1;32m     10\u001b[0m     )\n",
      "\u001b[0;31mImportError\u001b[0m: cannot import name 'OBSERVATION_SPACE' from 'ebb.env.luxenv' (/Users/flynnwang/repo/flynn/eco_bang_bang/ebb/env/luxenv.py)"
     ]
    }
   ],
   "source": [
    "import torch\n",
    "\n",
    "from ebb.env.luxenv import OBSERVATION_SPACE\n",
    "from ebb.model import _create_model, RewardSpec\n",
    "\n",
    "reward_spec = RewardSpec(\n",
    "        reward_min=-1.06,\n",
    "        reward_max=+1.06,\n",
    "        zero_sum=False,\n",
    "    )"
   ]
  },
  {
   "cell_type": "markdown",
   "id": "31b61ef5-8bd0-40cf-8e43-9f1762fa0fe8",
   "metadata": {},
   "source": [
    "# Load model"
   ]
  },
  {
   "cell_type": "code",
   "execution_count": null,
   "id": "cc5db45b-c255-43a9-a061-11964988817c",
   "metadata": {},
   "outputs": [],
   "source": [
    "# model_path = \"/Users/flynnwang/repo/flynn/runs/mds/048021120_weights.pt\"\n",
    "# model_path = \"/Users/flynnwang/repo/flynn/runs/mds/debug_run_20251226_units_run_out_of_energy/043652096_weights.pt\"\n",
    "\n",
    "# model_path = \"/Users/flynnwang/repo/flynn/runs/mds/debug_run_20251227_fix_action_center/029805568_weights.pt\"\n",
    "# model_path = \"/Users/flynnwang/repo/flynn/runs/mds/debug_run_20251227_fix_action_center/038978560_weights.pt\"\n",
    "\n",
    "# model_path = \"/Users/flynnwang/repo/flynn/runs/mds/debug_run_20251228_small_reward_range/003574656_weights.pt\"\n",
    "# model_path = \"/Users/flynnwang/repo/flynn/runs/mds/debug_run_20251228_small_reward_range/012532608_weights.pt\"\n",
    "# model_path = \"/Users/flynnwang/repo/flynn/runs/mds/debug_run_20251228_small_reward_range/014323840_weights.pt\"\n",
    "\n",
    "# model_path = \"/Users/flynnwang/repo/flynn/runs/mds/debug_run_20251228_use_action_taken/039774592_weights.pt\"\n",
    "# model_path = \"/Users/flynnwang/repo/flynn/runs/mds/debug_run_20251228_use_action_taken/043380864_weights.pt\"\n",
    "# model_path = \"/Users/flynnwang/repo/flynn/runs/mds/debug_run_20251228_use_action_taken/063213056_weights.pt\"\n",
    "\n",
    "# model_path = \"/Users/flynnwang/repo/flynn/runs/mds/debug_run_20251231_exploration_reward_no_remapping/008947328_weights.pt\"\n",
    "\n",
    "# model_path = \"/Users/flynnwang/repo/flynn/runs/mds/run_20250102_use_game_win_loss/001666432_weights.pt\"\n",
    "# checkpoint_state = torch.load(model_path, map_location=torch.device(\"cpu\"), weights_only=True)\n",
    "\n",
    "# model_path = \"/Users/flynnwang/repo/flynn/runs/mds/run_20250106_shared_unit_layers_v0/043562496_weights.pt\"\n",
    "# model_path = \"/Users/flynnwang/repo/flynn/runs/mds/run_20250109_game_win_loss_r1/009059840_weights.pt\"\n",
    "\n",
    "model_path = \"/Users/flynnwang/repo/flynn/runs/mds/run_20250109_nebula_features_0/004457216_weights.pt\"\n",
    "\n",
    "model = _create_model(OBSERVATION_SPACE, reward_spec=reward_spec, n_blocks=8, hidden_dim=128, base_out_channels=128,\n",
    "                      embedding_dim=32, kernel_size=5)\n",
    "\n",
    "checkpoint_state = torch.load(model_path, map_location=torch.device(\"cpu\"), weights_only=True)\n",
    "model.load_state_dict(checkpoint_state[\"model_state_dict\"])"
   ]
  },
  {
   "cell_type": "markdown",
   "id": "83b8acf9-cfff-43a8-910f-e3dae466ac81",
   "metadata": {},
   "source": [
    "# Model Run"
   ]
  },
  {
   "cell_type": "code",
   "execution_count": null,
   "id": "0da11b93-1324-4de4-a8f3-1a38a80347e9",
   "metadata": {},
   "outputs": [],
   "source": [
    "from ebb.torchbeast.core.selfplay import split_env_output_by_player, pair_env_output_for_players\n",
    "\n",
    "def actor_model_apply(env_output):\n",
    "  lef_env_out, rig_env_out = split_env_output_by_player(env_output)\n",
    "  lef_agent_out = actor_model(lef_env_out)\n",
    "  rig_agent_out = actor_model(rig_env_out)\n",
    "  return [(lef_env_out, lef_agent_out), (rig_env_out, rig_agent_out)]\n",
    "\n",
    "def get_merged_actions(env_agent_out):\n",
    "  lef_actions = env_agent_out[0][1]['actions']\n",
    "  rig_actions = env_agent_out[1][1]['actions']\n",
    "  return pair_env_output_for_players(lef_actions, rig_actions)\n",
    "\n",
    "def one_step(n):\n",
    "    global env_output\n",
    "\n",
    "    for _ in range(n):\n",
    "        env_agent_output = actor_model_apply(env_output)\n",
    "        actions = get_merged_actions(env_agent_output)\n",
    "        env_output = env.step(actions)\n",
    "        if env_output[\"done\"].any():\n",
    "            print('done')\n",
    "            break\n",
    "    print(f'step={lux_env.mms[0].game_step}')\n",
    "\n",
    "def plot_imgs(images):\n",
    "    grid_size = 3\n",
    "    fig, axes = plt.subplots(grid_size + 1, grid_size, figsize=(12, 12))\n",
    "    \n",
    "    for i, ax in enumerate(axes.flat):\n",
    "        if i < len(images):\n",
    "            name, img = images[i]\n",
    "            img = img.T\n",
    "            ax.imshow(img, cmap='viridis')  # Display image (grayscale here)\n",
    "            ax.set_title(name, fontsize=8)\n",
    "            # ax.axis('off')  # Turn off the axes\n",
    "            ax.set_xticks(np.arange(-0.5, img.shape[1], 1))  # Position gridlines at the edges of the pixels\n",
    "            ax.set_yticks(np.arange(-0.5, img.shape[0], 1))  # Position gridlines at the edges of the pixels\n",
    "            # Set gridlines to be visible\n",
    "            ax.grid(which='both', color='black', linestyle='-', linewidth=.5)\n",
    "        else:\n",
    "            ax.axis('off')  # Turn off the axes for empty slots\n",
    "    \n",
    "    plt.tight_layout()\n",
    "    plt.show()\n",
    "\n",
    "def get_units_info(env_output):\n",
    "    return env_output['obs']['units_loc_t0'][PLAYER_ID].numpy(), env_output['obs']['units_energy_t0'][PLAYER_ID].numpy()\n",
    "    \n",
    "    units_loc = np.zeros((24, 24), dtype=np.float64)\n",
    "    units_energy = np.zeros((24, 24), dtype=np.float64)\n",
    "    for i in range(MAX_UNIT_NUM):\n",
    "        # print(units_loc.shape)\n",
    "        # print(env_output['obs'][f'unit_{i}_loc_0'][PLAYER_ID].numpy().shape)\n",
    "        units_loc += env_output['obs'][f'unit_{i}_loc_0'][PLAYER_ID].numpy()\n",
    "        units_energy += env_output['obs'][f'unit_{i}_energy_0'][PLAYER_ID].numpy()\n",
    "    # return (units_loc > 0).astype(np.int64), units_energy\n",
    "    return units_loc, units_energy\n"
   ]
  },
  {
   "cell_type": "code",
   "execution_count": null,
   "id": "0592029c-a7bf-4523-a4fd-0e217f01d573",
   "metadata": {},
   "outputs": [],
   "source": [
    "from luxai_s3.wrappers import LuxAIS3GymEnv, RecordEpisode\n",
    "from ebb.env.luxenv import LuxS3Env\n",
    "from ebb.env.wrappers import VecEnv, PytorchEnv, DictEnv\n",
    "\n",
    "PLAYER_ID = 1\n",
    "MAX_UNIT_NUM = 16\n",
    "\n",
    "game_env = LuxAIS3GymEnv(numpy_output=True)\n",
    "game_env = RecordEpisode(game_env, save_dir=\"episodes1\")\n",
    "\n",
    "lux_env = LuxS3Env('shaping', game_env, )\n",
    "lux_env.seed(-2086719666)\n",
    "\n",
    "\n",
    "env = VecEnv([lux_env])\n",
    "env = PytorchEnv(env, torch.device('cpu'))\n",
    "env = DictEnv(env)\n",
    "\n",
    "actor_model = model\n",
    "env_output = env.reset(force=True, seed=-2086719666)"
   ]
  },
  {
   "cell_type": "code",
   "execution_count": null,
   "id": "fdf5ae05-550c-49fc-bea2-9d8844487b44",
   "metadata": {},
   "outputs": [],
   "source": [
    "def display(n):\n",
    "    one_step(n)\n",
    "\n",
    "    team_point_prob = env_output['obs']['team_point_prob'][PLAYER_ID]\n",
    "    cell_type = env_output['obs']['cell_type'][PLAYER_ID]\n",
    "    cell_energy = env_output['obs']['cell_energy'][PLAYER_ID]\n",
    "    visible = env_output['obs']['visible'][PLAYER_ID]\n",
    "    observed = env_output['obs']['observed'][PLAYER_ID]\n",
    "    nebula_tile_vision_reduction = env_output['obs']['nebula_tile_vision_reduction'][PLAYER_ID]\n",
    "    vision_map = env_output['obs']['vision_map'][PLAYER_ID]\n",
    "\n",
    "    \n",
    "    relic_map = env_output['obs']['is_relic_node'][PLAYER_ID]\n",
    "    is_relic_neighbour = env_output['obs']['is_relic_neighbour'][PLAYER_ID]\n",
    "    \n",
    "    uloc, uenergy = get_units_info(env_output)\n",
    "    \n",
    "    \n",
    "    plot_imgs([('cell_type', cell_type),  ('cell_energy', cell_energy),\n",
    "               ('visible', visible), ('observed', observed),\n",
    "               ('units locations', uloc), ('units energy', uenergy),\n",
    "               ('nebula_tile_vision_reduction', nebula_tile_vision_reduction), ('vision_map', vision_map),\n",
    "               # ('is_relic_node', relic_map), ('team_point_prob', team_point_prob), \n",
    "               ('is_relic_neighbour', is_relic_neighbour)]) "
   ]
  },
  {
   "cell_type": "code",
   "execution_count": null,
   "id": "75c6143b-f625-4fb6-ab24-adca3def6122",
   "metadata": {},
   "outputs": [],
   "source": [
    "cell_energy = env_output['obs']['cell_energy'][PLAYER_ID]"
   ]
  },
  {
   "cell_type": "code",
   "execution_count": null,
   "id": "91ca8927-f8e5-4160-9cd9-bc146c152c3a",
   "metadata": {},
   "outputs": [],
   "source": [
    "display(10)"
   ]
  }
 ],
 "metadata": {
  "kernelspec": {
   "display_name": "Python 3 (ipykernel)",
   "language": "python",
   "name": "python3"
  },
  "language_info": {
   "codemirror_mode": {
    "name": "ipython",
    "version": 3
   },
   "file_extension": ".py",
   "mimetype": "text/x-python",
   "name": "python",
   "nbconvert_exporter": "python",
   "pygments_lexer": "ipython3",
   "version": "3.12.5"
  }
 },
 "nbformat": 4,
 "nbformat_minor": 5
}
