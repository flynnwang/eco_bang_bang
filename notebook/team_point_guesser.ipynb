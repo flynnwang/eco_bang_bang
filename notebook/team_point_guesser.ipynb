{
 "cells": [
  {
   "cell_type": "code",
   "execution_count": 1,
   "id": "e8d89c5e-7ae3-4ac8-93da-f405641e0b9b",
   "metadata": {},
   "outputs": [],
   "source": [
    "import numpy as np\n",
    "import pandas as pd\n",
    "\n",
    "import seaborn as sns\n",
    "import matplotlib.pyplot as plt\n",
    "\n",
    "%matplotlib inline"
   ]
  },
  {
   "cell_type": "code",
   "execution_count": 2,
   "id": "fe02d2cd-054a-4f75-8d9d-5f93e261edad",
   "metadata": {},
   "outputs": [
    {
     "data": {
      "text/plain": [
       "array([0.25, 0.25, 0.25, 0.25, 0.25, 0.25, 0.25, 0.25, 0.25, 0.25])"
      ]
     },
     "execution_count": 2,
     "metadata": {},
     "output_type": "execute_result"
    }
   ],
   "source": [
    "pri = np.ones(10) * 0.25\n",
    "\n",
    "pri"
   ]
  },
  {
   "cell_type": "code",
   "execution_count": 3,
   "id": "6d55b601-b57f-40db-a122-8a4b08df3b3d",
   "metadata": {},
   "outputs": [],
   "source": [
    "MAX_WIDTH, MAX_HEIGHT = 24, 24\n"
   ]
  },
  {
   "cell_type": "code",
   "execution_count": null,
   "id": "5f1ed1e4-5617-4937-8a81-555442b5d60d",
   "metadata": {},
   "outputs": [],
   "source": []
  },
  {
   "cell_type": "code",
   "execution_count": 4,
   "id": "cf28073b-d48c-466d-9cdf-8c55f915f9ce",
   "metadata": {},
   "outputs": [],
   "source": [
    "# select 3 and observe of a 1\n",
    "\n",
    "from scipy.ndimage import maximum_filter\n",
    "\n",
    "MIN_PROB = 0.001\n",
    "PRIORI = 0.25\n",
    "\n",
    "class HiddenRelicNodeEstimator:\n",
    "\n",
    "    def __init__(self):\n",
    "        self.priori = np.zeros((MAX_WIDTH, MAX_HEIGHT))\n",
    "        self.relic_positions = set()\n",
    "\n",
    "    def update(self, is_relic_neighbour, unit_positions, new_team_points):\n",
    "        is_relic_nb = (is_relic_neighbour == 1)\n",
    "        self.priori[is_relic_nb & (self.priori == 0)] = PRIORI\n",
    "\n",
    "        obs = np.argwhere((is_relic_neighbour == 1) & unit_positions)\n",
    "        post = self.calc_posteriori_probs(obs, new_team_points)\n",
    "        self.priori[is_relic_nb] = np.clip(post[is_relic_nb], MIN_PROB, 0.999) \n",
    "        \n",
    "    def calculate_p_data(self, obs, n, p):\n",
    "        if n < 0:\n",
    "            return 0\n",
    "            \n",
    "        m = len(obs)\n",
    "        \n",
    "        # represent the probability of observe k team points from the first j locations.\n",
    "        dp = np.zeros((m+1, n+1))  \n",
    "        dp[0][0] = 1\n",
    "        \n",
    "        for j in range(1, m+1):\n",
    "            pos = obs[j-1]\n",
    "            pj = p[pos[0]][pos[1]]\n",
    "            for k in range(n+1):\n",
    "                dp[j][k] += dp[j-1][k] * (1 - pj)\n",
    "                if k > 0:\n",
    "                    dp[j][k] += dp[j-1][k-1] * pj\n",
    "        return dp[m][n]\n",
    "\n",
    "    def calc_posteriori_probs(self, observed_cells, new_team_points):\n",
    "        m = len(observed_cells)\n",
    "        n = min(new_team_points, m)\n",
    "        \n",
    "        p_data = self.calculate_p_data(observed_cells, n, self.priori)\n",
    "        assert p_data > 0\n",
    "        print(f'p_data = {p_data}')\n",
    "        \n",
    "        post = self.priori.copy()\n",
    "        for i in observed_cells:\n",
    "            x, y = i\n",
    "            ob_exclude = [c for c in observed_cells if not (c[0] == x and c[1] == y)]\n",
    "            print(ob_exclude)\n",
    "            p_data_given_i = self.calculate_p_data(ob_exclude, n - 1, self.priori)\n",
    "            post[x][y] = p_data_given_i * self.priori[x][y] / p_data\n",
    "            print(f\"post[{x}][{y}] = {post[x][y]}, self.priori[x][y]={self.priori[x][y]}, p_data_given_i={p_data_given_i}\")\n",
    "        return post"
   ]
  },
  {
   "cell_type": "code",
   "execution_count": 5,
   "id": "ba60179b-925b-458c-b3f9-7a1d14e117c4",
   "metadata": {},
   "outputs": [
    {
     "data": {
      "image/png": "[encoded data removed]",
      "text/plain": [
       "<Figure size 640x480 with 1 Axes>"
      ]
     },
     "metadata": {},
     "output_type": "display_data"
    }
   ],
   "source": [
    "mask = np.zeros((MAX_WIDTH, MAX_HEIGHT), dtype=bool)\n",
    "\n",
    "mask[5][5] = 1\n",
    "mask = maximum_filter(mask, size=3)\n",
    "\n",
    "plt.imshow(mask);"
   ]
  },
  {
   "cell_type": "code",
   "execution_count": 6,
   "id": "60189c28-1258-4abd-8ff9-f6d8276f8a03",
   "metadata": {},
   "outputs": [
    {
     "data": {
      "text/plain": [
       "array([[4, 4],\n",
       "       [4, 5],\n",
       "       [4, 6],\n",
       "       [5, 4],\n",
       "       [5, 5],\n",
       "       [5, 6],\n",
       "       [6, 4],\n",
       "       [6, 5],\n",
       "       [6, 6]])"
      ]
     },
     "execution_count": 6,
     "metadata": {},
     "output_type": "execute_result"
    }
   ],
   "source": [
    "np.argwhere(mask)"
   ]
  },
  {
   "cell_type": "code",
   "execution_count": 7,
   "id": "3008a7bd-a679-4112-afaa-6c9f7c7dd389",
   "metadata": {},
   "outputs": [
    {
     "name": "stdout",
     "output_type": "stream",
     "text": [
      "p_data = 0.75\n",
      "[]\n",
      "post[4][4] = 0.0, self.priori[x][y]=0.25, p_data_given_i=0\n"
     ]
    },
    {
     "data": {
      "text/plain": [
       "<matplotlib.image.AxesImage at 0x117808bf0>"
      ]
     },
     "execution_count": 7,
     "metadata": {},
     "output_type": "execute_result"
    },
    {
     "data": {
      "image/png": "[encoded data removed]",
      "text/plain": [
       "<Figure size 640x480 with 1 Axes>"
      ]
     },
     "metadata": {},
     "output_type": "display_data"
    }
   ],
   "source": [
    "# units position has no TP\n",
    "\n",
    "units = np.zeros((MAX_WIDTH, MAX_HEIGHT), dtype=bool)\n",
    "units[(4, 4)] = 1\n",
    "\n",
    "relic_estimator = HiddenRelicNodeEstimator()\n",
    "relic_estimator.update(mask, units, 0)\n",
    "\n",
    "plt.imshow(relic_estimator.priori)"
   ]
  },
  {
   "cell_type": "code",
   "execution_count": 8,
   "id": "e67e9735-0a7c-4978-8457-e1ee1185dd06",
   "metadata": {},
   "outputs": [
    {
     "name": "stdout",
     "output_type": "stream",
     "text": [
      "p_data = 0.25\n",
      "[]\n",
      "post[4][4] = 1.0, self.priori[x][y]=0.25, p_data_given_i=1.0\n"
     ]
    },
    {
     "data": {
      "text/plain": [
       "<matplotlib.image.AxesImage at 0x1178ab3b0>"
      ]
     },
     "execution_count": 8,
     "metadata": {},
     "output_type": "execute_result"
    },
    {
     "data": {
      "image/png": "[encoded data removed]",
      "text/plain": [
       "<Figure size 640x480 with 1 Axes>"
      ]
     },
     "metadata": {},
     "output_type": "display_data"
    }
   ],
   "source": [
    "# units position has one TP\n",
    "\n",
    "units = np.zeros((MAX_WIDTH, MAX_HEIGHT), dtype=bool)\n",
    "units[(4, 4)] = 1\n",
    "\n",
    "relic_estimator = HiddenRelicNodeEstimator()\n",
    "relic_estimator.update(mask, units, 1)\n",
    "\n",
    "plt.imshow(relic_estimator.priori)"
   ]
  },
  {
   "cell_type": "code",
   "execution_count": 9,
   "id": "99a37689-c8ba-4ff8-aff4-dad563d018c1",
   "metadata": {},
   "outputs": [
    {
     "name": "stdout",
     "output_type": "stream",
     "text": [
      "p_data = 0.25\n",
      "[]\n",
      "post[4][4] = 1.0, self.priori[x][y]=0.25, p_data_given_i=1.0\n"
     ]
    },
    {
     "data": {
      "text/plain": [
       "<matplotlib.image.AxesImage at 0x11790f2f0>"
      ]
     },
     "execution_count": 9,
     "metadata": {},
     "output_type": "execute_result"
    },
    {
     "data": {
      "image/png": "[encoded data removed]",
      "text/plain": [
       "<Figure size 640x480 with 1 Axes>"
      ]
     },
     "metadata": {},
     "output_type": "display_data"
    }
   ],
   "source": [
    "# units position has 2 relic\n",
    "\n",
    "units = np.zeros((MAX_WIDTH, MAX_HEIGHT), dtype=bool)\n",
    "units[(4, 4)] = 1\n",
    "\n",
    "relic_estimator = HiddenRelicNodeEstimator()\n",
    "relic_estimator.update(mask, units, 2)\n",
    "\n",
    "plt.imshow(relic_estimator.priori)"
   ]
  },
  {
   "cell_type": "code",
   "execution_count": 10,
   "id": "fcc6b209-32de-46da-995e-22b2c1176559",
   "metadata": {},
   "outputs": [
    {
     "name": "stdout",
     "output_type": "stream",
     "text": [
      "p_data = 0.5625\n",
      "[array([5, 5])]\n",
      "post[4][4] = 0.0, self.priori[x][y]=0.25, p_data_given_i=0\n",
      "[array([4, 4])]\n",
      "post[5][5] = 0.0, self.priori[x][y]=0.25, p_data_given_i=0\n"
     ]
    },
    {
     "data": {
      "text/plain": [
       "<matplotlib.image.AxesImage at 0x117925bb0>"
      ]
     },
     "execution_count": 10,
     "metadata": {},
     "output_type": "execute_result"
    },
    {
     "data": {
      "image/png": "[encoded data removed]",
      "text/plain": [
       "<Figure size 640x480 with 1 Axes>"
      ]
     },
     "metadata": {},
     "output_type": "display_data"
    }
   ],
   "source": [
    "# 2 units positions with 0 TP\n",
    "\n",
    "units = np.zeros((MAX_WIDTH, MAX_HEIGHT), dtype=bool)\n",
    "units[(4, 4)] = 1\n",
    "units[(5, 5)] = 1\n",
    "\n",
    "relic_estimator = HiddenRelicNodeEstimator()\n",
    "relic_estimator.update(mask, units, 0)\n",
    "\n",
    "plt.imshow(relic_estimator.priori)"
   ]
  },
  {
   "cell_type": "code",
   "execution_count": 11,
   "id": "976087f1-cdd9-491e-a7f0-719ed26e921b",
   "metadata": {},
   "outputs": [
    {
     "name": "stdout",
     "output_type": "stream",
     "text": [
      "p_data = 0.375\n",
      "[array([5, 5])]\n",
      "post[4][4] = 0.5, self.priori[x][y]=0.25, p_data_given_i=0.75\n",
      "[array([4, 4])]\n",
      "post[5][5] = 0.5, self.priori[x][y]=0.25, p_data_given_i=0.75\n"
     ]
    },
    {
     "data": {
      "text/plain": [
       "<matplotlib.image.AxesImage at 0x1179d8bc0>"
      ]
     },
     "execution_count": 11,
     "metadata": {},
     "output_type": "execute_result"
    },
    {
     "data": {
      "image/png": "[encoded data removed]",
      "text/plain": [
       "<Figure size 640x480 with 1 Axes>"
      ]
     },
     "metadata": {},
     "output_type": "display_data"
    }
   ],
   "source": [
    "# 2 units positions with 1 TP\n",
    "\n",
    "units = np.zeros((MAX_WIDTH, MAX_HEIGHT), dtype=bool)\n",
    "units[(4, 4)] = 1\n",
    "units[(5, 5)] = 1\n",
    "\n",
    "\n",
    "relic_estimator = HiddenRelicNodeEstimator()\n",
    "relic_estimator.update(mask, units, 1)\n",
    "\n",
    "plt.imshow(relic_estimator.priori)"
   ]
  },
  {
   "cell_type": "code",
   "execution_count": 12,
   "id": "de19dcc2-80a8-4250-9ecc-ecded4b9bde0",
   "metadata": {},
   "outputs": [
    {
     "name": "stdout",
     "output_type": "stream",
     "text": [
      "p_data = 0.0625\n",
      "[array([5, 5])]\n",
      "post[4][4] = 1.0, self.priori[x][y]=0.25, p_data_given_i=0.25\n",
      "[array([4, 4])]\n",
      "post[5][5] = 1.0, self.priori[x][y]=0.25, p_data_given_i=0.25\n"
     ]
    },
    {
     "data": {
      "text/plain": [
       "<matplotlib.image.AxesImage at 0x117a253d0>"
      ]
     },
     "execution_count": 12,
     "metadata": {},
     "output_type": "execute_result"
    },
    {
     "data": {
      "image/png": "[encoded data removed]",
      "text/plain": [
       "<Figure size 640x480 with 1 Axes>"
      ]
     },
     "metadata": {},
     "output_type": "display_data"
    }
   ],
   "source": [
    "# 2 units positions with 2 TP\n",
    "\n",
    "units = np.zeros((MAX_WIDTH, MAX_HEIGHT), dtype=bool)\n",
    "units[(4, 4)] = 1\n",
    "units[(5, 5)] = 1\n",
    "\n",
    "relic_estimator = HiddenRelicNodeEstimator()\n",
    "relic_estimator.update(mask, units, 2)\n",
    "\n",
    "plt.imshow(relic_estimator.priori)"
   ]
  },
  {
   "cell_type": "code",
   "execution_count": 13,
   "id": "76dd3163-f698-46ce-b557-8ff2773f8d29",
   "metadata": {},
   "outputs": [
    {
     "name": "stdout",
     "output_type": "stream",
     "text": [
      "p_data = 0.421875\n",
      "[array([5, 5]), array([6, 6])]\n",
      "post[4][4] = 0.0, self.priori[x][y]=0.25, p_data_given_i=0\n",
      "[array([4, 4]), array([6, 6])]\n",
      "post[5][5] = 0.0, self.priori[x][y]=0.25, p_data_given_i=0\n",
      "[array([4, 4]), array([5, 5])]\n",
      "post[6][6] = 0.0, self.priori[x][y]=0.25, p_data_given_i=0\n"
     ]
    },
    {
     "data": {
      "text/plain": [
       "<matplotlib.image.AxesImage at 0x1068bc320>"
      ]
     },
     "execution_count": 13,
     "metadata": {},
     "output_type": "execute_result"
    },
    {
     "data": {
      "image/png": "[encoded data removed]",
      "text/plain": [
       "<Figure size 640x480 with 1 Axes>"
      ]
     },
     "metadata": {},
     "output_type": "display_data"
    }
   ],
   "source": [
    "# 2 units positions with 0 TP\n",
    "\n",
    "units = np.zeros((MAX_WIDTH, MAX_HEIGHT), dtype=bool)\n",
    "units[(4, 4)] = 1\n",
    "units[(5, 5)] = 1\n",
    "units[(6, 6)] = 1\n",
    "\n",
    "relic_estimator = HiddenRelicNodeEstimator()\n",
    "relic_estimator.update(mask, units, 0)\n",
    "\n",
    "plt.imshow(relic_estimator.priori)"
   ]
  },
  {
   "cell_type": "code",
   "execution_count": 14,
   "id": "e23df9d2-d6cb-4b95-ab92-9dd27d2f52f6",
   "metadata": {},
   "outputs": [
    {
     "name": "stdout",
     "output_type": "stream",
     "text": [
      "p_data = 0.421875\n",
      "[array([5, 5]), array([6, 6])]\n",
      "post[4][4] = 0.3333333333333333, self.priori[x][y]=0.25, p_data_given_i=0.5625\n",
      "[array([4, 4]), array([6, 6])]\n",
      "post[5][5] = 0.3333333333333333, self.priori[x][y]=0.25, p_data_given_i=0.5625\n",
      "[array([4, 4]), array([5, 5])]\n",
      "post[6][6] = 0.3333333333333333, self.priori[x][y]=0.25, p_data_given_i=0.5625\n"
     ]
    },
    {
     "data": {
      "text/plain": [
       "<matplotlib.image.AxesImage at 0x117ae1be0>"
      ]
     },
     "execution_count": 14,
     "metadata": {},
     "output_type": "execute_result"
    },
    {
     "data": {
      "image/png": "[encoded data removed]",
      "text/plain": [
       "<Figure size 640x480 with 1 Axes>"
      ]
     },
     "metadata": {},
     "output_type": "display_data"
    }
   ],
   "source": [
    "# 3 units positions with 1 TP\n",
    "\n",
    "units = np.zeros((MAX_WIDTH, MAX_HEIGHT), dtype=bool)\n",
    "units[(4, 4)] = 1\n",
    "units[(5, 5)] = 1\n",
    "units[(6, 6)] = 1\n",
    "\n",
    "relic_estimator = HiddenRelicNodeEstimator()\n",
    "relic_estimator.update(mask, units, 1)\n",
    "\n",
    "plt.imshow(relic_estimator.priori)"
   ]
  },
  {
   "cell_type": "code",
   "execution_count": 15,
   "id": "937d09d2-2445-4078-89b0-915139f8720e",
   "metadata": {},
   "outputs": [
    {
     "name": "stdout",
     "output_type": "stream",
     "text": [
      "p_data = 0.140625\n",
      "[array([5, 5]), array([6, 6])]\n",
      "post[4][4] = 0.6666666666666666, self.priori[x][y]=0.25, p_data_given_i=0.375\n",
      "[array([4, 4]), array([6, 6])]\n",
      "post[5][5] = 0.6666666666666666, self.priori[x][y]=0.25, p_data_given_i=0.375\n",
      "[array([4, 4]), array([5, 5])]\n",
      "post[6][6] = 0.6666666666666666, self.priori[x][y]=0.25, p_data_given_i=0.375\n"
     ]
    },
    {
     "data": {
      "text/plain": [
       "<matplotlib.image.AxesImage at 0x117b21880>"
      ]
     },
     "execution_count": 15,
     "metadata": {},
     "output_type": "execute_result"
    },
    {
     "data": {
      "image/png": "[encoded data removed]",
      "text/plain": [
       "<Figure size 640x480 with 1 Axes>"
      ]
     },
     "metadata": {},
     "output_type": "display_data"
    }
   ],
   "source": [
    "# 3 units positions with 2 TP\n",
    "\n",
    "units = np.zeros((MAX_WIDTH, MAX_HEIGHT), dtype=bool)\n",
    "units[(4, 4)] = 1\n",
    "units[(5, 5)] = 1\n",
    "units[(6, 6)] = 1\n",
    "\n",
    "relic_estimator = HiddenRelicNodeEstimator()\n",
    "relic_estimator.update(mask, units, 2)\n",
    "\n",
    "plt.imshow(relic_estimator.priori)"
   ]
  },
  {
   "cell_type": "code",
   "execution_count": 16,
   "id": "df62fe2d-d2ba-4224-82dd-accdb0ea8723",
   "metadata": {},
   "outputs": [
    {
     "name": "stdout",
     "output_type": "stream",
     "text": [
      "p_data = 0.015625\n",
      "[array([5, 5]), array([6, 6])]\n",
      "post[4][4] = 1.0, self.priori[x][y]=0.25, p_data_given_i=0.0625\n",
      "[array([4, 4]), array([6, 6])]\n",
      "post[5][5] = 1.0, self.priori[x][y]=0.25, p_data_given_i=0.0625\n",
      "[array([4, 4]), array([5, 5])]\n",
      "post[6][6] = 1.0, self.priori[x][y]=0.25, p_data_given_i=0.0625\n"
     ]
    },
    {
     "data": {
      "text/plain": [
       "<matplotlib.image.AxesImage at 0x117bc0140>"
      ]
     },
     "execution_count": 16,
     "metadata": {},
     "output_type": "execute_result"
    },
    {
     "data": {
      "image/png": "[encoded data removed]",
      "text/plain": [
       "<Figure size 640x480 with 1 Axes>"
      ]
     },
     "metadata": {},
     "output_type": "display_data"
    }
   ],
   "source": [
    "# 3 units positions with 3 TP\n",
    "\n",
    "units = np.zeros((MAX_WIDTH, MAX_HEIGHT), dtype=bool)\n",
    "units[(4, 4)] = 1\n",
    "units[(5, 5)] = 1\n",
    "units[(6, 6)] = 1\n",
    "\n",
    "relic_estimator = HiddenRelicNodeEstimator()\n",
    "relic_estimator.update(mask, units, 3)\n",
    "\n",
    "plt.imshow(relic_estimator.priori)"
   ]
  },
  {
   "cell_type": "code",
   "execution_count": 17,
   "id": "04644fd5-275b-4169-8aab-2ed3bea25343",
   "metadata": {},
   "outputs": [
    {
     "data": {
      "text/plain": [
       "array([0.999, 0.25 , 0.25 , 0.25 , 0.999, 0.25 , 0.25 , 0.25 , 0.999])"
      ]
     },
     "execution_count": 17,
     "metadata": {},
     "output_type": "execute_result"
    }
   ],
   "source": [
    "relic_estimator.priori[relic_estimator.priori > 0]"
   ]
  },
  {
   "cell_type": "code",
   "execution_count": 18,
   "id": "961dd97f-4934-466b-86b6-f8c0b27db75e",
   "metadata": {},
   "outputs": [
    {
     "name": "stdout",
     "output_type": "stream",
     "text": [
      "p_data = 0.015625\n",
      "[array([5, 5]), array([6, 6])]\n",
      "post[4][4] = 1.0, self.priori[x][y]=0.25, p_data_given_i=0.0625\n",
      "[array([4, 4]), array([6, 6])]\n",
      "post[5][5] = 1.0, self.priori[x][y]=0.25, p_data_given_i=0.0625\n",
      "[array([4, 4]), array([5, 5])]\n",
      "post[6][6] = 1.0, self.priori[x][y]=0.25, p_data_given_i=0.0625\n"
     ]
    },
    {
     "data": {
      "text/plain": [
       "<matplotlib.image.AxesImage at 0x117968ec0>"
      ]
     },
     "execution_count": 18,
     "metadata": {},
     "output_type": "execute_result"
    },
    {
     "data": {
      "image/png": "[encoded data removed]",
      "text/plain": [
       "<Figure size 640x480 with 1 Axes>"
      ]
     },
     "metadata": {},
     "output_type": "display_data"
    }
   ],
   "source": [
    "# 3 units positions with 3 TP\n",
    "\n",
    "units = np.zeros((MAX_WIDTH, MAX_HEIGHT), dtype=bool)\n",
    "units[(4, 4)] = 1\n",
    "units[(5, 5)] = 1\n",
    "units[(6, 6)] = 1\n",
    "\n",
    "relic_estimator = HiddenRelicNodeEstimator()\n",
    "relic_estimator.update(mask, units, 3)\n",
    "\n",
    "plt.imshow(relic_estimator.priori)"
   ]
  },
  {
   "cell_type": "code",
   "execution_count": null,
   "id": "e502e1b8-52ad-4d64-8d5d-65d8c54a053a",
   "metadata": {},
   "outputs": [],
   "source": []
  }
 ],
 "metadata": {
  "kernelspec": {
   "display_name": "Python 3 (ipykernel)",
   "language": "python",
   "name": "python3"
  },
  "language_info": {
   "codemirror_mode": {
    "name": "ipython",
    "version": 3
   },
   "file_extension": ".py",
   "mimetype": "text/x-python",
   "name": "python",
   "nbconvert_exporter": "python",
   "pygments_lexer": "ipython3",
   "version": "3.12.5"
  }
 },
 "nbformat": 4,
 "nbformat_minor": 5
}
