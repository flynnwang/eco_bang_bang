{
 "cells": [
  {
   "cell_type": "code",
   "execution_count": 1,
   "id": "227fc281-0dc6-404b-ba37-065848d128a4",
   "metadata": {},
   "outputs": [],
   "source": [
    "import numpy as np\n",
    "import pandas as pd\n",
    "\n",
    "import seaborn as sns\n",
    "import matplotlib.pyplot as plt\n",
    "\n",
    "%matplotlib inline"
   ]
  },
  {
   "cell_type": "code",
   "execution_count": 2,
   "id": "1fa7e29e-9478-4614-92ab-743cd75ddc7d",
   "metadata": {},
   "outputs": [],
   "source": [
    "import sys\n",
    "\n",
    "sys.path.insert(0, \"/Users/flynnwang/repo/flynn/eco_bang_bang/agents/rl_b8_70M_0213/\")"
   ]
  },
  {
   "cell_type": "code",
   "execution_count": 3,
   "id": "fdfb36c0-ad48-4ef2-a60c-13bdabf10226",
   "metadata": {},
   "outputs": [],
   "source": [
    "sys.path.insert(0, \"/Users/flynnwang/repo/flynn/eco_bang_bang/agents\")"
   ]
  },
  {
   "cell_type": "code",
   "execution_count": 5,
   "id": "409cee30-a298-4073-8a3b-4017f454a1cf",
   "metadata": {},
   "outputs": [],
   "source": [
    "import torch\n",
    "\n",
    "from ecobangbang.env.luxenv import get_ob_sapce, LuxS3Env\n",
    "from ecobangbang.model import _create_model, RewardSpec\n",
    "\n",
    "reward_spec = RewardSpec(\n",
    "        reward_min=-5,\n",
    "        reward_max=+5,\n",
    "        zero_sum=False,\n",
    "    )\n",
    "\n",
    "reward_shaping_params = dict(  new_observed_down_tri=0.0001,\n",
    "  match_observed=0,\n",
    "  match_win=1,\n",
    "  use_hidden_relic_estimator=True,\n",
    "  energy_cost_change=0.001,                             \n",
    ")\n",
    "\n",
    "obs_space_kwargs = {\n",
    "    'use_energy_cost_map': True,\n",
    "    'use_single_player': False,\n",
    "}\n",
    "env = LuxS3Env(reward_schema='match_explore_win_loss',\n",
    "               reward_shaping_params=reward_shaping_params,\n",
    "              obs_space_kwargs=obs_space_kwargs)\n",
    "\n",
    "obs, reward, done, info = env.reset()"
   ]
  },
  {
   "cell_type": "code",
   "execution_count": 11,
   "id": "09fea186-ed5d-4b4b-9295-4f029e789f77",
   "metadata": {},
   "outputs": [],
   "source": [
    "# from ecobangbang.agent import Agent\n",
    "\n",
    "from rule_v3_4a0760b.ecobangbang.agent import Agent as Agent2\n",
    "from rl_b8_70M_0213.ecobangbang.agent import Agent as RlAgent"
   ]
  },
  {
   "cell_type": "markdown",
   "id": "81eeec19-3a65-4959-8a84-5446016a2ffa",
   "metadata": {},
   "source": [
    "# Feature Plots"
   ]
  },
  {
   "cell_type": "code",
   "execution_count": 12,
   "id": "b1dc81d2-bb84-473f-a3da-2f0d94256fab",
   "metadata": {},
   "outputs": [],
   "source": [
    "def plot_imgs(images):\n",
    "    grid_size = 3\n",
    "    fig, axes = plt.subplots(grid_size + 1, grid_size, figsize=(10, 10))\n",
    "    \n",
    "    for i, ax in enumerate(axes.flat):\n",
    "        if i < len(images):\n",
    "            name, img = images[i]\n",
    "            img = img.T\n",
    "            ax.imshow(img, cmap='viridis')  # Display image (grayscale here)\n",
    "            ax.set_title(name, fontsize=8)\n",
    "            ax.axis('off')  # Turn off the axes\n",
    "            ax.set_xticks(np.arange(-0.5, img.shape[1], 1))  # Position gridlines at the edges of the pixels\n",
    "            ax.set_yticks(np.arange(-0.5, img.shape[0], 1))  # Position gridlines at the edges of the pixels\n",
    "            # Set gridlines to be visible\n",
    "            ax.grid(which='both', color='black', linestyle='-', linewidth=.5)\n",
    "        else:\n",
    "            ax.axis('off')  # Turn off the axes for empty slots\n",
    "    \n",
    "    plt.tight_layout()\n",
    "    plt.show()"
   ]
  },
  {
   "cell_type": "code",
   "execution_count": 13,
   "id": "7202e6da-e306-426a-a9dd-68a81fbb9059",
   "metadata": {},
   "outputs": [
    {
     "data": {
      "text/plain": [
       "<module 'ecobangbang' from '/Users/flynnwang/repo/flynn/eco_bang_bang/agents/rl_b8_70M_0213/ecobangbang/__init__.py'>"
      ]
     },
     "execution_count": 13,
     "metadata": {},
     "output_type": "execute_result"
    }
   ],
   "source": [
    "import ecobangbang\n",
    "\n",
    "ecobangbang"
   ]
  },
  {
   "cell_type": "code",
   "execution_count": 16,
   "id": "ea889a81-34e2-4c4d-92c9-af5c71fc52b0",
   "metadata": {},
   "outputs": [
    {
     "name": "stderr",
     "output_type": "stream",
     "text": [
      "Model loaded\n"
     ]
    }
   ],
   "source": [
    "from ecobangbang.env.luxenv import LuxS3Env\n",
    "from ecobangbang.env.const import *\n",
    "\n",
    "\n",
    "env = LuxS3Env(reward_schema='match_explore_win_loss',\n",
    "               reward_shaping_params=reward_shaping_params,\n",
    "              obs_space_kwargs=obs_space_kwargs)\n",
    "obs, reward, done, info = env.reset(seed=96290790)\n",
    "\n",
    "def act(a, ob):\n",
    "    player_id = a.player\n",
    "    step = ob['steps']\n",
    "    actions = a.act(step, ob)\n",
    "    return actions\n",
    "\n",
    "env_cfg = env.mms[0].env_cfg\n",
    "a0 = RlAgent('player_0', env_cfg)\n",
    "a1 = Agent2('player_1', env_cfg)"
   ]
  },
  {
   "cell_type": "code",
   "execution_count": 17,
   "id": "f36dcd98-57f7-46cb-880d-812c7b550a2a",
   "metadata": {},
   "outputs": [
    {
     "name": "stdout",
     "output_type": "stream",
     "text": [
      "step=1 final_state.energy_nodes=[[10 19]\n",
      " [10 21]\n",
      " [12 22]\n",
      " [ 4 13]\n",
      " [ 2 13]\n",
      " [ 1 11]], final_state.energy_nodes_mask=[ True  True False  True  True False]\n"
     ]
    },
    {
     "name": "stderr",
     "output_type": "stream",
     "text": [
      "***** --> found energy node at [ 2 13]\n",
      "step=0 (after update), energy field found=True, node=[ 2 13], candidates=[array([ 2, 13])]\n",
      "--> using energy node at [ 2 13]\n",
      "***** --> found energy node at [ 2 13]\n",
      "step=0 (after update), energy field found=True, node=[ 2 13], candidates=[array([ 2, 13])]\n",
      "--> using energy node at [ 2 13]\n",
      "***** --> found energy node at [ 2 13]\n",
      "step=0 (after update), energy field found=True, node=[ 2 13], candidates=[array([ 2, 13])]\n",
      "--> using energy node at [ 2 13]\n",
      "***** --> found energy node at [ 4 13]\n"
     ]
    },
    {
     "name": "stdout",
     "output_type": "stream",
     "text": [
      "step=2 final_state.energy_nodes=[[10 19]\n",
      " [10 21]\n",
      " [12 22]\n",
      " [ 4 13]\n",
      " [ 2 13]\n",
      " [ 1 11]], final_state.energy_nodes_mask=[ True  True False  True  True False]\n"
     ]
    },
    {
     "name": "stderr",
     "output_type": "stream",
     "text": [
      "----------small reset energy node positions, found? = True\n",
      "energy field changed at step = 1\n",
      "step=1 (after update), energy field found=True, node=[ 4 13], candidates=[array([ 4, 13])]\n",
      "--> using energy node at [ 4 13]\n",
      "***** --> found energy node at [ 4 13]\n",
      "----------small reset energy node positions, found? = True\n",
      "energy field changed at step = 1\n",
      "step=1 (after update), energy field found=True, node=[ 4 13], candidates=[array([ 4, 13])]\n",
      "--> using energy node at [ 4 13]\n",
      "***** --> found energy node at [ 4 13]\n",
      "----------small reset energy node positions, found? = True\n",
      "energy field changed at step = 1\n",
      "step=1 (after update), energy field found=True, node=[ 4 13], candidates=[array([ 4, 13])]\n",
      "--> using energy node at [ 4 13]\n",
      "step=2 (after update), energy field found=True, node=[ 4 13], candidates=[array([ 4, 13])]\n",
      "--> using energy node at [ 4 13]\n",
      "step=2 (after update), energy field found=True, node=[ 4 13], candidates=[array([ 4, 13])]\n",
      "--> using energy node at [ 4 13]\n",
      "step=2 (after update), energy field found=True, node=[ 4 13], candidates=[array([ 4, 13])]\n",
      "--> using energy node at [ 4 13]\n",
      "step=3 (after update), energy field found=True, node=[ 4 13], candidates=[array([ 4, 13])]\n",
      "--> using energy node at [ 4 13]\n",
      "step=3 (after update), energy field found=True, node=[ 4 13], candidates=[array([ 4, 13])]\n",
      "--> using energy node at [ 4 13]\n",
      "step=3 (after update), energy field found=True, node=[ 4 13], candidates=[array([ 4, 13])]\n",
      "--> using energy node at [ 4 13]\n",
      "step=4 (after update), energy field found=True, node=[ 4 13], candidates=[array([ 4, 13])]\n",
      "--> using energy node at [ 4 13]\n",
      "step=4 (after update), energy field found=True, node=[ 4 13], candidates=[array([ 4, 13])]\n",
      "--> using energy node at [ 4 13]\n",
      "step=4 (after update), energy field found=True, node=[ 4 13], candidates=[array([ 4, 13])]\n",
      "--> using energy node at [ 4 13]\n"
     ]
    },
    {
     "name": "stdout",
     "output_type": "stream",
     "text": [
      "step=3 final_state.energy_nodes=[[10 19]\n",
      " [10 21]\n",
      " [12 22]\n",
      " [ 4 13]\n",
      " [ 2 13]\n",
      " [ 1 11]], final_state.energy_nodes_mask=[ True  True False  True  True False]\n",
      "step=4 final_state.energy_nodes=[[10 19]\n",
      " [10 21]\n",
      " [12 22]\n",
      " [ 4 13]\n",
      " [ 2 13]\n",
      " [ 1 11]], final_state.energy_nodes_mask=[ True  True False  True  True False]\n",
      "step=5 final_state.energy_nodes=[[10 19]\n",
      " [10 21]\n",
      " [12 22]\n",
      " [ 4 13]\n",
      " [ 2 13]\n",
      " [ 1 11]], final_state.energy_nodes_mask=[ True  True False  True  True False]\n",
      "step=6 final_state.energy_nodes=[[10 19]\n",
      " [10 21]\n",
      " [12 22]\n",
      " [ 4 13]\n",
      " [ 2 13]\n",
      " [ 1 11]], final_state.energy_nodes_mask=[ True  True False  True  True False]\n",
      "step=7 final_state.energy_nodes=[[10 19]\n",
      " [10 21]\n",
      " [12 22]\n",
      " [ 4 13]\n",
      " [ 2 13]\n",
      " [ 1 11]], final_state.energy_nodes_mask=[ True  True False  True  True False]\n",
      "step=8 final_state.energy_nodes=[[10 19]\n",
      " [10 21]\n",
      " [12 22]\n",
      " [ 4 13]\n",
      " [ 2 13]\n",
      " [ 1 11]], final_state.energy_nodes_mask=[ True  True False  True  True False]\n"
     ]
    },
    {
     "name": "stderr",
     "output_type": "stream",
     "text": [
      "step=5 (after update), energy field found=True, node=[ 4 13], candidates=[array([ 4, 13])]\n",
      "--> using energy node at [ 4 13]\n",
      "step=5 (after update), energy field found=True, node=[ 4 13], candidates=[array([ 4, 13])]\n",
      "--> using energy node at [ 4 13]\n",
      "step=5 (after update), energy field found=True, node=[ 4 13], candidates=[array([ 4, 13])]\n",
      "--> using energy node at [ 4 13]\n",
      "step=6 (after update), energy field found=True, node=[ 4 13], candidates=[array([ 4, 13])]\n",
      "--> using energy node at [ 4 13]\n",
      "step=6 (after update), energy field found=True, node=[ 4 13], candidates=[array([ 4, 13])]\n",
      "--> using energy node at [ 4 13]\n",
      "step=6 (after update), energy field found=True, node=[ 4 13], candidates=[array([ 4, 13])]\n",
      "--> using energy node at [ 4 13]\n",
      "step=8, apply nebula drift = -0.15, Counter({-0.15: 2, 0.15: 0, -0.1: -99, -0.05: -99, -0.025: -99, 0.025: -99, 0.05: -99, 0.1: -99})\n",
      "step=7 (after update), energy field found=True, node=[ 4 13], candidates=[array([ 4, 13])]\n",
      "--> using energy node at [ 4 13]\n",
      "step=8, apply nebula drift = -0.15, Counter({-0.15: 2, 0.15: 0, -0.1: -99, -0.05: -99, -0.025: -99, 0.025: -99, 0.05: -99, 0.1: -99})\n",
      "step=7 (after update), energy field found=True, node=[ 4 13], candidates=[array([ 4, 13])]\n",
      "--> using energy node at [ 4 13]\n",
      "step=8, apply nebula drift = -0.15, Counter({-0.15: 2, 0.15: 0, -0.1: -99, -0.05: -99, -0.025: -99, 0.025: -99, 0.05: -99, 0.1: -99})\n",
      "step=7 (after update), energy field found=True, node=[ 4 13], candidates=[array([ 4, 13])]\n",
      "--> using energy node at [ 4 13]\n",
      "step=8 (after update), energy field found=True, node=[ 4 13], candidates=[array([ 4, 13])]\n",
      "--> using energy node at [ 4 13]\n",
      "step=8 (after update), energy field found=True, node=[ 4 13], candidates=[array([ 4, 13])]\n",
      "--> using energy node at [ 4 13]\n",
      "step=8 (after update), energy field found=True, node=[ 4 13], candidates=[array([ 4, 13])]\n",
      "--> using energy node at [ 4 13]\n",
      "step=9 (after update), energy field found=True, node=[ 4 13], candidates=[array([ 4, 13])]\n",
      "--> using energy node at [ 4 13]\n",
      "step=9 (after update), energy field found=True, node=[ 4 13], candidates=[array([ 4, 13])]\n",
      "--> using energy node at [ 4 13]\n",
      "step=9 (after update), energy field found=True, node=[ 4 13], candidates=[array([ 4, 13])]\n",
      "--> using energy node at [ 4 13]\n"
     ]
    },
    {
     "name": "stdout",
     "output_type": "stream",
     "text": [
      "step=9 final_state.energy_nodes=[[10 19]\n",
      " [10 21]\n",
      " [12 22]\n",
      " [ 4 13]\n",
      " [ 2 13]\n",
      " [ 1 11]], final_state.energy_nodes_mask=[ True  True False  True  True False]\n",
      "step=10 final_state.energy_nodes=[[10 19]\n",
      " [10 21]\n",
      " [12 22]\n",
      " [ 4 13]\n",
      " [ 2 13]\n",
      " [ 1 11]], final_state.energy_nodes_mask=[ True  True False  True  True False]\n",
      "step=11 final_state.energy_nodes=[[10 19]\n",
      " [10 21]\n",
      " [12 22]\n",
      " [ 4 13]\n",
      " [ 2 13]\n",
      " [ 1 11]], final_state.energy_nodes_mask=[ True  True False  True  True False]\n",
      "step=12 final_state.energy_nodes=[[10 19]\n",
      " [10 21]\n",
      " [12 22]\n",
      " [ 4 13]\n",
      " [ 2 13]\n",
      " [ 1 11]], final_state.energy_nodes_mask=[ True  True False  True  True False]\n"
     ]
    },
    {
     "name": "stderr",
     "output_type": "stream",
     "text": [
      "step=10 (after update), energy field found=True, node=[ 4 13], candidates=[array([ 4, 13])]\n",
      "--> using energy node at [ 4 13]\n",
      "step=10 (after update), energy field found=True, node=[ 4 13], candidates=[array([ 4, 13])]\n",
      "--> using energy node at [ 4 13]\n",
      "step=10 (after update), energy field found=True, node=[ 4 13], candidates=[array([ 4, 13])]\n",
      "--> using energy node at [ 4 13]\n",
      "step=11 (after update), energy field found=True, node=[ 4 13], candidates=[array([ 4, 13])]\n",
      "--> using energy node at [ 4 13]\n",
      "step=11 (after update), energy field found=True, node=[ 4 13], candidates=[array([ 4, 13])]\n",
      "--> using energy node at [ 4 13]\n",
      "step=11 (after update), energy field found=True, node=[ 4 13], candidates=[array([ 4, 13])]\n",
      "--> using energy node at [ 4 13]\n",
      "step=12 (after update), energy field found=True, node=[ 4 13], candidates=[array([ 4, 13])]\n",
      "--> using energy node at [ 4 13]\n",
      "step=12 (after update), energy field found=True, node=[ 4 13], candidates=[array([ 4, 13])]\n",
      "--> using energy node at [ 4 13]\n",
      "step=12 (after update), energy field found=True, node=[ 4 13], candidates=[array([ 4, 13])]\n",
      "--> using energy node at [ 4 13]\n",
      "step=13 (after update), energy field found=True, node=[ 4 13], candidates=[array([ 4, 13])]\n",
      "--> using energy node at [ 4 13]\n",
      "step=13 (after update), energy field found=True, node=[ 4 13], candidates=[array([ 4, 13])]\n",
      "--> using energy node at [ 4 13]\n",
      "step=13 (after update), energy field found=True, node=[ 4 13], candidates=[array([ 4, 13])]\n",
      "--> using energy node at [ 4 13]\n"
     ]
    },
    {
     "name": "stdout",
     "output_type": "stream",
     "text": [
      "step=13 final_state.energy_nodes=[[10 19]\n",
      " [10 21]\n",
      " [12 22]\n",
      " [ 4 13]\n",
      " [ 2 13]\n",
      " [ 1 11]], final_state.energy_nodes_mask=[ True  True False  True  True False]\n",
      "step=14 final_state.energy_nodes=[[10 19]\n",
      " [10 21]\n",
      " [12 22]\n",
      " [ 4 13]\n",
      " [ 2 13]\n",
      " [ 1 11]], final_state.energy_nodes_mask=[ True  True False  True  True False]\n",
      "step=15 final_state.energy_nodes=[[10 19]\n",
      " [10 21]\n",
      " [12 22]\n",
      " [ 4 13]\n",
      " [ 2 13]\n",
      " [ 1 11]], final_state.energy_nodes_mask=[ True  True False  True  True False]\n",
      "step=16 final_state.energy_nodes=[[10 19]\n",
      " [10 21]\n",
      " [12 22]\n",
      " [ 4 13]\n",
      " [ 2 13]\n",
      " [ 1 11]], final_state.energy_nodes_mask=[ True  True False  True  True False]\n"
     ]
    },
    {
     "name": "stderr",
     "output_type": "stream",
     "text": [
      "step=15, apply nebula drift = -0.15, Counter({-0.15: 3, 0.15: -1, -0.1: -199, -0.05: -199, -0.025: -199, 0.025: -199, 0.05: -199, 0.1: -199})\n",
      "step=14 (after update), energy field found=True, node=[ 4 13], candidates=[array([ 4, 13])]\n",
      "--> using energy node at [ 4 13]\n",
      "step=15, apply nebula drift = -0.15, Counter({-0.15: 3, 0.15: -1, -0.1: -199, -0.05: -199, -0.025: -199, 0.025: -199, 0.05: -199, 0.1: -199})\n",
      "step=14 (after update), energy field found=True, node=[ 4 13], candidates=[array([ 4, 13])]\n",
      "--> using energy node at [ 4 13]\n",
      "step=15, apply nebula drift = -0.15, Counter({-0.15: 3, 0.15: -1, -0.1: -199, -0.05: -199, -0.025: -199, 0.025: -199, 0.05: -199, 0.1: -199})\n",
      "step=14 (after update), energy field found=True, node=[ 4 13], candidates=[array([ 4, 13])]\n",
      "--> using energy node at [ 4 13]\n",
      "step=15 (after update), energy field found=True, node=[ 4 13], candidates=[array([ 4, 13])]\n",
      "--> using energy node at [ 4 13]\n",
      "step=15 (after update), energy field found=True, node=[ 4 13], candidates=[array([ 4, 13])]\n",
      "--> using energy node at [ 4 13]\n",
      "step=15 (after update), energy field found=True, node=[ 4 13], candidates=[array([ 4, 13])]\n",
      "--> using energy node at [ 4 13]\n",
      "step=16 (after update), energy field found=True, node=[ 4 13], candidates=[array([ 4, 13])]\n",
      "--> using energy node at [ 4 13]\n",
      "step=16 (after update), energy field found=True, node=[ 4 13], candidates=[array([ 4, 13])]\n",
      "--> using energy node at [ 4 13]\n",
      "step=16 (after update), energy field found=True, node=[ 4 13], candidates=[array([ 4, 13])]\n",
      "--> using energy node at [ 4 13]\n"
     ]
    },
    {
     "name": "stdout",
     "output_type": "stream",
     "text": [
      "step=17 final_state.energy_nodes=[[10 19]\n",
      " [10 21]\n",
      " [12 22]\n",
      " [ 4 13]\n",
      " [ 2 13]\n",
      " [ 1 11]], final_state.energy_nodes_mask=[ True  True False  True  True False]\n",
      "step=18 final_state.energy_nodes=[[10 19]\n",
      " [10 21]\n",
      " [12 22]\n",
      " [ 4 13]\n",
      " [ 2 13]\n",
      " [ 1 11]], final_state.energy_nodes_mask=[ True  True False  True  True False]\n",
      "step=19 final_state.energy_nodes=[[10 19]\n",
      " [10 21]\n",
      " [12 22]\n",
      " [ 4 13]\n",
      " [ 2 13]\n",
      " [ 1 11]], final_state.energy_nodes_mask=[ True  True False  True  True False]\n"
     ]
    },
    {
     "name": "stderr",
     "output_type": "stream",
     "text": [
      "step=17 (after update), energy field found=True, node=[ 4 13], candidates=[array([ 4, 13])]\n",
      "--> using energy node at [ 4 13]\n",
      "step=17 (after update), energy field found=True, node=[ 4 13], candidates=[array([ 4, 13])]\n",
      "--> using energy node at [ 4 13]\n",
      "step=17 (after update), energy field found=True, node=[ 4 13], candidates=[array([ 4, 13])]\n",
      "--> using energy node at [ 4 13]\n",
      "step=18 (after update), energy field found=True, node=[ 4 13], candidates=[array([ 4, 13])]\n",
      "--> using energy node at [ 4 13]\n",
      "step=18 (after update), energy field found=True, node=[ 4 13], candidates=[array([ 4, 13])]\n",
      "--> using energy node at [ 4 13]\n",
      "step=18 (after update), energy field found=True, node=[ 4 13], candidates=[array([ 4, 13])]\n",
      "--> using energy node at [ 4 13]\n",
      "step=19 (after update), energy field found=True, node=[ 4 13], candidates=[array([ 4, 13])]\n",
      "--> using energy node at [ 4 13]\n",
      "step=19 (after update), energy field found=True, node=[ 4 13], candidates=[array([ 4, 13])]\n",
      "--> using energy node at [ 4 13]\n",
      "step=19 (after update), energy field found=True, node=[ 4 13], candidates=[array([ 4, 13])]\n",
      "--> using energy node at [ 4 13]\n"
     ]
    },
    {
     "name": "stdout",
     "output_type": "stream",
     "text": [
      "step=20 final_state.energy_nodes=[[10 19]\n",
      " [10 21]\n",
      " [12 22]\n",
      " [ 4 13]\n",
      " [ 2 13]\n",
      " [ 1 11]], final_state.energy_nodes_mask=[ True  True False  True  True False]\n",
      "step=21 final_state.energy_nodes=[[10 19]\n",
      " [10 21]\n",
      " [12 22]\n",
      " [ 4 13]\n",
      " [ 2 13]\n",
      " [ 1 11]], final_state.energy_nodes_mask=[ True  True False  True  True False]\n"
     ]
    },
    {
     "name": "stderr",
     "output_type": "stream",
     "text": [
      "step=21, apply nebula drift = -0.15, Counter({-0.15: 4, 0.15: -2, -0.1: -198, -0.05: -198, 0.05: -200, 0.1: -200, -0.025: -299, 0.025: -299})\n",
      "step=20 (after update), energy field found=True, node=[ 4 13], candidates=[array([ 4, 13])]\n",
      "--> using energy node at [ 4 13]\n",
      "step=21, apply nebula drift = -0.15, Counter({-0.15: 4, 0.15: -2, -0.1: -198, -0.05: -198, 0.05: -200, 0.1: -200, -0.025: -299, 0.025: -299})\n",
      "step=20 (after update), energy field found=True, node=[ 4 13], candidates=[array([ 4, 13])]\n",
      "--> using energy node at [ 4 13]\n",
      "step=21, apply nebula drift = -0.15, Counter({-0.15: 4, 0.15: -2, -0.1: -198, -0.05: -198, 0.05: -200, 0.1: -200, -0.025: -299, 0.025: -299})\n",
      "step=20 (after update), energy field found=True, node=[ 4 13], candidates=[array([ 4, 13])]\n",
      "--> using energy node at [ 4 13]\n",
      "step=21 (after update), energy field found=True, node=[ 4 13], candidates=[array([ 4, 13])]\n",
      "--> using energy node at [ 4 13]\n",
      "step=21 (after update), energy field found=True, node=[ 4 13], candidates=[array([ 4, 13])]\n",
      "--> using energy node at [ 4 13]\n",
      "step=21 (after update), energy field found=True, node=[ 4 13], candidates=[array([ 4, 13])]\n",
      "--> using energy node at [ 4 13]\n",
      "step=22 (after update), energy field found=True, node=[ 4 13], candidates=[array([ 4, 13])]\n",
      "--> using energy node at [ 4 13]\n"
     ]
    },
    {
     "name": "stdout",
     "output_type": "stream",
     "text": [
      "step=22 final_state.energy_nodes=[[10 19]\n",
      " [10 21]\n",
      " [12 22]\n",
      " [ 4 13]\n",
      " [ 2 13]\n",
      " [ 1 11]], final_state.energy_nodes_mask=[ True  True False  True  True False]\n",
      "step=23 final_state.energy_nodes=[[10 19]\n",
      " [10 21]\n",
      " [12 22]\n",
      " [ 4 13]\n",
      " [ 2 13]\n",
      " [ 1 11]], final_state.energy_nodes_mask=[ True  True False  True  True False]\n",
      "step=24 final_state.energy_nodes=[[10 19]\n",
      " [10 21]\n",
      " [12 22]\n",
      " [ 4 13]\n",
      " [ 2 13]\n",
      " [ 1 11]], final_state.energy_nodes_mask=[ True  True False  True  True False]\n"
     ]
    },
    {
     "name": "stderr",
     "output_type": "stream",
     "text": [
      "step=22 (after update), energy field found=True, node=[ 4 13], candidates=[array([ 4, 13])]\n",
      "--> using energy node at [ 4 13]\n",
      "step=22 (after update), energy field found=True, node=[ 4 13], candidates=[array([ 4, 13])]\n",
      "--> using energy node at [ 4 13]\n",
      "step=23 (after update), energy field found=True, node=[ 4 13], candidates=[array([ 4, 13])]\n",
      "--> using energy node at [ 4 13]\n",
      "step=23 (after update), energy field found=True, node=[ 4 13], candidates=[array([ 4, 13])]\n",
      "--> using energy node at [ 4 13]\n",
      "step=23 (after update), energy field found=True, node=[ 4 13], candidates=[array([ 4, 13])]\n",
      "--> using energy node at [ 4 13]\n",
      "step=24 (after update), energy field found=True, node=[ 4 13], candidates=[array([ 4, 13])]\n",
      "--> using energy node at [ 4 13]\n",
      "step=24 (after update), energy field found=True, node=[ 4 13], candidates=[array([ 4, 13])]\n",
      "--> using energy node at [ 4 13]\n",
      "step=24 (after update), energy field found=True, node=[ 4 13], candidates=[array([ 4, 13])]\n",
      "--> using energy node at [ 4 13]\n"
     ]
    },
    {
     "name": "stdout",
     "output_type": "stream",
     "text": [
      "step=25 final_state.energy_nodes=[[10 19]\n",
      " [10 21]\n",
      " [12 22]\n",
      " [ 4 13]\n",
      " [ 2 13]\n",
      " [ 1 11]], final_state.energy_nodes_mask=[ True  True False  True  True False]\n",
      "step=26 final_state.energy_nodes=[[10 19]\n",
      " [10 21]\n",
      " [12 22]\n",
      " [ 4 13]\n",
      " [ 2 13]\n",
      " [ 1 11]], final_state.energy_nodes_mask=[ True  True False  True  True False]\n",
      "step=27 final_state.energy_nodes=[[10 19]\n",
      " [10 21]\n",
      " [12 22]\n",
      " [ 4 13]\n",
      " [ 2 13]\n",
      " [ 1 11]], final_state.energy_nodes_mask=[ True  True False  True  True False]\n"
     ]
    },
    {
     "name": "stderr",
     "output_type": "stream",
     "text": [
      "step=25 (after update), energy field found=True, node=[ 4 13], candidates=[array([ 4, 13])]\n",
      "--> using energy node at [ 4 13]\n",
      "step=25 (after update), energy field found=True, node=[ 4 13], candidates=[array([ 4, 13])]\n",
      "--> using energy node at [ 4 13]\n",
      "step=25 (after update), energy field found=True, node=[ 4 13], candidates=[array([ 4, 13])]\n",
      "--> using energy node at [ 4 13]\n",
      "step=26 (after update), energy field found=True, node=[ 4 13], candidates=[array([ 4, 13])]\n",
      "--> using energy node at [ 4 13]\n",
      "step=26 (after update), energy field found=True, node=[ 4 13], candidates=[array([ 4, 13])]\n",
      "--> using energy node at [ 4 13]\n",
      "step=26 (after update), energy field found=True, node=[ 4 13], candidates=[array([ 4, 13])]\n",
      "--> using energy node at [ 4 13]\n",
      "step=28, apply nebula drift = -0.15, Counter({-0.15: 5, 0.15: -3, -0.1: -298, -0.05: -298, 0.05: -300, 0.1: -300, -0.025: -399, 0.025: -399})\n",
      "step=27 (after update), energy field found=True, node=[ 4 13], candidates=[array([ 4, 13])]\n",
      "--> using energy node at [ 4 13]\n",
      "step=28, apply nebula drift = -0.15, Counter({-0.15: 5, 0.15: -3, -0.1: -298, -0.05: -298, 0.05: -300, 0.1: -300, -0.025: -399, 0.025: -399})\n",
      "step=27 (after update), energy field found=True, node=[ 4 13], candidates=[array([ 4, 13])]\n",
      "--> using energy node at [ 4 13]\n",
      "step=28, apply nebula drift = -0.15, Counter({-0.15: 5, 0.15: -3, -0.1: -298, -0.05: -298, 0.05: -300, 0.1: -300, -0.025: -399, 0.025: -399})\n",
      "step=27 (after update), energy field found=True, node=[ 4 13], candidates=[array([ 4, 13])]\n",
      "--> using energy node at [ 4 13]\n"
     ]
    },
    {
     "name": "stdout",
     "output_type": "stream",
     "text": [
      "step=28 final_state.energy_nodes=[[10 19]\n",
      " [10 21]\n",
      " [12 22]\n",
      " [ 4 13]\n",
      " [ 2 13]\n",
      " [ 1 11]], final_state.energy_nodes_mask=[ True  True False  True  True False]\n",
      "step=29 final_state.energy_nodes=[[10 19]\n",
      " [10 21]\n",
      " [12 22]\n",
      " [ 4 13]\n",
      " [ 2 13]\n",
      " [ 1 11]], final_state.energy_nodes_mask=[ True  True False  True  True False]\n"
     ]
    },
    {
     "name": "stderr",
     "output_type": "stream",
     "text": [
      "step=28 (after update), energy field found=True, node=[ 4 13], candidates=[array([ 4, 13])]\n",
      "--> using energy node at [ 4 13]\n",
      "step=28 (after update), energy field found=True, node=[ 4 13], candidates=[array([ 4, 13])]\n",
      "--> using energy node at [ 4 13]\n",
      "step=28 (after update), energy field found=True, node=[ 4 13], candidates=[array([ 4, 13])]\n",
      "--> using energy node at [ 4 13]\n",
      "step=29 (after update), energy field found=True, node=[ 4 13], candidates=[array([ 4, 13])]\n",
      "--> using energy node at [ 4 13]\n",
      "step=29 (after update), energy field found=True, node=[ 4 13], candidates=[array([ 4, 13])]\n",
      "--> using energy node at [ 4 13]\n",
      "step=29 (after update), energy field found=True, node=[ 4 13], candidates=[array([ 4, 13])]\n",
      "--> using energy node at [ 4 13]\n"
     ]
    },
    {
     "name": "stdout",
     "output_type": "stream",
     "text": [
      "step=30 final_state.energy_nodes=[[10 19]\n",
      " [10 21]\n",
      " [12 22]\n",
      " [ 4 13]\n",
      " [ 2 13]\n",
      " [ 1 11]], final_state.energy_nodes_mask=[ True  True False  True  True False]\n",
      "step=31 final_state.energy_nodes=[[10 19]\n",
      " [10 21]\n",
      " [12 22]\n",
      " [ 4 13]\n",
      " [ 2 13]\n",
      " [ 1 11]], final_state.energy_nodes_mask=[ True  True False  True  True False]\n"
     ]
    },
    {
     "name": "stderr",
     "output_type": "stream",
     "text": [
      "step=30 (after update), energy field found=True, node=[ 4 13], candidates=[array([ 4, 13])]\n",
      "--> using energy node at [ 4 13]\n",
      "step=30 (after update), energy field found=True, node=[ 4 13], candidates=[array([ 4, 13])]\n",
      "--> using energy node at [ 4 13]\n",
      "step=30 (after update), energy field found=True, node=[ 4 13], candidates=[array([ 4, 13])]\n",
      "--> using energy node at [ 4 13]\n",
      "step=31 (after update), energy field found=True, node=[ 4 13], candidates=[array([ 4, 13])]\n",
      "--> using energy node at [ 4 13]\n",
      "step=31 (after update), energy field found=True, node=[ 4 13], candidates=[array([ 4, 13])]\n",
      "--> using energy node at [ 4 13]\n",
      "step=31 (after update), energy field found=True, node=[ 4 13], candidates=[array([ 4, 13])]\n",
      "--> using energy node at [ 4 13]\n"
     ]
    },
    {
     "name": "stdout",
     "output_type": "stream",
     "text": [
      "step=32 final_state.energy_nodes=[[10 19]\n",
      " [10 21]\n",
      " [12 22]\n",
      " [ 4 13]\n",
      " [ 2 13]\n",
      " [ 1 11]], final_state.energy_nodes_mask=[ True  True False  True  True False]\n",
      "step=33 final_state.energy_nodes=[[10 19]\n",
      " [10 21]\n",
      " [12 22]\n",
      " [ 4 13]\n",
      " [ 2 13]\n",
      " [ 1 11]], final_state.energy_nodes_mask=[ True  True False  True  True False]\n"
     ]
    },
    {
     "name": "stderr",
     "output_type": "stream",
     "text": [
      "step=32 (after update), energy field found=True, node=[ 4 13], candidates=[array([ 4, 13])]\n",
      "--> using energy node at [ 4 13]\n",
      "step=32 (after update), energy field found=True, node=[ 4 13], candidates=[array([ 4, 13])]\n",
      "--> using energy node at [ 4 13]\n",
      "step=32 (after update), energy field found=True, node=[ 4 13], candidates=[array([ 4, 13])]\n",
      "--> using energy node at [ 4 13]\n",
      "step=33 (after update), energy field found=True, node=[ 4 13], candidates=[array([ 4, 13])]\n",
      "--> using energy node at [ 4 13]\n",
      "step=33 (after update), energy field found=True, node=[ 4 13], candidates=[array([ 4, 13])]\n",
      "--> using energy node at [ 4 13]\n",
      "step=33 (after update), energy field found=True, node=[ 4 13], candidates=[array([ 4, 13])]\n",
      "--> using energy node at [ 4 13]\n"
     ]
    },
    {
     "name": "stdout",
     "output_type": "stream",
     "text": [
      "step=34 final_state.energy_nodes=[[10 19]\n",
      " [10 21]\n",
      " [12 22]\n",
      " [ 4 13]\n",
      " [ 2 13]\n",
      " [ 1 11]], final_state.energy_nodes_mask=[ True  True False  True  True False]\n",
      "step=35 final_state.energy_nodes=[[10 19]\n",
      " [10 21]\n",
      " [12 22]\n",
      " [ 4 13]\n",
      " [ 2 13]\n",
      " [ 1 11]], final_state.energy_nodes_mask=[ True  True False  True  True False]\n"
     ]
    },
    {
     "name": "stderr",
     "output_type": "stream",
     "text": [
      "step=35, apply nebula drift = -0.15, Counter({-0.15: 6, 0.15: -4, -0.1: -398, -0.05: -398, 0.05: -400, 0.1: -400, -0.025: -499, 0.025: -499})\n",
      "step=34 (after update), energy field found=True, node=[ 4 13], candidates=[array([ 4, 13])]\n",
      "--> using energy node at [ 4 13]\n",
      "step=35, apply nebula drift = -0.15, Counter({-0.15: 6, 0.15: -4, -0.1: -398, -0.05: -398, 0.05: -400, 0.1: -400, -0.025: -499, 0.025: -499})\n",
      "step=34 (after update), energy field found=True, node=[ 4 13], candidates=[array([ 4, 13])]\n",
      "--> using energy node at [ 4 13]\n",
      "step=35, apply nebula drift = -0.15, Counter({-0.15: 6, 0.15: -4, -0.1: -398, -0.05: -398, 0.05: -400, 0.1: -400, -0.025: -499, 0.025: -499})\n",
      "step=34 (after update), energy field found=True, node=[ 4 13], candidates=[array([ 4, 13])]\n",
      "--> using energy node at [ 4 13]\n",
      "step=35 (after update), energy field found=True, node=[ 4 13], candidates=[array([ 4, 13])]\n",
      "--> using energy node at [ 4 13]\n",
      "step=35 (after update), energy field found=True, node=[ 4 13], candidates=[array([ 4, 13])]\n",
      "--> using energy node at [ 4 13]\n",
      "step=35 (after update), energy field found=True, node=[ 4 13], candidates=[array([ 4, 13])]\n",
      "--> using energy node at [ 4 13]\n"
     ]
    },
    {
     "name": "stdout",
     "output_type": "stream",
     "text": [
      "step=36 final_state.energy_nodes=[[10 19]\n",
      " [10 21]\n",
      " [12 22]\n",
      " [ 4 13]\n",
      " [ 2 13]\n",
      " [ 1 11]], final_state.energy_nodes_mask=[ True  True False  True  True False]\n",
      "step=37 final_state.energy_nodes=[[10 19]\n",
      " [10 21]\n",
      " [12 22]\n",
      " [ 4 13]\n",
      " [ 2 13]\n",
      " [ 1 11]], final_state.energy_nodes_mask=[ True  True False  True  True False]\n"
     ]
    },
    {
     "name": "stderr",
     "output_type": "stream",
     "text": [
      "step=36 (after update), energy field found=True, node=[ 4 13], candidates=[array([ 4, 13])]\n",
      "--> using energy node at [ 4 13]\n",
      "step=36 (after update), energy field found=True, node=[ 4 13], candidates=[array([ 4, 13])]\n",
      "--> using energy node at [ 4 13]\n",
      "step=36 (after update), energy field found=True, node=[ 4 13], candidates=[array([ 4, 13])]\n",
      "--> using energy node at [ 4 13]\n",
      "step=37 (after update), energy field found=True, node=[ 4 13], candidates=[array([ 4, 13])]\n",
      "--> using energy node at [ 4 13]\n",
      "step=37 (after update), energy field found=True, node=[ 4 13], candidates=[array([ 4, 13])]\n",
      "--> using energy node at [ 4 13]\n",
      "step=37 (after update), energy field found=True, node=[ 4 13], candidates=[array([ 4, 13])]\n",
      "--> using energy node at [ 4 13]\n"
     ]
    },
    {
     "name": "stdout",
     "output_type": "stream",
     "text": [
      "step=38 final_state.energy_nodes=[[10 19]\n",
      " [10 21]\n",
      " [12 22]\n",
      " [ 4 13]\n",
      " [ 2 13]\n",
      " [ 1 11]], final_state.energy_nodes_mask=[ True  True False  True  True False]\n",
      "step=39 final_state.energy_nodes=[[10 19]\n",
      " [10 21]\n",
      " [12 22]\n",
      " [ 4 13]\n",
      " [ 2 13]\n",
      " [ 1 11]], final_state.energy_nodes_mask=[ True  True False  True  True False]\n"
     ]
    },
    {
     "name": "stderr",
     "output_type": "stream",
     "text": [
      "step=38 (after update), energy field found=True, node=[ 4 13], candidates=[array([ 4, 13])]\n",
      "--> using energy node at [ 4 13]\n",
      "step=38 (after update), energy field found=True, node=[ 4 13], candidates=[array([ 4, 13])]\n",
      "--> using energy node at [ 4 13]\n",
      "step=38 (after update), energy field found=True, node=[ 4 13], candidates=[array([ 4, 13])]\n",
      "--> using energy node at [ 4 13]\n",
      "step=39 (after update), energy field found=True, node=[ 4 13], candidates=[array([ 4, 13])]\n",
      "--> using energy node at [ 4 13]\n",
      "step=39 (after update), energy field found=True, node=[ 4 13], candidates=[array([ 4, 13])]\n",
      "--> using energy node at [ 4 13]\n",
      "step=39 (after update), energy field found=True, node=[ 4 13], candidates=[array([ 4, 13])]\n",
      "--> using energy node at [ 4 13]\n"
     ]
    },
    {
     "name": "stdout",
     "output_type": "stream",
     "text": [
      "step=40 final_state.energy_nodes=[[10 19]\n",
      " [10 21]\n",
      " [12 22]\n",
      " [ 4 13]\n",
      " [ 2 13]\n",
      " [ 1 11]], final_state.energy_nodes_mask=[ True  True False  True  True False]\n",
      "step=41 final_state.energy_nodes=[[10 19]\n",
      " [10 21]\n",
      " [12 22]\n",
      " [ 4 13]\n",
      " [ 2 13]\n",
      " [ 1 11]], final_state.energy_nodes_mask=[ True  True False  True  True False]\n",
      "step=42 final_state.energy_nodes=[[10 19]\n",
      " [10 21]\n",
      " [12 22]\n",
      " [ 4 13]\n",
      " [ 2 13]\n",
      " [ 1 11]], final_state.energy_nodes_mask=[ True  True False  True  True False]\n"
     ]
    },
    {
     "name": "stderr",
     "output_type": "stream",
     "text": [
      "step=41, apply nebula drift = -0.15, Counter({-0.15: 7, 0.15: -5, -0.1: -397, -0.05: -397, 0.05: -401, 0.1: -401, -0.025: -498, 0.025: -500})\n",
      "step=40 (after update), energy field found=True, node=[ 4 13], candidates=[array([ 4, 13])]\n",
      "--> using energy node at [ 4 13]\n",
      "step=41, apply nebula drift = -0.15, Counter({-0.15: 7, 0.15: -5, -0.1: -397, -0.05: -397, 0.05: -401, 0.1: -401, -0.025: -498, 0.025: -500})\n",
      "step=40 (after update), energy field found=True, node=[ 4 13], candidates=[array([ 4, 13])]\n",
      "--> using energy node at [ 4 13]\n",
      "step=41, apply nebula drift = -0.15, Counter({-0.15: 7, 0.15: -5, -0.1: -397, -0.05: -397, 0.05: -401, 0.1: -401, -0.025: -498, 0.025: -500})\n",
      "step=40 (after update), energy field found=True, node=[ 4 13], candidates=[array([ 4, 13])]\n",
      "--> using energy node at [ 4 13]\n",
      "step=41 (after update), energy field found=True, node=[ 4 13], candidates=[array([ 4, 13])]\n",
      "--> using energy node at [ 4 13]\n",
      "step=41 (after update), energy field found=True, node=[ 4 13], candidates=[array([ 4, 13])]\n",
      "--> using energy node at [ 4 13]\n",
      "step=41 (after update), energy field found=True, node=[ 4 13], candidates=[array([ 4, 13])]\n",
      "--> using energy node at [ 4 13]\n"
     ]
    },
    {
     "name": "stdout",
     "output_type": "stream",
     "text": [
      "step=43 final_state.energy_nodes=[[10 19]\n",
      " [10 21]\n",
      " [12 22]\n",
      " [ 4 13]\n",
      " [ 2 13]\n",
      " [ 1 11]], final_state.energy_nodes_mask=[ True  True False  True  True False]\n",
      "step=44 final_state.energy_nodes=[[10 19]\n",
      " [10 21]\n",
      " [12 22]\n",
      " [ 4 13]\n",
      " [ 2 13]\n",
      " [ 1 11]], final_state.energy_nodes_mask=[ True  True False  True  True False]\n"
     ]
    },
    {
     "name": "stderr",
     "output_type": "stream",
     "text": [
      "step=42 (after update), energy field found=True, node=[ 4 13], candidates=[array([ 4, 13])]\n",
      "--> using energy node at [ 4 13]\n",
      "step=42 (after update), energy field found=True, node=[ 4 13], candidates=[array([ 4, 13])]\n",
      "--> using energy node at [ 4 13]\n",
      "step=42 (after update), energy field found=True, node=[ 4 13], candidates=[array([ 4, 13])]\n",
      "--> using energy node at [ 4 13]\n",
      "step=43 (after update), energy field found=True, node=[ 4 13], candidates=[array([ 4, 13])]\n",
      "--> using energy node at [ 4 13]\n",
      "step=43 (after update), energy field found=True, node=[ 4 13], candidates=[array([ 4, 13])]\n",
      "--> using energy node at [ 4 13]\n",
      "step=43 (after update), energy field found=True, node=[ 4 13], candidates=[array([ 4, 13])]\n",
      "--> using energy node at [ 4 13]\n"
     ]
    },
    {
     "name": "stdout",
     "output_type": "stream",
     "text": [
      "step=45 final_state.energy_nodes=[[10 19]\n",
      " [10 21]\n",
      " [12 22]\n",
      " [ 4 13]\n",
      " [ 2 13]\n",
      " [ 1 11]], final_state.energy_nodes_mask=[ True  True False  True  True False]\n",
      "step=46 final_state.energy_nodes=[[10 19]\n",
      " [10 21]\n",
      " [12 22]\n",
      " [ 4 13]\n",
      " [ 2 13]\n",
      " [ 1 11]], final_state.energy_nodes_mask=[ True  True False  True  True False]\n"
     ]
    },
    {
     "name": "stderr",
     "output_type": "stream",
     "text": [
      "step=44 (after update), energy field found=True, node=[ 4 13], candidates=[array([ 4, 13])]\n",
      "--> using energy node at [ 4 13]\n",
      "step=44 (after update), energy field found=True, node=[ 4 13], candidates=[array([ 4, 13])]\n",
      "--> using energy node at [ 4 13]\n",
      "step=44 (after update), energy field found=True, node=[ 4 13], candidates=[array([ 4, 13])]\n",
      "--> using energy node at [ 4 13]\n",
      "step=45 (after update), energy field found=True, node=[ 4 13], candidates=[array([ 4, 13])]\n",
      "--> using energy node at [ 4 13]\n",
      "step=45 (after update), energy field found=True, node=[ 4 13], candidates=[array([ 4, 13])]\n",
      "--> using energy node at [ 4 13]\n",
      "step=45 (after update), energy field found=True, node=[ 4 13], candidates=[array([ 4, 13])]\n",
      "--> using energy node at [ 4 13]\n"
     ]
    },
    {
     "name": "stdout",
     "output_type": "stream",
     "text": [
      "step=47 final_state.energy_nodes=[[10 19]\n",
      " [10 21]\n",
      " [12 22]\n",
      " [ 4 13]\n",
      " [ 2 13]\n",
      " [ 1 11]], final_state.energy_nodes_mask=[ True  True False  True  True False]\n",
      "step=48 final_state.energy_nodes=[[10 19]\n",
      " [10 21]\n",
      " [12 22]\n",
      " [ 4 13]\n",
      " [ 2 13]\n",
      " [ 1 11]], final_state.energy_nodes_mask=[ True  True False  True  True False]\n"
     ]
    },
    {
     "name": "stderr",
     "output_type": "stream",
     "text": [
      "step=46 (after update), energy field found=True, node=[ 4 13], candidates=[array([ 4, 13])]\n",
      "--> using energy node at [ 4 13]\n",
      "step=46 (after update), energy field found=True, node=[ 4 13], candidates=[array([ 4, 13])]\n",
      "--> using energy node at [ 4 13]\n",
      "step=46 (after update), energy field found=True, node=[ 4 13], candidates=[array([ 4, 13])]\n",
      "--> using energy node at [ 4 13]\n",
      "step=48, apply nebula drift = -0.15, Counter({-0.15: 8, 0.15: -6, -0.1: -497, -0.05: -497, 0.05: -501, 0.1: -501, -0.025: -598, 0.025: -600})\n",
      "step=47 (after update), energy field found=True, node=[ 4 13], candidates=[array([ 4, 13])]\n",
      "--> using energy node at [ 4 13]\n",
      "step=48, apply nebula drift = -0.15, Counter({-0.15: 8, 0.15: -6, -0.1: -497, -0.05: -497, 0.05: -501, 0.1: -501, -0.025: -598, 0.025: -600})\n",
      "step=47 (after update), energy field found=True, node=[ 4 13], candidates=[array([ 4, 13])]\n",
      "--> using energy node at [ 4 13]\n",
      "step=48, apply nebula drift = -0.15, Counter({-0.15: 8, 0.15: -6, -0.1: -497, -0.05: -497, 0.05: -501, 0.1: -501, -0.025: -598, 0.025: -600})\n",
      "step=47 (after update), energy field found=True, node=[ 4 13], candidates=[array([ 4, 13])]\n",
      "--> using energy node at [ 4 13]\n"
     ]
    },
    {
     "name": "stdout",
     "output_type": "stream",
     "text": [
      "step=49 final_state.energy_nodes=[[10 19]\n",
      " [10 21]\n",
      " [12 22]\n",
      " [ 4 13]\n",
      " [ 2 13]\n",
      " [ 1 11]], final_state.energy_nodes_mask=[ True  True False  True  True False]\n",
      "step=50 final_state.energy_nodes=[[10 19]\n",
      " [10 21]\n",
      " [12 22]\n",
      " [ 4 13]\n",
      " [ 2 13]\n",
      " [ 1 11]], final_state.energy_nodes_mask=[ True  True False  True  True False]\n"
     ]
    },
    {
     "name": "stderr",
     "output_type": "stream",
     "text": [
      "step=48 (after update), energy field found=True, node=[ 4 13], candidates=[array([ 4, 13])]\n",
      "--> using energy node at [ 4 13]\n",
      "step=48 (after update), energy field found=True, node=[ 4 13], candidates=[array([ 4, 13])]\n",
      "--> using energy node at [ 4 13]\n",
      "step=48 (after update), energy field found=True, node=[ 4 13], candidates=[array([ 4, 13])]\n",
      "--> using energy node at [ 4 13]\n",
      "step=49 (after update), energy field found=True, node=[ 4 13], candidates=[array([ 4, 13])]\n",
      "--> using energy node at [ 4 13]\n",
      "step=49 (after update), energy field found=True, node=[ 4 13], candidates=[array([ 4, 13])]\n",
      "--> using energy node at [ 4 13]\n",
      "step=49 (after update), energy field found=True, node=[ 4 13], candidates=[array([ 4, 13])]\n",
      "--> using energy node at [ 4 13]\n"
     ]
    },
    {
     "name": "stdout",
     "output_type": "stream",
     "text": [
      "step=51 final_state.energy_nodes=[[10 19]\n",
      " [10 21]\n",
      " [12 22]\n",
      " [ 4 13]\n",
      " [ 2 13]\n",
      " [ 1 11]], final_state.energy_nodes_mask=[ True  True False  True  True False]\n",
      "step=52 final_state.energy_nodes=[[10 19]\n",
      " [10 21]\n",
      " [12 22]\n",
      " [ 4 13]\n",
      " [ 2 13]\n",
      " [ 1 11]], final_state.energy_nodes_mask=[ True  True False  True  True False]\n"
     ]
    },
    {
     "name": "stderr",
     "output_type": "stream",
     "text": [
      "step=50 (after update), energy field found=True, node=[ 4 13], candidates=[array([ 4, 13])]\n",
      "--> using energy node at [ 4 13]\n",
      "step=50 (after update), energy field found=True, node=[ 4 13], candidates=[array([ 4, 13])]\n",
      "--> using energy node at [ 4 13]\n",
      "step=50 (after update), energy field found=True, node=[ 4 13], candidates=[array([ 4, 13])]\n",
      "--> using energy node at [ 4 13]\n",
      "step=51 (after update), energy field found=True, node=[ 4 13], candidates=[array([ 4, 13])]\n",
      "--> using energy node at [ 4 13]\n",
      "step=51 (after update), energy field found=True, node=[ 4 13], candidates=[array([ 4, 13])]\n",
      "--> using energy node at [ 4 13]\n",
      "step=51 (after update), energy field found=True, node=[ 4 13], candidates=[array([ 4, 13])]\n",
      "--> using energy node at [ 4 13]\n"
     ]
    },
    {
     "name": "stdout",
     "output_type": "stream",
     "text": [
      "step=53 final_state.energy_nodes=[[10 19]\n",
      " [10 21]\n",
      " [12 22]\n",
      " [ 4 13]\n",
      " [ 2 13]\n",
      " [ 1 11]], final_state.energy_nodes_mask=[ True  True False  True  True False]\n"
     ]
    },
    {
     "name": "stderr",
     "output_type": "stream",
     "text": [
      "step=52 (after update), energy field found=True, node=[ 4 13], candidates=[array([ 4, 13])]\n",
      "--> using energy node at [ 4 13]\n",
      "step=52 (after update), energy field found=True, node=[ 4 13], candidates=[array([ 4, 13])]\n",
      "--> using energy node at [ 4 13]\n"
     ]
    }
   ],
   "source": [
    "for i in range(53):\n",
    "    action0 = env.agent_action_do_model_action(act(a0, env.mms[0].past_obs[0]), env.mms[0])\n",
    "    action1 = env.agent_action_do_model_action(act(a1, env.mms[1].past_obs[0]), env.mms[1])\n",
    "    player_actions = [{UNITS_ACTION: action0}, {UNITS_ACTION: action1}]\n",
    "    obs, reward, done, info = env.step(player_actions)"
   ]
  },
  {
   "cell_type": "code",
   "execution_count": 18,
   "id": "4ea0eb0e-e2e9-495a-9c8c-546013568a6d",
   "metadata": {},
   "outputs": [
    {
     "name": "stdout",
     "output_type": "stream",
     "text": [
      "53.0 53.0\n",
      "number of units: 16\n"
     ]
    },
    {
     "data": {
      "image/png": "[encoded data removed]",
      "text/plain": [
       "<Figure size 1000x1000 with 12 Axes>"
      ]
     },
     "metadata": {},
     "output_type": "display_data"
    }
   ],
   "source": [
    "PLAYER_ID = 0\n",
    "ob = obs[PLAYER_ID]\n",
    "print(ob['game_step'][0][0][0] * 505, ob['match_step'][0][0][0] * 100)\n",
    "\n",
    "units_loc = ob['units_loc_t0']\n",
    "units_energy = ob['units_energy_t0']\n",
    "enemy_loc = ob['enemy_loc_t0']\n",
    "\n",
    "nu = env.mms[PLAYER_ID].past_obs[0]['units_mask'][0].sum()\n",
    "print(f'number of units: {nu}')\n",
    "\n",
    "plot_imgs([('cell_energy', ob['_a_cell_energy']), ('cell types', ob['_a_cell_type']), ('team_point_prob', ob['_a_team_point_prob']),\n",
    "           ('_b_cell_energy', ob['_b_cell_energy']), ('_b_cell_type', ob['_b_cell_type']), ('_b_team_point_prob', ob['_b_team_point_prob']),    \n",
    "            ('is_relic_node', ob['_a_is_relic_node']), ('_b_is_relic_node', ob['_b_is_relic_node']),  \n",
    "           ('units_loc', units_loc > 0),  ('_a_is_relic_neighbour', ob['_a_is_relic_neighbour']), ('enemy_loc', enemy_loc > 0) \n",
    "           ])"
   ]
  },
  {
   "cell_type": "code",
   "execution_count": null,
   "id": "21473218-adce-4412-9dcd-4c0ee135e9a2",
   "metadata": {},
   "outputs": [],
   "source": []
  },
  {
   "cell_type": "code",
   "execution_count": null,
   "id": "dbe492d2-da47-4279-9bb6-03068e3ec952",
   "metadata": {},
   "outputs": [],
   "source": []
  },
  {
   "cell_type": "markdown",
   "id": "17f7e84c-762e-4ce0-9c3a-4a1a6c70145b",
   "metadata": {
    "jp-MarkdownHeadingCollapsed": true
   },
   "source": [
    "# Enemey side"
   ]
  },
  {
   "cell_type": "code",
   "execution_count": 12,
   "id": "23848766-4dab-4327-a744-038a133d72cc",
   "metadata": {},
   "outputs": [
    {
     "ename": "NameError",
     "evalue": "name 'manhatten_distance' is not defined",
     "output_type": "error",
     "traceback": [
      "\u001b[0;31m---------------------------------------------------------------------------\u001b[0m",
      "\u001b[0;31mNameError\u001b[0m                                 Traceback (most recent call last)",
      "Cell \u001b[0;32mIn[12], line 15\u001b[0m\n\u001b[1;32m     10\u001b[0m   mdist \u001b[38;5;241m=\u001b[39m manhatten_distance(target_pos, cpos)\n\u001b[1;32m     11\u001b[0m   \u001b[38;5;28;01mreturn\u001b[39;00m mdist \u001b[38;5;241m>\u001b[39m MAP_WIDTH\n\u001b[0;32m---> 15\u001b[0m \u001b[43mon_enemy_side\u001b[49m\u001b[43m(\u001b[49m\u001b[43m(\u001b[49m\u001b[38;5;241;43m20\u001b[39;49m\u001b[43m,\u001b[49m\u001b[43m \u001b[49m\u001b[38;5;241;43m3\u001b[39;49m\u001b[43m)\u001b[49m\u001b[43m,\u001b[49m\u001b[43m \u001b[49m\u001b[38;5;241;43m0\u001b[39;49m\u001b[43m)\u001b[49m, on_enemy_side((\u001b[38;5;241m20\u001b[39m, \u001b[38;5;241m3\u001b[39m), \u001b[38;5;241m1\u001b[39m)\n",
      "Cell \u001b[0;32mIn[12], line 10\u001b[0m, in \u001b[0;36mon_enemy_side\u001b[0;34m(cpos, player_id)\u001b[0m\n\u001b[1;32m      8\u001b[0m \u001b[38;5;28;01mdef\u001b[39;00m \u001b[38;5;21mon_enemy_side\u001b[39m(cpos, player_id):\n\u001b[1;32m      9\u001b[0m   target_pos \u001b[38;5;241m=\u001b[39m get_player_init_pos(player_id)\n\u001b[0;32m---> 10\u001b[0m   mdist \u001b[38;5;241m=\u001b[39m \u001b[43mmanhatten_distance\u001b[49m(target_pos, cpos)\n\u001b[1;32m     11\u001b[0m   \u001b[38;5;28;01mreturn\u001b[39;00m mdist \u001b[38;5;241m>\u001b[39m MAP_WIDTH\n",
      "\u001b[0;31mNameError\u001b[0m: name 'manhatten_distance' is not defined"
     ]
    }
   ],
   "source": [
    "def get_player_init_pos(player_id):\n",
    "  target_pos = (0, 0)\n",
    "  if player_id == 1:\n",
    "    target_pos = (23, 23)\n",
    "  return target_pos\n",
    "\n",
    "\n",
    "def on_enemy_side(cpos, player_id):\n",
    "  target_pos = get_player_init_pos(player_id)\n",
    "  mdist = manhatten_distance(target_pos, cpos)\n",
    "  return mdist > MAP_WIDTH\n",
    "\n",
    "\n",
    "\n",
    "on_enemy_side((20, 3), 0), on_enemy_side((20, 3), 1)"
   ]
  },
  {
   "cell_type": "markdown",
   "id": "e0e64a6d-2085-4a4b-a7cf-1de457548d16",
   "metadata": {
    "jp-MarkdownHeadingCollapsed": true
   },
   "source": [
    "# Debug enery field"
   ]
  },
  {
   "cell_type": "code",
   "execution_count": null,
   "id": "e64bc132-5e83-4798-8cf3-39a798de29d1",
   "metadata": {},
   "outputs": [],
   "source": [
    "sensor_mask = env.raw_obs['player_1']['sensor_mask']\n",
    "map_energy = env.raw_obs['player_1']['map_features']['energy']\n",
    "filtered_energy_field = map_energy[sensor_mask]\n",
    "fig, axes = plt.subplots(1, 2, figsize=(15, 5)) \n",
    "\n",
    "axes[0].imshow(map_energy.T)\n",
    "axes[1].imshow(sensor_mask.T)\n",
    "filtered_energy_field"
   ]
  },
  {
   "cell_type": "code",
   "execution_count": null,
   "id": "353d0fa6-3981-416d-93d6-bbad78f7df9b",
   "metadata": {},
   "outputs": [],
   "source": [
    "m, f = env.mms[1].energy_node_estimator.is_energy_filed_match((1, 15), filtered_energy_field, sensor_mask)\n",
    "f = np.asarray(f).copy()\n",
    "f[~sensor_mask] = -1\n",
    "plt.imshow(f.T)\n",
    "m"
   ]
  },
  {
   "cell_type": "code",
   "execution_count": null,
   "id": "61908eb7-fc6a-41ef-abae-a310d70f928b",
   "metadata": {},
   "outputs": [],
   "source": [
    "f[sensor_mask]"
   ]
  },
  {
   "cell_type": "code",
   "execution_count": null,
   "id": "e73a5fd0-3c4e-4bbf-bfad-1946012fc25d",
   "metadata": {},
   "outputs": [],
   "source": [
    "m, f = env.mms[1].energy_node_estimator.is_energy_filed_match((4, 15), filtered_energy_field, sensor_mask)\n",
    "f = np.asarray(f).copy()\n",
    "f[~sensor_mask] = -1\n",
    "plt.imshow(f.T)\n",
    "m"
   ]
  },
  {
   "cell_type": "code",
   "execution_count": null,
   "id": "f66de345-e058-4862-9531-ed2a6ef9b033",
   "metadata": {},
   "outputs": [],
   "source": [
    "f[sensor_mask]"
   ]
  },
  {
   "cell_type": "code",
   "execution_count": null,
   "id": "3a22b895-8835-488f-9a39-a5d47317cdeb",
   "metadata": {},
   "outputs": [],
   "source": []
  },
  {
   "cell_type": "code",
   "execution_count": null,
   "id": "011a11cb-ab61-4768-a470-b5716e44d9cf",
   "metadata": {},
   "outputs": [],
   "source": []
  },
  {
   "cell_type": "code",
   "execution_count": null,
   "id": "66cdb445-8c44-470a-a997-4d4c610222b0",
   "metadata": {},
   "outputs": [],
   "source": []
  },
  {
   "cell_type": "code",
   "execution_count": null,
   "id": "37a8c1f6-f0dc-4a8b-88ef-0fa12a907775",
   "metadata": {},
   "outputs": [],
   "source": []
  },
  {
   "cell_type": "code",
   "execution_count": null,
   "id": "a0de994e-a124-4252-a2b1-61e66ab4511e",
   "metadata": {},
   "outputs": [],
   "source": []
  },
  {
   "cell_type": "code",
   "execution_count": null,
   "id": "dacc0297-53fa-41ee-bf6e-cea4e46c92da",
   "metadata": {},
   "outputs": [],
   "source": []
  },
  {
   "cell_type": "markdown",
   "id": "94a9292a-9d2e-4d25-8329-3fc773b1c2fc",
   "metadata": {},
   "source": [
    "# Debug score assigment"
   ]
  },
  {
   "cell_type": "code",
   "execution_count": null,
   "id": "41f6044b-a15a-4eca-ab93-a254d2638fd8",
   "metadata": {},
   "outputs": [],
   "source": [
    "from ecobangbang.agent import *"
   ]
  },
  {
   "cell_type": "code",
   "execution_count": null,
   "id": "b36c59d8-de78-469c-a1c4-b8e3e808e906",
   "metadata": {},
   "outputs": [],
   "source": [
    "SUBMIT_AGENT = False"
   ]
  },
  {
   "cell_type": "code",
   "execution_count": null,
   "id": "085bfb5d-dc76-43d7-817f-e16216c3ce95",
   "metadata": {},
   "outputs": [],
   "source": [
    "self = a0"
   ]
  },
  {
   "cell_type": "code",
   "execution_count": null,
   "id": "de04fa76-4b1a-4e76-80cb-3ba396bef913",
   "metadata": {},
   "outputs": [],
   "source": [
    "mm = self.mm\n",
    "is_explore_step = (mm.match_step <= 50 and mm.game_step < 303)\n",
    "\n",
    "match_observed = mm.match_observed + anti_diag_sym(mm.match_observed)\n",
    "energy_threshold = 60 + mm.match_step\n",
    "\n",
    "# TODO: test drop it\n",
    "if mm.match_step >= 70:\n",
    "  energy_threshold = 60\n",
    "\n",
    "has_found_relic = mm.has_found_relic_in_match()\n",
    "n = (MAP_WIDTH * MAP_HEIGHT)\n",
    "n_explore = n - match_observed.sum()\n",
    "expore_score = n * EXPLORE_CELL_SCORE / (n_explore + 1)\n",
    "print(\n",
    "    f' +++ step={mm.game_step} to-exp-cell-num={n_explore} exp_score={expore_score} has_found_relic={has_found_relic}, last_match_found_relic={mm.last_match_found_relic}',\n",
    "    file=sys.stderr)\n",
    "\n",
    "def get_explore_weight(upos, energy, cpos):\n",
    "  if mm.game_step >= (3 * MAX_MATCH_STEPS):\n",
    "    return 0\n",
    "\n",
    "  if not mm.last_match_found_relic:\n",
    "    return 0\n",
    "\n",
    "  if has_found_relic:\n",
    "    return 0\n",
    "\n",
    "  if match_observed[cpos[0]][cpos[1]]:\n",
    "    return 0\n",
    "\n",
    "  return min(expore_score, MAX_EXPLORE_SCORE)\n",
    "\n",
    "energy_map = mm.cell_energy.copy()\n",
    "energy_map[mm.cell_energy != CELL_UNKONWN] -= mm.unit_move_cost\n",
    "energy_map[mm.cell_type == CELL_NEBULA] -= mm.nebula_energy_reduction\n",
    "if not SUBMIT_AGENT:\n",
    "  print(\n",
    "      f'>>>>>>>>>>>>>>> nebula_energy_reduction={mm.nebula_energy_reduction}',\n",
    "      file=sys.stderr)\n",
    "\n",
    "fire_zone = self.gen_fire_zone()\n",
    "\n",
    "player_init_pos = get_player_init_pos(mm.player_id)\n",
    "d1 = generate_manhattan_dist(MAP_SHAPE2,\n",
    "                             player_init_pos).astype(np.float32)\n",
    "# d1[d1 > MAP_WIDTH] = MAP_WIDTH\n",
    "d1 /= MAP_WIDTH\n",
    "\n",
    "def get_fuel_energy(upos, energy, cpos):\n",
    "  e = fuel = energy_map[cpos[0]][cpos[1]]\n",
    "  fuel = right_tailed_exp(energy, fuel, energy_threshold)\n",
    "\n",
    "  # Boost more net energy position without energy thresholding\n",
    "  if e > 0 and fire_zone[cpos[0]][cpos[1]]:\n",
    "    fuel += (e * d1[cpos[0]][cpos[1]])\n",
    "\n",
    "  return fuel\n",
    "\n",
    "enemy_sap_cost = self.get_enemy_sap_cost_map()\n",
    "self.enemy_sap_cost = enemy_sap_cost\n",
    "\n",
    "def get_open_relic_nb(upos, energy, cpos):\n",
    "  \"\"\"First visit on relic neighbour\"\"\"\n",
    "  if not mm.is_relic_neighbour[cpos[0]][cpos[1]]:\n",
    "    return 0\n",
    "\n",
    "  # if not mm.match_visited[cpos[0]][cpos[1]]:\n",
    "  # return RELIC_NB_SCORE\n",
    "\n",
    "  p = mm.team_point_mass[cpos[0]][cpos[1]]\n",
    "  if p < MIN_OPEN_RELIC_NB_PROB:\n",
    "    return 0\n",
    "\n",
    "  v = RELIC_NB_SCORE\n",
    "  # Lower relic nb on enemy side\n",
    "  if on_enemy_side(cpos, mm.player_id):\n",
    "    # v = mm.unit_sap_cost / 10 * p\n",
    "    v = mm.unit_sap_cost / 10\n",
    "\n",
    "  # If enemy may sap it, lower its weight\n",
    "  if enemy_sap_cost[cpos[0]][cpos[1]] > 0:\n",
    "    v = mm.unit_sap_cost / 10 * 0.5\n",
    "\n",
    "  last_visited_step = mm.last_visited_step[cpos[0]][cpos[1]]\n",
    "  t = mm.game_step - last_visited_step\n",
    "  alpha = np.log(t + 1) / LOG3\n",
    "  w = min(alpha, 1) * v\n",
    "\n",
    "  # cpos_nb_mask = gen_sap_range(cpos, self.mm.unit_sap_range)\n",
    "  # if (mm.enemy_max_energy[cpos_nb_mask] > energy).sum() > 0:\n",
    "  # w = -1\n",
    "  return w\n",
    "\n",
    "init_pos = get_player_init_pos(mm.enemy_id)\n",
    "enemy_half = generate_manhattan_mask(MAP_SHAPE2,\n",
    "                                     init_pos,\n",
    "                                     range_limit=MAP_WIDTH - 1)\n",
    "blind_shot_targets = ((~mm.visible) &\n",
    "                      (mm.team_point_mass > IS_RELIC_CELL_PROB)\n",
    "                      & enemy_half)\n",
    "# blind_shot_targets = np.zeros(MAP_SHAPE2, dtype=bool)  # disable blind shot\n",
    "self.blind_shot_targets = blind_shot_targets\n",
    "\n",
    "def stay_on_relic(upos, energy, cpos):\n",
    "  # If the relic node has been occupied by unit but not this one, lower its score\n",
    "  if (mm.unit_positions[cpos[0]][cpos[1]] and not pos_equal(upos, cpos)):\n",
    "    return 0\n",
    "\n",
    "  # # Relic unit do not change relic position\n",
    "  # p_unit = mm.team_point_mass[upos[0]][upos[1]]\n",
    "  # if (p_unit > IS_RELIC_CELL_PROB and not pos_equal(upos, cpos)):\n",
    "  # return 0\n",
    "\n",
    "  # Will score only for relic p > 0.8\n",
    "  v = RELIC_SCORE\n",
    "  p = mm.team_point_mass[cpos[0]][cpos[1]]\n",
    "\n",
    "  # Do not goto enemy side if energy below threshold\n",
    "  if on_enemy_side(cpos, mm.player_id):\n",
    "    v = mm.unit_sap_cost / 10\n",
    "\n",
    "  # If enemy may sap it, lower its weight\n",
    "  if not pos_equal(cpos, upos) and enemy_sap_cost[cpos[0]][cpos[1]] > 0:\n",
    "    v = mm.unit_sap_cost / 10 * 0.5\n",
    "\n",
    "  w = 0\n",
    "  if p > IS_RELIC_CELL_PROB:\n",
    "    w += v * p\n",
    "\n",
    "  return w\n",
    "\n",
    "hit_factor = 10\n",
    "enemy_hit_map = self.get_sap_hit_map(hit_factor)\n",
    "enemy_hit_map[\n",
    "    blind_shot_targets] += mm.unit_sap_cost  # roughly adding 3 points\n",
    "self.enemy_hit_map = enemy_hit_map\n",
    "\n",
    "def get_sap_enemy_score(upos, energy, cpos):\n",
    "  \"\"\"Max sap damage that could be hit from the `cpos`.\"\"\"\n",
    "  if not can_attack(energy, mm):\n",
    "    return 0\n",
    "\n",
    "  # Do not attack from negtive energy position\n",
    "  # fuel = energy_map[cpos[0]][cpos[1]]\n",
    "  # if fuel <= 0:\n",
    "  # return 0\n",
    "\n",
    "  sap_range = gen_sap_range(cpos, self.mm.unit_sap_range)\n",
    "\n",
    "  h = enemy_hit_map[sap_range].max()\n",
    "  h /= hit_factor\n",
    "\n",
    "  # Boost unit with extra energy for SAP\n",
    "  h *= min(energy / BOOST_SAP_ENERGY_THRESHOOD, 1)\n",
    "\n",
    "  # sap if energy is large (and unit not on relic)\n",
    "  # if self.mm.team_point_mass[pos[0]][pos[1]] < 0.6:\n",
    "  # h *= max((energy / energy_threshold), 1)\n",
    "  return h\n",
    "\n",
    "score_debug = {}\n",
    "\n",
    "enemy_max_energy = maximum_filter(mm.enemy_max_energy, size=5)\n",
    "self.enemy_max_energy = enemy_max_energy\n",
    "\n",
    "def get_unit_cell_wt(upos, energy, cpos, unit_cost_map):\n",
    "  if cant_move_to(upos, cpos, mm):\n",
    "    return -9999\n",
    "\n",
    "  if energy <= mm.enemy_max_energy[cpos[0]][cpos[1]]:\n",
    "    return -9999\n",
    "\n",
    "  # mdist = manhatten_distance(upos, cpos) + 7\n",
    "  mdist = dd(manhatten_distance(upos, cpos) + 1)\n",
    "  wt = 0.0001\n",
    "\n",
    "  energy_ratio = energy / energy_threshold\n",
    "\n",
    "  expore_wt = get_explore_weight(upos, energy, cpos)\n",
    "\n",
    "  fuel_wt = get_fuel_energy(upos, energy, cpos)\n",
    "\n",
    "  relic_nb_wt = get_open_relic_nb(upos, energy, cpos)\n",
    "\n",
    "  on_relic_wt = stay_on_relic(upos, energy, cpos)\n",
    "\n",
    "  sap_wt = get_sap_enemy_score(upos, energy, cpos)\n",
    "\n",
    "  # If unit do not have much energy for one sap attack\n",
    "  unit_on_relic = mm.team_point_mass[pos[0]][pos[1]] > IS_RELIC_CELL_PROB\n",
    "  if (not (unit_on_relic and on_team_side(upos, mm.player_id))\n",
    "      and self.enemy_sap_cost[cpos[0]][cpos[1]] >= energy):\n",
    "    wt -= self.mm.unit_sap_cost / 10\n",
    "\n",
    "  wt += (expore_wt + fuel_wt + relic_nb_wt + on_relic_wt + sap_wt) / mdist\n",
    "  return wt\n",
    "\n",
    "  score_debug[(tuple(upos), tuple(cpos))] = {\n",
    "      'explore_wt': expore_wt,\n",
    "      'fuel_wt': fuel_wt,\n",
    "      'relic_nb_wt': relic_nb_wt,\n",
    "      'on_relic_wt': on_relic_wt,\n",
    "      'sap_wt': sap_wt,\n",
    "      'energy_ratio': energy_ratio,\n",
    "      'wt': wt,\n",
    "      'mdist': mdist,\n",
    "  }\n",
    "\n",
    "  # if USE_RANDOM:\n",
    "  # wt += np.random.rand() /et 1000\n",
    "  return wt\n",
    "\n"
   ]
  },
  {
   "cell_type": "code",
   "execution_count": null,
   "id": "d56a3569-ad5d-42fa-8ec5-3f5f4e02ebb8",
   "metadata": {
    "scrolled": true
   },
   "outputs": [],
   "source": [
    "self.mm.game_step"
   ]
  },
  {
   "cell_type": "code",
   "execution_count": null,
   "id": "9d5f7221-6d6a-485e-8e9d-0ff4a65555d3",
   "metadata": {},
   "outputs": [],
   "source": [
    "mm.get_unit_info(0, 10, t=0)"
   ]
  },
  {
   "cell_type": "code",
   "execution_count": null,
   "id": "49dbee71-fe66-4daa-a5a6-3ce53485cbe5",
   "metadata": {},
   "outputs": [],
   "source": [
    "upos = (21, 13)\n",
    "unit_cost_map = self.compute_energy_cost_map(upos, asteriod_cost=75)\n",
    "\n",
    "energy = 106\n",
    "get_unit_cell_wt(upos, energy, upos, unit_cost_map)"
   ]
  },
  {
   "cell_type": "code",
   "execution_count": null,
   "id": "48f926fd-8c6e-484d-8f50-e9c1c4f9312c",
   "metadata": {},
   "outputs": [],
   "source": [
    "cpos = (20, 12)\n",
    "get_unit_cell_wt(upos, energy, cpos, unit_cost_map)"
   ]
  },
  {
   "cell_type": "code",
   "execution_count": null,
   "id": "b1aa56fb-6846-4408-8395-d6a282720bd5",
   "metadata": {},
   "outputs": [],
   "source": [
    "score_debug"
   ]
  },
  {
   "cell_type": "code",
   "execution_count": null,
   "id": "d7f5d44e-b3e6-4a27-94c1-73bc37db0f93",
   "metadata": {},
   "outputs": [],
   "source": [
    "mm.team_point_mass[21][16]"
   ]
  },
  {
   "cell_type": "code",
   "execution_count": null,
   "id": "34efdfa2-a994-46a1-a4fa-96168d611f67",
   "metadata": {},
   "outputs": [],
   "source": [
    "mm.game_step"
   ]
  },
  {
   "cell_type": "code",
   "execution_count": null,
   "id": "427f427e-ee80-4c56-b138-5737a1d70a25",
   "metadata": {},
   "outputs": [],
   "source": [
    "energy_lost_mask[]"
   ]
  },
  {
   "cell_type": "code",
   "execution_count": null,
   "id": "8f3b830c-2111-429e-a1f2-805a48834884",
   "metadata": {},
   "outputs": [],
   "source": [
    "mm.sap_dropoff_factor_estimator.unit_energy_lost_step[21][16]"
   ]
  },
  {
   "cell_type": "code",
   "execution_count": null,
   "id": "468f0fcf-9ca3-460b-b785-7b3fdde0d9a4",
   "metadata": {},
   "outputs": [],
   "source": []
  },
  {
   "cell_type": "code",
   "execution_count": null,
   "id": "66ad0e92-8884-4b6d-a25e-a91936bf281a",
   "metadata": {},
   "outputs": [],
   "source": []
  },
  {
   "cell_type": "code",
   "execution_count": null,
   "id": "9c5cdc87-14c1-4bdf-a8ea-e8c9d6ea128d",
   "metadata": {},
   "outputs": [],
   "source": [
    "from ecobangbang.agent import *"
   ]
  },
  {
   "cell_type": "code",
   "execution_count": null,
   "id": "49e84bb1-7178-40d1-92b3-70d38d3f7a91",
   "metadata": {},
   "outputs": [],
   "source": []
  },
  {
   "cell_type": "code",
   "execution_count": null,
   "id": "51c1b3e7-f81f-4a23-93d0-47e6df87fd3e",
   "metadata": {},
   "outputs": [],
   "source": [
    "hit_map = np.zeros((MAP_WIDTH, MAP_HEIGHT), dtype=float)\n",
    "\n",
    "for i in range(MAX_UNIT_NUM):\n",
    "  mask, pos, energy = self.mm.get_unit_info(self.mm.enemy_id, i, t=0)\n",
    "  if not mask:\n",
    "    continue\n",
    "\n",
    "  if self.mm.enemy_positions[pos[0]][pos[1]]:\n",
    "    p = self.mm.team_point_mass[pos[0]][pos[1]]\n",
    "    hit_map[pos[0]][pos[1]] += (RELIC_SCORE * (p**2))\n",
    "\n",
    "  for d in [1, 0]:\n",
    "    x0 = max(0, (pos[0] - d))\n",
    "    x1 = min(MAP_WIDTH, (pos[0] + d + 1))\n",
    "    y0 = max(0, (pos[1] - d))\n",
    "    y1 = min(MAP_HEIGHT, (pos[1] + d + 1))\n",
    "\n",
    "    h = self.mm.unit_sap_cost\n",
    "    if d == 1:\n",
    "      h *= self.mm.unit_sap_dropoff_factor\n",
    "    hit_map[x0:x1, y0:y1] += h\n",
    "\n",
    "cpos = upos\n",
    "sap_range = gen_sap_range(cpos, self.mm.unit_sap_range)"
   ]
  },
  {
   "cell_type": "code",
   "execution_count": null,
   "id": "0d47b357-c6cd-4526-9bf3-20527c46552f",
   "metadata": {},
   "outputs": [],
   "source": [
    "plot_imgs([('enemy_hit_map', enemy_hit_map), ('mm.enemy_positions', mm.enemy_positions), ('hit_map', hit_map),\n",
    "           ('sap_range', sap_range), ])"
   ]
  },
  {
   "cell_type": "code",
   "execution_count": null,
   "id": "82ced7be-f140-4c91-a280-5c32d7e2da80",
   "metadata": {},
   "outputs": [],
   "source": [
    "print(\"============ game step 468 ========== \\nunit[[9 3]] and cell ((1, 0)) wt={'explore_wt': 0, 'fuel_wt': -3.726653172078671e-05, 'relic_nb_wt': 0, 'on_relic_wt': 0, 'sap_wt': 0.0, 'energy_ratio': 2.25, 'wt': 8.81257345245768e-05, 'mdist': 3.138428376721003}\\nunit[[9 3]] and cell ((2, 0)) wt={'explore_wt': 0, 'fuel_wt': -2.9813225376629368e-05, 'relic_nb_wt': 0, 'on_relic_wt': 0, 'sap_wt': 0.0, 'energy_ratio': 2.25, 'wt': 8.955064638162758e-05, 'mdist': 2.8531167061100025}\\nunit[[9 3]] and cell ((3, 0)) wt={'explore_wt': 0, 'fuel_wt': -1.8633265860393355e-05, 'relic_nb_wt': 0, 'on_relic_wt': 0, 'sap_wt': 0.0, 'energy_ratio': 2.25, 'wt': 9.281606938736897e-05, 'mdist': 2.5937424601000023}\\nunit[[9 3]] and cell ((4, 0)) wt={'explore_wt': 0, 'fuel_wt': -7.453306344157342e-06, 'relic_nb_wt': 0, 'on_relic_wt': 0, 'sap_wt': 0.0, 'energy_ratio': 2.25, 'wt': 9.683907053044235e-05, 'mdist': 2.357947691000002}\\nunit[[9 3]] and cell ((5, 0)) wt={'explore_wt': 0, 'fuel_wt': 3.726653172078671e-06, 'relic_nb_wt': 0, 'on_relic_wt': \")"
   ]
  },
  {
   "cell_type": "markdown",
   "id": "18959080-f37a-4b62-9948-439b5c34e354",
   "metadata": {},
   "source": [
    "# Map Tile Shift Estimation"
   ]
  },
  {
   "cell_type": "code",
   "execution_count": null,
   "id": "a37cdb36-10d5-4757-b7da-eae324d464ba",
   "metadata": {},
   "outputs": [],
   "source": [
    "partial = ob['_a_cell_type'][0, :, :]"
   ]
  },
  {
   "cell_type": "code",
   "execution_count": null,
   "id": "ca4af154-dea5-42f1-ac47-6621d652c7cf",
   "metadata": {},
   "outputs": [],
   "source": [
    "cell_map = ob['_b_cell_type'][0, :, :]\n",
    "plt.imshow(cell_map.T)"
   ]
  },
  {
   "cell_type": "code",
   "execution_count": null,
   "id": "946460ac-4c02-4d00-b16d-cf91caa53764",
   "metadata": {},
   "outputs": [],
   "source": [
    "def shift_map(mp, n):\n",
    "    mp = np.roll(mp, shift=-n, axis=0)  # Shift Up\n",
    "    mp = np.roll(mp, shift=n, axis=1)  # Shift right\n",
    "    return mp\n",
    "\n",
    "\n",
    "fig, axes = plt.subplots(1, 2, figsize=(10, 5)) \n",
    "\n",
    "axes[0].imshow(partial.T)\n",
    "axes[1].imshow(shift_map(partial, -1).T)"
   ]
  },
  {
   "cell_type": "code",
   "execution_count": null,
   "id": "d4d42129-b917-454a-b9c2-ff23cb695410",
   "metadata": {},
   "outputs": [],
   "source": [
    "a = cell_map == 2\n",
    "\n",
    "a.size"
   ]
  },
  {
   "cell_type": "code",
   "execution_count": null,
   "id": "1d950f07-6bae-4fed-a397-46d1efb06ca4",
   "metadata": {},
   "outputs": [],
   "source": [
    "(cell_map[cell_map == 2] != partial[cell_map == 2]).any()"
   ]
  },
  {
   "cell_type": "code",
   "execution_count": null,
   "id": "543b92c3-4d1a-4008-acf6-c3ecc18a577b",
   "metadata": {},
   "outputs": [],
   "source": [
    "x = np.array([-0.15, -0.1, -0.05, -0.025, 0.025, 0.05, 0.1, 0.15])\n",
    "\n",
    "1 / x"
   ]
  },
  {
   "cell_type": "code",
   "execution_count": 20,
   "id": "3bda52cd-064d-4c2d-bc02-c49db1a2e2db",
   "metadata": {},
   "outputs": [
    {
     "data": {
      "text/plain": [
       "<Axes: xlabel='x'>"
      ]
     },
     "execution_count": 20,
     "metadata": {},
     "output_type": "execute_result"
    },
    {
     "data": {
      "image/png": "[encoded data removed]",
      "text/plain": [
       "<Figure size 640x480 with 1 Axes>"
      ]
     },
     "metadata": {},
     "output_type": "display_data"
    }
   ],
   "source": [
    "def should_tile_change(steps, nebula_tile_drift_speed):\n",
    "    return (steps - 1) * abs(nebula_tile_drift_speed) % 1 > steps * abs(nebula_tile_drift_speed) % 1\n",
    "\n",
    "\n",
    "x = np.linspace(0, 500, 501)\n",
    "\n",
    "\n",
    "df = pd.DataFrame({\n",
    "    'x': x,\n",
    "    'c15': should_tile_change(x, 0.15).astype(int),\n",
    "    # 'c20': -should_tile_change(x, 0.10).astype(int),\n",
    "    # 'c05': should_tile_change(x, 0.05).astype(int),\n",
    "    'c025': -should_tile_change(x, 0.025).astype(int),\n",
    "})\n",
    "\n",
    "df.set_index('x').plot()"
   ]
  },
  {
   "cell_type": "code",
   "execution_count": 21,
   "id": "00b3ae59-69dd-4536-84e3-172b3a249a56",
   "metadata": {},
   "outputs": [
    {
     "data": {
      "text/plain": [
       "501"
      ]
     },
     "execution_count": 21,
     "metadata": {},
     "output_type": "execute_result"
    }
   ],
   "source": [
    "len(should_tile_change(x, 0.025).astype(int))"
   ]
  },
  {
   "cell_type": "code",
   "execution_count": 23,
   "id": "6f186733-1427-413c-8cda-213fc0c7b995",
   "metadata": {},
   "outputs": [
    {
     "data": {
      "text/plain": [
       "array([[  0],\n",
       "       [ 20],\n",
       "       [ 40],\n",
       "       [ 60],\n",
       "       [ 80],\n",
       "       [100],\n",
       "       [120],\n",
       "       [140],\n",
       "       [160],\n",
       "       [180],\n",
       "       [200],\n",
       "       [220],\n",
       "       [240],\n",
       "       [260],\n",
       "       [280],\n",
       "       [300],\n",
       "       [320],\n",
       "       [340],\n",
       "       [360],\n",
       "       [380],\n",
       "       [400],\n",
       "       [420],\n",
       "       [440],\n",
       "       [460],\n",
       "       [480],\n",
       "       [500]])"
      ]
     },
     "execution_count": 23,
     "metadata": {},
     "output_type": "execute_result"
    }
   ],
   "source": [
    "np.argwhere(should_tile_change(x, 0.05).astype(int))"
   ]
  },
  {
   "cell_type": "code",
   "execution_count": null,
   "id": "27466d85-f766-4a19-b409-9a0b475a1f9a",
   "metadata": {},
   "outputs": [],
   "source": []
  },
  {
   "cell_type": "code",
   "execution_count": null,
   "id": "ab9907e2-c9f2-4d82-aea9-c94a592afd49",
   "metadata": {},
   "outputs": [],
   "source": []
  }
 ],
 "metadata": {
  "kernelspec": {
   "display_name": "Python 3 (ipykernel)",
   "language": "python",
   "name": "python3"
  },
  "language_info": {
   "codemirror_mode": {
    "name": "ipython",
    "version": 3
   },
   "file_extension": ".py",
   "mimetype": "text/x-python",
   "name": "python",
   "nbconvert_exporter": "python",
   "pygments_lexer": "ipython3",
   "version": "3.12.5"
  }
 },
 "nbformat": 4,
 "nbformat_minor": 5
}
