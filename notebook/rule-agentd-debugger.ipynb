{
 "cells": [
  {
   "cell_type": "code",
   "execution_count": 1,
   "id": "227fc281-0dc6-404b-ba37-065848d128a4",
   "metadata": {},
   "outputs": [],
   "source": [
    "import numpy as np\n",
    "import pandas as pd\n",
    "\n",
    "import seaborn as sns\n",
    "import matplotlib.pyplot as plt\n",
    "\n",
    "%matplotlib inline"
   ]
  },
  {
   "cell_type": "code",
   "execution_count": 2,
   "id": "1fa7e29e-9478-4614-92ab-743cd75ddc7d",
   "metadata": {},
   "outputs": [],
   "source": [
    "import sys\n",
    "\n",
    "sys.path.insert(0, \"/Users/flynnwang/repo/flynn/eco_bang_bang/agents/rule_0202\")"
   ]
  },
  {
   "cell_type": "code",
   "execution_count": 3,
   "id": "fdfb36c0-ad48-4ef2-a60c-13bdabf10226",
   "metadata": {},
   "outputs": [],
   "source": [
    "sys.path.insert(0, \"/Users/flynnwang/repo/flynn/eco_bang_bang/agents\")"
   ]
  },
  {
   "cell_type": "code",
   "execution_count": 4,
   "id": "24c2db1c-688a-446d-9ab6-5c643965c2af",
   "metadata": {},
   "outputs": [],
   "source": [
    "# from ebb.env.const import *"
   ]
  },
  {
   "cell_type": "code",
   "execution_count": 5,
   "id": "409cee30-a298-4073-8a3b-4017f454a1cf",
   "metadata": {},
   "outputs": [],
   "source": [
    "import torch\n",
    "\n",
    "from ecobangbang.env.luxenv import get_ob_sapce, LuxS3Env\n",
    "from ecobangbang.model import _create_model, RewardSpec\n",
    "\n",
    "reward_spec = RewardSpec(\n",
    "        reward_min=-5,\n",
    "        reward_max=+5,\n",
    "        zero_sum=False,\n",
    "    )\n",
    "\n",
    "reward_shaping_params = dict(  new_observed_down_tri=0.0001,\n",
    "  match_observed=0,\n",
    "  match_win=1,\n",
    "  use_hidden_relic_estimator=True,\n",
    "  energy_cost_change=0.001,                             \n",
    ")\n",
    "\n",
    "obs_space_kwargs = {\n",
    "    'use_energy_cost_map': True,\n",
    "    'use_single_player': False,\n",
    "}\n",
    "env = LuxS3Env(reward_schema='match_explore_win_loss',\n",
    "               reward_shaping_params=reward_shaping_params,\n",
    "              obs_space_kwargs=obs_space_kwargs)\n",
    "\n",
    "obs, reward, done, info = env.reset()"
   ]
  },
  {
   "cell_type": "code",
   "execution_count": 6,
   "id": "09fea186-ed5d-4b4b-9295-4f029e789f77",
   "metadata": {},
   "outputs": [],
   "source": [
    "from ecobangbang.agent import Agent\n",
    "\n",
    "from rule_v3_4a0760b.ecobangbang.agent import Agent as Agent2"
   ]
  },
  {
   "cell_type": "markdown",
   "id": "81eeec19-3a65-4959-8a84-5446016a2ffa",
   "metadata": {},
   "source": [
    "# Feature Plots"
   ]
  },
  {
   "cell_type": "code",
   "execution_count": 7,
   "id": "b1dc81d2-bb84-473f-a3da-2f0d94256fab",
   "metadata": {},
   "outputs": [],
   "source": [
    "def plot_imgs(images):\n",
    "    grid_size = 3\n",
    "    fig, axes = plt.subplots(grid_size + 1, grid_size, figsize=(10, 10))\n",
    "    \n",
    "    for i, ax in enumerate(axes.flat):\n",
    "        if i < len(images):\n",
    "            name, img = images[i]\n",
    "            img = img.T\n",
    "            ax.imshow(img, cmap='viridis')  # Display image (grayscale here)\n",
    "            ax.set_title(name, fontsize=8)\n",
    "            ax.axis('off')  # Turn off the axes\n",
    "            ax.set_xticks(np.arange(-0.5, img.shape[1], 1))  # Position gridlines at the edges of the pixels\n",
    "            ax.set_yticks(np.arange(-0.5, img.shape[0], 1))  # Position gridlines at the edges of the pixels\n",
    "            # Set gridlines to be visible\n",
    "            ax.grid(which='both', color='black', linestyle='-', linewidth=.5)\n",
    "        else:\n",
    "            ax.axis('off')  # Turn off the axes for empty slots\n",
    "    \n",
    "    plt.tight_layout()\n",
    "    plt.show()"
   ]
  },
  {
   "cell_type": "code",
   "execution_count": 8,
   "id": "ea889a81-34e2-4c4d-92c9-af5c71fc52b0",
   "metadata": {},
   "outputs": [],
   "source": [
    "from ecobangbang.env.luxenv import LuxS3Env\n",
    "from ecobangbang.env.const import *\n",
    "\n",
    "\n",
    "env = LuxS3Env(reward_schema='match_explore_win_loss',\n",
    "               reward_shaping_params=reward_shaping_params,\n",
    "              obs_space_kwargs=obs_space_kwargs)\n",
    "obs, reward, done, info = env.reset(seed=1211142836)\n",
    "\n",
    "def act(a, ob):\n",
    "    player_id = a.player\n",
    "    step = ob['steps']\n",
    "    actions = a.act(step, ob)\n",
    "    return actions\n",
    "\n",
    "env_cfg = env.mms[0].env_cfg\n",
    "a0 = Agent2('player_0', env_cfg)\n",
    "a1 = Agent('player_1', env_cfg)"
   ]
  },
  {
   "cell_type": "code",
   "execution_count": 18,
   "id": "0ca500d4-21f6-4a79-87fd-41aefd8d0f38",
   "metadata": {
    "scrolled": true
   },
   "outputs": [
    {
     "name": "stderr",
     "output_type": "stream",
     "text": [
      "============ game step 111 ========== \n",
      ">>>>>>>>>>>>>>> nebula_energy_reduction=1\n",
      " unit[0]=[22 15] assgined to cell=(17, 13), wts={'explore_wt': 0, 'fuel_wt': np.float64(0.12230345334690061), 'relic_nb_wt': 15, 'on_relic_wt': np.float64(30.0), 'sap_wt': np.float64(0.0), 'energy_ratio': np.float64(1.5857142857142856), 'wt': np.float64(21.049987573049453), 'mdist': np.float64(2.1435888100000016)}\n",
      " unit[1]=[20 20] assgined to cell=(14, 14), wts={'explore_wt': 0, 'fuel_wt': np.float64(0.09913725251074738), 'relic_nb_wt': 15, 'on_relic_wt': np.float64(30.0), 'sap_wt': np.float64(3.4), 'energy_ratio': np.float64(1.6142857142857143), 'wt': np.float64(14.048572510013008), 'mdist': np.float64(3.452271214393104)}\n",
      " unit[2]=[20 23] assgined to cell=(13, 14), wts={'explore_wt': 0, 'fuel_wt': np.float64(0.0), 'relic_nb_wt': 15, 'on_relic_wt': np.float64(30.0), 'sap_wt': np.float64(3.4), 'energy_ratio': np.float64(1.4285714285714286), 'wt': np.float64(9.575781974766532), 'mdist': np.float64(5.054470284992945)}\n",
      " unit[3]=[23 23] assgined to cell=(13, 17), wts={'explore_wt': 0, 'fuel_wt': np.float64(0.6493049347166995), 'relic_nb_wt': 15, 'on_relic_wt': 0, 'sap_wt': np.float64(0.0), 'energy_ratio': np.float64(1.4285714285714286), 'wt': np.float64(3.0962315533262736), 'mdist': np.float64(5.054470284992945)}\n",
      "game_step=111 sending unit=0 pos=[22 15] to cell=(17, 13)\n",
      "game_step=111 sending unit=1 pos=[20 20] to cell=(14, 14)\n",
      "game_step=111 sending unit=2 pos=[20 23] to cell=(13, 14)\n",
      "game_step=111 sending unit=3 pos=[23 23] to cell=(13, 17)\n",
      "============ game step 112 ========== \n",
      ">>>>>>>>>>>>>>> nebula_energy_reduction=1\n",
      " unit[0]=[22 14] assgined to cell=(17, 13), wts={'explore_wt': 0, 'fuel_wt': np.float64(0.12230345334690061), 'relic_nb_wt': 15, 'on_relic_wt': np.float64(30.0), 'sap_wt': np.float64(0.0), 'energy_ratio': np.float64(1.5774647887323943), 'wt': np.float64(23.1549763303544), 'mdist': np.float64(1.9487171000000012)}\n",
      " unit[1]=[20 19] assgined to cell=(14, 14), wts={'explore_wt': 0, 'fuel_wt': np.float64(0.1353352832366127), 'relic_nb_wt': 15, 'on_relic_wt': np.float64(30.0), 'sap_wt': np.float64(3.4), 'energy_ratio': np.float64(1.5633802816901408), 'wt': np.float64(15.464953569143999), 'mdist': np.float64(3.138428376721003)}\n",
      " unit[2]=[19 23] assgined to cell=(13, 14), wts={'explore_wt': 0, 'fuel_wt': np.float64(0.0), 'relic_nb_wt': 15, 'on_relic_wt': np.float64(30.0), 'sap_wt': np.float64(3.4), 'energy_ratio': np.float64(1.5070422535211268), 'wt': np.float64(10.533350172243187), 'mdist': np.float64(4.594972986357222)}\n",
      " unit[3]=[22 23] assgined to cell=(13, 17), wts={'explore_wt': 0, 'fuel_wt': np.float64(0.9735045119199434), 'relic_nb_wt': 15, 'on_relic_wt': 0, 'sap_wt': np.float64(0.0), 'energy_ratio': np.float64(1.3380281690140845), 'wt': np.float64(3.476399982469175), 'mdist': np.float64(4.594972986357222)}\n",
      "game_step=112 sending unit=0 pos=[22 14] to cell=(17, 13)\n",
      "game_step=112 sending unit=1 pos=[20 19] to cell=(14, 14)\n",
      "game_step=112 sending unit=2 pos=[19 23] to cell=(13, 14)\n",
      "game_step=112 sending unit=3 pos=[22 23] to cell=(13, 17)\n",
      "============ game step 113 ========== \n",
      ">>>>>>>>>>>>>>> nebula_energy_reduction=1\n",
      " unit[0]=[22 13] assgined to cell=(17, 13), wts={'explore_wt': 0, 'fuel_wt': np.float64(0.12230345334690061), 'relic_nb_wt': 15, 'on_relic_wt': np.float64(30.0), 'sap_wt': np.float64(0.0), 'energy_ratio': np.float64(1.5694444444444444), 'wt': np.float64(25.470463963389847), 'mdist': np.float64(1.7715610000000008)}\n",
      " unit[1]=[20 18] assgined to cell=(14, 14), wts={'explore_wt': 0, 'fuel_wt': np.float64(0.27803730045319414), 'relic_nb_wt': 15, 'on_relic_wt': np.float64(30.0), 'sap_wt': np.float64(3.4), 'energy_ratio': np.float64(1.4444444444444444), 'wt': np.float64(17.0614551125365), 'mdist': np.float64(2.8531167061100025)}\n",
      " unit[2]=[20 23] assgined to cell=(13, 14), wts={'explore_wt': 0, 'fuel_wt': np.float64(0.0), 'relic_nb_wt': 15, 'on_relic_wt': np.float64(30.0), 'sap_wt': np.float64(3.4), 'energy_ratio': np.float64(1.5555555555555556), 'wt': np.float64(9.575781974766532), 'mdist': np.float64(5.054470284992945)}\n",
      " unit[3]=[21 23] assgined to cell=(13, 17), wts={'explore_wt': 0, 'fuel_wt': np.float64(1.0324113478909926), 'relic_nb_wt': 15, 'on_relic_wt': 0, 'sap_wt': np.float64(0.0), 'energy_ratio': np.float64(1.3194444444444444), 'wt': np.float64(3.838131808901055), 'mdist': np.float64(4.177248169415656)}\n",
      "game_step=113 sending unit=0 pos=[22 13] to cell=(17, 13)\n",
      "game_step=113 sending unit=1 pos=[20 18] to cell=(14, 14)\n",
      "game_step=113 sending unit=2 pos=[20 23] to cell=(13, 14)\n",
      "game_step=113 sending unit=3 pos=[21 23] to cell=(13, 17)\n",
      "============ game step 114 ========== \n",
      ">>>>>>>>>>>>>>> nebula_energy_reduction=1\n",
      " unit[0]=[22 12] assgined to cell=(17, 13), wts={'explore_wt': 0, 'fuel_wt': np.float64(0.1353352832366127), 'relic_nb_wt': 15, 'on_relic_wt': np.float64(30.0), 'sap_wt': np.float64(0.0), 'energy_ratio': np.float64(1.547945205479452), 'wt': np.float64(23.16166371965771), 'mdist': np.float64(1.9487171000000012)}\n",
      " unit[1]=[19 18] assgined to cell=(14, 14), wts={'explore_wt': 0, 'fuel_wt': np.float64(0.5162056739454963), 'relic_nb_wt': 15, 'on_relic_wt': np.float64(30.0), 'sap_wt': np.float64(3.4), 'energy_ratio': np.float64(1.3150684931506849), 'wt': np.float64(18.859414841944453), 'mdist': np.float64(2.5937424601000023)}\n",
      " unit[2]=[20 22] assgined to cell=(13, 14), wts={'explore_wt': 0, 'fuel_wt': np.float64(0.0), 'relic_nb_wt': 15, 'on_relic_wt': np.float64(30.0), 'sap_wt': np.float64(3.4), 'energy_ratio': np.float64(1.63013698630137), 'wt': np.float64(10.533350172243187), 'mdist': np.float64(4.594972986357222)}\n",
      " unit[3]=[21 22] assgined to cell=(13, 17), wts={'explore_wt': 0, 'fuel_wt': np.float64(0.8040427661893097), 'relic_nb_wt': 15, 'on_relic_wt': 0, 'sap_wt': np.float64(0.0), 'energy_ratio': np.float64(1.36986301369863), 'wt': np.float64(4.1617984047275565), 'mdist': np.float64(3.7974983358324144)}\n",
      " unit[4]=[23 23] assgined to cell=(14, 16), wts={'explore_wt': 0, 'fuel_wt': np.float64(0.40202138309465485), 'relic_nb_wt': 15, 'on_relic_wt': 0, 'sap_wt': np.float64(0.0), 'energy_ratio': np.float64(1.36986301369863), 'wt': np.float64(3.047307820931161), 'mdist': np.float64(5.054470284992945)}\n",
      "game_step=114 sending unit=0 pos=[22 12] to cell=(17, 13)\n",
      "game_step=114 sending unit=1 pos=[19 18] to cell=(14, 14)\n",
      "game_step=114 sending unit=2 pos=[20 22] to cell=(13, 14)\n",
      "game_step=114 sending unit=3 pos=[21 22] to cell=(13, 17)\n",
      "game_step=114 sending unit=4 pos=[23 23] to cell=(14, 16)\n",
      "============ game step 115 ========== \n",
      ">>>>>>>>>>>>>>> nebula_energy_reduction=1\n",
      " unit[0]=[21 12] assgined to cell=(17, 13), wts={'explore_wt': 0, 'fuel_wt': np.float64(0.1353352832366127), 'relic_nb_wt': 15, 'on_relic_wt': np.float64(30.0), 'sap_wt': np.float64(0.0), 'energy_ratio': np.float64(1.5405405405405406), 'wt': np.float64(25.477820091623485), 'mdist': np.float64(1.7715610000000008)}\n",
      " unit[1]=[18 18] assgined to cell=(14, 14), wts={'explore_wt': 0, 'fuel_wt': np.float64(0.6368316143717432), 'relic_nb_wt': 15, 'on_relic_wt': np.float64(30.0), 'sap_wt': np.float64(3.4), 'energy_ratio': np.float64(1.2567567567567568), 'wt': np.float64(20.796503500187615), 'mdist': np.float64(2.357947691000002)}\n",
      " unit[2]=[20 21] assgined to cell=(13, 14), wts={'explore_wt': 0, 'fuel_wt': np.float64(0.0), 'relic_nb_wt': 15, 'on_relic_wt': np.float64(30.0), 'sap_wt': np.float64(3.4), 'energy_ratio': np.float64(1.6756756756756757), 'wt': np.float64(11.586675189467506), 'mdist': np.float64(4.177248169415656)}\n",
      " unit[3]=[21 21] assgined to cell=(14, 16), wts={'explore_wt': 0, 'fuel_wt': np.float64(0.2563401514150736), 'relic_nb_wt': 15, 'on_relic_wt': 0, 'sap_wt': np.float64(0.0), 'energy_ratio': np.float64(1.445945945945946), 'wt': np.float64(4.419318307011571), 'mdist': np.float64(3.452271214393104)}\n",
      " unit[4]=[22 23] assgined to cell=(13, 17), wts={'explore_wt': 0, 'fuel_wt': np.float64(1.1524581473435997), 'relic_nb_wt': 15, 'on_relic_wt': 0, 'sap_wt': np.float64(0.0), 'energy_ratio': np.float64(1.2837837837837838), 'wt': np.float64(3.515345507492931), 'mdist': np.float64(4.594972986357222)}\n",
      "game_step=115 sending unit=0 pos=[21 12] to cell=(17, 13)\n",
      "game_step=115 sending unit=1 pos=[18 18] to cell=(14, 14)\n",
      "game_step=115 sending unit=2 pos=[20 21] to cell=(13, 14)\n",
      "game_step=115 sending unit=3 pos=[21 21] to cell=(14, 16)\n",
      "game_step=115 sending unit=4 pos=[22 23] to cell=(13, 17)\n",
      "============ game step 116 ========== \n",
      ">>>>>>>>>>>>>>> nebula_energy_reduction=1\n",
      " unit[0]=[20 12] assgined to cell=(17, 13), wts={'explore_wt': 0, 'fuel_wt': np.float64(0.1353352832366127), 'relic_nb_wt': 15, 'on_relic_wt': np.float64(30.0), 'sap_wt': np.float64(0.0), 'energy_ratio': np.float64(1.5333333333333334), 'wt': np.float64(28.025592100785836), 'mdist': np.float64(1.6105100000000006)}\n",
      " unit[1]=[17 18] assgined to cell=(14, 14), wts={'explore_wt': 0, 'fuel_wt': np.float64(0.5762290736717999), 'relic_nb_wt': 15, 'on_relic_wt': np.float64(30.0), 'sap_wt': np.float64(3.4), 'energy_ratio': np.float64(1.28), 'wt': np.float64(22.84787231771039), 'mdist': np.float64(2.1435888100000016)}\n",
      " unit[2]=[20 20] assgined to cell=(13, 14), wts={'explore_wt': 0, 'fuel_wt': np.float64(0.0), 'relic_nb_wt': 15, 'on_relic_wt': np.float64(30.0), 'sap_wt': np.float64(3.4), 'energy_ratio': np.float64(1.6666666666666667), 'wt': np.float64(12.745332708414258), 'mdist': np.float64(3.7974983358324144)}\n",
      " unit[3]=[21 20] assgined to cell=(14, 16), wts={'explore_wt': 0, 'fuel_wt': np.float64(-0.6578978263086196), 'relic_nb_wt': 15, 'on_relic_wt': 0, 'sap_wt': np.float64(0.0), 'energy_ratio': np.float64(1.5066666666666666), 'wt': np.float64(4.569935743288766), 'mdist': np.float64(3.138428376721003)}\n",
      " unit[4]=[21 23] assgined to cell=(13, 17), wts={'explore_wt': 0, 'fuel_wt': np.float64(1.2130613194252668), 'relic_nb_wt': 15, 'on_relic_wt': 0, 'sap_wt': np.float64(0.0), 'energy_ratio': np.float64(1.2666666666666666), 'wt': np.float64(3.8813779758051266), 'mdist': np.float64(4.177248169415656)}\n",
      "game_step=116 sending unit=0 pos=[20 12] to cell=(17, 13)\n",
      "game_step=116 sending unit=1 pos=[17 18] to cell=(14, 14)\n",
      "game_step=116 sending unit=2 pos=[20 20] to cell=(13, 14)\n",
      "game_step=116 sending unit=3 pos=[21 20] to cell=(14, 16)\n",
      "game_step=116 sending unit=4 pos=[21 23] to cell=(13, 17)\n",
      "============ game step 117 ========== \n",
      ">>>>>>>>>>>>>>> nebula_energy_reduction=1\n",
      " unit[0]=[19 12] assgined to cell=(17, 13), wts={'explore_wt': 0, 'fuel_wt': np.float64(0.1353352832366127), 'relic_nb_wt': 15, 'on_relic_wt': np.float64(30.0), 'sap_wt': np.float64(0.0), 'energy_ratio': np.float64(1.5263157894736843), 'wt': np.float64(30.828141310864424), 'mdist': np.float64(1.4641000000000004)}\n",
      " unit[1]=[17 17] assgined to cell=(14, 14), wts={'explore_wt': 0, 'fuel_wt': np.float64(0.0), 'relic_nb_wt': 15, 'on_relic_wt': np.float64(30.0), 'sap_wt': np.float64(3.4), 'energy_ratio': np.float64(1.3026315789473684), 'wt': np.float64(24.83695292236619), 'mdist': np.float64(1.9487171000000012)}\n",
      " unit[2]=[20 19] assgined to cell=(13, 14), wts={'explore_wt': 0, 'fuel_wt': np.float64(0.0), 'relic_nb_wt': 15, 'on_relic_wt': np.float64(30.0), 'sap_wt': np.float64(3.4), 'energy_ratio': np.float64(1.618421052631579), 'wt': np.float64(14.019855979255684), 'mdist': np.float64(3.452271214393104)}\n",
      " unit[3]=[20 20] assgined to cell=(14, 16), wts={'explore_wt': 0, 'fuel_wt': np.float64(-0.6578978263086196), 'relic_nb_wt': 15, 'on_relic_wt': 0, 'sap_wt': np.float64(0.0), 'energy_ratio': np.float64(1.5), 'wt': np.float64(5.026919317617643), 'mdist': np.float64(2.8531167061100025)}\n",
      " unit[4]=[21 22] assgined to cell=(13, 17), wts={'explore_wt': 0, 'fuel_wt': np.float64(0.9735045119199434), 'relic_nb_wt': 15, 'on_relic_wt': 0, 'sap_wt': np.float64(0.0), 'energy_ratio': np.float64(1.3157894736842106), 'wt': np.float64(4.206422978787702), 'mdist': np.float64(3.7974983358324144)}\n",
      " unit[5]=[23 23] assgined to cell=(16, 13), wts={'explore_wt': 0, 'fuel_wt': np.float64(0.0), 'relic_nb_wt': 15, 'on_relic_wt': 0, 'sap_wt': np.float64(0.0), 'energy_ratio': np.float64(1.3157894736842106), 'wt': np.float64(2.697981848638204), 'mdist': np.float64(5.55991731349224)}\n",
      "game_step=117 sending unit=0 pos=[19 12] to cell=(17, 13)\n",
      "game_step=117 sending unit=1 pos=[17 17] to cell=(14, 14)\n",
      "game_step=117 sending unit=2 pos=[20 19] to cell=(13, 14)\n",
      "game_step=117 sending unit=3 pos=[20 20] to cell=(14, 16)\n",
      "game_step=117 sending unit=4 pos=[21 22] to cell=(13, 17)\n",
      "game_step=117 sending unit=5 pos=[23 23] to cell=(16, 13)\n",
      "============ game step 118 ========== \n",
      ">>>>>>>>>>>>>>> nebula_energy_reduction=1\n",
      " unit[0]=[18 12] assgined to cell=(17, 13), wts={'explore_wt': 0, 'fuel_wt': np.float64(0.14938177525041801), 'relic_nb_wt': 15, 'on_relic_wt': np.float64(30.0), 'sap_wt': np.float64(0.0), 'energy_ratio': np.float64(1.5064935064935066), 'wt': np.float64(33.92149877930159), 'mdist': np.float64(1.3310000000000004)}\n",
      " unit[1]=[17 16] assgined to cell=(14, 14), wts={'explore_wt': 0, 'fuel_wt': np.float64(0.0), 'relic_nb_wt': 15, 'on_relic_wt': np.float64(30.0), 'sap_wt': np.float64(3.4), 'energy_ratio': np.float64(1.3116883116883118), 'wt': np.float64(27.320638214602813), 'mdist': np.float64(1.7715610000000008)}\n",
      " unit[2]=[20 20] assgined to cell=(14, 16), wts={'explore_wt': 0, 'fuel_wt': np.float64(-0.2528508123011554), 'relic_nb_wt': 15, 'on_relic_wt': 0, 'sap_wt': np.float64(0.0), 'energy_ratio': np.float64(1.6103896103896105), 'wt': np.float64(5.168885825030413), 'mdist': np.float64(2.8531167061100025)}\n",
      " unit[3]=[19 20] assgined to cell=(13, 14), wts={'explore_wt': 0, 'fuel_wt': np.float64(0.0), 'relic_nb_wt': 15, 'on_relic_wt': np.float64(30.0), 'sap_wt': np.float64(3.4), 'energy_ratio': np.float64(1.4155844155844155), 'wt': np.float64(14.019855979255684), 'mdist': np.float64(3.452271214393104)}\n",
      " unit[4]=[21 21] assgined to cell=(13, 17), wts={'explore_wt': 0, 'fuel_wt': np.float64(0.6493049347166995), 'relic_nb_wt': 15, 'on_relic_wt': 0, 'sap_wt': np.float64(0.0), 'energy_ratio': np.float64(1.3896103896103895), 'wt': np.float64(4.533146207224998), 'mdist': np.float64(3.452271214393104)}\n",
      " unit[5]=[22 23] assgined to cell=(21, 21), wts={'explore_wt': 0, 'fuel_wt': np.float64(4.66883767600932), 'relic_nb_wt': 0, 'on_relic_wt': 0, 'sap_wt': np.float64(0.0), 'energy_ratio': np.float64(1.2337662337662338), 'wt': np.float64(3.1889789536297517), 'mdist': np.float64(1.4641000000000004)}\n",
      "game_step=118 sending unit=0 pos=[18 12] to cell=(17, 13)\n",
      "game_step=118 sending unit=1 pos=[17 16] to cell=(14, 14)\n",
      "game_step=118 sending unit=2 pos=[20 20] to cell=(14, 16)\n",
      "game_step=118 sending unit=3 pos=[19 20] to cell=(13, 14)\n",
      "game_step=118 sending unit=4 pos=[21 21] to cell=(13, 17)\n",
      "game_step=118 sending unit=5 pos=[22 23] to cell=(21, 21)\n",
      "============ game step 119 ========== \n",
      ">>>>>>>>>>>>>>> nebula_energy_reduction=1\n",
      " unit[0]=[17 12] assgined to cell=(17, 13), wts={'explore_wt': 0, 'fuel_wt': np.float64(0.18063985161889398), 'relic_nb_wt': 15, 'on_relic_wt': np.float64(30.0), 'sap_wt': np.float64(0.0), 'energy_ratio': np.float64(1.4743589743589745), 'wt': np.float64(37.33947177819743), 'mdist': np.float64(1.2100000000000002)}\n",
      " unit[1]=[17 15] assgined to cell=(14, 14), wts={'explore_wt': 0, 'fuel_wt': np.float64(0.0), 'relic_nb_wt': 15, 'on_relic_wt': np.float64(30.0), 'sap_wt': np.float64(3.4), 'energy_ratio': np.float64(1.3333333333333333), 'wt': np.float64(30.0526920360631), 'mdist': np.float64(1.6105100000000006)}\n",
      " unit[2]=[19 20] assgined to cell=(14, 16), wts={'explore_wt': 0, 'fuel_wt': np.float64(-0.48921381338760245), 'relic_nb_wt': 15, 'on_relic_wt': 0, 'sap_wt': np.float64(0.0), 'energy_ratio': np.float64(1.5256410256410255), 'wt': np.float64(5.594636238595149), 'mdist': np.float64(2.5937424601000023)}\n",
      " unit[3]=[18 20] assgined to cell=(13, 14), wts={'explore_wt': 0, 'fuel_wt': np.float64(0.0), 'relic_nb_wt': 15, 'on_relic_wt': np.float64(30.0), 'sap_wt': np.float64(3.4), 'energy_ratio': np.float64(1.2820512820512822), 'wt': np.float64(15.421831577181255), 'mdist': np.float64(3.138428376721003)}\n",
      " unit[4]=[21 20] assgined to cell=(13, 17), wts={'explore_wt': 0, 'fuel_wt': np.float64(0.4325303336597746), 'relic_nb_wt': 15, 'on_relic_wt': 0, 'sap_wt': np.float64(0.0), 'energy_ratio': np.float64(1.4487179487179487), 'wt': np.float64(4.917379759553895), 'mdist': np.float64(3.138428376721003)}\n",
      " unit[5]=[21 23] assgined to cell=(20, 22), wts={'explore_wt': 0, 'fuel_wt': np.float64(4.877633428472244), 'relic_nb_wt': 0, 'on_relic_wt': 0, 'sap_wt': np.float64(0.0), 'energy_ratio': np.float64(1.2179487179487178), 'wt': np.float64(3.6647381881835033), 'mdist': np.float64(1.3310000000000004)}\n",
      "game_step=119 sending unit=0 pos=[17 12] to cell=(17, 13)\n",
      "game_step=119 sending unit=1 pos=[17 15] to cell=(14, 14)\n",
      "game_step=119 sending unit=2 pos=[19 20] to cell=(14, 16)\n",
      "game_step=119 sending unit=3 pos=[18 20] to cell=(13, 14)\n",
      "game_step=119 sending unit=4 pos=[21 20] to cell=(13, 17)\n",
      "game_step=119 sending unit=5 pos=[21 23] to cell=(20, 22)\n",
      "============ game step 120 ========== \n",
      ">>>>>>>>>>>>>>> nebula_energy_reduction=1\n",
      " unit[0]=[17 13] assgined to cell=(17, 13), wts={'explore_wt': 0, 'fuel_wt': np.float64(0.18063985161889398), 'relic_nb_wt': np.float64(0.0), 'on_relic_wt': np.float64(30.0), 'sap_wt': np.float64(0.0), 'energy_ratio': np.float64(1.4683544303797469), 'wt': np.float64(27.43704531965354), 'mdist': np.float64(1.1)}\n",
      " unit[1]=[17 14] assgined to cell=(14, 14), wts={'explore_wt': 0, 'fuel_wt': np.float64(0.0), 'relic_nb_wt': 15, 'on_relic_wt': np.float64(30.0), 'sap_wt': np.float64(3.4), 'energy_ratio': np.float64(1.3417721518987342), 'wt': np.float64(33.057951239669414), 'mdist': np.float64(1.4641000000000004)}\n",
      " unit[2]=[19 19] assgined to cell=(13, 17), wts={'explore_wt': 0, 'fuel_wt': np.float64(0.6016359087145511), 'relic_nb_wt': 15, 'on_relic_wt': 0, 'sap_wt': np.float64(0.0), 'energy_ratio': np.float64(1.3924050632911393), 'wt': np.float64(6.616716631600475), 'mdist': np.float64(2.357947691000002)}\n",
      " unit[3]=[18 19] assgined to cell=(13, 14), wts={'explore_wt': 0, 'fuel_wt': np.float64(0.0), 'relic_nb_wt': 15, 'on_relic_wt': np.float64(30.0), 'sap_wt': np.float64(3.4), 'energy_ratio': np.float64(1.1898734177215189), 'wt': np.float64(16.964004734899383), 'mdist': np.float64(2.8531167061100025)}\n",
      " unit[4]=[20 20] assgined to cell=(14, 16), wts={'explore_wt': 0, 'fuel_wt': np.float64(-0.8650606673195492), 'relic_nb_wt': 15, 'on_relic_wt': 0, 'sap_wt': np.float64(0.0), 'energy_ratio': np.float64(1.4430379746835442), 'wt': np.float64(4.9543100056440785), 'mdist': np.float64(2.8531167061100025)}\n",
      " unit[5]=[21 22] assgined to cell=(16, 13), wts={'explore_wt': 0, 'fuel_wt': np.float64(0.0), 'relic_nb_wt': 15, 'on_relic_wt': 0, 'sap_wt': np.float64(0.0), 'energy_ratio': np.float64(1.2658227848101267), 'wt': np.float64(3.5909807405374505), 'mdist': np.float64(4.177248169415656)}\n",
      " unit[6]=[23 23] assgined to cell=(21, 21), wts={'explore_wt': 0, 'fuel_wt': np.float64(4.033603515702599), 'relic_nb_wt': 0, 'on_relic_wt': 0, 'sap_wt': np.float64(0.0), 'energy_ratio': np.float64(1.2658227848101267), 'wt': np.float64(2.504650431666117), 'mdist': np.float64(1.6105100000000006)}\n",
      "game_step=120 sending unit=1 pos=[17 14] to cell=(14, 14)\n",
      "game_step=120 sending unit=2 pos=[19 19] to cell=(13, 17)\n",
      "game_step=120 sending unit=3 pos=[18 19] to cell=(13, 14)\n",
      "game_step=120 sending unit=4 pos=[20 20] to cell=(14, 16)\n",
      "game_step=120 sending unit=5 pos=[21 22] to cell=(16, 13)\n",
      "game_step=120 sending unit=6 pos=[23 23] to cell=(21, 21)\n",
      "attack candidates unit=0 pos=[17 13] e=116\n",
      "============ game step 121 ========== \n",
      ">>>>>>>>>>>>>>> nebula_energy_reduction=1\n",
      " unit[0]=[17 13] assgined to cell=(14, 14), wts={'explore_wt': 0, 'fuel_wt': np.float64(0.0), 'relic_nb_wt': 15, 'on_relic_wt': np.float64(30.0), 'sap_wt': np.float64(3.4), 'energy_ratio': np.float64(1.3375), 'wt': np.float64(30.0526920360631), 'mdist': np.float64(1.6105100000000006)}\n",
      " unit[1]=[17 13] assgined to cell=(17, 13), wts={'explore_wt': 0, 'fuel_wt': np.float64(0.40202138309465485), 'relic_nb_wt': np.float64(0.0), 'on_relic_wt': np.float64(30.0), 'sap_wt': np.float64(0.0), 'energy_ratio': np.float64(1.3375), 'wt': np.float64(27.638301257358776), 'mdist': np.float64(1.1)}\n",
      " unit[2]=[18 19] assgined to cell=(13, 17), wts={'explore_wt': 0, 'fuel_wt': np.float64(0.9735045119199434), 'relic_nb_wt': 15, 'on_relic_wt': 0, 'sap_wt': np.float64(0.0), 'energy_ratio': np.float64(1.3), 'wt': np.float64(7.4518577426241235), 'mdist': np.float64(2.1435888100000016)}\n",
      " unit[3]=[17 19] assgined to cell=(13, 14), wts={'explore_wt': 0, 'fuel_wt': np.float64(0.0), 'relic_nb_wt': 15, 'on_relic_wt': np.float64(30.0), 'sap_wt': np.float64(3.4), 'energy_ratio': np.float64(1.175), 'wt': np.float64(18.660395208389318), 'mdist': np.float64(2.5937424601000023)}\n",
      " unit[4]=[21 20] assgined to cell=(15, 16), wts={'explore_wt': 0, 'fuel_wt': np.float64(-0.6766764161830635), 'relic_nb_wt': 15, 'on_relic_wt': 0, 'sap_wt': np.float64(0.0), 'energy_ratio': np.float64(1.5), 'wt': np.float64(5.020337536425787), 'mdist': np.float64(2.8531167061100025)}\n",
      " unit[5]=[21 21] assgined to cell=(15, 17), wts={'explore_wt': 0, 'fuel_wt': np.float64(-1.6080855323786194), 'relic_nb_wt': 15, 'on_relic_wt': 0, 'sap_wt': np.float64(0.0), 'energy_ratio': np.float64(1.3375), 'wt': np.float64(4.6938843232778895), 'mdist': np.float64(2.8531167061100025)}\n",
      " unit[6]=[22 23] assgined to cell=(21, 21), wts={'explore_wt': 0, 'fuel_wt': np.float64(5.283877213923051), 'relic_nb_wt': 0, 'on_relic_wt': 0, 'sap_wt': np.float64(0.0), 'energy_ratio': np.float64(1.1875), 'wt': np.float64(3.609059233606345), 'mdist': np.float64(1.4641000000000004)}\n",
      "game_step=121 sending unit=0 pos=[17 13] to cell=(14, 14)\n",
      "game_step=121 sending unit=2 pos=[18 19] to cell=(13, 17)\n",
      "game_step=121 sending unit=3 pos=[17 19] to cell=(13, 14)\n",
      "game_step=121 sending unit=4 pos=[21 20] to cell=(15, 16)\n",
      "game_step=121 sending unit=5 pos=[21 21] to cell=(15, 17)\n",
      "game_step=121 sending unit=6 pos=[22 23] to cell=(21, 21)\n",
      "attack candidates unit=1 pos=[17 13] e=107\n",
      "============ game step 122 ========== \n",
      ">>>>>>>>>>>>>>> nebula_energy_reduction=1\n",
      " unit[0]=[17 12] assgined to cell=(14, 14), wts={'explore_wt': 0, 'fuel_wt': np.float64(0.0), 'relic_nb_wt': 15, 'on_relic_wt': np.float64(30.0), 'sap_wt': np.float64(3.4), 'energy_ratio': np.float64(1.4444444444444444), 'wt': np.float64(27.320638214602813), 'mdist': np.float64(1.7715610000000008)}\n",
      " unit[1]=[17 13] assgined to cell=(17, 13), wts={'explore_wt': 0, 'fuel_wt': np.float64(0.37531109885139957), 'relic_nb_wt': np.float64(0.0), 'on_relic_wt': np.float64(30.0), 'sap_wt': np.float64(0.0), 'energy_ratio': np.float64(1.345679012345679), 'wt': np.float64(27.614019180773997), 'mdist': np.float64(1.1)}\n",
      " unit[2]=[17 19] assgined to cell=(13, 17), wts={'explore_wt': 0, 'fuel_wt': np.float64(1.0324113478909926), 'relic_nb_wt': 15, 'on_relic_wt': 0, 'sap_wt': np.float64(0.0), 'energy_ratio': np.float64(1.2839506172839505), 'wt': np.float64(8.227262037984366), 'mdist': np.float64(1.9487171000000012)}\n",
      " unit[3]=[17 18] assgined to cell=(13, 14), wts={'explore_wt': 0, 'fuel_wt': np.float64(0.0), 'relic_nb_wt': 15, 'on_relic_wt': np.float64(30.0), 'sap_wt': np.float64(3.4), 'energy_ratio': np.float64(1.1975308641975309), 'wt': np.float64(20.526424729228253), 'mdist': np.float64(2.357947691000002)}\n",
      " unit[4]=[21 19] assgined to cell=(15, 17), wts={'explore_wt': 0, 'fuel_wt': np.float64(-0.39654901004298954), 'relic_nb_wt': 15, 'on_relic_wt': 0, 'sap_wt': np.float64(0.0), 'energy_ratio': np.float64(1.5308641975308641), 'wt': np.float64(6.193388784860071), 'mdist': np.float64(2.357947691000002)}\n",
      " unit[5]=[21 20] assgined to cell=(15, 16), wts={'explore_wt': 0, 'fuel_wt': np.float64(-1.3901865022659707), 'relic_nb_wt': 15, 'on_relic_wt': 0, 'sap_wt': np.float64(0.0), 'energy_ratio': np.float64(1.3950617283950617), 'wt': np.float64(4.770256604035286), 'mdist': np.float64(2.8531167061100025)}\n",
      " unit[6]=[21 23] assgined to cell=(21, 21), wts={'explore_wt': 0, 'fuel_wt': np.float64(5.478931767693077), 'relic_nb_wt': 0, 'on_relic_wt': 0, 'sap_wt': np.float64(0.0), 'energy_ratio': np.float64(1.1728395061728396), 'wt': np.float64(4.1165025301976526), 'mdist': np.float64(1.3310000000000004)}\n",
      "game_step=122 sending unit=0 pos=[17 12] to cell=(14, 14)\n",
      "game_step=122 sending unit=2 pos=[17 19] to cell=(13, 17)\n",
      "game_step=122 sending unit=3 pos=[17 18] to cell=(13, 14)\n",
      "game_step=122 sending unit=4 pos=[21 19] to cell=(15, 17)\n",
      "game_step=122 sending unit=5 pos=[21 20] to cell=(15, 16)\n",
      "game_step=122 sending unit=6 pos=[21 23] to cell=(21, 21)\n",
      "attack candidates unit=1 pos=[17 13] e=109\n",
      "============ game step 123 ========== \n",
      ">>>>>>>>>>>>>>> nebula_energy_reduction=1\n",
      " unit[0]=[16 12] assgined to cell=(14, 14), wts={'explore_wt': 0, 'fuel_wt': np.float64(0.0), 'relic_nb_wt': 15, 'on_relic_wt': np.float64(30.0), 'sap_wt': np.float64(3.4), 'energy_ratio': np.float64(1.4390243902439024), 'wt': np.float64(30.0526920360631), 'mdist': np.float64(1.6105100000000006)}\n",
      " unit[1]=[17 13] assgined to cell=(17, 13), wts={'explore_wt': 0, 'fuel_wt': np.float64(0.3495006001997565), 'relic_nb_wt': np.float64(0.0), 'on_relic_wt': np.float64(30.0), 'sap_wt': np.float64(0.0), 'energy_ratio': np.float64(1.353658536585366), 'wt': np.float64(27.590555091090685), 'mdist': np.float64(1.1)}\n",
      " unit[2]=[16 19] assgined to cell=(15, 17), wts={'explore_wt': 0, 'fuel_wt': np.float64(-1.398002400799026), 'relic_nb_wt': 15, 'on_relic_wt': 0, 'sap_wt': np.float64(0.0), 'energy_ratio': np.float64(1.353658536585366), 'wt': np.float64(9.29044738009765), 'mdist': np.float64(1.4641000000000004)}\n",
      " unit[3]=[17 19] assgined to cell=(13, 14), wts={'explore_wt': 0, 'fuel_wt': np.float64(1.5096792039780147), 'relic_nb_wt': 15, 'on_relic_wt': np.float64(30.0), 'sap_wt': np.float64(3.4), 'energy_ratio': np.float64(1.1829268292682926), 'wt': np.float64(19.242441894674357), 'mdist': np.float64(2.5937424601000023)}\n",
      " unit[4]=[21 18] assgined to cell=(15, 16), wts={'explore_wt': 0, 'fuel_wt': np.float64(-0.49568626255373693), 'relic_nb_wt': 15, 'on_relic_wt': 0, 'sap_wt': np.float64(0.0), 'energy_ratio': np.float64(1.524390243902439), 'wt': np.float64(6.151344912178271), 'mdist': np.float64(2.357947691000002)}\n",
      " unit[5]=[21 19] assgined to cell=(15, 15), wts={'explore_wt': 0, 'fuel_wt': np.float64(-0.8650606673195492), 'relic_nb_wt': 15, 'on_relic_wt': 0, 'sap_wt': np.float64(0.0), 'energy_ratio': np.float64(1.4268292682926829), 'wt': np.float64(4.9543100056440785), 'mdist': np.float64(2.8531167061100025)}\n",
      " unit[6]=[21 22] assgined to cell=(21, 21), wts={'explore_wt': 0, 'fuel_wt': np.float64(4.66883767600932), 'relic_nb_wt': 0, 'on_relic_wt': 0, 'sap_wt': np.float64(0.0), 'energy_ratio': np.float64(1.2195121951219512), 'wt': np.float64(3.8586435338919998), 'mdist': np.float64(1.2100000000000002)}\n",
      " unit[7]=[23 23] assgined to cell=(20, 22), wts={'explore_wt': 0, 'fuel_wt': np.float64(4.66883767600932), 'relic_nb_wt': 0, 'on_relic_wt': 0, 'sap_wt': np.float64(0.0), 'energy_ratio': np.float64(1.2195121951219512), 'wt': np.float64(2.8990808669361376), 'mdist': np.float64(1.6105100000000006)}\n",
      "game_step=123 sending unit=0 pos=[16 12] to cell=(14, 14)\n",
      "game_step=123 sending unit=2 pos=[16 19] to cell=(15, 17)\n",
      "game_step=123 sending unit=3 pos=[17 19] to cell=(13, 14)\n",
      "game_step=123 sending unit=4 pos=[21 18] to cell=(15, 16)\n",
      "game_step=123 sending unit=5 pos=[21 19] to cell=(15, 15)\n",
      "game_step=123 sending unit=6 pos=[21 22] to cell=(21, 21)\n",
      "game_step=123 sending unit=7 pos=[23 23] to cell=(20, 22)\n",
      "attack candidates unit=1 pos=[17 13] e=111\n",
      "============ game step 124 ========== \n",
      ">>>>>>>>>>>>>>> nebula_energy_reduction=1\n",
      " unit[0]=[15 12] assgined to cell=(14, 14), wts={'explore_wt': 0, 'fuel_wt': np.float64(0.0), 'relic_nb_wt': 15, 'on_relic_wt': np.float64(30.0), 'sap_wt': np.float64(3.4), 'energy_ratio': np.float64(1.4578313253012047), 'wt': np.float64(33.057951239669414), 'mdist': np.float64(1.4641000000000004)}\n",
      " unit[1]=[17 13] assgined to cell=(17, 13), wts={'explore_wt': 0, 'fuel_wt': np.float64(0.32465246735834974), 'relic_nb_wt': np.float64(0.0), 'on_relic_wt': np.float64(30.0), 'sap_wt': np.float64(0.0), 'energy_ratio': np.float64(1.3614457831325302), 'wt': np.float64(27.56796587941668), 'mdist': np.float64(1.1)}\n",
      " unit[2]=[15 19] assgined to cell=(15, 17), wts={'explore_wt': 0, 'fuel_wt': np.float64(-0.9429843062234541), 'relic_nb_wt': 15, 'on_relic_wt': 0, 'sap_wt': np.float64(0.0), 'energy_ratio': np.float64(1.4096385542168675), 'wt': np.float64(10.561343947240076), 'mdist': np.float64(1.3310000000000004)}\n",
      " unit[3]=[16 19] assgined to cell=(13, 14), wts={'explore_wt': 0, 'fuel_wt': np.float64(1.1524581473435997), 'relic_nb_wt': 15, 'on_relic_wt': np.float64(30.0), 'sap_wt': np.float64(3.4), 'energy_ratio': np.float64(1.2530120481927711), 'wt': np.float64(21.01517948479064), 'mdist': np.float64(2.357947691000002)}\n",
      " unit[4]=[21 17] assgined to cell=(15, 16), wts={'explore_wt': 0, 'fuel_wt': np.float64(-0.8223722828857745), 'relic_nb_wt': 15, 'on_relic_wt': 0, 'sap_wt': np.float64(0.0), 'energy_ratio': np.float64(1.4578313253012047), 'wt': np.float64(6.614067963899855), 'mdist': np.float64(2.1435888100000016)}\n",
      " unit[5]=[21 18] assgined to cell=(15, 15), wts={'explore_wt': 0, 'fuel_wt': np.float64(-0.8650606673195492), 'relic_nb_wt': 15, 'on_relic_wt': 0, 'sap_wt': np.float64(0.0), 'energy_ratio': np.float64(1.4216867469879517), 'wt': np.float64(5.449731006208486), 'mdist': np.float64(2.5937424601000023)}\n",
      " unit[6]=[21 21] assgined to cell=(14, 16), wts={'explore_wt': 0, 'fuel_wt': np.float64(-1.9470090238398867), 'relic_nb_wt': 15, 'on_relic_wt': 0, 'sap_wt': np.float64(0.0), 'energy_ratio': np.float64(1.2891566265060241), 'wt': np.float64(3.781086534818001), 'mdist': np.float64(3.452271214393104)}\n",
      " unit[7]=[22 23] assgined to cell=(21, 21), wts={'explore_wt': 0, 'fuel_wt': np.float64(5.846891479878904), 'relic_nb_wt': 0, 'on_relic_wt': 0, 'sap_wt': np.float64(0.0), 'energy_ratio': np.float64(1.144578313253012), 'wt': np.float64(3.993605552816681), 'mdist': np.float64(1.4641000000000004)}\n",
      "game_step=124 sending unit=0 pos=[15 12] to cell=(14, 14)\n",
      "game_step=124 sending unit=2 pos=[15 19] to cell=(15, 17)\n",
      "game_step=124 sending unit=3 pos=[16 19] to cell=(13, 14)\n",
      "game_step=124 sending unit=4 pos=[21 17] to cell=(15, 16)\n",
      "game_step=124 sending unit=5 pos=[21 18] to cell=(15, 15)\n",
      "game_step=124 sending unit=6 pos=[21 21] to cell=(14, 16)\n",
      "game_step=124 sending unit=7 pos=[22 23] to cell=(21, 21)\n",
      "attack candidates unit=1 pos=[17 13] e=113\n",
      "============ game step 125 ========== \n",
      ">>>>>>>>>>>>>>> nebula_energy_reduction=1\n",
      " unit[0]=[14 12] assgined to cell=(14, 14), wts={'explore_wt': 0, 'fuel_wt': np.float64(0.0), 'relic_nb_wt': 15, 'on_relic_wt': np.float64(30.0), 'sap_wt': np.float64(3.4), 'energy_ratio': np.float64(1.4761904761904763), 'wt': np.float64(36.363736363636356), 'mdist': np.float64(1.3310000000000004)}\n",
      " unit[1]=[17 13] assgined to cell=(17, 13), wts={'explore_wt': 0, 'fuel_wt': np.float64(0.30081795435727554), 'relic_nb_wt': np.float64(0.0), 'on_relic_wt': np.float64(30.0), 'sap_wt': np.float64(0.0), 'energy_ratio': np.float64(1.369047619047619), 'wt': np.float64(27.546298140324794), 'mdist': np.float64(1.1)}\n",
      " unit[2]=[15 18] assgined to cell=(13, 14), wts={'explore_wt': 0, 'fuel_wt': np.float64(0.47149215311172704), 'relic_nb_wt': 15, 'on_relic_wt': np.float64(30.0), 'sap_wt': np.float64(3.4), 'energy_ratio': np.float64(1.4047619047619047), 'wt': np.float64(25.078902948417547), 'mdist': np.float64(1.9487171000000012)}\n",
      " unit[3]=[15 19] assgined to cell=(15, 17), wts={'explore_wt': 0, 'fuel_wt': np.float64(-1.7182294328429566), 'relic_nb_wt': 15, 'on_relic_wt': 0, 'sap_wt': np.float64(0.0), 'energy_ratio': np.float64(1.3095238095238095), 'wt': np.float64(9.978890809284026), 'mdist': np.float64(1.3310000000000004)}\n",
      " unit[4]=[20 17] assgined to cell=(15, 16), wts={'explore_wt': 0, 'fuel_wt': np.float64(-1.7475030009987824), 'relic_nb_wt': 15, 'on_relic_wt': 0, 'sap_wt': np.float64(0.0), 'energy_ratio': np.float64(1.3452380952380953), 'wt': np.float64(6.800726421865549), 'mdist': np.float64(1.9487171000000012)}\n",
      " unit[5]=[21 17] assgined to cell=(13, 17), wts={'explore_wt': 0, 'fuel_wt': np.float64(-1.298609869433399), 'relic_nb_wt': 15, 'on_relic_wt': 0, 'sap_wt': np.float64(0.0), 'energy_ratio': np.float64(1.3571428571428572), 'wt': np.float64(5.8108269227655605), 'mdist': np.float64(2.357947691000002)}\n",
      " unit[6]=[21 20] assgined to cell=(14, 16), wts={'explore_wt': 0, 'fuel_wt': np.float64(-1.398002400799026), 'relic_nb_wt': 15, 'on_relic_wt': 0, 'sap_wt': np.float64(0.0), 'energy_ratio': np.float64(1.3452380952380953), 'wt': np.float64(4.334115617527712), 'mdist': np.float64(3.138428376721003)}\n",
      " unit[7]=[21 23] assgined to cell=(21, 21), wts={'explore_wt': 0, 'fuel_wt': np.float64(6.017429345217796), 'relic_nb_wt': 0, 'on_relic_wt': 0, 'sap_wt': np.float64(0.0), 'energy_ratio': np.float64(1.130952380952381), 'wt': np.float64(4.521083730441618), 'mdist': np.float64(1.3310000000000004)}\n",
      "game_step=125 sending unit=0 pos=[14 12] to cell=(14, 14)\n",
      "game_step=125 sending unit=2 pos=[15 18] to cell=(13, 14)\n",
      "game_step=125 sending unit=3 pos=[15 19] to cell=(15, 17)\n",
      "game_step=125 sending unit=4 pos=[20 17] to cell=(15, 16)\n",
      "game_step=125 sending unit=5 pos=[21 17] to cell=(13, 17)\n",
      "game_step=125 sending unit=6 pos=[21 20] to cell=(14, 16)\n",
      "game_step=125 sending unit=7 pos=[21 23] to cell=(21, 21)\n",
      "attack candidates unit=1 pos=[17 13] e=115\n",
      "============ game step 126 ========== \n",
      ">>>>>>>>>>>>>>> nebula_energy_reduction=1\n",
      " unit[0]=[14 13] assgined to cell=(14, 14), wts={'explore_wt': 0, 'fuel_wt': np.float64(0.0), 'relic_nb_wt': 15, 'on_relic_wt': np.float64(30.0), 'sap_wt': np.float64(3.4), 'energy_ratio': np.float64(1.4705882352941178), 'wt': np.float64(40.000099999999996), 'mdist': np.float64(1.2100000000000002)}\n",
      " unit[1]=[17 13] assgined to cell=(17, 13), wts={'explore_wt': 0, 'fuel_wt': np.float64(0.27803730045319414), 'relic_nb_wt': np.float64(0.0), 'on_relic_wt': np.float64(30.0), 'sap_wt': np.float64(0.0), 'energy_ratio': np.float64(1.3764705882352941), 'wt': np.float64(27.525588454957447), 'mdist': np.float64(1.1)}\n",
      " unit[2]=[15 19] assgined to cell=(15, 17), wts={'explore_wt': 0, 'fuel_wt': np.float64(-0.5975271010016721), 'relic_nb_wt': 15, 'on_relic_wt': 0, 'sap_wt': np.float64(0.0), 'energy_ratio': np.float64(1.4588235294117646), 'wt': np.float64(10.820891058601294), 'mdist': np.float64(1.3310000000000004)}\n",
      " unit[3]=[15 18] assgined to cell=(13, 14), wts={'explore_wt': 0, 'fuel_wt': np.float64(0.8591147164214783), 'relic_nb_wt': 15, 'on_relic_wt': np.float64(30.0), 'sap_wt': np.float64(3.4), 'energy_ratio': np.float64(1.3058823529411765), 'wt': np.float64(25.277814613589346), 'mdist': np.float64(1.9487171000000012)}\n",
      " unit[4]=[19 17] assgined to cell=(15, 15), wts={'explore_wt': 0, 'fuel_wt': np.float64(-2.1842977065588376), 'relic_nb_wt': 15, 'on_relic_wt': 0, 'sap_wt': np.float64(0.0), 'energy_ratio': np.float64(1.2588235294117647), 'wt': np.float64(6.576581672707215), 'mdist': np.float64(1.9487171000000012)}\n",
      " unit[5]=[21 16] assgined to cell=(15, 16), wts={'explore_wt': 0, 'fuel_wt': np.float64(-2.0101069154732745), 'relic_nb_wt': 15, 'on_relic_wt': 0, 'sap_wt': np.float64(0.0), 'energy_ratio': np.float64(1.3176470588235294), 'wt': np.float64(6.665969091273801), 'mdist': np.float64(1.9487171000000012)}\n",
      " unit[6]=[21 19] assgined to cell=(14, 16), wts={'explore_wt': 0, 'fuel_wt': np.float64(-1.1121492018127765), 'relic_nb_wt': 15, 'on_relic_wt': 0, 'sap_wt': np.float64(0.0), 'energy_ratio': np.float64(1.3764705882352941), 'wt': np.float64(4.867706981672405), 'mdist': np.float64(2.8531167061100025)}\n",
      " unit[7]=[21 22] assgined to cell=(20, 22), wts={'explore_wt': 0, 'fuel_wt': np.float64(5.283877213923051), 'relic_nb_wt': 0, 'on_relic_wt': 0, 'sap_wt': np.float64(0.0), 'energy_ratio': np.float64(1.1764705882352942), 'wt': np.float64(4.366940672663678), 'mdist': np.float64(1.2100000000000002)}\n",
      " unit[8]=[23 23] assgined to cell=(19, 23), wts={'explore_wt': 0, 'fuel_wt': np.float64(5.283877213923051), 'relic_nb_wt': 0, 'on_relic_wt': 0, 'sap_wt': np.float64(0.0), 'energy_ratio': np.float64(1.1764705882352942), 'wt': np.float64(3.2809720305512227), 'mdist': np.float64(1.6105100000000006)}\n",
      "game_step=126 sending unit=0 pos=[14 13] to cell=(14, 14)\n",
      "game_step=126 sending unit=2 pos=[15 19] to cell=(15, 17)\n",
      "game_step=126 sending unit=3 pos=[15 18] to cell=(13, 14)\n",
      "game_step=126 sending unit=4 pos=[19 17] to cell=(15, 15)\n",
      "game_step=126 sending unit=5 pos=[21 16] to cell=(15, 16)\n",
      "game_step=126 sending unit=6 pos=[21 19] to cell=(14, 16)\n",
      "game_step=126 sending unit=7 pos=[21 22] to cell=(20, 22)\n",
      "game_step=126 sending unit=8 pos=[23 23] to cell=(19, 23)\n",
      "attack candidates unit=1 pos=[17 13] e=117\n",
      "============ game step 127 ========== \n",
      ">>>>>>>>>>>>>>> nebula_energy_reduction=1\n",
      " unit[0]=[14 14] assgined to cell=(13, 14), wts={'explore_wt': 0, 'fuel_wt': np.float64(0.3289489131543098), 'relic_nb_wt': 15, 'on_relic_wt': np.float64(30.0), 'sap_wt': np.float64(3.4), 'energy_ratio': np.float64(1.441860465116279), 'wt': np.float64(40.271958605912644), 'mdist': np.float64(1.2100000000000002)}\n",
      " unit[1]=[17 13] assgined to cell=(17, 13), wts={'explore_wt': 0, 'fuel_wt': np.float64(0.2563401514150736), 'relic_nb_wt': np.float64(0.0), 'on_relic_wt': np.float64(30.0), 'sap_wt': np.float64(0.0), 'energy_ratio': np.float64(1.3837209302325582), 'wt': np.float64(27.5058637740137), 'mdist': np.float64(1.1)}\n",
      " unit[2]=[15 18] assgined to cell=(14, 14), wts={'explore_wt': 0, 'fuel_wt': np.float64(0.0), 'relic_nb_wt': np.float64(0.0), 'on_relic_wt': np.float64(30.0), 'sap_wt': np.float64(3.4), 'energy_ratio': np.float64(1.4534883720930232), 'wt': np.float64(18.853529263796155), 'mdist': np.float64(1.7715610000000008)}\n",
      " unit[3]=[15 19] assgined to cell=(15, 17), wts={'explore_wt': 0, 'fuel_wt': np.float64(-1.2032718174291022), 'relic_nb_wt': 15, 'on_relic_wt': 0, 'sap_wt': np.float64(0.0), 'energy_ratio': np.float64(1.3604651162790697), 'wt': np.float64(10.365786087581439), 'mdist': np.float64(1.3310000000000004)}\n",
      " unit[4]=[18 17] assgined to cell=(14, 16), wts={'explore_wt': 0, 'fuel_wt': np.float64(-2.3049162946871995), 'relic_nb_wt': 15, 'on_relic_wt': 0, 'sap_wt': np.float64(0.0), 'energy_ratio': np.float64(1.244186046511628), 'wt': np.float64(7.166143791499584), 'mdist': np.float64(1.7715610000000008)}\n",
      " unit[5]=[21 15] assgined to cell=(15, 15), wts={'explore_wt': 0, 'fuel_wt': np.float64(-1.9470090238398867), 'relic_nb_wt': 15, 'on_relic_wt': 0, 'sap_wt': np.float64(0.0), 'energy_ratio': np.float64(1.2790697674418605), 'wt': np.float64(6.698348286608716), 'mdist': np.float64(1.9487171000000012)}\n",
      " unit[6]=[21 18] assgined to cell=(15, 16), wts={'explore_wt': 0, 'fuel_wt': np.float64(-1.3901865022659707), 'relic_nb_wt': 15, 'on_relic_wt': 0, 'sap_wt': np.float64(0.0), 'energy_ratio': np.float64(1.372093023255814), 'wt': np.float64(5.771989490882696), 'mdist': np.float64(2.357947691000002)}\n",
      " unit[7]=[20 22] assgined to cell=(13, 17), wts={'explore_wt': 0, 'fuel_wt': np.float64(-2.3049162946871995), 'relic_nb_wt': 15, 'on_relic_wt': 0, 'sap_wt': np.float64(0.0), 'energy_ratio': np.float64(1.244186046511628), 'wt': np.float64(3.6774135472047633), 'mdist': np.float64(3.452271214393104)}\n",
      " unit[8]=[22 23] assgined to cell=(19, 23), wts={'explore_wt': 0, 'fuel_wt': np.float64(6.325949545112373), 'relic_nb_wt': 0, 'on_relic_wt': 0, 'sap_wt': np.float64(0.0), 'energy_ratio': np.float64(1.1046511627906976), 'wt': np.float64(4.3208086572722975), 'mdist': np.float64(1.4641000000000004)}\n",
      "game_step=127 sending unit=0 pos=[14 14] to cell=(13, 14)\n",
      "game_step=127 sending unit=2 pos=[15 18] to cell=(14, 14)\n",
      "game_step=127 sending unit=3 pos=[15 19] to cell=(15, 17)\n",
      "game_step=127 sending unit=4 pos=[18 17] to cell=(14, 16)\n",
      "game_step=127 sending unit=5 pos=[21 15] to cell=(15, 15)\n",
      "game_step=127 sending unit=6 pos=[21 18] to cell=(15, 16)\n",
      "game_step=127 sending unit=7 pos=[20 22] to cell=(13, 17)\n",
      "game_step=127 sending unit=8 pos=[22 23] to cell=(19, 23)\n",
      "attack candidates unit=1 pos=[17 13] e=119\n",
      "============ game step 128 ========== \n",
      ">>>>>>>>>>>>>>> nebula_energy_reduction=1\n",
      " unit[0]=[13 14] assgined to cell=(13, 14), wts={'explore_wt': 0, 'fuel_wt': np.float64(0.29876355050083603), 'relic_nb_wt': np.float64(0.0), 'on_relic_wt': np.float64(30.0), 'sap_wt': np.float64(3.4), 'energy_ratio': np.float64(1.4482758620689655), 'wt': np.float64(30.635339591364392), 'mdist': np.float64(1.1)}\n",
      " unit[1]=[17 13] assgined to cell=(17, 13), wts={'explore_wt': 0, 'fuel_wt': np.float64(0.23574607655586352), 'relic_nb_wt': np.float64(0.0), 'on_relic_wt': np.float64(30.0), 'sap_wt': np.float64(0.0), 'energy_ratio': np.float64(1.3908045977011494), 'wt': np.float64(27.487141887778055), 'mdist': np.float64(1.1)}\n",
      " unit[2]=[15 19] assgined to cell=(15, 16), wts={'explore_wt': 0, 'fuel_wt': np.float64(-0.4446080872969317), 'relic_nb_wt': 15, 'on_relic_wt': 0, 'sap_wt': np.float64(0.0), 'energy_ratio': np.float64(1.5057471264367817), 'wt': np.float64(9.941628524488126), 'mdist': np.float64(1.4641000000000004)}\n",
      " unit[3]=[15 18] assgined to cell=(14, 14), wts={'explore_wt': 0, 'fuel_wt': np.float64(0.0), 'relic_nb_wt': np.float64(9.463946303571861), 'on_relic_wt': np.float64(30.0), 'sap_wt': np.float64(3.4), 'energy_ratio': np.float64(1.3563218390804597), 'wt': np.float64(24.195680227591282), 'mdist': np.float64(1.7715610000000008)}\n",
      " unit[4]=[17 17] assgined to cell=(15, 17), wts={'explore_wt': 0, 'fuel_wt': np.float64(-2.0648226957819853), 'relic_nb_wt': 15, 'on_relic_wt': 0, 'sap_wt': np.float64(0.0), 'energy_ratio': np.float64(1.264367816091954), 'wt': np.float64(9.718490160945162), 'mdist': np.float64(1.3310000000000004)}\n",
      " unit[5]=[21 14] assgined to cell=(15, 15), wts={'explore_wt': 0, 'fuel_wt': np.float64(-2.1842977065588376), 'relic_nb_wt': 15, 'on_relic_wt': 0, 'sap_wt': np.float64(0.0), 'energy_ratio': np.float64(1.2528735632183907), 'wt': np.float64(5.978719702461104), 'mdist': np.float64(2.1435888100000016)}\n",
      " unit[6]=[21 17] assgined to cell=(13, 17), wts={'explore_wt': 0, 'fuel_wt': np.float64(-1.6080855323786194), 'relic_nb_wt': 15, 'on_relic_wt': 0, 'sap_wt': np.float64(0.0), 'energy_ratio': np.float64(1.3103448275862069), 'wt': np.float64(5.679579031166247), 'mdist': np.float64(2.357947691000002)}\n",
      " unit[7]=[20 21] assgined to cell=(14, 16), wts={'explore_wt': 0, 'fuel_wt': np.float64(-1.831333447086457), 'relic_nb_wt': 15, 'on_relic_wt': 0, 'sap_wt': np.float64(0.0), 'energy_ratio': np.float64(1.2873563218390804), 'wt': np.float64(4.196042991909864), 'mdist': np.float64(3.138428376721003)}\n",
      " unit[8]=[21 23] assgined to cell=(19, 23), wts={'explore_wt': 0, 'fuel_wt': np.float64(6.46181442470645), 'relic_nb_wt': 0, 'on_relic_wt': 0, 'sap_wt': np.float64(0.0), 'energy_ratio': np.float64(1.0919540229885059), 'wt': np.float64(4.854956817961268), 'mdist': np.float64(1.3310000000000004)}\n",
      "game_step=128 sending unit=2 pos=[15 19] to cell=(15, 16)\n",
      "game_step=128 sending unit=3 pos=[15 18] to cell=(14, 14)\n",
      "game_step=128 sending unit=4 pos=[17 17] to cell=(15, 17)\n",
      "game_step=128 sending unit=5 pos=[21 14] to cell=(15, 15)\n",
      "game_step=128 sending unit=6 pos=[21 17] to cell=(13, 17)\n",
      "game_step=128 sending unit=7 pos=[20 21] to cell=(14, 16)\n",
      "game_step=128 sending unit=8 pos=[21 23] to cell=(19, 23)\n",
      "attack candidates unit=0 pos=[13 14] e=126\n",
      "attack candidates unit=1 pos=[17 13] e=121\n",
      "found attacker unit=0 pos=[13 14] e=126\n",
      "blind shot from unit[0]=[13 14] at pos=[9 9]\n",
      "step=128, unit[[13 14]] sap at [9 9] with damage=-1.0\n",
      "============ game step 129 ========== \n",
      ">>>>>>>>>>>>>>> nebula_energy_reduction=1\n",
      " unit[0]=[13 14] assgined to cell=(13, 14), wts={'explore_wt': 0, 'fuel_wt': np.float64(1.8811761267286842), 'relic_nb_wt': np.float64(0.0), 'on_relic_wt': np.float64(30.0), 'sap_wt': np.float64(3.4), 'energy_ratio': np.float64(1.0795454545454546), 'wt': np.float64(32.073896478844254), 'mdist': np.float64(1.1)}\n",
      " unit[1]=[17 13] assgined to cell=(17, 13), wts={'explore_wt': 0, 'fuel_wt': np.float64(0.2162651668298873), 'relic_nb_wt': np.float64(0.0), 'on_relic_wt': np.float64(30.0), 'sap_wt': np.float64(0.0), 'energy_ratio': np.float64(1.3977272727272727), 'wt': np.float64(27.46943196984535), 'mdist': np.float64(1.1)}\n",
      " unit[2]=[15 18] assgined to cell=(15, 17), wts={'explore_wt': 0, 'fuel_wt': np.float64(-0.35568646983754537), 'relic_nb_wt': 15, 'on_relic_wt': 0, 'sap_wt': np.float64(0.0), 'energy_ratio': np.float64(1.5), 'wt': np.float64(12.102838454679713), 'mdist': np.float64(1.2100000000000002)}\n",
      " unit[3]=[15 19] assgined to cell=(15, 16), wts={'explore_wt': 0, 'fuel_wt': np.float64(-0.9894934954180733), 'relic_nb_wt': 15, 'on_relic_wt': 0, 'sap_wt': np.float64(0.0), 'energy_ratio': np.float64(1.4090909090909092), 'wt': np.float64(9.569464459109296), 'mdist': np.float64(1.4641000000000004)}\n",
      " unit[4]=[16 17] assgined to cell=(14, 14), wts={'explore_wt': 0, 'fuel_wt': np.float64(0.0), 'relic_nb_wt': np.float64(15.0), 'on_relic_wt': np.float64(30.0), 'sap_wt': np.float64(3.4), 'energy_ratio': np.float64(1.25), 'wt': np.float64(27.320638214602813), 'mdist': np.float64(1.7715610000000008)}\n",
      " unit[5]=[20 14] assgined to cell=(15, 15), wts={'explore_wt': 0, 'fuel_wt': np.float64(-2.5473264574869727), 'relic_nb_wt': 15, 'on_relic_wt': 0, 'sap_wt': np.float64(0.0), 'energy_ratio': np.float64(1.2159090909090908), 'wt': np.float64(6.39029052201729), 'mdist': np.float64(1.9487171000000012)}\n",
      " unit[6]=[21 16] assgined to cell=(14, 16), wts={'explore_wt': 0, 'fuel_wt': np.float64(-1.9470090238398867), 'relic_nb_wt': 15, 'on_relic_wt': 0, 'sap_wt': np.float64(0.0), 'energy_ratio': np.float64(1.2727272727272727), 'wt': np.float64(6.089416624189741), 'mdist': np.float64(2.1435888100000016)}\n",
      " unit[7]=[21 21] assgined to cell=(13, 17), wts={'explore_wt': 0, 'fuel_wt': np.float64(-1.2032718174291022), 'relic_nb_wt': 15, 'on_relic_wt': 0, 'sap_wt': np.float64(0.0), 'energy_ratio': np.float64(1.3522727272727273), 'wt': np.float64(3.9965207114000783), 'mdist': np.float64(3.452271214393104)}\n",
      " unit[8]=[20 23] assgined to cell=(20, 22), wts={'explore_wt': 0, 'fuel_wt': np.float64(5.846891479878904), 'relic_nb_wt': 0, 'on_relic_wt': 0, 'sap_wt': np.float64(0.0), 'energy_ratio': np.float64(1.1363636363636365), 'wt': np.float64(4.832241718908184), 'mdist': np.float64(1.2100000000000002)}\n",
      " unit[9]=[23 23] assgined to cell=(19, 23), wts={'explore_wt': 0, 'fuel_wt': np.float64(5.846891479878904), 'relic_nb_wt': 0, 'on_relic_wt': 0, 'sap_wt': np.float64(0.0), 'energy_ratio': np.float64(1.1363636363636365), 'wt': np.float64(3.6305595934697097), 'mdist': np.float64(1.6105100000000006)}\n",
      "game_step=129 sending unit=2 pos=[15 18] to cell=(15, 17)\n",
      "game_step=129 sending unit=3 pos=[15 19] to cell=(15, 16)\n",
      "game_step=129 sending unit=4 pos=[16 17] to cell=(14, 14)\n",
      "game_step=129 sending unit=5 pos=[20 14] to cell=(15, 15)\n",
      "game_step=129 sending unit=6 pos=[21 16] to cell=(14, 16)\n",
      "game_step=129 sending unit=7 pos=[21 21] to cell=(13, 17)\n",
      "game_step=129 sending unit=8 pos=[20 23] to cell=(20, 22)\n",
      "game_step=129 sending unit=9 pos=[23 23] to cell=(19, 23)\n",
      "attack candidates unit=0 pos=[13 14] e=95\n",
      "attack candidates unit=1 pos=[17 13] e=123\n",
      "found attacker unit=0 pos=[13 14] e=95\n",
      "blind shot from unit[0]=[13 14] at pos=[9 9]\n",
      "step=129, unit[[13 14]] sap at [9 9] with damage=-1.0\n",
      "============ game step 130 ========== \n",
      ">>>>>>>>>>>>>>> nebula_energy_reduction=1\n",
      " unit[0]=[13 14] assgined to cell=(13, 14), wts={'explore_wt': 0, 'fuel_wt': np.int32(2), 'relic_nb_wt': np.float64(0.0), 'on_relic_wt': np.float64(30.0), 'sap_wt': np.float64(3.4), 'energy_ratio': np.float64(0.7191011235955056), 'wt': np.float64(32.18191818181818), 'mdist': np.float64(1.1)}\n",
      " unit[1]=[17 13] assgined to cell=(17, 13), wts={'explore_wt': 0, 'fuel_wt': np.float64(0.19789869908361465), 'relic_nb_wt': np.float64(0.0), 'on_relic_wt': np.float64(30.0), 'sap_wt': np.float64(0.0), 'energy_ratio': np.float64(1.404494382022472), 'wt': np.float64(27.452735180985105), 'mdist': np.float64(1.1)}\n",
      " unit[2]=[15 17] assgined to cell=(15, 16), wts={'explore_wt': 0, 'fuel_wt': np.float64(-0.9031992580944699), 'relic_nb_wt': 15, 'on_relic_wt': 0, 'sap_wt': np.float64(0.0), 'energy_ratio': np.float64(1.4157303370786516), 'wt': np.float64(11.650348547029362), 'mdist': np.float64(1.2100000000000002)}\n",
      " unit[3]=[15 18] assgined to cell=(13, 17), wts={'explore_wt': 0, 'fuel_wt': np.float64(-0.7915947963344586), 'relic_nb_wt': 15, 'on_relic_wt': 0, 'sap_wt': np.float64(0.0), 'energy_ratio': np.float64(1.404494382022472), 'wt': np.float64(9.70463193338265), 'mdist': np.float64(1.4641000000000004)}\n",
      " unit[4]=[17 17] assgined to cell=(14, 16), wts={'explore_wt': 0, 'fuel_wt': np.float64(-1.9470090238398867), 'relic_nb_wt': 15, 'on_relic_wt': 0, 'sap_wt': np.float64(0.0), 'energy_ratio': np.float64(1.2696629213483146), 'wt': np.float64(8.104980426796548), 'mdist': np.float64(1.6105100000000006)}\n",
      " unit[5]=[19 14] assgined to cell=(14, 14), wts={'explore_wt': 0, 'fuel_wt': np.float64(0.0), 'relic_nb_wt': 15, 'on_relic_wt': np.float64(30.0), 'sap_wt': np.float64(3.4), 'energy_ratio': np.float64(1.2134831460674158), 'wt': np.float64(27.320638214602813), 'mdist': np.float64(1.7715610000000008)}\n",
      " unit[6]=[21 15] assgined to cell=(15, 15), wts={'explore_wt': 0, 'fuel_wt': np.float64(-2.3049162946871995), 'relic_nb_wt': 15, 'on_relic_wt': 0, 'sap_wt': np.float64(0.0), 'energy_ratio': np.float64(1.2359550561797752), 'wt': np.float64(6.5146852649996205), 'mdist': np.float64(1.9487171000000012)}\n",
      " unit[7]=[21 20] assgined to cell=(9, 15), wts={'explore_wt': 3, 'fuel_wt': np.float64(1.3852908935853026), 'relic_nb_wt': 0, 'on_relic_wt': 0, 'sap_wt': np.float64(3.4), 'energy_ratio': np.float64(1.404494382022472), 'wt': np.float64(1.400352999211473), 'mdist': np.float64(5.55991731349224)}\n",
      " unit[8]=[20 22] assgined to cell=(20, 22), wts={'explore_wt': 0, 'fuel_wt': np.float64(4.66883767600932), 'relic_nb_wt': 0, 'on_relic_wt': 0, 'sap_wt': np.float64(0.0), 'energy_ratio': np.float64(1.202247191011236), 'wt': np.float64(4.2444978872812), 'mdist': np.float64(1.1)}\n",
      " unit[9]=[22 23] assgined to cell=(21, 21), wts={'explore_wt': 0, 'fuel_wt': np.float64(6.6919823728317), 'relic_nb_wt': 0, 'on_relic_wt': 0, 'sap_wt': np.float64(0.0), 'energy_ratio': np.float64(1.0674157303370786), 'wt': np.float64(4.5708140037099225), 'mdist': np.float64(1.4641000000000004)}\n",
      "game_step=130 sending unit=2 pos=[15 17] to cell=(15, 16)\n",
      "game_step=130 sending unit=3 pos=[15 18] to cell=(13, 17)\n",
      "game_step=130 sending unit=4 pos=[17 17] to cell=(14, 16)\n",
      "game_step=130 sending unit=5 pos=[19 14] to cell=(14, 14)\n",
      "game_step=130 sending unit=6 pos=[21 15] to cell=(15, 15)\n",
      "game_step=130 sending unit=7 pos=[21 20] to cell=(9, 15)\n",
      "game_step=130 sending unit=9 pos=[22 23] to cell=(21, 21)\n",
      "attack candidates unit=0 pos=[13 14] e=64\n",
      "attack candidates unit=1 pos=[17 13] e=125\n",
      "attack candidates unit=8 pos=[20 22] e=107\n",
      "found attacker unit=0 pos=[13 14] e=64\n",
      "blind shot from unit[0]=[13 14] at pos=[9 9]\n",
      "step=130, unit[[13 14]] sap at [9 9] with damage=-1.0\n",
      "============ game step 131 ========== \n",
      ">>>>>>>>>>>>>>> nebula_energy_reduction=1\n",
      " unit[0]=[13 14] assgined to cell=(13, 14), wts={'explore_wt': 0, 'fuel_wt': np.int32(2), 'relic_nb_wt': np.float64(0.0), 'on_relic_wt': np.float64(30.0), 'sap_wt': 0, 'energy_ratio': np.float64(0.36666666666666664), 'wt': np.float64(29.09100909090909), 'mdist': np.float64(1.1)}\n",
      " unit[1]=[17 13] assgined to cell=(17, 13), wts={'explore_wt': 0, 'fuel_wt': np.float64(0.18063985161889398), 'relic_nb_wt': np.float64(0.0), 'on_relic_wt': np.float64(30.0), 'sap_wt': np.float64(0.0), 'energy_ratio': np.float64(1.4111111111111112), 'wt': np.float64(27.43704531965354), 'mdist': np.float64(1.1)}\n",
      " unit[2]=[15 16] assgined to cell=(15, 15), wts={'explore_wt': 0, 'fuel_wt': np.float64(-1.2032718174291022), 'relic_nb_wt': 15, 'on_relic_wt': 0, 'sap_wt': np.float64(0.0), 'energy_ratio': np.float64(1.3444444444444446), 'wt': np.float64(11.402354696339584), 'mdist': np.float64(1.2100000000000002)}\n",
      " unit[3]=[15 19] assgined to cell=(13, 17), wts={'explore_wt': 0, 'fuel_wt': np.float64(-0.48921381338760245), 'relic_nb_wt': 15, 'on_relic_wt': 0, 'sap_wt': np.float64(0.0), 'energy_ratio': np.float64(1.4555555555555555), 'wt': np.float64(9.01015655761988), 'mdist': np.float64(1.6105100000000006)}\n",
      " unit[4]=[16 17] assgined to cell=(14, 16), wts={'explore_wt': 0, 'fuel_wt': np.float64(-2.0648226957819853), 'relic_nb_wt': 15, 'on_relic_wt': 0, 'sap_wt': np.float64(0.0), 'energy_ratio': np.float64(1.2555555555555555), 'wt': np.float64(8.835000146313785), 'mdist': np.float64(1.4641000000000004)}\n",
      " unit[5]=[18 14] assgined to cell=(14, 14), wts={'explore_wt': 0, 'fuel_wt': np.float64(0.0), 'relic_nb_wt': 15, 'on_relic_wt': np.float64(30.0), 'sap_wt': np.float64(3.4), 'energy_ratio': np.float64(1.2333333333333334), 'wt': np.float64(30.0526920360631), 'mdist': np.float64(1.6105100000000006)}\n",
      " unit[6]=[21 14] assgined to cell=(22, 7), wts={'explore_wt': 3, 'fuel_wt': np.float64(3.820989686230459), 'relic_nb_wt': 0, 'on_relic_wt': 0, 'sap_wt': np.float64(0.0), 'energy_ratio': np.float64(1.211111111111111), 'wt': np.float64(2.8928654808736187), 'mdist': np.float64(2.357947691000002)}\n",
      " unit[7]=[21 19] assgined to cell=(9, 15), wts={'explore_wt': 3, 'fuel_wt': np.float64(1.045672426752926), 'relic_nb_wt': 0, 'on_relic_wt': 0, 'sap_wt': np.float64(3.4), 'energy_ratio': np.float64(1.4333333333333333), 'wt': np.float64(1.4731865960097972), 'mdist': np.float64(5.054470284992945)}\n",
      " unit[8]=[20 22] assgined to cell=(20, 22), wts={'explore_wt': 0, 'fuel_wt': np.float64(3.2048335324012998), 'relic_nb_wt': 0, 'on_relic_wt': 0, 'sap_wt': np.float64(0.0), 'energy_ratio': np.float64(1.2777777777777777), 'wt': np.float64(2.913585029455727), 'mdist': np.float64(1.1)}\n",
      " unit[9]=[21 23] assgined to cell=(19, 23), wts={'explore_wt': 0, 'fuel_wt': np.float64(6.784632641334409), 'relic_nb_wt': 0, 'on_relic_wt': 0, 'sap_wt': np.float64(0.0), 'energy_ratio': np.float64(1.0555555555555556), 'wt': np.float64(5.097494922114505), 'mdist': np.float64(1.3310000000000004)}\n",
      "game_step=131 sending unit=2 pos=[15 16] to cell=(15, 15)\n",
      "game_step=131 sending unit=3 pos=[15 19] to cell=(13, 17)\n",
      "game_step=131 sending unit=4 pos=[16 17] to cell=(14, 16)\n",
      "game_step=131 sending unit=5 pos=[18 14] to cell=(14, 14)\n",
      "game_step=131 sending unit=6 pos=[21 14] to cell=(22, 7)\n",
      "game_step=131 sending unit=7 pos=[21 19] to cell=(9, 15)\n",
      "game_step=131 sending unit=9 pos=[21 23] to cell=(19, 23)\n",
      "attack candidates unit=1 pos=[17 13] e=127\n",
      "attack candidates unit=8 pos=[20 22] e=115\n"
     ]
    }
   ],
   "source": [
    "for i in range(20+1):\n",
    "    action0 = env.agent_action_do_model_action(act(a0, env.mms[0].past_obs[0]), env.mms[0])\n",
    "    action1 = env.agent_action_do_model_action(act(a1, env.mms[1].past_obs[0]), env.mms[1])\n",
    "    player_actions = [{UNITS_ACTION: action0}, {UNITS_ACTION: action1}]\n",
    "    obs, reward, done, info = env.step(player_actions)\n",
    "\n"
   ]
  },
  {
   "cell_type": "code",
   "execution_count": 20,
   "id": "4fbfe26c-5dff-4c82-9ade-3a5e541d7f71",
   "metadata": {},
   "outputs": [
    {
     "name": "stdout",
     "output_type": "stream",
     "text": [
      "132.0 31.0\n",
      "number of units: 0\n"
     ]
    },
    {
     "data": {
      "image/png": "[encoded data removed]",
      "text/plain": [
       "<Figure size 1000x1000 with 12 Axes>"
      ]
     },
     "metadata": {},
     "output_type": "display_data"
    }
   ],
   "source": [
    "PLAYER_ID = 1\n",
    "ob = obs[PLAYER_ID]\n",
    "print(ob['game_step'][0][0][0] * 505, ob['match_step'][0][0][0] * 100)\n",
    "\n",
    "units_loc = ob['units_loc_t0']\n",
    "units_energy = ob['units_energy_t0']\n",
    "enemy_loc = ob['enemy_loc_t0']\n",
    "\n",
    "nu = env.mms[PLAYER_ID].past_obs[0]['units_mask'][0].sum()\n",
    "print(f'number of units: {nu}')\n",
    "\n",
    "plot_imgs([('cell_energy', ob['_a_cell_energy']), ('cell types', ob['_a_cell_type']), ('team_point_prob', ob['_a_team_point_prob']),\n",
    "           ('_b_cell_energy', ob['_b_cell_energy']), ('_b_cell_type', ob['_b_cell_type']), ('_b_team_point_prob', ob['_b_team_point_prob']),    \n",
    "            ('is_relic_node', ob['_a_is_relic_node']), ('_b_is_relic_node', ob['_b_is_relic_node']),  \n",
    "           ('units_loc', units_loc > 0),  ('_a_is_relic_neighbour', ob['_a_is_relic_neighbour']), ('enemy_loc', enemy_loc > 0) \n",
    "           ])"
   ]
  },
  {
   "cell_type": "code",
   "execution_count": 21,
   "id": "35ed7732-700e-4833-a2da-6ca222aa95a0",
   "metadata": {},
   "outputs": [
    {
     "data": {
      "text/plain": [
       "<matplotlib.image.AxesImage at 0x16c739e80>"
      ]
     },
     "execution_count": 21,
     "metadata": {},
     "output_type": "execute_result"
    },
    {
     "data": {
      "image/png": "[encoded data removed]",
      "text/plain": [
       "<Figure size 640x480 with 1 Axes>"
      ]
     },
     "metadata": {},
     "output_type": "display_data"
    }
   ],
   "source": [
    "plt.imshow(env.mms[1].hidden_relic_estimator.priori)"
   ]
  },
  {
   "cell_type": "code",
   "execution_count": 22,
   "id": "8953e63e-69c2-4569-8900-e137e084f73d",
   "metadata": {},
   "outputs": [
    {
     "data": {
      "text/plain": [
       "<matplotlib.image.AxesImage at 0x12fc68110>"
      ]
     },
     "execution_count": 22,
     "metadata": {},
     "output_type": "execute_result"
    },
    {
     "data": {
      "image/png": "[encoded data removed]",
      "text/plain": [
       "<Figure size 640x480 with 1 Axes>"
      ]
     },
     "metadata": {},
     "output_type": "display_data"
    }
   ],
   "source": [
    "plt.imshow(env.mms[1].team_point_mass)"
   ]
  },
  {
   "cell_type": "code",
   "execution_count": 23,
   "id": "b96f3c8a-cd9e-4a58-ad3f-89d8d253a5a2",
   "metadata": {},
   "outputs": [],
   "source": [
    "from ecobangbang.env.luxenv import *\n",
    "from ecobangbang.agent import *"
   ]
  },
  {
   "cell_type": "code",
   "execution_count": 24,
   "id": "0b1d5d8d-390f-4f8f-b94f-c2b604f85cd4",
   "metadata": {},
   "outputs": [
    {
     "ename": "NameError",
     "evalue": "name 'priori' is not defined",
     "output_type": "error",
     "traceback": [
      "\u001b[0;31m---------------------------------------------------------------------------\u001b[0m",
      "\u001b[0;31mNameError\u001b[0m                                 Traceback (most recent call last)",
      "Cell \u001b[0;32mIn[24], line 1\u001b[0m\n\u001b[0;32m----> 1\u001b[0m plt\u001b[38;5;241m.\u001b[39mimshow((\u001b[43mpriori\u001b[49m \u001b[38;5;241m>\u001b[39m \u001b[38;5;241m0\u001b[39m) \u001b[38;5;241m&\u001b[39m (priori \u001b[38;5;241m<\u001b[39m \u001b[38;5;241m0.1\u001b[39m))\n",
      "\u001b[0;31mNameError\u001b[0m: name 'priori' is not defined"
     ]
    }
   ],
   "source": [
    "plt.imshow((priori > 0) & (priori < 0.1))"
   ]
  },
  {
   "cell_type": "code",
   "execution_count": 25,
   "id": "ec149dfb-129b-4501-bfb4-30a0d7e01fb6",
   "metadata": {},
   "outputs": [
    {
     "data": {
      "text/plain": [
       "{(8, 8), (15, 15)}"
      ]
     },
     "execution_count": 25,
     "metadata": {},
     "output_type": "execute_result"
    }
   ],
   "source": [
    "env.mms[1].hidden_relic_estimator.relic_node_positions"
   ]
  },
  {
   "cell_type": "code",
   "execution_count": 26,
   "id": "3c9c2c65-be21-4b5d-b3a1-4db374d5c31a",
   "metadata": {},
   "outputs": [
    {
     "data": {
      "text/plain": [
       "<matplotlib.image.AxesImage at 0x16c887ad0>"
      ]
     },
     "execution_count": 26,
     "metadata": {},
     "output_type": "execute_result"
    },
    {
     "data": {
      "image/png": "[encoded data removed]",
      "text/plain": [
       "<Figure size 640x480 with 1 Axes>"
      ]
     },
     "metadata": {},
     "output_type": "display_data"
    }
   ],
   "source": [
    "mm = env.mms[1]\n",
    "priori = env.mms[1].hidden_relic_estimator.priori\n",
    "\n",
    "p = priori.copy()\n",
    "team_point_mass = p.copy()\n",
    "\n",
    "\n",
    "\n",
    "init_pos = get_player_init_pos(self.mm.player_id)\n",
    "units_half = generate_manhattan_mask(MAP_SHAPE2,\n",
    "                                     init_pos,\n",
    "                                     range_limit=MAP_WIDTH)\n",
    "\n",
    "min_val = MIN_PROB + 1e-5\n",
    "non_relic_point = (p <= min_val) & (p > 0) & units_half\n",
    "team_point_mass[non_relic_point | anti_diag_sym(non_relic_point)] = 0\n",
    "\n",
    "max_val = MAX_PROB - 1e-5\n",
    "is_relc_point = (p >= max_val) | anti_diag_sym(p >= max_val)\n",
    "team_point_mass[is_relc_point] = 1\n",
    "\n",
    "\n",
    "\n",
    "# team_point_mass = np.maximum(team_point_mass,\n",
    "#                                   anti_diag_sym(team_point_mass))\n",
    "\n",
    "# team_point_mass[team_point_mass > 0] += 10\n",
    "\n",
    "plt.imshow(team_point_mass)"
   ]
  },
  {
   "cell_type": "code",
   "execution_count": 27,
   "id": "d87733ca-bf0a-4902-9a25-374bee82de86",
   "metadata": {},
   "outputs": [
    {
     "data": {
      "text/plain": [
       "np.float64(1.0)"
      ]
     },
     "execution_count": 27,
     "metadata": {},
     "output_type": "execute_result"
    }
   ],
   "source": [
    "team_point_mass[cpos]"
   ]
  },
  {
   "cell_type": "code",
   "execution_count": null,
   "id": "52b78da5-8e3f-427e-b6b4-6b25c3bee258",
   "metadata": {
    "scrolled": true
   },
   "outputs": [],
   "source": [
    "env.mms[1].team_point_mass[env.mms[1].team_point_mass > 0]"
   ]
  },
  {
   "cell_type": "code",
   "execution_count": null,
   "id": "730a9b91-ee35-4f4a-b6b4-f3b6ce9fad69",
   "metadata": {},
   "outputs": [],
   "source": []
  },
  {
   "cell_type": "code",
   "execution_count": null,
   "id": "dacc0297-53fa-41ee-bf6e-cea4e46c92da",
   "metadata": {},
   "outputs": [],
   "source": []
  },
  {
   "cell_type": "code",
   "execution_count": null,
   "id": "085bfb5d-dc76-43d7-817f-e16216c3ce95",
   "metadata": {},
   "outputs": [],
   "source": []
  },
  {
   "cell_type": "code",
   "execution_count": 37,
   "id": "de04fa76-4b1a-4e76-80cb-3ba396bef913",
   "metadata": {},
   "outputs": [
    {
     "name": "stderr",
     "output_type": "stream",
     "text": [
      ">>>>>>>>>>>>>>> nebula_energy_reduction=1\n"
     ]
    },
    {
     "data": {
      "text/plain": [
       "np.float64(20.52716029988792)"
      ]
     },
     "execution_count": 37,
     "metadata": {},
     "output_type": "execute_result"
    }
   ],
   "source": [
    "self = a1\n",
    "\n",
    "mm = self.mm\n",
    "is_explore_step = (mm.match_step <= 50 and mm.game_step < 303)\n",
    "\n",
    "match_observed = mm.match_observed + anti_diag_sym(mm.match_observed)\n",
    "energy_threshold = 60 + mm.match_step\n",
    "if mm.match_step >= 70:\n",
    "  energy_threshold = 60\n",
    "\n",
    "def get_explore_weight(upos, energy, cpos):\n",
    "  alpha = 1\n",
    "\n",
    "  # last_ob_time = mm.last_observed_step[cpos[0]][cpos[1]]\n",
    "  # t = mm.game_step - last_ob_time\n",
    "  # alpha = np.log(t + 1) / LOGX\n",
    "\n",
    "  if match_observed[cpos[0]][cpos[1]]:\n",
    "    return 0\n",
    "\n",
    "  wt = 3\n",
    "  if not is_explore_step:\n",
    "    wt /= 5\n",
    "\n",
    "  return wt * alpha\n",
    "\n",
    "energy_map = mm.cell_energy.copy()\n",
    "energy_map[mm.cell_energy != CELL_UNKONWN] -= mm.unit_move_cost\n",
    "energy_map[mm.cell_type == CELL_NEBULA] -= mm.nebula_energy_reduction\n",
    "if not SUBMIT_AGENT:\n",
    "  print(\n",
    "      f'>>>>>>>>>>>>>>> nebula_energy_reduction={mm.nebula_energy_reduction}',\n",
    "      file=sys.stderr)\n",
    "\n",
    "def get_fuel_energy(upos, energy, cpos):\n",
    "  fuel = energy_map[cpos[0]][cpos[1]]\n",
    "  fuel = right_tailed_exp(energy, fuel, energy_threshold)\n",
    "  return fuel\n",
    "\n",
    "def get_open_relic_nb(upos, energy, cpos):\n",
    "  \"\"\"First visit on relic neighbour\"\"\"\n",
    "  if not mm.is_relic_neighbour[cpos[0]][cpos[1]]:\n",
    "    return 0\n",
    "\n",
    "  # if not mm.match_visited[cpos[0]][cpos[1]]:\n",
    "  # return RELIC_NB_SCORE\n",
    "\n",
    "  p = mm.team_point_mass[cpos[0]][cpos[1]]\n",
    "  if p < 0.1:\n",
    "    return 0\n",
    "\n",
    "  v = RELIC_NB_SCORE\n",
    "  # Do not goto enemy side if energy below threshold\n",
    "  if on_enemy_side(cpos, mm.player_id):\n",
    "    v = mm.unit_sap_cost / 10 * p\n",
    "\n",
    "  last_visited_step = mm.last_visited_step[cpos[0]][cpos[1]]\n",
    "  t = mm.game_step - last_visited_step\n",
    "  alpha = np.log(t + 1) / LOG3\n",
    "  w = min(alpha, 1) * v\n",
    "\n",
    "  # has enemy nearby, dangerous, go away\n",
    "  # cpos_nb_mask = gen_sap_range(cpos, self.mm.unit_sap_range)\n",
    "  # if (mm.enemy_max_energy[cpos_nb_mask] > energy).sum() > 0:\n",
    "  # w = -1\n",
    "  return w\n",
    "\n",
    "init_pos = get_player_init_pos(mm.enemy_id)\n",
    "enemy_half = generate_manhattan_mask(MAP_SHAPE2,\n",
    "                                     init_pos,\n",
    "                                     range_limit=MAP_WIDTH - 1)\n",
    "blind_shot_targets = ((~mm.visible) & (mm.team_point_mass > 0.8)\n",
    "                      & enemy_half)\n",
    "# blind_shot_targets = np.zeros(MAP_SHAPE2, dtype=bool)  # disable blind shot\n",
    "self.blind_shot_targets = blind_shot_targets\n",
    "\n",
    "def stay_on_relic(upos, energy, cpos):\n",
    "  v = RELIC_SCORE\n",
    "  p = mm.team_point_mass[cpos[0]][cpos[1]]\n",
    "\n",
    "  # Do not goto enemy side if energy below threshold\n",
    "  if on_enemy_side(cpos, mm.player_id):\n",
    "    v = mm.unit_sap_cost / 10\n",
    "\n",
    "  w = 0\n",
    "  if p > 0.8:\n",
    "    w += v * p\n",
    "\n",
    "  return w\n",
    "\n",
    "hit_factor = 10\n",
    "enemy_hit_map = self.get_sap_hit_map(hit_factor)\n",
    "enemy_hit_map[\n",
    "    blind_shot_targets] += mm.unit_sap_cost  # roughly adding 3 points\n",
    "self.enemy_hit_map = enemy_hit_map\n",
    "\n",
    "def get_sap_enemy_score(upos, energy, cpos):\n",
    "  \"\"\"Max sap damage that could be hit from the `cpos`.\"\"\"\n",
    "  if not can_attack(energy, mm):\n",
    "    return 0\n",
    "\n",
    "  # Do not attack from negtive energy position\n",
    "  # fuel = energy_map[cpos[0]][cpos[1]]\n",
    "  # if fuel <= 0:\n",
    "  # return 0\n",
    "\n",
    "  sap_range = gen_sap_range(cpos, self.mm.unit_sap_range)\n",
    "\n",
    "  h = enemy_hit_map[sap_range].max()\n",
    "  h /= hit_factor\n",
    "\n",
    "  # h = left_tailed_exp(energy, h, energy_threshold)\n",
    "  # h *= (energy / 200)\n",
    "\n",
    "  # sap if energy is large (and unit not on relic)\n",
    "  # if self.mm.team_point_mass[pos[0]][pos[1]] < 0.6:\n",
    "  # h *= max((energy / energy_threshold), 1)\n",
    "  return h\n",
    "\n",
    "score_debug = {}\n",
    "\n",
    "def get_unit_cell_wt(upos, energy, cpos, unit_cost_map):\n",
    "  if cant_move_to(upos, cpos, mm):\n",
    "    print(f'game_step={mm.game_step}: cannot move {cpos}',\n",
    "    file=sys.stderr)\n",
    "    return -9999\n",
    "\n",
    "  if energy < unit_cost_map[cpos[0]][cpos[1]]:\n",
    "    # if not SUBMIT_AGENT:\n",
    "    print(f'game_step={mm.game_step}: skip due to inf at {cpos}',\n",
    "    file=sys.stderr)\n",
    "    return -9999\n",
    "\n",
    "  # Do not target cell with enemy energy > unit energy\n",
    "  if energy < mm.enemy_max_energy[cpos[0]][cpos[1]]:\n",
    "    print(f'enemy: skip due to inf at {cpos}', file=sys.stderr)\n",
    "    return -9999\n",
    "\n",
    "  # mdist = manhatten_distance(upos, cpos) + 7\n",
    "  mdist = dd(manhatten_distance(upos, cpos) + 1)\n",
    "  wt = 0.0001\n",
    "\n",
    "  energy_ratio = energy / energy_threshold\n",
    "\n",
    "  expore_wt = 0\n",
    "  if energy >= 50:\n",
    "    expore_wt = get_explore_weight(upos, energy, cpos)\n",
    "\n",
    "  fuel_wt = get_fuel_energy(upos, energy, cpos)\n",
    "\n",
    "  relic_nb_wt = get_open_relic_nb(upos, energy, cpos)\n",
    "\n",
    "  on_relic_wt = stay_on_relic(upos, energy, cpos)\n",
    "\n",
    "  sap_wt = get_sap_enemy_score(upos, energy, cpos)\n",
    "\n",
    "  wt += (expore_wt + fuel_wt + relic_nb_wt + on_relic_wt + sap_wt) / mdist\n",
    "\n",
    "  is_relic_nb = mm.is_relic_neighbour[cpos[0]][cpos[1]]\n",
    "  # has enemy nearby, dangerous, go away\n",
    "  cpos_nb_mask = gen_sap_range(cpos, self.mm.unit_sap_range)\n",
    "  if ((mm.enemy_max_energy[cpos_nb_mask] > energy).sum() > 0\n",
    "      and (not is_relic_nb or on_enemy_side(cpos, mm.player_id))):\n",
    "    wt -= self.mm.unit_sap_cost / 10\n",
    "\n",
    "  score_debug[(tuple(upos), tuple(cpos))] = {\n",
    "      'explore_wt': expore_wt,\n",
    "      'fuel_wt': fuel_wt,\n",
    "      'relic_nb_wt': relic_nb_wt,\n",
    "      'on_relic_wt': on_relic_wt,\n",
    "      'sap_wt': sap_wt,\n",
    "      'energy_ratio': energy_ratio,\n",
    "      'wt': wt,\n",
    "      'mdist': mdist,\n",
    "  }\n",
    "\n",
    "  if USE_RANDOM:\n",
    "    wt += np.random.rand() / 1000\n",
    "  return wt\n",
    "\n",
    "\n",
    "upos = (21, 15)\n",
    "unit_cost_map = self.compute_energy_cost_map(upos, asteriod_cost=75)\n",
    "\n",
    "cpos = (14, 14)\n",
    "energy = 88\n",
    "get_unit_cell_wt(upos, energy, cpos, unit_cost_map)"
   ]
  },
  {
   "cell_type": "code",
   "execution_count": 38,
   "id": "81c99197-deea-47ef-8e9c-42c0f191e522",
   "metadata": {},
   "outputs": [
    {
     "data": {
      "text/plain": [
       "{((21, 15), (14, 14)): {'explore_wt': 0,\n",
       "  'fuel_wt': np.int32(0),\n",
       "  'relic_nb_wt': 15,\n",
       "  'on_relic_wt': np.float64(30.0),\n",
       "  'sap_wt': np.float64(3.4),\n",
       "  'energy_ratio': np.float64(0.9777777777777777),\n",
       "  'wt': np.float64(20.526424729228253),\n",
       "  'mdist': 2.357947691000002}}"
      ]
     },
     "execution_count": 38,
     "metadata": {},
     "output_type": "execute_result"
    }
   ],
   "source": [
    "score_debug"
   ]
  },
  {
   "cell_type": "code",
   "execution_count": null,
   "id": "e8db9e1c-bb9e-4f6a-aec2-f13b9ba2dd80",
   "metadata": {},
   "outputs": [],
   "source": [
    "mm.get_unit_info(mm.player_id, i=0, t=0)"
   ]
  },
  {
   "cell_type": "code",
   "execution_count": null,
   "id": "3a33c56f-3584-4327-9109-17c01a54e23f",
   "metadata": {},
   "outputs": [],
   "source": [
    "cost = a1.compute_energy_cost_map((23, 23), asteriod_cost=75)"
   ]
  },
  {
   "cell_type": "code",
   "execution_count": null,
   "id": "4bb0b17b-50bc-405c-919e-03ac2167b071",
   "metadata": {},
   "outputs": [],
   "source": [
    "plot_imgs([('cost', cost), ])"
   ]
  },
  {
   "cell_type": "code",
   "execution_count": null,
   "id": "8f3b830c-2111-429e-a1f2-805a48834884",
   "metadata": {},
   "outputs": [],
   "source": []
  },
  {
   "cell_type": "code",
   "execution_count": null,
   "id": "468f0fcf-9ca3-460b-b785-7b3fdde0d9a4",
   "metadata": {},
   "outputs": [],
   "source": []
  },
  {
   "cell_type": "code",
   "execution_count": null,
   "id": "66ad0e92-8884-4b6d-a25e-a91936bf281a",
   "metadata": {},
   "outputs": [],
   "source": []
  },
  {
   "cell_type": "code",
   "execution_count": null,
   "id": "9c5cdc87-14c1-4bdf-a8ea-e8c9d6ea128d",
   "metadata": {},
   "outputs": [],
   "source": [
    "from ecobangbang.agent import *"
   ]
  },
  {
   "cell_type": "code",
   "execution_count": null,
   "id": "49e84bb1-7178-40d1-92b3-70d38d3f7a91",
   "metadata": {},
   "outputs": [],
   "source": []
  },
  {
   "cell_type": "code",
   "execution_count": null,
   "id": "a98be4e8-bf61-4b92-a875-425a7387db30",
   "metadata": {},
   "outputs": [],
   "source": [
    "self = a1\n",
    "\n",
    "\n",
    "mdist = dd(manhatten_distance(upos, cpos) + 1)\n",
    "wt = 0.0001\n",
    "\n",
    "energy_ratio = energy / energy_threshold\n",
    "\n",
    "expore_wt = 0\n",
    "if energy >= 50:\n",
    "expore_wt = get_explore_weight(upos, energy, cpos)\n",
    "\n",
    "fuel_wt = get_fuel_energy(upos, energy, cpos)\n",
    "\n",
    "relic_nb_wt = get_open_relic_nb(upos, energy, cpos)\n",
    "\n",
    "on_relic_wt = stay_on_relic(upos, energy, cpos)\n",
    "\n",
    "sap_wt = get_sap_enemy_score(upos, energy, cpos)\n",
    "\n",
    "wt += (expore_wt + fuel_wt + relic_nb_wt + on_relic_wt + sap_wt) / mdist\n",
    "\n",
    "score_debug[(tuple(upos), tuple(cpos))] = {\n",
    "  'explore_wt': expore_wt,\n",
    "  'fuel_wt': fuel_wt,\n",
    "  'relic_nb_wt': relic_nb_wt,\n",
    "  'on_relic_wt': on_relic_wt,\n",
    "  'sap_wt': sap_wt,\n",
    "  'energy_ratio': energy_ratio,\n",
    "  'wt': wt,\n",
    "  'mdist': mdist,\n",
    "}\n",
    "return wt\n",
    "\n",
    "\n",
    "\n",
    "upos = (23, 23)\n",
    "cost = a1.compute_energy_cost_map(upos, asteriod_cost=75)\n",
    "\n",
    "get_unit_cell_wt(upos, 94, (23, 22), cost)"
   ]
  },
  {
   "cell_type": "code",
   "execution_count": null,
   "id": "4c524041-cdb2-4e60-90d4-3d9174936baa",
   "metadata": {},
   "outputs": [],
   "source": [
    "get_unit_cell_wt(upos, 94, (23, 23), cost)"
   ]
  },
  {
   "cell_type": "code",
   "execution_count": null,
   "id": "26d57bf2-a42b-4e75-922f-4c2c1e644ca0",
   "metadata": {},
   "outputs": [],
   "source": [
    "get_unit_cell_wt(upos, 94, (23, 20), cost)"
   ]
  },
  {
   "cell_type": "code",
   "execution_count": null,
   "id": "911a8372-d921-494d-b5c5-0d0f38f37a62",
   "metadata": {},
   "outputs": [],
   "source": [
    "score_debug"
   ]
  },
  {
   "cell_type": "code",
   "execution_count": null,
   "id": "77aaf95f-eca3-4337-8798-f94a978d7eb9",
   "metadata": {},
   "outputs": [],
   "source": [
    "right_tailed_exp(100, 3, 60)"
   ]
  },
  {
   "cell_type": "code",
   "execution_count": null,
   "id": "78d2ca50-a280-4da9-a12c-7870e4251b2a",
   "metadata": {},
   "outputs": [],
   "source": [
    "energy_map[upos], mm.unit_move_cost"
   ]
  },
  {
   "cell_type": "code",
   "execution_count": null,
   "id": "51c1b3e7-f81f-4a23-93d0-47e6df87fd3e",
   "metadata": {},
   "outputs": [],
   "source": [
    "hit_map = np.zeros((MAP_WIDTH, MAP_HEIGHT), dtype=float)\n",
    "\n",
    "for i in range(MAX_UNIT_NUM):\n",
    "  mask, pos, energy = self.mm.get_unit_info(self.mm.enemy_id, i, t=0)\n",
    "  if not mask:\n",
    "    continue\n",
    "\n",
    "  if self.mm.enemy_positions[pos[0]][pos[1]]:\n",
    "    p = self.mm.team_point_mass[pos[0]][pos[1]]\n",
    "    hit_map[pos[0]][pos[1]] += (RELIC_SCORE * (p**2))\n",
    "\n",
    "  for d in [1, 0]:\n",
    "    x0 = max(0, (pos[0] - d))\n",
    "    x1 = min(MAP_WIDTH, (pos[0] + d + 1))\n",
    "    y0 = max(0, (pos[1] - d))\n",
    "    y1 = min(MAP_HEIGHT, (pos[1] + d + 1))\n",
    "\n",
    "    h = self.mm.unit_sap_cost\n",
    "    if d == 1:\n",
    "      h *= self.mm.unit_sap_dropoff_factor\n",
    "    hit_map[x0:x1, y0:y1] += h\n",
    "\n",
    "cpos = upos\n",
    "sap_range = gen_sap_range(cpos, self.mm.unit_sap_range)"
   ]
  },
  {
   "cell_type": "code",
   "execution_count": null,
   "id": "0d47b357-c6cd-4526-9bf3-20527c46552f",
   "metadata": {},
   "outputs": [],
   "source": [
    "plot_imgs([('enemy_hit_map', enemy_hit_map), ('mm.enemy_positions', mm.enemy_positions), ('hit_map', hit_map),\n",
    "           ('sap_range', sap_range), ])"
   ]
  },
  {
   "cell_type": "code",
   "execution_count": null,
   "id": "82ced7be-f140-4c91-a280-5c32d7e2da80",
   "metadata": {},
   "outputs": [],
   "source": [
    "print(\"============ game step 468 ========== \\nunit[[9 3]] and cell ((1, 0)) wt={'explore_wt': 0, 'fuel_wt': -3.726653172078671e-05, 'relic_nb_wt': 0, 'on_relic_wt': 0, 'sap_wt': 0.0, 'energy_ratio': 2.25, 'wt': 8.81257345245768e-05, 'mdist': 3.138428376721003}\\nunit[[9 3]] and cell ((2, 0)) wt={'explore_wt': 0, 'fuel_wt': -2.9813225376629368e-05, 'relic_nb_wt': 0, 'on_relic_wt': 0, 'sap_wt': 0.0, 'energy_ratio': 2.25, 'wt': 8.955064638162758e-05, 'mdist': 2.8531167061100025}\\nunit[[9 3]] and cell ((3, 0)) wt={'explore_wt': 0, 'fuel_wt': -1.8633265860393355e-05, 'relic_nb_wt': 0, 'on_relic_wt': 0, 'sap_wt': 0.0, 'energy_ratio': 2.25, 'wt': 9.281606938736897e-05, 'mdist': 2.5937424601000023}\\nunit[[9 3]] and cell ((4, 0)) wt={'explore_wt': 0, 'fuel_wt': -7.453306344157342e-06, 'relic_nb_wt': 0, 'on_relic_wt': 0, 'sap_wt': 0.0, 'energy_ratio': 2.25, 'wt': 9.683907053044235e-05, 'mdist': 2.357947691000002}\\nunit[[9 3]] and cell ((5, 0)) wt={'explore_wt': 0, 'fuel_wt': 3.726653172078671e-06, 'relic_nb_wt': 0, 'on_relic_wt': \")"
   ]
  },
  {
   "cell_type": "code",
   "execution_count": null,
   "id": "290fac74-6afc-4f7f-a33b-0d985adbf597",
   "metadata": {},
   "outputs": [],
   "source": []
  }
 ],
 "metadata": {
  "kernelspec": {
   "display_name": "Python 3 (ipykernel)",
   "language": "python",
   "name": "python3"
  },
  "language_info": {
   "codemirror_mode": {
    "name": "ipython",
    "version": 3
   },
   "file_extension": ".py",
   "mimetype": "text/x-python",
   "name": "python",
   "nbconvert_exporter": "python",
   "pygments_lexer": "ipython3",
   "version": "3.12.5"
  }
 },
 "nbformat": 4,
 "nbformat_minor": 5
}
