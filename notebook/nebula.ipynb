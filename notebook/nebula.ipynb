{
 "cells": [
  {
   "cell_type": "code",
   "execution_count": 6,
   "id": "54f6cd97-5824-4efc-be8c-e9348b22bf1a",
   "metadata": {},
   "outputs": [],
   "source": [
    "import numpy as np\n",
    "import pandas as pd\n",
    "\n",
    "import seaborn as sns\n",
    "import matplotlib.pyplot as plt\n",
    "\n",
    "%matplotlib inline"
   ]
  },
  {
   "cell_type": "code",
   "execution_count": 3,
   "id": "3f5640d5-d97d-441c-9f73-b6e4d4d95307",
   "metadata": {},
   "outputs": [],
   "source": [
    "from collections import Counter\n",
    "\n",
    "class NebulaEnergyRedunction:\n",
    "\n",
    "  VALID_VALUES = (0, 10, 25)\n",
    "\n",
    "  def __init__(self):\n",
    "    self.counter = Counter()\n",
    "\n",
    "  def is_valid(self, val):\n",
    "    return val in self.VALID_VALUES\n",
    "\n",
    "  def add(self, v):\n",
    "    self.counter[v] += 1\n",
    "\n",
    "  def best_guess(self):\n",
    "    if len(self.counter) <= 0:\n",
    "      return None\n",
    "    return self.counter.most_common(1)[0]\n",
    "\n",
    "\n",
    "ne = NebulaEnergyRedunction()"
   ]
  },
  {
   "cell_type": "code",
   "execution_count": 5,
   "id": "cbceb50c-1d1b-4eb0-94c9-8a3f3651f18e",
   "metadata": {},
   "outputs": [
    {
     "data": {
      "text/plain": [
       "True"
      ]
     },
     "execution_count": 5,
     "metadata": {},
     "output_type": "execute_result"
    }
   ],
   "source": [
    "ne.best_guess() is None"
   ]
  },
  {
   "cell_type": "code",
   "execution_count": null,
   "id": "ba23fefd-69c0-4052-bc31-b251688a6b7c",
   "metadata": {},
   "outputs": [],
   "source": []
  }
 ],
 "metadata": {
  "kernelspec": {
   "display_name": "Python 3 (ipykernel)",
   "language": "python",
   "name": "python3"
  },
  "language_info": {
   "codemirror_mode": {
    "name": "ipython",
    "version": 3
   },
   "file_extension": ".py",
   "mimetype": "text/x-python",
   "name": "python",
   "nbconvert_exporter": "python",
   "pygments_lexer": "ipython3",
   "version": "3.12.5"
  }
 },
 "nbformat": 4,
 "nbformat_minor": 5
}
