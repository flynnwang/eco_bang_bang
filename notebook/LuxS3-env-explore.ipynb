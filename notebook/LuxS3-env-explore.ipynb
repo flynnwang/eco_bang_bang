{
 "cells": [
  {
   "cell_type": "code",
   "execution_count": 197,
   "id": "fd7bb021-16d5-4f25-8363-2f25503d3055",
   "metadata": {},
   "outputs": [],
   "source": [
    "import numpy as np\n",
    "import pandas as pd\n",
    "\n",
    "import seaborn as sns\n",
    "import matplotlib.pyplot as plt\n",
    "\n",
    "%matplotlib inline"
   ]
  },
  {
   "cell_type": "code",
   "execution_count": 198,
   "id": "39588b0e-4ead-4be6-8b90-dd6392f7922c",
   "metadata": {},
   "outputs": [],
   "source": [
    "from luxai_s3.wrappers import LuxAIS3GymEnv\n",
    "\n",
    "env = LuxAIS3GymEnv(numpy_output=True)\n",
    "\n",
    "obs, info = env.reset(seed=42)"
   ]
  },
  {
   "cell_type": "code",
   "execution_count": 199,
   "id": "78ab213e-a1f4-4fa3-9045-012fc80b1187",
   "metadata": {},
   "outputs": [
    {
     "data": {
      "text/plain": [
       "{'max_steps_in_match': 100,\n",
       " 'map_type': 1,\n",
       " 'map_width': 24,\n",
       " 'map_height': 24,\n",
       " 'num_teams': 2,\n",
       " 'match_count_per_episode': 5,\n",
       " 'max_units': 16,\n",
       " 'init_unit_energy': 100,\n",
       " 'min_unit_energy': 0,\n",
       " 'max_unit_energy': 400,\n",
       " 'unit_move_cost': 2,\n",
       " 'spawn_rate': 3,\n",
       " 'unit_sap_cost': 49,\n",
       " 'unit_sap_range': 6,\n",
       " 'unit_sap_dropoff_factor': 1.0,\n",
       " 'unit_energy_void_factor': 0.25,\n",
       " 'max_energy_nodes': 6,\n",
       " 'max_energy_per_tile': 20,\n",
       " 'min_energy_per_tile': -20,\n",
       " 'max_relic_nodes': 6,\n",
       " 'relic_config_size': 5,\n",
       " 'fog_of_war': True,\n",
       " 'unit_sensor_range': 2,\n",
       " 'nebula_tile_vision_reduction': 1,\n",
       " 'nebula_tile_energy_reduction': 10,\n",
       " 'nebula_tile_drift_speed': -0.02500000037252903,\n",
       " 'energy_node_drift_speed': 0.05000000074505806,\n",
       " 'energy_node_drift_magnitude': 4}"
      ]
     },
     "execution_count": 199,
     "metadata": {},
     "output_type": "execute_result"
    }
   ],
   "source": [
    "info['full_params']"
   ]
  },
  {
   "cell_type": "markdown",
   "id": "c52dec2d-0a59-4a56-b639-ab300152cbe5",
   "metadata": {},
   "source": [
    "# Default Kit Agent"
   ]
  },
  {
   "cell_type": "code",
   "execution_count": 208,
   "id": "477f18bb-8c8f-4355-b305-b62cc2bfb939",
   "metadata": {},
   "outputs": [],
   "source": [
    "import numpy as np\n",
    "\n",
    " #   direction (0 = center, 1 = up, 2 = right, 3 = down, 4 = left)\n",
    "def direction_to(src, target):\n",
    "    ds = target - src\n",
    "    dx = ds[0]\n",
    "    dy = ds[1]\n",
    "    if dx == 0 and dy == 0:\n",
    "        return 0\n",
    "    if abs(dx) > abs(dy):\n",
    "        if dx > 0:\n",
    "            return 2 \n",
    "        else:\n",
    "            return 4\n",
    "    else:\n",
    "        if dy > 0:\n",
    "            return 3\n",
    "        else:\n",
    "            return 1\n",
    "\n",
    "\n",
    "class Agent():\n",
    "    def __init__(self, player: str, env_cfg) -> None:\n",
    "        self.player = player\n",
    "        self.opp_player = \"player_1\" if self.player == \"player_0\" else \"player_0\"\n",
    "        self.team_id = 0 if self.player == \"player_0\" else 1\n",
    "        self.opp_team_id = 1 if self.team_id == 0 else 0\n",
    "        np.random.seed(0)\n",
    "        self.env_cfg = env_cfg\n",
    "        \n",
    "        self.relic_node_positions = []\n",
    "        self.discovered_relic_nodes_ids = set()\n",
    "        self.unit_explore_locations = dict()\n",
    "\n",
    "    def act(self, step: int, obs, remainingOverageTime: int = 60):\n",
    "        \"\"\"implement this function to decide what actions to send to each available unit. \n",
    "        \n",
    "        step is the current timestep number of the game starting from 0 going up to max_steps_in_match * match_count_per_episode - 1.\n",
    "        \"\"\"\n",
    "        unit_mask = np.array(obs[\"units_mask\"][self.team_id]) # shape (max_units, )\n",
    "        unit_positions = np.array(obs[\"units\"][\"position\"][self.team_id]) # shape (max_units, 2)\n",
    "        unit_energys = np.array(obs[\"units\"][\"energy\"][self.team_id]) # shape (max_units, 1)\n",
    "        observed_relic_node_positions = np.array(obs[\"relic_nodes\"]) # shape (max_relic_nodes, 2)\n",
    "        observed_relic_nodes_mask = np.array(obs[\"relic_nodes_mask\"]) # shape (max_relic_nodes, )\n",
    "        team_points = np.array(obs[\"team_points\"]) # points of each team, team_points[self.team_id] is the points of the your team\n",
    "        \n",
    "        # ids of units you can control at this timestep\n",
    "        available_unit_ids = np.where(unit_mask)[0]\n",
    "        # visible relic nodes\n",
    "        visible_relic_node_ids = set(np.where(observed_relic_nodes_mask)[0])\n",
    "        \n",
    "        actions = np.zeros((self.env_cfg[\"max_units\"], 3), dtype=int)\n",
    "\n",
    "\n",
    "        # basic strategy here is simply to have some units randomly explore and some units collecting as much energy as possible\n",
    "        # and once a relic node is found, we send all units to move randomly around the first relic node to gain points\n",
    "        # and information about where relic nodes are found are saved for the next match\n",
    "        \n",
    "        # save any new relic nodes that we discover for the rest of the game.\n",
    "        for id in visible_relic_node_ids:\n",
    "            if id not in self.discovered_relic_nodes_ids:\n",
    "                self.discovered_relic_nodes_ids.add(id)\n",
    "                self.relic_node_positions.append(observed_relic_node_positions[id])\n",
    "            \n",
    "\n",
    "        # unit ids range from 0 to max_units - 1\n",
    "        for unit_id in available_unit_ids:\n",
    "            unit_pos = unit_positions[unit_id]\n",
    "            unit_energy = unit_energys[unit_id]\n",
    "            if len(self.relic_node_positions) > 0:\n",
    "                nearest_relic_node_position = self.relic_node_positions[0]\n",
    "                manhattan_distance = abs(unit_pos[0] - nearest_relic_node_position[0]) + abs(unit_pos[1] - nearest_relic_node_position[1])\n",
    "                \n",
    "                # if close to the relic node we want to hover around it and hope to gain points\n",
    "                if manhattan_distance <= 4:\n",
    "                    random_direction = np.random.randint(0, 5)\n",
    "                    actions[unit_id] = [random_direction, 0, 0]\n",
    "                else:\n",
    "                    # otherwise we want to move towards the relic node\n",
    "                    actions[unit_id] = [direction_to(unit_pos, nearest_relic_node_position), 0, 0]\n",
    "            else:\n",
    "                # randomly explore by picking a random location on the map and moving there for about 20 steps\n",
    "                if step % 20 == 0 or unit_id not in self.unit_explore_locations:\n",
    "                    rand_loc = (np.random.randint(0, self.env_cfg[\"map_width\"]), np.random.randint(0, self.env_cfg[\"map_height\"]))\n",
    "                    self.unit_explore_locations[unit_id] = rand_loc\n",
    "                actions[unit_id] = [direction_to(unit_pos, self.unit_explore_locations[unit_id]), 0, 0]\n",
    "        return actions\n"
   ]
  },
  {
   "cell_type": "markdown",
   "id": "343df59c-94e3-4313-a832-dc8f12d164f2",
   "metadata": {},
   "source": [
    "# random runs for some steps"
   ]
  },
  {
   "cell_type": "code",
   "execution_count": 478,
   "id": "ae8b2153-12f2-4b2b-88d1-5bb903d27623",
   "metadata": {},
   "outputs": [],
   "source": [
    "PLAYER0 = 'player_0'\n",
    "PLAYER1 = 'player_1'\n",
    "\n",
    "MAX_MATCH_STEP = 100\n",
    "MAX_UNIT_NUM = 16\n",
    "\n",
    "MAP_WIDTH = 24\n",
    "MAP_HEIGHT = 24\n",
    "\n",
    "CELL_UNKONWN = 0\n",
    "CELL_SPACE = 1\n",
    "CELL_NEBULA = 2\n",
    "CELL_ASTERIOD = 3\n",
    "\n",
    "RELIC_NB_SIZE = 5\n",
    "\n",
    "TEAM_POINT_MASS = 100\n",
    "NON_TEAM_POINT_MASS = -100\n",
    "\n",
    "MAX_GAME_STEPS = 505\n",
    "MAX_MATCH_STEPS = 100\n",
    "\n",
    "# 0 is do nothing, 1 is move up, 2 is move right, 3 is move down, 4 is move left, 5 is sap\n",
    "MOVE_ACTION_NUM = 5\n"
   ]
  },
  {
   "cell_type": "code",
   "execution_count": 488,
   "id": "24e963de-55e0-43de-a843-7870db66d910",
   "metadata": {},
   "outputs": [],
   "source": [
    "from luxai_s3.wrappers import LuxAIS3GymEnv, RecordEpisode\n",
    "\n",
    "\n",
    "from scipy.ndimage import maximum_filter\n",
    "\n",
    "\n",
    "def anti_diag_sym(A):\n",
    "    A = np.flipud(A) \n",
    "    A = np.fliplr(A)\n",
    "    A = A.T\n",
    "    return A\n",
    "\n",
    "class MapManager:\n",
    "\n",
    "    def __init__(self, player, env_cfg):\n",
    "        self.player_id = int(player[-1])\n",
    "        self.env_cfg = env_cfg\n",
    "        self.cell_type = np.zeros((MAP_WIDTH, MAP_HEIGHT), np.int32)\n",
    "        self.visible = None\n",
    "        self.observed = np.zeros((MAP_WIDTH, MAP_HEIGHT), np.int32)\n",
    "        self.visited = np.zeros((MAP_WIDTH, MAP_HEIGHT), np.int32)\n",
    "        self.is_relic_node = np.zeros((MAP_WIDTH, MAP_HEIGHT), np.int32)\n",
    "        self.is_relic_neighbour = np.zeros((MAP_WIDTH, MAP_HEIGHT), np.int32)\n",
    "\n",
    "        self.prev_team_point = 0\n",
    "        self.team_point_mass = np.ones((MAP_WIDTH, MAP_HEIGHT), np.float32)\n",
    "    \n",
    "    def update(self, ob):\n",
    "        # Match restarted\n",
    "        if ob['match_steps'] == 0:\n",
    "            self.prev_team_point = 0\n",
    " \n",
    "        self.visible = ob['sensor_mask'].astype(np.int32)\n",
    "        self.observed |= self.visible\n",
    "\n",
    "        # adding 1 to start cell type from 0\n",
    "        cells = ob['map_features']['tile_type'] + 1\n",
    "\n",
    "        # Update map cell type\n",
    "        c = cells > CELL_UNKONWN\n",
    "        self.cell_type[c] = cells[c]\n",
    "\n",
    "        # also update the symmetrical positions\n",
    "        cells_sym = anti_diag_sym(cells)\n",
    "        ct = cells_sym > CELL_UNKONWN\n",
    "        self.cell_type[ct] = cells_sym[ct]\n",
    "\n",
    "        unit_masks = ob['units_mask'][self.player_id]\n",
    "        unit_positions = ob['units']['position'][self.player_id][unit_masks]\n",
    "        self.visited[unit_positions[:, 0], unit_positions[:, 1]] = 1\n",
    "\n",
    "        relic_nodes_mask = ob['relic_nodes_mask']\n",
    "        relic_nodes_positions = ob['relic_nodes'][relic_nodes_mask]\n",
    "        self.is_relic_node[relic_nodes_positions[:, 0], relic_nodes_positions[:, 1]] = 1\n",
    "        self.is_relic_node |= anti_diag_sym(self.is_relic_node)\n",
    "        self.is_relic_neighbour = maximum_filter((self.is_relic_node == 1).astype(np.int32), size=RELIC_NB_SIZE)\n",
    "\n",
    "        self.update_team_point_mass(ob, unit_positions)\n",
    "        self.prev_team_point = team_point\n",
    "\n",
    "    def update_team_point_mass(self, ob, unit_positions):\n",
    "        # Update team point confidence\n",
    "        team_point = ob['team_points'][self.player_id]\n",
    "        # print(ob['steps'], ob['match_steps'], 'team_point=', team_point, 'prev_point', self.prev_team_point)\n",
    "        if 0 < ob['match_steps'] and len(unit_positions):\n",
    "            unit_pos_mask = np.zeros((MAP_WIDTH, MAP_HEIGHT), dtype=bool)\n",
    "            unit_pos_mask[unit_positions[:, 0], unit_positions[:, 1]] = True            \n",
    "            unit_nearby_relic = (self.is_relic_neighbour > 0) & (unit_pos_mask)\n",
    "            if unit_nearby_relic.sum() > 0:            \n",
    "                must_be_team_point = (self.team_point_mass >= TEAM_POINT_MASS) & (unit_nearby_relic)\n",
    "                non_team_point = (self.team_point_mass <= NON_TEAM_POINT_MASS) & (unit_nearby_relic)\n",
    "\n",
    "                delta = team_point - self.prev_team_point\n",
    "                delta -= must_be_team_point.sum()\n",
    "\n",
    "                team_point_candidate = unit_nearby_relic & (~must_be_team_point) & (~non_team_point)\n",
    "                num = team_point_candidate.sum()\n",
    "                if num > 0:\n",
    "                    if delta == 0:\n",
    "                        self.team_point_mass[team_point_candidate] = NON_TEAM_POINT_MASS\n",
    "                        self.team_point_mass[anti_diag_sym(team_point_candidate)] = NON_TEAM_POINT_MASS\n",
    "                    elif num == delta:\n",
    "                        self.team_point_mass[team_point_candidate] = TEAM_POINT_MASS\n",
    "                        self.team_point_mass[anti_diag_sym(team_point_candidate)] = TEAM_POINT_MASS\n",
    "                    else:\n",
    "                        assert delta < num\n",
    "                        # print('>>>>>>>>>>>>>>', ob['steps'], delta, num, must_be_team_point.sum(), non_team_point.sum())\n",
    "                        self.team_point_mass[anti_diag_sym(team_point_candidate)] += delta / num\n",
    "                    assert delta >= 0\n",
    "\n",
    "        \n",
    "env = LuxAIS3GymEnv(numpy_output=True)\n",
    "env = RecordEpisode(env, save_dir=\"episodes\")\n",
    "obs, info = env.reset(seed=42)\n",
    "\n",
    "env_cfg = info['params']\n",
    "a0 = Agent('player_0', env_cfg)\n",
    "a1 = Agent('player_1', env_cfg)\n",
    "\n",
    "\n",
    "def act(a, obs):\n",
    "    player_id = a.player\n",
    "    step = obs[player_id]['steps']\n",
    "    ob = obs[player_id]\n",
    "    actions = a.act(step, ob)\n",
    "    return actions\n",
    "\n",
    "mm = MapManager(PLAYER0, env_cfg)\n",
    "for i in range(400):\n",
    "    mm.update(obs[PLAYER0])\n",
    "    \n",
    "    action0 = act(a0, obs)\n",
    "    action1 = act(a1, obs)\n",
    "    player_actions = {PLAYER0: action0, PLAYER1: action1}\n",
    "    obs, reward, terminated, truncated, info = env.step(player_actions)\n",
    "\n",
    "env.close()"
   ]
  },
  {
   "cell_type": "code",
   "execution_count": 489,
   "id": "aa1fc971-f7c3-4785-9f52-0502df82af84",
   "metadata": {},
   "outputs": [
    {
     "data": {
      "text/plain": [
       "<matplotlib.colorbar.Colorbar at 0x401fab250>"
      ]
     },
     "execution_count": 489,
     "metadata": {},
     "output_type": "execute_result"
    },
    {
     "data": {
      "image/png": "[encoded data removed]",
      "text/plain": [
       "<Figure size 640x480 with 2 Axes>"
      ]
     },
     "metadata": {},
     "output_type": "display_data"
    }
   ],
   "source": [
    "# plt.imshow(mm.visible, cmap='viridis', interpolation='none')\n",
    "# plt.imshow(mm.observed, cmap='viridis', interpolation='none')\n",
    "\n",
    "# plt.imshow(mm.cell_type, cmap='viridis', interpolation='none')\n",
    "\n",
    "# plt.imshow(mm.is_relic_neighbour, cmap='viridis', interpolation='none')\n",
    "# plt.imshow(mm.is_relic_node, cmap='viridis', interpolation='none')\n",
    "\n",
    "plt.imshow(mm.team_point_mass.astype(int).T, cmap='viridis', interpolation='none')\n",
    "plt.colorbar(label=\"Values\")"
   ]
  },
  {
   "cell_type": "code",
   "execution_count": 490,
   "id": "799b7e88-c124-468e-8e67-3a4249ac8396",
   "metadata": {},
   "outputs": [
    {
     "data": {
      "text/plain": [
       "<matplotlib.colorbar.Colorbar at 0x402883390>"
      ]
     },
     "execution_count": 490,
     "metadata": {},
     "output_type": "execute_result"
    },
    {
     "data": {
      "image/png": "[encoded data removed]",
      "text/plain": [
       "<Figure size 640x480 with 2 Axes>"
      ]
     },
     "metadata": {},
     "output_type": "display_data"
    }
   ],
   "source": [
    "plt.imshow(mm.is_relic_node.T, cmap='viridis', interpolation='none')\n",
    "plt.colorbar(label=\"Values\")"
   ]
  },
  {
   "cell_type": "code",
   "execution_count": 355,
   "id": "058a939a-06be-46fe-ad0c-6f5c3cd4bfb3",
   "metadata": {},
   "outputs": [
    {
     "data": {
      "text/plain": [
       "(array([ True,  True, False, False, False, False]),\n",
       " array([[14,  2],\n",
       "        [15,  2]], dtype=int16))"
      ]
     },
     "execution_count": 355,
     "metadata": {},
     "output_type": "execute_result"
    }
   ],
   "source": [
    "o = obs[PLAYER0]\n",
    "\n",
    "o['relic_nodes_mask'], o['relic_nodes'][o['relic_nodes_mask']]"
   ]
  },
  {
   "cell_type": "code",
   "execution_count": 388,
   "id": "2866800c-e56b-4a0c-aaca-881b8c07440c",
   "metadata": {},
   "outputs": [
    {
     "data": {
      "text/plain": [
       "np.int32(43)"
      ]
     },
     "execution_count": 388,
     "metadata": {},
     "output_type": "execute_result"
    }
   ],
   "source": [
    "o['team_points'][0]"
   ]
  },
  {
   "cell_type": "code",
   "execution_count": 390,
   "id": "b6f3bfb5-a995-423f-9a89-5e9b56181b40",
   "metadata": {},
   "outputs": [],
   "source": [
    "target_matrix = np.zeros((5, 5), dtype=int)\n",
    "\n",
    "# Example indices (n x 2 array where each row is an (x, y) pair)\n",
    "indices = np.array([[0, 1],\n",
    "                    [2, 3],\n",
    "                    [4, 4],\n",
    "                    [1, 0]])\n",
    "\n",
    "# Example values to update at the given indices\n",
    "values = np.array([10, 20, 30, 40])\n",
    "\n",
    "# Split the indices into row and column arrays\n",
    "x, y = indices[:, 0], indices[:, 1]\n",
    "target_matrix[x, y] = values\n"
   ]
  },
  {
   "cell_type": "code",
   "execution_count": 392,
   "id": "1157660c-429a-4294-94ba-39ae3688ac99",
   "metadata": {},
   "outputs": [
    {
     "data": {
      "text/plain": [
       "array([10, 20, 30, 40])"
      ]
     },
     "execution_count": 392,
     "metadata": {},
     "output_type": "execute_result"
    }
   ],
   "source": [
    "target_matrix[x, y]"
   ]
  },
  {
   "cell_type": "code",
   "execution_count": 394,
   "id": "f5795a65-1197-4c24-9e20-2db79565ee64",
   "metadata": {},
   "outputs": [
    {
     "data": {
      "text/plain": [
       "array([10, 40, 20, 30])"
      ]
     },
     "execution_count": 394,
     "metadata": {},
     "output_type": "execute_result"
    }
   ],
   "source": [
    "target_matrix[target_matrix > 0]"
   ]
  },
  {
   "cell_type": "markdown",
   "id": "0464d619-e96d-4248-91e1-e3c7b35c1c08",
   "metadata": {},
   "source": [
    "# Steps and Match"
   ]
  },
  {
   "cell_type": "code",
   "execution_count": 204,
   "id": "860686bb-3403-4f50-a05b-52a546b02d2a",
   "metadata": {},
   "outputs": [
    {
     "data": {
      "text/plain": [
       "dict_keys(['units', 'units_mask', 'sensor_mask', 'map_features', 'relic_nodes', 'relic_nodes_mask', 'team_points', 'team_wins', 'steps', 'match_steps'])"
      ]
     },
     "execution_count": 204,
     "metadata": {},
     "output_type": "execute_result"
    }
   ],
   "source": [
    "obs['player_0'].keys()"
   ]
  },
  {
   "cell_type": "code",
   "execution_count": 205,
   "id": "9c7dae24-0409-456c-85c5-e4921cb0335a",
   "metadata": {},
   "outputs": [],
   "source": [
    "player_0 = obs['player_0']"
   ]
  },
  {
   "cell_type": "code",
   "execution_count": 206,
   "id": "415aa8ac-2fa4-44c4-a573-7b713cf9c0db",
   "metadata": {},
   "outputs": [
    {
     "name": "stdout",
     "output_type": "stream",
     "text": [
      "{'player_0': array(False), 'player_1': array(False)} 81 81 [0 0]\n",
      "{'player_0': array(False), 'player_1': array(False)} 82 82 [0 0]\n",
      "{'player_0': array(False), 'player_1': array(False)} 83 83 [0 0]\n",
      "{'player_0': array(False), 'player_1': array(False)} 84 84 [0 0]\n",
      "{'player_0': array(False), 'player_1': array(False)} 85 85 [0 0]\n",
      "{'player_0': array(False), 'player_1': array(False)} 86 86 [0 0]\n",
      "{'player_0': array(False), 'player_1': array(False)} 87 87 [0 0]\n",
      "{'player_0': array(False), 'player_1': array(False)} 88 88 [0 0]\n",
      "{'player_0': array(False), 'player_1': array(False)} 89 89 [0 0]\n",
      "{'player_0': array(False), 'player_1': array(False)} 90 90 [0 0]\n",
      "{'player_0': array(False), 'player_1': array(False)} 91 91 [0 0]\n",
      "{'player_0': array(False), 'player_1': array(False)} 92 92 [0 0]\n",
      "{'player_0': array(False), 'player_1': array(False)} 93 93 [0 0]\n",
      "{'player_0': array(False), 'player_1': array(False)} 94 94 [0 0]\n",
      "{'player_0': array(False), 'player_1': array(False)} 95 95 [0 0]\n",
      "{'player_0': array(False), 'player_1': array(False)} 96 96 [0 0]\n",
      "{'player_0': array(False), 'player_1': array(False)} 97 97 [0 0]\n",
      "{'player_0': array(False), 'player_1': array(False)} 98 98 [0 0]\n",
      "{'player_0': array(False), 'player_1': array(False)} 99 99 [0 0]\n",
      "{'player_0': array(False), 'player_1': array(False)} 100 100 [0 0]\n",
      "{'player_0': array(False), 'player_1': array(False)} 101 0 [1 0]\n",
      "{'player_0': array(False), 'player_1': array(False)} 102 1 [1 0]\n",
      "{'player_0': array(False), 'player_1': array(False)} 103 2 [1 0]\n",
      "{'player_0': array(False), 'player_1': array(False)} 104 3 [1 0]\n",
      "{'player_0': array(False), 'player_1': array(False)} 105 4 [1 0]\n",
      "{'player_0': array(False), 'player_1': array(False)} 106 5 [1 0]\n",
      "{'player_0': array(False), 'player_1': array(False)} 107 6 [1 0]\n",
      "{'player_0': array(False), 'player_1': array(False)} 108 7 [1 0]\n",
      "{'player_0': array(False), 'player_1': array(False)} 109 8 [1 0]\n",
      "{'player_0': array(False), 'player_1': array(False)} 110 9 [1 0]\n"
     ]
    }
   ],
   "source": [
    "for i in range(30):\n",
    "    obs, reward, terminated, truncated, info = env.step(env.action_space.sample())\n",
    "    player_0 = obs['player_0']\n",
    "    print(terminated, player_0['steps'], player_0['match_steps'], player_0['team_wins'])"
   ]
  },
  {
   "cell_type": "code",
   "execution_count": null,
   "id": "cffa6d85-6727-4000-928e-2eff5b668ef2",
   "metadata": {},
   "outputs": [],
   "source": []
  }
 ],
 "metadata": {
  "kernelspec": {
   "display_name": "Python 3 (ipykernel)",
   "language": "python",
   "name": "python3"
  },
  "language_info": {
   "codemirror_mode": {
    "name": "ipython",
    "version": 3
   },
   "file_extension": ".py",
   "mimetype": "text/x-python",
   "name": "python",
   "nbconvert_exporter": "python",
   "pygments_lexer": "ipython3",
   "version": "3.13.1"
  }
 },
 "nbformat": 4,
 "nbformat_minor": 5
}
