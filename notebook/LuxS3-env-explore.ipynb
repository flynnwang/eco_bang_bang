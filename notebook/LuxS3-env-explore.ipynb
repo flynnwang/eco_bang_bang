{
 "cells": [
  {
   "cell_type": "code",
   "execution_count": 116,
   "id": "fd7bb021-16d5-4f25-8363-2f25503d3055",
   "metadata": {},
   "outputs": [],
   "source": [
    "import numpy as np\n",
    "import pandas as pd\n",
    "\n",
    "import seaborn as sns\n",
    "import matplotlib.pyplot as plt\n",
    "\n",
    "%matplotlib inline"
   ]
  },
  {
   "cell_type": "code",
   "execution_count": 172,
   "id": "39588b0e-4ead-4be6-8b90-dd6392f7922c",
   "metadata": {},
   "outputs": [],
   "source": [
    "from luxai_s3.wrappers import LuxAIS3GymEnv\n",
    "\n",
    "env = LuxAIS3GymEnv(numpy_output=True)\n",
    "\n",
    "obs, info = env.reset(seed=42)"
   ]
  },
  {
   "cell_type": "code",
   "execution_count": 173,
   "id": "78ab213e-a1f4-4fa3-9045-012fc80b1187",
   "metadata": {},
   "outputs": [
    {
     "data": {
      "text/plain": [
       "{'max_steps_in_match': 100,\n",
       " 'map_type': 1,\n",
       " 'map_width': 24,\n",
       " 'map_height': 24,\n",
       " 'num_teams': 2,\n",
       " 'match_count_per_episode': 5,\n",
       " 'max_units': 16,\n",
       " 'init_unit_energy': 100,\n",
       " 'min_unit_energy': 0,\n",
       " 'max_unit_energy': 400,\n",
       " 'unit_move_cost': 2,\n",
       " 'spawn_rate': 3,\n",
       " 'unit_sap_cost': 49,\n",
       " 'unit_sap_range': 6,\n",
       " 'unit_sap_dropoff_factor': 1.0,\n",
       " 'unit_energy_void_factor': 0.25,\n",
       " 'max_energy_nodes': 6,\n",
       " 'max_energy_per_tile': 20,\n",
       " 'min_energy_per_tile': -20,\n",
       " 'max_relic_nodes': 6,\n",
       " 'relic_config_size': 5,\n",
       " 'fog_of_war': True,\n",
       " 'unit_sensor_range': 2,\n",
       " 'nebula_tile_vision_reduction': 1,\n",
       " 'nebula_tile_energy_reduction': 10,\n",
       " 'nebula_tile_drift_speed': -0.02500000037252903,\n",
       " 'energy_node_drift_speed': 0.05000000074505806,\n",
       " 'energy_node_drift_magnitude': 4}"
      ]
     },
     "execution_count": 173,
     "metadata": {},
     "output_type": "execute_result"
    }
   ],
   "source": [
    "info['full_params']"
   ]
  },
  {
   "cell_type": "markdown",
   "id": "343df59c-94e3-4313-a832-dc8f12d164f2",
   "metadata": {},
   "source": [
    "# random runs for some steps"
   ]
  },
  {
   "cell_type": "code",
   "execution_count": 159,
   "id": "239519e0-ec7d-4f1d-88c1-0ad0b847fc6a",
   "metadata": {},
   "outputs": [
    {
     "data": {
      "text/plain": [
       "array([[ 4, -2,  3],\n",
       "       [ 5,  3, -3],\n",
       "       [ 6,  2,  4],\n",
       "       [ 4, -1,  0],\n",
       "       [ 0,  1,  4],\n",
       "       [ 3, -2, -1],\n",
       "       [ 4,  1,  1],\n",
       "       [ 2, -2, -4],\n",
       "       [ 3,  4, -1],\n",
       "       [ 3, -4,  0],\n",
       "       [ 5,  4,  4],\n",
       "       [ 2, -4,  1],\n",
       "       [ 3, -2,  1],\n",
       "       [ 6, -3,  3],\n",
       "       [ 6,  2,  4],\n",
       "       [ 4,  1,  0]], dtype=int16)"
      ]
     },
     "execution_count": 159,
     "metadata": {},
     "output_type": "execute_result"
    }
   ],
   "source": [
    "a = env.action_space.sample()\n",
    "\n",
    "a['player_0']"
   ]
  },
  {
   "cell_type": "code",
   "execution_count": 160,
   "id": "e6da4387-cc7e-44e1-8fc7-6b2dd2184e5f",
   "metadata": {},
   "outputs": [],
   "source": [
    "for i in range(80):\n",
    "    obs, reward, terminated, truncated, info = env.step(env.action_space.sample())"
   ]
  },
  {
   "cell_type": "code",
   "execution_count": 161,
   "id": "a4ef5034-3c74-4d6d-9b2e-67219e9de766",
   "metadata": {},
   "outputs": [
    {
     "data": {
      "text/plain": [
       "dict_keys(['player_0', 'player_1'])"
      ]
     },
     "execution_count": 161,
     "metadata": {},
     "output_type": "execute_result"
    }
   ],
   "source": [
    "obs.keys()"
   ]
  },
  {
   "cell_type": "code",
   "execution_count": 162,
   "id": "6b8b45b6-0863-4c06-b008-f96e2d6197c4",
   "metadata": {},
   "outputs": [
    {
     "data": {
      "text/plain": [
       "['__class__',\n",
       " '__class_getitem__',\n",
       " '__contains__',\n",
       " '__delattr__',\n",
       " '__delitem__',\n",
       " '__dir__',\n",
       " '__doc__',\n",
       " '__eq__',\n",
       " '__format__',\n",
       " '__ge__',\n",
       " '__getattribute__',\n",
       " '__getitem__',\n",
       " '__getstate__',\n",
       " '__gt__',\n",
       " '__hash__',\n",
       " '__init__',\n",
       " '__init_subclass__',\n",
       " '__ior__',\n",
       " '__iter__',\n",
       " '__le__',\n",
       " '__len__',\n",
       " '__lt__',\n",
       " '__ne__',\n",
       " '__new__',\n",
       " '__or__',\n",
       " '__reduce__',\n",
       " '__reduce_ex__',\n",
       " '__repr__',\n",
       " '__reversed__',\n",
       " '__ror__',\n",
       " '__setattr__',\n",
       " '__setitem__',\n",
       " '__sizeof__',\n",
       " '__str__',\n",
       " '__subclasshook__',\n",
       " 'clear',\n",
       " 'copy',\n",
       " 'fromkeys',\n",
       " 'get',\n",
       " 'items',\n",
       " 'keys',\n",
       " 'pop',\n",
       " 'popitem',\n",
       " 'setdefault',\n",
       " 'update',\n",
       " 'values']"
      ]
     },
     "execution_count": 162,
     "metadata": {},
     "output_type": "execute_result"
    }
   ],
   "source": [
    "player = obs['player_0']\n",
    "\n",
    "dir(player)"
   ]
  },
  {
   "cell_type": "markdown",
   "id": "0464d619-e96d-4248-91e1-e3c7b35c1c08",
   "metadata": {},
   "source": [
    "# Steps and Match"
   ]
  },
  {
   "cell_type": "code",
   "execution_count": 163,
   "id": "860686bb-3403-4f50-a05b-52a546b02d2a",
   "metadata": {},
   "outputs": [
    {
     "data": {
      "text/plain": [
       "dict_keys(['units', 'units_mask', 'sensor_mask', 'map_features', 'relic_nodes', 'relic_nodes_mask', 'team_points', 'team_wins', 'steps', 'match_steps'])"
      ]
     },
     "execution_count": 163,
     "metadata": {},
     "output_type": "execute_result"
    }
   ],
   "source": [
    "obs['player_0'].keys()"
   ]
  },
  {
   "cell_type": "code",
   "execution_count": 164,
   "id": "9c7dae24-0409-456c-85c5-e4921cb0335a",
   "metadata": {},
   "outputs": [],
   "source": [
    "player_0 = obs['player_0']"
   ]
  },
  {
   "cell_type": "code",
   "execution_count": 165,
   "id": "23188894-107c-488b-98d4-520ca7e7b5a5",
   "metadata": {},
   "outputs": [
    {
     "data": {
      "text/plain": [
       "array(80, dtype=int32)"
      ]
     },
     "execution_count": 165,
     "metadata": {},
     "output_type": "execute_result"
    }
   ],
   "source": [
    "player_0['steps']"
   ]
  },
  {
   "cell_type": "code",
   "execution_count": 166,
   "id": "886a4217-a074-42af-a78d-512372c42ab3",
   "metadata": {},
   "outputs": [
    {
     "data": {
      "text/plain": [
       "array(80, dtype=int32)"
      ]
     },
     "execution_count": 166,
     "metadata": {},
     "output_type": "execute_result"
    }
   ],
   "source": [
    "player_0['match_steps']"
   ]
  },
  {
   "cell_type": "code",
   "execution_count": 167,
   "id": "d4487e30-1740-4f4b-b96f-86e834416c0b",
   "metadata": {},
   "outputs": [
    {
     "data": {
      "text/plain": [
       "array([0, 0], dtype=int32)"
      ]
     },
     "execution_count": 167,
     "metadata": {},
     "output_type": "execute_result"
    }
   ],
   "source": [
    "player_0['team_wins']"
   ]
  },
  {
   "cell_type": "code",
   "execution_count": 177,
   "id": "415aa8ac-2fa4-44c4-a573-7b713cf9c0db",
   "metadata": {},
   "outputs": [
    {
     "name": "stdout",
     "output_type": "stream",
     "text": [
      "{'player_0': array(False), 'player_1': array(False)} 91 91 [0 0]\n",
      "{'player_0': array(False), 'player_1': array(False)} 92 92 [0 0]\n",
      "{'player_0': array(False), 'player_1': array(False)} 93 93 [0 0]\n",
      "{'player_0': array(False), 'player_1': array(False)} 94 94 [0 0]\n",
      "{'player_0': array(False), 'player_1': array(False)} 95 95 [0 0]\n",
      "{'player_0': array(False), 'player_1': array(False)} 96 96 [0 0]\n",
      "{'player_0': array(False), 'player_1': array(False)} 97 97 [0 0]\n",
      "{'player_0': array(False), 'player_1': array(False)} 98 98 [0 0]\n",
      "{'player_0': array(False), 'player_1': array(False)} 99 99 [0 0]\n",
      "{'player_0': array(False), 'player_1': array(False)} 100 100 [0 0]\n",
      "{'player_0': array(False), 'player_1': array(False)} 101 0 [0 1]\n",
      "{'player_0': array(False), 'player_1': array(False)} 102 1 [0 1]\n",
      "{'player_0': array(False), 'player_1': array(False)} 103 2 [0 1]\n",
      "{'player_0': array(False), 'player_1': array(False)} 104 3 [0 1]\n",
      "{'player_0': array(False), 'player_1': array(False)} 105 4 [0 1]\n",
      "{'player_0': array(False), 'player_1': array(False)} 106 5 [0 1]\n",
      "{'player_0': array(False), 'player_1': array(False)} 107 6 [0 1]\n",
      "{'player_0': array(False), 'player_1': array(False)} 108 7 [0 1]\n",
      "{'player_0': array(False), 'player_1': array(False)} 109 8 [0 1]\n",
      "{'player_0': array(False), 'player_1': array(False)} 110 9 [0 1]\n",
      "{'player_0': array(False), 'player_1': array(False)} 111 10 [0 1]\n",
      "{'player_0': array(False), 'player_1': array(False)} 112 11 [0 1]\n",
      "{'player_0': array(False), 'player_1': array(False)} 113 12 [0 1]\n",
      "{'player_0': array(False), 'player_1': array(False)} 114 13 [0 1]\n",
      "{'player_0': array(False), 'player_1': array(False)} 115 14 [0 1]\n",
      "{'player_0': array(False), 'player_1': array(False)} 116 15 [0 1]\n",
      "{'player_0': array(False), 'player_1': array(False)} 117 16 [0 1]\n",
      "{'player_0': array(False), 'player_1': array(False)} 118 17 [0 1]\n",
      "{'player_0': array(False), 'player_1': array(False)} 119 18 [0 1]\n",
      "{'player_0': array(False), 'player_1': array(False)} 120 19 [0 1]\n"
     ]
    }
   ],
   "source": [
    "for i in range(30):\n",
    "    obs, reward, terminated, truncated, info = env.step(env.action_space.sample())\n",
    "    player_0 = obs['player_0']\n",
    "    print(terminated, player_0['steps'], player_0['match_steps'], player_0['team_wins'])"
   ]
  },
  {
   "cell_type": "code",
   "execution_count": 181,
   "id": "823f898c-6a17-4f04-8c84-2eb41e2a9684",
   "metadata": {},
   "outputs": [
    {
     "data": {
      "text/plain": [
       "array([0, 0], dtype=int32)"
      ]
     },
     "execution_count": 181,
     "metadata": {},
     "output_type": "execute_result"
    }
   ],
   "source": [
    "player_0['team_wins'] - obs['player_1']['team_wins']"
   ]
  },
  {
   "cell_type": "code",
   "execution_count": 154,
   "id": "4d1717aa-f2f1-4e2c-8365-abbef4017193",
   "metadata": {},
   "outputs": [
    {
     "name": "stdout",
     "output_type": "stream",
     "text": [
      "yes 510\n"
     ]
    }
   ],
   "source": [
    "if player_0['steps'] >= 504:\n",
    "    print('yes', player_0['steps'])\n",
    "else:\n",
    "    print('no')"
   ]
  },
  {
   "cell_type": "markdown",
   "id": "e0ece78e-bede-4e6f-91a3-1e72db119fd4",
   "metadata": {},
   "source": [
    "# Info"
   ]
  },
  {
   "cell_type": "code",
   "execution_count": 128,
   "id": "dfa1864a-29ba-43dd-a599-eca68f878364",
   "metadata": {},
   "outputs": [
    {
     "data": {
      "text/plain": [
       "dict_keys(['discount', 'final_observation', 'final_state', 'player_0', 'player_1'])"
      ]
     },
     "execution_count": 128,
     "metadata": {},
     "output_type": "execute_result"
    }
   ],
   "source": [
    "info.keys()"
   ]
  },
  {
   "cell_type": "code",
   "execution_count": 57,
   "id": "9f679e5a-f2e3-4a81-8564-5e81de1350e9",
   "metadata": {},
   "outputs": [
    {
     "data": {
      "text/plain": [
       "EnvObs(units=UnitState(position=Array([[[ 0,  4],\n",
       "        [ 1,  3],\n",
       "        [ 5,  5],\n",
       "        [ 3,  2],\n",
       "        [ 0,  5],\n",
       "        [ 2,  1],\n",
       "        [ 2,  2],\n",
       "        [ 2,  5],\n",
       "        [ 1,  2],\n",
       "        [ 0,  4],\n",
       "        [ 0,  1],\n",
       "        [ 1,  5],\n",
       "        [ 1,  3],\n",
       "        [ 0,  5],\n",
       "        [ 0,  1],\n",
       "        [ 0,  3]],\n",
       "\n",
       "       [[-1, -1],\n",
       "        [-1, -1],\n",
       "        [-1, -1],\n",
       "        [-1, -1],\n",
       "        [-1, -1],\n",
       "        [-1, -1],\n",
       "        [-1, -1],\n",
       "        [-1, -1],\n",
       "        [-1, -1],\n",
       "        [-1, -1],\n",
       "        [-1, -1],\n",
       "        [-1, -1],\n",
       "        [-1, -1],\n",
       "        [-1, -1],\n",
       "        [-1, -1],\n",
       "        [-1, -1]]], dtype=int16), energy=Array([[  0,   0,  82,  40,   0,   0,   0, 105, 176,   4, 336,  26,   0,\n",
       "         43, 327, 228],\n",
       "       [ -1,  -1,  -1,  -1,  -1,  -1,  -1,  -1,  -1,  -1,  -1,  -1,  -1,\n",
       "         -1,  -1,  -1]], dtype=int16)), units_mask=Array([[ True,  True,  True,  True,  True,  True,  True,  True,  True,\n",
       "         True,  True,  True,  True,  True,  True,  True],\n",
       "       [False, False, False, False, False, False, False, False, False,\n",
       "        False, False, False, False, False, False, False]], dtype=bool), sensor_mask=Array([[ True,  True,  True,  True,  True,  True,  True,  True, False,\n",
       "        False, False, False, False, False, False, False, False, False,\n",
       "        False, False, False, False, False, False],\n",
       "       [ True,  True,  True,  True,  True,  True,  True,  True, False,\n",
       "        False, False, False, False, False, False, False, False, False,\n",
       "        False, False, False, False, False, False],\n",
       "       [ True,  True,  True,  True,  True,  True,  True,  True, False,\n",
       "        False, False, False, False, False, False, False, False, False,\n",
       "        False, False, False, False, False, False],\n",
       "       [ True,  True,  True,  True,  True,  True,  True,  True, False,\n",
       "        False, False, False, False, False, False, False, False, False,\n",
       "        False, False, False, False, False, False],\n",
       "       [ True,  True,  True,  True,  True,  True,  True,  True, False,\n",
       "        False, False, False, False, False, False, False, False, False,\n",
       "        False, False, False, False, False, False],\n",
       "       [ True,  True,  True,  True,  True,  True,  True,  True, False,\n",
       "        False, False, False, False, False, False, False, False, False,\n",
       "        False, False, False, False, False, False],\n",
       "       [False, False, False,  True,  True,  True,  True,  True, False,\n",
       "        False, False, False, False, False, False, False, False, False,\n",
       "        False, False, False, False, False, False],\n",
       "       [False, False, False,  True,  True,  True,  True,  True, False,\n",
       "        False, False, False, False, False, False, False, False, False,\n",
       "        False, False, False, False, False, False],\n",
       "       [False, False, False, False, False, False, False, False, False,\n",
       "        False, False, False, False, False, False, False, False, False,\n",
       "        False, False, False, False, False, False],\n",
       "       [False, False, False, False, False, False, False, False, False,\n",
       "        False, False, False, False, False, False, False, False, False,\n",
       "        False, False, False, False, False, False],\n",
       "       [False, False, False, False, False, False, False, False, False,\n",
       "        False, False, False, False, False, False, False, False, False,\n",
       "        False, False, False, False, False, False],\n",
       "       [False, False, False, False, False, False, False, False, False,\n",
       "        False, False, False, False, False, False, False, False, False,\n",
       "        False, False, False, False, False, False],\n",
       "       [False, False, False, False, False, False, False, False, False,\n",
       "        False, False, False, False, False, False, False, False, False,\n",
       "        False, False, False, False, False, False],\n",
       "       [False, False, False, False, False, False, False, False, False,\n",
       "        False, False, False, False, False, False, False, False, False,\n",
       "        False, False, False, False, False, False],\n",
       "       [False, False, False, False, False, False, False, False, False,\n",
       "        False, False, False, False, False, False, False, False, False,\n",
       "        False, False, False, False, False, False],\n",
       "       [False, False, False, False, False, False, False, False, False,\n",
       "        False, False, False, False, False, False, False, False, False,\n",
       "        False, False, False, False, False, False],\n",
       "       [False, False, False, False, False, False, False, False, False,\n",
       "        False, False, False, False, False, False, False, False, False,\n",
       "        False, False, False, False, False, False],\n",
       "       [False, False, False, False, False, False, False, False, False,\n",
       "        False, False, False, False, False, False, False, False, False,\n",
       "        False, False, False, False, False, False],\n",
       "       [False, False, False, False, False, False, False, False, False,\n",
       "        False, False, False, False, False, False, False, False, False,\n",
       "        False, False, False, False, False, False],\n",
       "       [False, False, False, False, False, False, False, False, False,\n",
       "        False, False, False, False, False, False, False, False, False,\n",
       "        False, False, False, False, False, False],\n",
       "       [False, False, False, False, False, False, False, False, False,\n",
       "        False, False, False, False, False, False, False, False, False,\n",
       "        False, False, False, False, False, False],\n",
       "       [False, False, False, False, False, False, False, False, False,\n",
       "        False, False, False, False, False, False, False, False, False,\n",
       "        False, False, False, False, False, False],\n",
       "       [False, False, False, False, False, False, False, False, False,\n",
       "        False, False, False, False, False, False, False, False, False,\n",
       "        False, False, False, False, False, False],\n",
       "       [False, False, False, False, False, False, False, False, False,\n",
       "        False, False, False, False, False, False, False, False, False,\n",
       "        False, False, False, False, False, False]], dtype=bool), map_features=MapTile(energy=Array([[ 8,  7,  1, -4, -6, -5, -2,  1, -1, -1, -1, -1, -1, -1, -1, -1,\n",
       "        -1, -1, -1, -1, -1, -1, -1, -1],\n",
       "       [ 7,  1, -4, -5, -3,  2,  6,  9, -1, -1, -1, -1, -1, -1, -1, -1,\n",
       "        -1, -1, -1, -1, -1, -1, -1, -1],\n",
       "       [ 3, -4, -5, -2,  3,  8,  9,  8, -1, -1, -1, -1, -1, -1, -1, -1,\n",
       "        -1, -1, -1, -1, -1, -1, -1, -1],\n",
       "       [-2, -6, -3,  3,  8,  8,  5,  1, -1, -1, -1, -1, -1, -1, -1, -1,\n",
       "        -1, -1, -1, -1, -1, -1, -1, -1],\n",
       "       [-5, -5,  2,  8,  8,  4, -2, -5, -1, -1, -1, -1, -1, -1, -1, -1,\n",
       "        -1, -1, -1, -1, -1, -1, -1, -1],\n",
       "       [-6, -2,  6,  9,  5, -2, -5, -5, -1, -1, -1, -1, -1, -1, -1, -1,\n",
       "        -1, -1, -1, -1, -1, -1, -1, -1],\n",
       "       [-1, -1, -1,  8,  1, -5, -5,  1, -1, -1, -1, -1, -1, -1, -1, -1,\n",
       "        -1, -1, -1, -1, -1, -1, -1, -1],\n",
       "       [-1, -1, -1,  6, -2, -6, -2,  6, -1, -1, -1, -1, -1, -1, -1, -1,\n",
       "        -1, -1, -1, -1, -1, -1, -1, -1],\n",
       "       [-1, -1, -1, -1, -1, -1, -1, -1, -1, -1, -1, -1, -1, -1, -1, -1,\n",
       "        -1, -1, -1, -1, -1, -1, -1, -1],\n",
       "       [-1, -1, -1, -1, -1, -1, -1, -1, -1, -1, -1, -1, -1, -1, -1, -1,\n",
       "        -1, -1, -1, -1, -1, -1, -1, -1],\n",
       "       [-1, -1, -1, -1, -1, -1, -1, -1, -1, -1, -1, -1, -1, -1, -1, -1,\n",
       "        -1, -1, -1, -1, -1, -1, -1, -1],\n",
       "       [-1, -1, -1, -1, -1, -1, -1, -1, -1, -1, -1, -1, -1, -1, -1, -1,\n",
       "        -1, -1, -1, -1, -1, -1, -1, -1],\n",
       "       [-1, -1, -1, -1, -1, -1, -1, -1, -1, -1, -1, -1, -1, -1, -1, -1,\n",
       "        -1, -1, -1, -1, -1, -1, -1, -1],\n",
       "       [-1, -1, -1, -1, -1, -1, -1, -1, -1, -1, -1, -1, -1, -1, -1, -1,\n",
       "        -1, -1, -1, -1, -1, -1, -1, -1],\n",
       "       [-1, -1, -1, -1, -1, -1, -1, -1, -1, -1, -1, -1, -1, -1, -1, -1,\n",
       "        -1, -1, -1, -1, -1, -1, -1, -1],\n",
       "       [-1, -1, -1, -1, -1, -1, -1, -1, -1, -1, -1, -1, -1, -1, -1, -1,\n",
       "        -1, -1, -1, -1, -1, -1, -1, -1],\n",
       "       [-1, -1, -1, -1, -1, -1, -1, -1, -1, -1, -1, -1, -1, -1, -1, -1,\n",
       "        -1, -1, -1, -1, -1, -1, -1, -1],\n",
       "       [-1, -1, -1, -1, -1, -1, -1, -1, -1, -1, -1, -1, -1, -1, -1, -1,\n",
       "        -1, -1, -1, -1, -1, -1, -1, -1],\n",
       "       [-1, -1, -1, -1, -1, -1, -1, -1, -1, -1, -1, -1, -1, -1, -1, -1,\n",
       "        -1, -1, -1, -1, -1, -1, -1, -1],\n",
       "       [-1, -1, -1, -1, -1, -1, -1, -1, -1, -1, -1, -1, -1, -1, -1, -1,\n",
       "        -1, -1, -1, -1, -1, -1, -1, -1],\n",
       "       [-1, -1, -1, -1, -1, -1, -1, -1, -1, -1, -1, -1, -1, -1, -1, -1,\n",
       "        -1, -1, -1, -1, -1, -1, -1, -1],\n",
       "       [-1, -1, -1, -1, -1, -1, -1, -1, -1, -1, -1, -1, -1, -1, -1, -1,\n",
       "        -1, -1, -1, -1, -1, -1, -1, -1],\n",
       "       [-1, -1, -1, -1, -1, -1, -1, -1, -1, -1, -1, -1, -1, -1, -1, -1,\n",
       "        -1, -1, -1, -1, -1, -1, -1, -1],\n",
       "       [-1, -1, -1, -1, -1, -1, -1, -1, -1, -1, -1, -1, -1, -1, -1, -1,\n",
       "        -1, -1, -1, -1, -1, -1, -1, -1]], dtype=int16), tile_type=Array([[ 0,  0,  0,  0,  0,  0,  0,  0, -1, -1, -1, -1, -1, -1, -1, -1,\n",
       "        -1, -1, -1, -1, -1, -1, -1, -1],\n",
       "       [ 2,  2,  0,  0,  0,  0,  0,  0, -1, -1, -1, -1, -1, -1, -1, -1,\n",
       "        -1, -1, -1, -1, -1, -1, -1, -1],\n",
       "       [ 0,  2,  0,  0,  0,  0,  0,  0, -1, -1, -1, -1, -1, -1, -1, -1,\n",
       "        -1, -1, -1, -1, -1, -1, -1, -1],\n",
       "       [ 2,  2,  0,  0,  0,  0,  0,  0, -1, -1, -1, -1, -1, -1, -1, -1,\n",
       "        -1, -1, -1, -1, -1, -1, -1, -1],\n",
       "       [ 0,  0,  0,  0,  0,  0,  0,  2, -1, -1, -1, -1, -1, -1, -1, -1,\n",
       "        -1, -1, -1, -1, -1, -1, -1, -1],\n",
       "       [ 0,  0,  0,  0,  0,  0,  0,  0, -1, -1, -1, -1, -1, -1, -1, -1,\n",
       "        -1, -1, -1, -1, -1, -1, -1, -1],\n",
       "       [-1, -1, -1,  0,  0,  0,  0,  0, -1, -1, -1, -1, -1, -1, -1, -1,\n",
       "        -1, -1, -1, -1, -1, -1, -1, -1],\n",
       "       [-1, -1, -1,  0,  0,  0,  0,  0, -1, -1, -1, -1, -1, -1, -1, -1,\n",
       "        -1, -1, -1, -1, -1, -1, -1, -1],\n",
       "       [-1, -1, -1, -1, -1, -1, -1, -1, -1, -1, -1, -1, -1, -1, -1, -1,\n",
       "        -1, -1, -1, -1, -1, -1, -1, -1],\n",
       "       [-1, -1, -1, -1, -1, -1, -1, -1, -1, -1, -1, -1, -1, -1, -1, -1,\n",
       "        -1, -1, -1, -1, -1, -1, -1, -1],\n",
       "       [-1, -1, -1, -1, -1, -1, -1, -1, -1, -1, -1, -1, -1, -1, -1, -1,\n",
       "        -1, -1, -1, -1, -1, -1, -1, -1],\n",
       "       [-1, -1, -1, -1, -1, -1, -1, -1, -1, -1, -1, -1, -1, -1, -1, -1,\n",
       "        -1, -1, -1, -1, -1, -1, -1, -1],\n",
       "       [-1, -1, -1, -1, -1, -1, -1, -1, -1, -1, -1, -1, -1, -1, -1, -1,\n",
       "        -1, -1, -1, -1, -1, -1, -1, -1],\n",
       "       [-1, -1, -1, -1, -1, -1, -1, -1, -1, -1, -1, -1, -1, -1, -1, -1,\n",
       "        -1, -1, -1, -1, -1, -1, -1, -1],\n",
       "       [-1, -1, -1, -1, -1, -1, -1, -1, -1, -1, -1, -1, -1, -1, -1, -1,\n",
       "        -1, -1, -1, -1, -1, -1, -1, -1],\n",
       "       [-1, -1, -1, -1, -1, -1, -1, -1, -1, -1, -1, -1, -1, -1, -1, -1,\n",
       "        -1, -1, -1, -1, -1, -1, -1, -1],\n",
       "       [-1, -1, -1, -1, -1, -1, -1, -1, -1, -1, -1, -1, -1, -1, -1, -1,\n",
       "        -1, -1, -1, -1, -1, -1, -1, -1],\n",
       "       [-1, -1, -1, -1, -1, -1, -1, -1, -1, -1, -1, -1, -1, -1, -1, -1,\n",
       "        -1, -1, -1, -1, -1, -1, -1, -1],\n",
       "       [-1, -1, -1, -1, -1, -1, -1, -1, -1, -1, -1, -1, -1, -1, -1, -1,\n",
       "        -1, -1, -1, -1, -1, -1, -1, -1],\n",
       "       [-1, -1, -1, -1, -1, -1, -1, -1, -1, -1, -1, -1, -1, -1, -1, -1,\n",
       "        -1, -1, -1, -1, -1, -1, -1, -1],\n",
       "       [-1, -1, -1, -1, -1, -1, -1, -1, -1, -1, -1, -1, -1, -1, -1, -1,\n",
       "        -1, -1, -1, -1, -1, -1, -1, -1],\n",
       "       [-1, -1, -1, -1, -1, -1, -1, -1, -1, -1, -1, -1, -1, -1, -1, -1,\n",
       "        -1, -1, -1, -1, -1, -1, -1, -1],\n",
       "       [-1, -1, -1, -1, -1, -1, -1, -1, -1, -1, -1, -1, -1, -1, -1, -1,\n",
       "        -1, -1, -1, -1, -1, -1, -1, -1],\n",
       "       [-1, -1, -1, -1, -1, -1, -1, -1, -1, -1, -1, -1, -1, -1, -1, -1,\n",
       "        -1, -1, -1, -1, -1, -1, -1, -1]], dtype=int32, weak_type=True)), relic_nodes=Array([[-1, -1],\n",
       "       [-1, -1],\n",
       "       [-1, -1],\n",
       "       [-1, -1],\n",
       "       [-1, -1],\n",
       "       [-1, -1]], dtype=int16), relic_nodes_mask=Array([False, False, False, False, False, False], dtype=bool), team_points=Array([0, 0], dtype=int32), team_wins=Array([0, 0], dtype=int32), steps=Array(80, dtype=int32, weak_type=True), match_steps=Array(80, dtype=int32, weak_type=True))"
      ]
     },
     "execution_count": 57,
     "metadata": {},
     "output_type": "execute_result"
    }
   ],
   "source": []
  },
  {
   "cell_type": "code",
   "execution_count": null,
   "id": "cffa6d85-6727-4000-928e-2eff5b668ef2",
   "metadata": {},
   "outputs": [],
   "source": []
  }
 ],
 "metadata": {
  "kernelspec": {
   "display_name": "Python 3 (ipykernel)",
   "language": "python",
   "name": "python3"
  },
  "language_info": {
   "codemirror_mode": {
    "name": "ipython",
    "version": 3
   },
   "file_extension": ".py",
   "mimetype": "text/x-python",
   "name": "python",
   "nbconvert_exporter": "python",
   "pygments_lexer": "ipython3",
   "version": "3.13.1"
  }
 },
 "nbformat": 4,
 "nbformat_minor": 5
}
