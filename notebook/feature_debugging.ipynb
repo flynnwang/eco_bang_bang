{
 "cells": [
  {
   "cell_type": "code",
   "execution_count": 1,
   "id": "227fc281-0dc6-404b-ba37-065848d128a4",
   "metadata": {},
   "outputs": [],
   "source": [
    "import numpy as np\n",
    "import pandas as pd\n",
    "\n",
    "import seaborn as sns\n",
    "import matplotlib.pyplot as plt\n",
    "\n",
    "%matplotlib inline"
   ]
  },
  {
   "cell_type": "code",
   "execution_count": 2,
   "id": "1fa7e29e-9478-4614-92ab-743cd75ddc7d",
   "metadata": {},
   "outputs": [],
   "source": [
    "import sys\n",
    "\n",
    "sys.path.insert(0, \"/Users/flynnwang/repo/flynn/eco_bang_bang\")"
   ]
  },
  {
   "cell_type": "code",
   "execution_count": 3,
   "id": "24c2db1c-688a-446d-9ab6-5c643965c2af",
   "metadata": {},
   "outputs": [],
   "source": [
    "from ebb.env.const import *"
   ]
  },
  {
   "cell_type": "code",
   "execution_count": 4,
   "id": "409cee30-a298-4073-8a3b-4017f454a1cf",
   "metadata": {},
   "outputs": [],
   "source": [
    "from ebb.env import LuxS3Env\n",
    "\n",
    "obs_space_kwargs = {\n",
    "    'use_energy_cost_map': True\n",
    "}\n",
    "env = LuxS3Env(reward_schema='game_win_loss2', reward_shaping_params={'use_mirror': False,\n",
    "                                                                      'use_hidden_relic_estimator': True},\n",
    "              obs_space_kwargs=obs_space_kwargs)\n",
    "\n",
    "obs, reward, done, info = env.reset()"
   ]
  },
  {
   "cell_type": "code",
   "execution_count": 5,
   "id": "444579c7-de84-4d56-8b0c-cd17942374c3",
   "metadata": {},
   "outputs": [
    {
     "data": {
      "text/plain": [
       "(34,\n",
       " dict_keys(['unit_move_cost', 'unit_sensor_range', 'unit_sap_cost', 'unit_sap_range', 'nebula_energy_reduction', 'game_step', 'match_step', 'units_team_points', 'enemy_team_points', 'units_team_points_delta', 'enemy_team_points_delta', 'units_wins', 'enemy_wins', 'cell_type', 'nebula_tile_vision_reduction', 'vision_map', 'visible', 'match_observed', 'match_visited', 'is_relic_node', 'game_unvisited_relic_nb', 'team_point_prob', 'energy_cost_map', 'cell_energy', 'units_loc_t0', 'units_energy_t0', 'units_loc_t1', 'units_energy_t1', 'enemy_loc_t0', 'enemy_energy_t0', 'enemy_loc_t1', 'enemy_energy_t1', '_units_info', '_baseline_extras']))"
      ]
     },
     "execution_count": 5,
     "metadata": {},
     "output_type": "execute_result"
    }
   ],
   "source": [
    "PLAYER_ID = 0\n",
    "\n",
    "ob = obs[PLAYER_ID]\n",
    "len(ob.keys()), ob.keys()"
   ]
  },
  {
   "cell_type": "code",
   "execution_count": 6,
   "id": "a65b43e0-3be7-4255-a56b-d3c8d9569257",
   "metadata": {},
   "outputs": [],
   "source": [
    "OB_KEYS = list(ob.keys())"
   ]
  },
  {
   "cell_type": "code",
   "execution_count": 7,
   "id": "09fea186-ed5d-4b4b-9295-4f029e789f77",
   "metadata": {},
   "outputs": [],
   "source": [
    "from agents.shaping_reward_0110.shaping_reward_0110.agent import Agent"
   ]
  },
  {
   "cell_type": "markdown",
   "id": "784a7973-4a08-43d3-afcd-b335b3a1cc64",
   "metadata": {},
   "source": [
    "# Simple Agent"
   ]
  },
  {
   "cell_type": "code",
   "execution_count": 8,
   "id": "79d9bd26-e0c9-4a5d-9918-0aab21768ca3",
   "metadata": {},
   "outputs": [],
   "source": [
    "import numpy as np\n",
    "\n",
    " #   direction (0 = center, 1 = up, 2 = right, 3 = down, 4 = left)\n",
    "def direction_to(src, target):\n",
    "    ds = target - src\n",
    "    dx = ds[0]\n",
    "    dy = ds[1]\n",
    "    if dx == 0 and dy == 0:\n",
    "        return 0\n",
    "    if abs(dx) > abs(dy):\n",
    "        if dx > 0:\n",
    "            return 2 \n",
    "        else:\n",
    "            return 4\n",
    "    else:\n",
    "        if dy > 0:\n",
    "            return 3\n",
    "        else:\n",
    "            return 1\n",
    "\n",
    "\n",
    "class Agent():\n",
    "    def __init__(self, player: str, env_cfg) -> None:\n",
    "        self.player = player\n",
    "        self.opp_player = \"player_1\" if self.player == \"player_0\" else \"player_0\"\n",
    "        self.team_id = 0 if self.player == \"player_0\" else 1\n",
    "        self.opp_team_id = 1 if self.team_id == 0 else 0\n",
    "        np.random.seed(0)\n",
    "        self.env_cfg = env_cfg\n",
    "        \n",
    "        self.relic_node_positions = []\n",
    "        self.discovered_relic_nodes_ids = set()\n",
    "        self.unit_explore_locations = dict()\n",
    "\n",
    "    def act(self, step: int, obs, remainingOverageTime: int = 60):\n",
    "        \"\"\"implement this function to decide what actions to send to each available unit. \n",
    "        \n",
    "        step is the current timestep number of the game starting from 0 going up to max_steps_in_match * match_count_per_episode - 1.\n",
    "        \"\"\"\n",
    "        unit_mask = np.array(obs[\"units_mask\"][self.team_id]) # shape (max_units, )\n",
    "        unit_positions = np.array(obs[\"units\"][\"position\"][self.team_id]) # shape (max_units, 2)\n",
    "        unit_energys = np.array(obs[\"units\"][\"energy\"][self.team_id]) # shape (max_units, 1)\n",
    "        observed_relic_node_positions = np.array(obs[\"relic_nodes\"]) # shape (max_relic_nodes, 2)\n",
    "        observed_relic_nodes_mask = np.array(obs[\"relic_nodes_mask\"]) # shape (max_relic_nodes, )\n",
    "        team_points = np.array(obs[\"team_points\"]) # points of each team, team_points[self.team_id] is the points of the your team\n",
    "        \n",
    "        # ids of units you can control at this timestep\n",
    "        available_unit_ids = np.where(unit_mask)[0]\n",
    "        # visible relic nodes\n",
    "        visible_relic_node_ids = set(np.where(observed_relic_nodes_mask)[0])\n",
    "        \n",
    "        actions = np.zeros((self.env_cfg[\"max_units\"], 3), dtype=int)\n",
    "\n",
    "\n",
    "        # basic strategy here is simply to have some units randomly explore and some units collecting as much energy as possible\n",
    "        # and once a relic node is found, we send all units to move randomly around the first relic node to gain points\n",
    "        # and information about where relic nodes are found are saved for the next match\n",
    "        \n",
    "        # save any new relic nodes that we discover for the rest of the game.\n",
    "        for id in visible_relic_node_ids:\n",
    "            if id not in self.discovered_relic_nodes_ids:\n",
    "                self.discovered_relic_nodes_ids.add(id)\n",
    "                self.relic_node_positions.append(observed_relic_node_positions[id])\n",
    "            \n",
    "\n",
    "        # unit ids range from 0 to max_units - 1\n",
    "        for unit_id in available_unit_ids:\n",
    "            unit_pos = unit_positions[unit_id]\n",
    "            unit_energy = unit_energys[unit_id]\n",
    "            if len(self.relic_node_positions) > 0:\n",
    "                nearest_relic_node_position = self.relic_node_positions[0]\n",
    "                manhattan_distance = abs(unit_pos[0] - nearest_relic_node_position[0]) + abs(unit_pos[1] - nearest_relic_node_position[1])\n",
    "                \n",
    "                # if close to the relic node we want to hover around it and hope to gain points\n",
    "                if manhattan_distance <= 4:\n",
    "                    random_direction = np.random.randint(0, 5)\n",
    "                    actions[unit_id] = [random_direction, 0, 0]\n",
    "                else:\n",
    "                    # otherwise we want to move towards the relic node\n",
    "                    actions[unit_id] = [direction_to(unit_pos, nearest_relic_node_position), 0, 0]\n",
    "            else:\n",
    "                # randomly explore by picking a random location on the map and moving there for about 20 steps\n",
    "                if step % 20 == 0 or unit_id not in self.unit_explore_locations:\n",
    "                    rand_loc = (np.random.randint(0, self.env_cfg[\"map_width\"]), np.random.randint(0, self.env_cfg[\"map_height\"]))\n",
    "                    self.unit_explore_locations[unit_id] = rand_loc\n",
    "                actions[unit_id] = [direction_to(unit_pos, self.unit_explore_locations[unit_id]), 0, 0]\n",
    "        #return actions\n",
    "\n",
    "        # convert actions into simple moves\n",
    "        aa = np.zeros((self.env_cfg[\"max_units\"], 1), dtype=int)\n",
    "        for i, (a, x, y) in enumerate(actions):\n",
    "            a = min(a, 4)\n",
    "            aa[i] = a\n",
    "        return aa\n"
   ]
  },
  {
   "cell_type": "markdown",
   "id": "81eeec19-3a65-4959-8a84-5446016a2ffa",
   "metadata": {},
   "source": [
    "# Feature Plots"
   ]
  },
  {
   "cell_type": "code",
   "execution_count": 9,
   "id": "b1dc81d2-bb84-473f-a3da-2f0d94256fab",
   "metadata": {},
   "outputs": [],
   "source": [
    "def plot_imgs(images):\n",
    "    grid_size = 3\n",
    "    fig, axes = plt.subplots(grid_size + 1, grid_size, figsize=(10, 10))\n",
    "    \n",
    "    for i, ax in enumerate(axes.flat):\n",
    "        if i < len(images):\n",
    "            name, img = images[i]\n",
    "            img = img.T\n",
    "            ax.imshow(img, cmap='viridis')  # Display image (grayscale here)\n",
    "            ax.set_title(name, fontsize=8)\n",
    "            ax.axis('off')  # Turn off the axes\n",
    "            ax.set_xticks(np.arange(-0.5, img.shape[1], 1))  # Position gridlines at the edges of the pixels\n",
    "            ax.set_yticks(np.arange(-0.5, img.shape[0], 1))  # Position gridlines at the edges of the pixels\n",
    "            # Set gridlines to be visible\n",
    "            ax.grid(which='both', color='black', linestyle='-', linewidth=.5)\n",
    "        else:\n",
    "            ax.axis('off')  # Turn off the axes for empty slots\n",
    "    \n",
    "    plt.tight_layout()\n",
    "    plt.show()"
   ]
  },
  {
   "cell_type": "code",
   "execution_count": 10,
   "id": "503602a3-f0f7-4b24-84fb-acbe175b4a44",
   "metadata": {},
   "outputs": [],
   "source": [
    "from ebb.env import LuxS3Env\n",
    "\n",
    "\n",
    "env = LuxS3Env(reward_schema='game_win_loss2', reward_shaping_params={'use_mirror': False,\n",
    "                                                                      'use_hidden_relic_estimator': True},\n",
    "              obs_space_kwargs=obs_space_kwargs)\n",
    "\n",
    "obs, reward, done, info = env.reset(seed=-2086719666)"
   ]
  },
  {
   "cell_type": "code",
   "execution_count": 11,
   "id": "1f9e1a39-d2ba-46fc-80a8-b161447383b2",
   "metadata": {},
   "outputs": [],
   "source": [
    "def act(a, ob):\n",
    "    player_id = a.player\n",
    "    step = ob['steps']\n",
    "    actions = a.act(step, ob)\n",
    "    return actions\n",
    "\n",
    "env_cfg = env.mms[0].env_cfg\n",
    "a0 = Agent('player_0', env_cfg)\n",
    "a1 = Agent('player_1', env_cfg)"
   ]
  },
  {
   "cell_type": "code",
   "execution_count": 28,
   "id": "0ca500d4-21f6-4a79-87fd-41aefd8d0f38",
   "metadata": {},
   "outputs": [
    {
     "name": "stdout",
     "output_type": "stream",
     "text": [
      "180.0 79.0\n",
      "number of units: 16\n"
     ]
    },
    {
     "data": {
      "image/png": "[encoded data removed]",
      "text/plain": [
       "<Figure size 1000x1000 with 12 Axes>"
      ]
     },
     "metadata": {},
     "output_type": "display_data"
    }
   ],
   "source": [
    "for i in range(30):\n",
    "    action0 = act(a0, env.mms[0].past_obs[0])\n",
    "    action1 = act(a1, env.mms[1].past_obs[0])\n",
    "    player_actions = [{UNITS_ACTION: action0}, {UNITS_ACTION: action1}]\n",
    "    obs, reward, done, info = env.step(player_actions)\n",
    "\n",
    "ob = obs[PLAYER_ID]\n",
    "ob['game_step'][0][0][0], ob['match_step'][0][0][0]\n",
    "\n",
    "# action0 = act(a0, env.mms[0].past_obs[0])\n",
    "# action1 = act(a1, env.mms[1].past_obs[0])\n",
    "# player_actions = [{UNITS_ACTION: action0}, {UNITS_ACTION: action1}]\n",
    "# obs, reward, done, info = env.step(player_actions)\n",
    "\n",
    "# ob = obs[PLAYER_ID]\n",
    "print(ob['game_step'][0][0][0] * 505, ob['match_step'][0][0][0] * 100)\n",
    "\n",
    "units_loc = ob['units_loc_t0']\n",
    "units_energy = ob['units_energy_t0']\n",
    "\n",
    "nebula_tile_vision_reduction = ob['nebula_tile_vision_reduction']\n",
    "\n",
    "nu = env.mms[0].past_obs[0]['units_mask'][0].sum()\n",
    "print(f'number of units: {nu}')\n",
    "plot_imgs([('cell_energy', ob['cell_energy']), ('cell types', ob['cell_type']), ('visible', ob['visible']),\n",
    "           \n",
    "                       ('nebula_tile_vision_reduction', nebula_tile_vision_reduction),\n",
    "           ('vision_map', ob['vision_map']),\n",
    "           ('match_observed', ob['match_observed']),\n",
    "           ('units_loc', units_loc),  ('units_energy', units_energy),\n",
    "           ('is_relic_node', ob['is_relic_node']),\n",
    "           ('game_unvisited_relic_nb', ob['game_unvisited_relic_nb']), ('team_point_prob', ob['team_point_prob']),\n",
    "           ])"
   ]
  },
  {
   "cell_type": "code",
   "execution_count": 26,
   "id": "dd197b02-c0c6-4cee-89ee-f64f8fdc9e0a",
   "metadata": {},
   "outputs": [
    {
     "data": {
      "text/plain": [
       "array([0.999, 0.999, 0.999, 0.999])"
      ]
     },
     "execution_count": 26,
     "metadata": {},
     "output_type": "execute_result"
    }
   ],
   "source": [
    "mm0 = env.mms[0]\n",
    "\n",
    "mm0.hidden_relic_estimator.priori[mm0.hidden_relic_estimator.priori > 0.25]"
   ]
  },
  {
   "cell_type": "code",
   "execution_count": 27,
   "id": "f69d1637-fb9b-455c-a629-bdd076f506fc",
   "metadata": {},
   "outputs": [
    {
     "data": {
      "text/plain": [
       "array([1., 1., 1., 1., 1., 1., 1., 1.])"
      ]
     },
     "execution_count": 27,
     "metadata": {},
     "output_type": "execute_result"
    }
   ],
   "source": [
    "ob['team_point_prob'][ob['team_point_prob'] > 0.01]"
   ]
  },
  {
   "cell_type": "code",
   "execution_count": 15,
   "id": "0edbf6a9-dd3e-4145-91b9-bcdc1b848a36",
   "metadata": {},
   "outputs": [
    {
     "data": {
      "text/plain": [
       "array([], dtype=float64)"
      ]
     },
     "execution_count": 15,
     "metadata": {},
     "output_type": "execute_result"
    }
   ],
   "source": [
    "ob['team_point_prob'][ob['team_point_prob'] > 0.01]"
   ]
  },
  {
   "cell_type": "code",
   "execution_count": null,
   "id": "a57e6f9b-0b70-4284-a50b-acdb26703d38",
   "metadata": {},
   "outputs": [],
   "source": []
  }
 ],
 "metadata": {
  "kernelspec": {
   "display_name": "Python 3 (ipykernel)",
   "language": "python",
   "name": "python3"
  },
  "language_info": {
   "codemirror_mode": {
    "name": "ipython",
    "version": 3
   },
   "file_extension": ".py",
   "mimetype": "text/x-python",
   "name": "python",
   "nbconvert_exporter": "python",
   "pygments_lexer": "ipython3",
   "version": "3.12.5"
  }
 },
 "nbformat": 4,
 "nbformat_minor": 5
}
