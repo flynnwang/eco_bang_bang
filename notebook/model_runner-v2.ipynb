{
 "cells": [
  {
   "cell_type": "code",
   "execution_count": 1,
   "id": "5203fe3a-5ed4-4115-b3a1-871ecd06181b",
   "metadata": {},
   "outputs": [],
   "source": [
    "import numpy as np\n",
    "import pandas as pd\n",
    "\n",
    "import seaborn as sns\n",
    "import matplotlib.pyplot as plt\n",
    "\n",
    "%matplotlib inline"
   ]
  },
  {
   "cell_type": "code",
   "execution_count": 2,
   "id": "6c5b9358-bd41-4461-8c4b-a9a714fa53bb",
   "metadata": {},
   "outputs": [],
   "source": [
    "import sys\n",
    "\n",
    "sys.path.insert(0, \"/Users/flynnwang/repo/flynn/eco_bang_bang\")"
   ]
  },
  {
   "cell_type": "code",
   "execution_count": 3,
   "id": "80676d1a-8ee0-46f1-a5fb-f59c162c2b77",
   "metadata": {},
   "outputs": [],
   "source": [
    "import torch\n",
    "\n",
    "from ebb.env.luxenv import get_ob_sapce\n",
    "from ebb.model import _create_model, RewardSpec\n",
    "\n",
    "reward_spec = RewardSpec(\n",
    "        reward_min=-5,\n",
    "        reward_max=+5,\n",
    "        zero_sum=False,\n",
    "    )\n",
    "\n",
    "reward_shaping_params = dict(  new_observed_down_tri=0.0001,\n",
    "  match_observed=0,\n",
    "  match_win=1,\n",
    "  use_hidden_relic_estimator=True,\n",
    "  energy_cost_change=0.001,                             \n",
    ")\n",
    "\n",
    "obs_space_kwargs = {\n",
    "    'use_energy_cost_map': True,\n",
    "    'use_single_player': False,\n",
    "    \"use_agent\": False,\n",
    "}"
   ]
  },
  {
   "cell_type": "markdown",
   "id": "31b61ef5-8bd0-40cf-8e43-9f1762fa0fe8",
   "metadata": {},
   "source": [
    "# Load model"
   ]
  },
  {
   "cell_type": "code",
   "execution_count": 4,
   "id": "cc5db45b-c255-43a9-a061-11964988817c",
   "metadata": {},
   "outputs": [
    {
     "data": {
      "text/plain": [
       "<All keys matched successfully>"
      ]
     },
     "execution_count": 4,
     "metadata": {},
     "output_type": "execute_result"
    }
   ],
   "source": [
    "# model_path = \"/Users/flynnwang/repo/flynn/runs/new_md/run_2025026_imitation_r0/011321856_weights.pt\"\n",
    "model_path = \"/Users/flynnwang/repo/flynn/runs/new_md/run_20250207_behaviour_cloning_test_run_v4/000161856_weights.pt\"\n",
    "\n",
    "\n",
    "ob_space = get_ob_sapce(obs_space_kwargs)\n",
    "model = _create_model(ob_space, reward_spec=reward_spec, n_blocks=8, hidden_dim=128, base_out_channels=128,\n",
    "                      embedding_dim=16, kernel_size=5)\n",
    "\n",
    "\n",
    "checkpoint_state = torch.load(model_path, map_location=torch.device(\"cpu\"), weights_only=True)\n",
    "model.load_state_dict(checkpoint_state[\"model_state_dict\"])"
   ]
  },
  {
   "cell_type": "markdown",
   "id": "83b8acf9-cfff-43a8-910f-e3dae466ac81",
   "metadata": {},
   "source": [
    "# Model Run"
   ]
  },
  {
   "cell_type": "code",
   "execution_count": 5,
   "id": "d2481513-e0bf-478a-bcdb-22ae0b934513",
   "metadata": {},
   "outputs": [],
   "source": [
    "from luxai_s3.params import EnvParams\n",
    "\n",
    "from luxai_s3.wrappers import LuxAIS3GymEnv, RecordEpisode\n",
    "from ebb.env.luxenv import LuxS3Env\n",
    "from ebb.env.wrappers import VecEnv, PytorchEnv, DictEnv\n",
    "from ebb.torchbeast.core.selfplay import split_env_output_by_player, pair_env_output_for_players\n",
    "\n",
    "\n",
    "def actor_model_apply(env_output, sample=True):\n",
    "  lef_env_out, rig_env_out = split_env_output_by_player(env_output)\n",
    "  lef_agent_out = actor_model(lef_env_out, sample=sample)\n",
    "  rig_agent_out = actor_model(rig_env_out, sample=sample)\n",
    "  return [(lef_env_out, lef_agent_out), (rig_env_out, rig_agent_out)]\n",
    "\n",
    "def get_merged_actions(env_agent_out):\n",
    "  lef_actions = env_agent_out[0][1]['actions']\n",
    "  rig_actions = env_agent_out[1][1]['actions']\n",
    "  return pair_env_output_for_players(lef_actions, rig_actions)\n",
    "\n",
    "class AgentStats:\n",
    "\n",
    "    def __init__(self):\n",
    "        self.baseline = []\n",
    "\n",
    "\n",
    "    def add_baseline(self, b):\n",
    "        self.baseline.append(float(b.detach().numpy()))\n",
    "\n",
    "        "
   ]
  },
  {
   "cell_type": "code",
   "execution_count": 10,
   "id": "84dfc490-92ec-471d-922d-f18556c5093e",
   "metadata": {},
   "outputs": [
    {
     "data": {
      "text/plain": [
       "-218828407"
      ]
     },
     "execution_count": 10,
     "metadata": {},
     "output_type": "execute_result"
    }
   ],
   "source": [
    "game_env = LuxAIS3GymEnv(numpy_output=True)\n",
    "game_env = RecordEpisode(game_env, save_dir=\"episodes1\")\n",
    "\n",
    "lux_env = LuxS3Env('match_explore_win_loss', \n",
    "                   obs_space_kwargs,\n",
    "                   game_env,\n",
    "                   reward_shaping_params=reward_shaping_params)\n",
    "env = VecEnv([lux_env])\n",
    "env = PytorchEnv(env, torch.device('cpu'))\n",
    "env = DictEnv(env)\n",
    "\n",
    "actor_model = model\n",
    "\n",
    "# env_output = env.reset(force=True, seed=1331520750)\n",
    "env_output = env.reset(force=True)\n",
    "\n",
    "a1_stats = AgentStats()\n",
    "a2_stats = AgentStats()\n",
    "\n",
    "\n",
    "use_single_player = obs_space_kwargs['use_single_player']\n",
    "\n",
    "while True:\n",
    "    env_agent_output = actor_model_apply(env_output)\n",
    "    a1_stats.add_baseline(env_agent_output[0][1]['baseline'][0][0])\n",
    "    a2_stats.add_baseline(env_agent_output[1][1]['baseline'][0][0])\n",
    "\n",
    "    actions = get_merged_actions(env_agent_output)\n",
    "    env_output = env.step(actions)\n",
    "    if env_output[\"done\"].any():\n",
    "        break\n",
    "\n",
    "game_env.close()\n",
    "\n",
    "lux_env._seed"
   ]
  },
  {
   "cell_type": "code",
   "execution_count": 11,
   "id": "def52487-d803-489f-adb6-3cac2083501f",
   "metadata": {},
   "outputs": [
    {
     "data": {
      "text/plain": [
       "<Axes: >"
      ]
     },
     "execution_count": 11,
     "metadata": {},
     "output_type": "execute_result"
    },
    {
     "data": {
      "image/png": "[encoded data removed]",
      "text/plain": [
       "<Figure size 1000x400 with 1 Axes>"
      ]
     },
     "metadata": {},
     "output_type": "display_data"
    }
   ],
   "source": [
    "data = {\n",
    "    'agent_1_baseline': a1_stats.baseline,\n",
    "    'agent_2_baseline': a2_stats.baseline,   \n",
    "}\n",
    "\n",
    "pd.DataFrame(data)[['agent_1_baseline', 'agent_2_baseline']].plot(figsize=(10, 4))"
   ]
  },
  {
   "cell_type": "code",
   "execution_count": null,
   "id": "ec927f03-b936-467b-818b-ad2514eae515",
   "metadata": {},
   "outputs": [],
   "source": []
  },
  {
   "cell_type": "code",
   "execution_count": null,
   "id": "1130e1cc-9304-4401-988d-8c850b6091fc",
   "metadata": {},
   "outputs": [],
   "source": []
  },
  {
   "cell_type": "code",
   "execution_count": null,
   "id": "b5c88171-df00-4b4e-8f8b-74f34d3bb734",
   "metadata": {},
   "outputs": [],
   "source": []
  }
 ],
 "metadata": {
  "kernelspec": {
   "display_name": "Python 3 (ipykernel)",
   "language": "python",
   "name": "python3"
  },
  "language_info": {
   "codemirror_mode": {
    "name": "ipython",
    "version": 3
   },
   "file_extension": ".py",
   "mimetype": "text/x-python",
   "name": "python",
   "nbconvert_exporter": "python",
   "pygments_lexer": "ipython3",
   "version": "3.12.5"
  }
 },
 "nbformat": 4,
 "nbformat_minor": 5
}
