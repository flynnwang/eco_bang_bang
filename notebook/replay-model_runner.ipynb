{
 "cells": [
  {
   "cell_type": "code",
   "execution_count": 1,
   "id": "5203fe3a-5ed4-4115-b3a1-871ecd06181b",
   "metadata": {},
   "outputs": [],
   "source": [
    "import numpy as np\n",
    "import pandas as pd\n",
    "\n",
    "import seaborn as sns\n",
    "import matplotlib.pyplot as plt\n",
    "\n",
    "%matplotlib inline"
   ]
  },
  {
   "cell_type": "code",
   "execution_count": 2,
   "id": "6c5b9358-bd41-4461-8c4b-a9a714fa53bb",
   "metadata": {},
   "outputs": [],
   "source": [
    "import sys\n",
    "\n",
    "sys.path.insert(0, \"/Users/flynnwang/repo/flynn/eco_bang_bang\")"
   ]
  },
  {
   "cell_type": "code",
   "execution_count": 3,
   "id": "80676d1a-8ee0-46f1-a5fb-f59c162c2b77",
   "metadata": {},
   "outputs": [],
   "source": [
    "import torch\n",
    "\n",
    "from ebb.env.luxenv import OBSERVATION_SPACE\n",
    "from ebb.model import _create_model, RewardSpec\n",
    "\n",
    "reward_spec = RewardSpec(\n",
    "        reward_min=-1.1,\n",
    "        reward_max=+1.1,\n",
    "        zero_sum=False,\n",
    "    )\n",
    "\n",
    "reward_shaping_params = dict(  new_observed_down_tri=0.0001,\n",
    "  new_observed_main_diag=0.0005,\n",
    "  new_observed_corners=0.001,\n",
    "  relic_nb=0.0005,\n",
    "  team_point=0.001,\n",
    "  match_result=0.3,\n",
    "  game_result=0,\n",
    "  frozen_uints=-0.0005,\n",
    "  dead_uints=0,\n",
    ")"
   ]
  },
  {
   "cell_type": "markdown",
   "id": "31b61ef5-8bd0-40cf-8e43-9f1762fa0fe8",
   "metadata": {},
   "source": [
    "# Load model"
   ]
  },
  {
   "cell_type": "code",
   "execution_count": 4,
   "id": "cc5db45b-c255-43a9-a061-11964988817c",
   "metadata": {},
   "outputs": [
    {
     "data": {
      "text/plain": [
       "<All keys matched successfully>"
      ]
     },
     "execution_count": 4,
     "metadata": {},
     "output_type": "execute_result"
    }
   ],
   "source": [
    "# model_path = \"/Users/flynnwang/repo/flynn/runs/mds/048021120_weights.pt\"\n",
    "# model_path = \"/Users/flynnwang/repo/flynn/runs/mds/debug_run_20251226_units_run_out_of_energy/043652096_weights.pt\"\n",
    "\n",
    "# model_path = \"/Users/flynnwang/repo/flynn/runs/mds/debug_run_20251227_fix_action_center/029805568_weights.pt\"\n",
    "# model_path = \"/Users/flynnwang/repo/flynn/runs/mds/debug_run_20251227_fix_action_center/038978560_weights.pt\"\n",
    "\n",
    "# model_path = \"/Users/flynnwang/repo/flynn/runs/mds/debug_run_20251228_small_reward_range/003574656_weights.pt\"\n",
    "# model_path = \"/Users/flynnwang/repo/flynn/runs/mds/debug_run_20251228_small_reward_range/012532608_weights.pt\"\n",
    "# model_path = \"/Users/flynnwang/repo/flynn/runs/mds/debug_run_20251228_small_reward_range/014323840_weights.pt\"\n",
    "\n",
    "# model_path = \"/Users/flynnwang/repo/flynn/runs/mds/debug_run_20251228_use_action_taken/039774592_weights.pt\"\n",
    "# model_path = \"/Users/flynnwang/repo/flynn/runs/mds/debug_run_20251228_use_action_taken/043380864_weights.pt\"\n",
    "# model_path = \"/Users/flynnwang/repo/flynn/runs/mds/debug_run_20251228_use_action_taken/056001152_weights.pt\"\n",
    "# model_path = \"/Users/flynnwang/repo/flynn/runs/mds/debug_run_20251228_use_action_taken/108289280_weights.pt\"\n",
    "\n",
    "# model_path = \"/Users/flynnwang/repo/flynn/runs/mds/debug_run_20251230_exploration_reward/018027392_weights.pt\"\n",
    "\n",
    "# model_path = \"/Users/flynnwang/repo/flynn/runs/mds/debug_run_20251230_exploration_reward_v4/001788160_weights.pt\"\n",
    "\n",
    "# model_path = \"/Users/flynnwang/repo/flynn/runs/mds/debug_run_20251231_exploration_reward_no_remapping/008947328_weights.pt\"\n",
    "# model_path = \"/Users/flynnwang/repo/flynn/runs/mds/debug_run_20251231_exploration_reward_no_remapping/019696896_weights.pt\"\n",
    "\n",
    "# model_path = \"/Users/flynnwang/repo/flynn/runs/mds/debug_run_20251231_exploration_reward_larger/003569152_weights.pt\"\n",
    "# model_path = \"/Users/flynnwang/repo/flynn/runs/mds/debug_run_20251231_exploration_reward_larger/014308608_weights.pt\"\n",
    "# model_path = \"/Users/flynnwang/repo/flynn/runs/mds/debug_run_20251231_exploration_reward_larger/017888128_weights.pt\"\n",
    "# model_path = \"/Users/flynnwang/repo/flynn/runs/mds/debug_run_20251231_exploration_reward_larger/021468032_weights.pt\"\n",
    "# \n",
    "# model = _create_model(OBSERVATION_SPACE, reward_spec=reward_spec, hidden_dim=64, embedding_dim=32)\n",
    "\n",
    "\n",
    "# model_path = \"/Users/flynnwang/repo/flynn/runs/mds/debug_run_20250101_reward_fine_tuning_v12_dim128/024116864_weights.pt\"\n",
    "\n",
    "# model_path = \"/Users/flynnwang/repo/flynn/runs/mds/debug_run_20250101_reward_large/043031552_weights.pt\"\n",
    "\n",
    "\n",
    "# model_path = \"/Users/flynnwang/repo/flynn/runs/mds/run_20250102_use_game_win_loss/001666432_weights.pt\"\n",
    "# model_path = \"/Users/flynnwang/repo/flynn/runs/mds/run_20250102_use_game_win_loss/010047872_weights.pt\"\n",
    "# model_path = \"/Users/flynnwang/repo/flynn/runs/mds/run_20250102_use_game_win_loss/011703040_weights.pt\"\n",
    "# model_path = \"/Users/flynnwang/repo/flynn/runs/mds/run_20250102_use_game_win_loss/013357824_weights.pt\"\n",
    "# model_path = \"/Users/flynnwang/repo/flynn/runs/mds/run_20250102_use_game_win_loss/018322560_weights.pt\"\n",
    "# model_path = \"/Users/flynnwang/repo/flynn/runs/mds/run_20250102_use_game_win_loss/021632000_weights.pt\"\n",
    "# model_path = \"/Users/flynnwang/repo/flynn/runs/mds/run_20250102_use_game_win_loss/033219200_weights.pt\"\n",
    "# model_path = \"/Users/flynnwang/repo/flynn/runs/mds/run_20250102_use_game_win_loss/041497728_weights.pt\"\n",
    "\n",
    "# model_path = \"/Users/flynnwang/repo/flynn/runs/mds/run_20250103_use_game_win_loss/018151296_weights.pt\"\n",
    "# model_path = \"/Users/flynnwang/repo/flynn/runs/mds/run_20250103_use_game_win_loss/028889216_weights.pt\"\n",
    "\n",
    "# model = _create_model(OBSERVATION_SPACE, reward_spec=reward_spec, hidden_dim=128, embedding_dim=32)\n",
    "\n",
    "# model_path = \"/Users/flynnwang/repo/flynn/runs/mds/run_20250103_baseline_extras/004628224_weights.pt\"\n",
    "# model_path = \"/Users/flynnwang/repo/flynn/runs/mds/run_20250103_baseline_extras/007718272_weights.pt\"\n",
    "# model_path = \"/Users/flynnwang/repo/flynn/runs/mds/run_20250103_baseline_extras/010808448_weights.pt\"\n",
    "# model_path = \"/Users/flynnwang/repo/flynn/runs/mds/run_20250103_baseline_extras/012353664_weights.pt\"\n",
    "# model_path = \"/Users/flynnwang/repo/flynn/runs/mds/run_20250103_baseline_extras/021626240_weights.pt\"\n",
    "# model_path = \"/Users/flynnwang/repo/flynn/runs/mds/run_20250103_baseline_extras/023171456_weights.pt\"\n",
    "\n",
    "# model = _create_model(OBSERVATION_SPACE, reward_spec=reward_spec, hidden_dim=128, embedding_dim=32, kernel_size=5)\n",
    "\n",
    "\n",
    "# model_path = \"/Users/flynnwang/repo/flynn/runs/mds/run_20250104_team_actor_v0/006118272_weights.pt\"\n",
    "# model_path = \"/Users/flynnwang/repo/flynn/runs/mds/run_20250104_team_actor_v0/012239488_weights.pt\"\n",
    "# model_path = \"/Users/flynnwang/repo/flynn/runs/mds/run_20250104_team_actor_v0/015299712_weights.pt\"\n",
    "# model_path = \"/Users/flynnwang/repo/flynn/runs/mds/run_20250104_team_actor_v0/022950144_weights.pt\"\n",
    "# model_path = \"/Users/flynnwang/repo/flynn/runs/mds/run_20250104_team_actor_v0/027542144_weights.pt\"\n",
    "# model_path = \"/Users/flynnwang/repo/flynn/runs/mds/run_20250104_team_actor_v0/061271936_weights.pt\"\n",
    "\n",
    "# model_path = \"/Users/flynnwang/repo/flynn/runs/mds/run_20250104_explore_v0/013785088_weights.pt\"\n",
    "# model_path = \"/Users/flynnwang/repo/flynn/runs/mds/run_20250104_explore_v0/016848000_weights.pt\"\n",
    "# model_path = \"/Users/flynnwang/repo/flynn/runs/mds/run_20250104_explore_v0/021179392_weights.pt\"\n",
    "# model_path = \"/Users/flynnwang/repo/flynn/runs/mds/run_20250104_explore_v0/030059904_weights.pt\"\n",
    "\n",
    "# model_path = \"/Users/flynnwang/repo/flynn/runs/mds/run_20250105_explore_v0/002960256_weights.pt\"\n",
    "# model_path = \"/Users/flynnwang/repo/flynn/runs/mds/run_20250105_explore_v0/019037056_weights.pt\"\n",
    "\n",
    "# model_path = \"/Users/flynnwang/repo/flynn/runs/mds/run_20250106_reward_stay_on_relics_v0/016035200_weights.pt\"\n",
    "\n",
    "# model_path = \"/Users/flynnwang/repo/flynn/runs/mds/run_20250106_shared_unit_layers_v0/016836608_weights.pt\"\n",
    "# model_path = \"/Users/flynnwang/repo/flynn/runs/mds/run_20250106_shared_unit_layers_v0/043562496_weights.pt\"\n",
    "\n",
    "# model_path = \"/Users/flynnwang/repo/flynn/runs/mds/run_20250106_shared_unit_layers_r2/006861696_weights.pt\"\n",
    "# model_path = \"/Users/flynnwang/repo/flynn/runs/mds/run_20250106_shared_unit_layers_r2/009647616_weights.pt\"\n",
    "\n",
    "\n",
    "# model_path = \"/Users/flynnwang/repo/flynn/runs/mds/run_20250106_dist_reward_r0/002765568_weights.pt\"\n",
    "# model_path = \"/Users/flynnwang/repo/flynn/runs/mds/run_20250106_dist_reward_r0/005544064_weights.pt\"\n",
    "# model_path = \"/Users/flynnwang/repo/flynn/runs/mds/run_20250106_dist_reward_r0/008321920_weights.pt\"\n",
    "# model_path = \"/Users/flynnwang/repo/flynn/runs/mds/run_20250106_dist_reward_r0/013878400_weights.pt\"\n",
    "\n",
    "# model_path = \"/Users/flynnwang/repo/flynn/runs/mds/run_20250106_drop_win_loss_r0/016737664_weights.pt\"\n",
    "# model_path = \"/Users/flynnwang/repo/flynn/runs/mds/run_20250106_drop_win_loss_r0/018604544_weights.pt\"\n",
    "# model = _create_model(OBSERVATION_SPACE, reward_spec=reward_spec, hidden_dim=128, base_out_channels=128, embedding_dim=32, kernel_size=5)\n",
    "\n",
    "# model_path = \"/Users/flynnwang/repo/flynn/runs/mds/run_20250106_drop_win_loss_r1/019067264_weights.pt\"\n",
    "# model = _create_model(OBSERVATION_SPACE, reward_spec=reward_spec, n_blocks=8, hidden_dim=128, base_out_channels=128,\n",
    "#                       embedding_dim=32, kernel_size=5)\n",
    "\n",
    "# model_path = \"/Users/flynnwang/repo/flynn/runs/mds/run_20250107_penality_dead_units_r0/002547456_weights.pt\"\n",
    "\n",
    "# model_path = \"/Users/flynnwang/repo/flynn/runs/mds/run_20250107_penality_dead_units_r1/001673856_weights.pt\"\n",
    "# model_path = \"/Users/flynnwang/repo/flynn/runs/mds/run_20250107_reverted_r0/001572480_weights.pt\"\n",
    "\n",
    "# model_path = \"/Users/flynnwang/repo/flynn/runs/mds/run_20250107_reverted_move_center_on_relic_node_only/001571200_weights.pt\"\n",
    "# model_path = \"/Users/flynnwang/repo/flynn/runs/mds/run_20250107_reverted_move_center_on_relic_node_only/003153536_weights.pt\"\n",
    "# model_path = \"/Users/flynnwang/repo/flynn/runs/mds/run_20250107_reverted_move_center_on_relic_node_only/004735360_weights.pt\"\n",
    "\n",
    "# model_path = \"/Users/flynnwang/repo/flynn/runs/mds/run_20250107_move_center_on_relic_node_only_zero/001542016_weights.pt\"\n",
    "# model_path = \"/Users/flynnwang/repo/flynn/runs/mds/run_20250107_move_center_on_relic_node_only_zero/003094016_weights.pt\"\n",
    "# model_path = \"/Users/flynnwang/repo/flynn/runs/mds/run_20250107_move_center_on_relic_node_only_zero/021721472_weights.pt\"\n",
    "\n",
    "# model_path = \"/Users/flynnwang/repo/flynn/runs/mds/run_20250108_mirror_r0/009296896_weights.pt\"\n",
    "\n",
    "# model_path = \"/Users/flynnwang/repo/flynn/runs/mds/run_20250108_mirror_r1_cont/016821888_weights.pt\"\n",
    "\n",
    "# model_path = \"/Users/flynnwang/repo/flynn/runs/mds/run_20250108_inc_baseline_range/016948864_weights.pt\"\n",
    "# model_path = \"/Users/flynnwang/repo/flynn/runs/mds/run_20250108_use_teacher/013121280_weights.pt\"\n",
    "\n",
    "# model_path = \"/Users/flynnwang/repo/flynn/runs/mds/run_20250108_one_action_center_r0/003017088_weights.pt\"\n",
    "\n",
    "# model_path = \"/Users/flynnwang/repo/flynn/runs/mds/run_20250108_low_teacher_kl_r1/006076416_weights.pt\"\n",
    "# model = _create_model(OBSERVATION_SPACE, reward_spec=reward_spec, n_blocks=8, hidden_dim=128, base_out_channels=128,\n",
    "#                       embedding_dim=32, kernel_size=5)\n",
    "\n",
    "\n",
    "# model_path = \"/Users/flynnwang/repo/flynn/runs/mds/run_20250109_penality_on_dead_and_frozen_r3/003592192_weights.pt\"\n",
    "# model = _create_model(OBSERVATION_SPACE, reward_spec=reward_spec, n_blocks=4, hidden_dim=128, base_out_channels=128,\n",
    "#                       embedding_dim=32, kernel_size=5)\n",
    "\n",
    "# model_path = \"/Users/flynnwang/repo/flynn/runs/mds/run_20250109_penality_on_dead_and_frozen_r4/010772608_weights.pt\"\n",
    "# model_path = \"/Users/flynnwang/repo/flynn/runs/mds/run_20250109_penality_on_dead_and_frozen_r4/013854336_weights.pt\"\n",
    "\n",
    "# model_path = \"/Users/flynnwang/repo/flynn/runs/mds/run_20250109_game_win_loss_r1/009059840_weights.pt\"\n",
    "\n",
    "# model_path = \"/Users/flynnwang/repo/flynn/runs/mds/run_20250109_nebula_features_0/004457216_weights.pt\"\n",
    "# model_path = \"/Users/flynnwang/repo/flynn/runs/mds/run_20250109_nebula_features_0/004457216_weights.pt\"\n",
    "\n",
    "# model_path = \"/Users/flynnwang/repo/flynn/runs/mds/run_20250109_nebula_features_4_shaping_no_teacher/007567232_weights.pt\"\n",
    "# model_path = \"/Users/flynnwang/repo/flynn/runs/mds/run_20250109_nebula_features_4_shaping_no_teacher/009083776_weights.pt\"\n",
    "# model_path = \"/Users/flynnwang/repo/flynn/runs/mds/run_20250109_nebula_features_4_shaping_no_teacher/013631872_weights.pt\"\n",
    "\n",
    "# model_path = \"/Users/flynnwang/repo/flynn/runs/mds/run_20250109_nebula_features_4_shaping_add_match_back_cont/003022720_weights.pt\"\n",
    "# model_path = \"/Users/flynnwang/repo/flynn/runs/mds/run_20250109_nebula_features_shaping_reward_r0/008980096_weights.pt\"\n",
    "\n",
    "# model_path = \"/Users/flynnwang/repo/flynn/runs/mds/run_20250110_rewarding_shaping_v0/014969984_weights.pt\"\n",
    "# \n",
    "# model_path = \"/Users/flynnwang/repo/flynn/runs/mds/run_20250111_rewarding_shaping_r0/057310720_weights.pt\"\n",
    "\n",
    "# model_path = \"/Users/flynnwang/repo/flynn/runs/mds/run_20250111_shaping_reward_fix_r0/032926336_weights.pt\"\n",
    "\n",
    "# model_path = \"/Users/flynnwang/repo/flynn/runs/mds/run_20250111_win_loss_teacher/008807168_weights.pt\"\n",
    "# model_path = \"/Users/flynnwang/repo/flynn/runs/mds/run_20250111_win_loss_teacher/011750656_weights.pt\"\n",
    "\n",
    "# model_path = \"/Users/flynnwang/repo/flynn/runs/mds/run_20250112_rewarding_shaping_r0/028455552_weights.pt\"\n",
    "# model_path = \"/Users/flynnwang/repo/flynn/runs/mds/run_20250112_rewarding_shaping_r0/032951168_weights.pt\"\n",
    "# model_path = \"/Users/flynnwang/repo/flynn/runs/mds/run_20250112_rewarding_shaping_r0/037353984_weights.pt\"\n",
    "\n",
    "# model_path = \"/Users/flynnwang/repo/flynn/runs/mds/run_20250112_luxs3_teacher_win_loss_r0/018194560_weights.pt\"\n",
    "model_path = \"/Users/flynnwang/repo/flynn/runs/mds/run_20250113_reward_shaping_using_match_observed_r1/041340928_weights.pt\"\n",
    "\n",
    "\n",
    "model = _create_model(OBSERVATION_SPACE, reward_spec=reward_spec, n_blocks=8, hidden_dim=128, base_out_channels=128,\n",
    "                      embedding_dim=32, kernel_size=5)\n",
    "\n",
    "\n",
    "checkpoint_state = torch.load(model_path, map_location=torch.device(\"cpu\"), weights_only=True)\n",
    "model.load_state_dict(checkpoint_state[\"model_state_dict\"])"
   ]
  },
  {
   "cell_type": "code",
   "execution_count": 5,
   "id": "32ad2499-92ab-4e5d-88e6-895009b2f93a",
   "metadata": {},
   "outputs": [],
   "source": [
    "import json\n",
    "\n",
    "with open(\"./episodes1/episode_0.json.bak\") as f:\n",
    "    j = json.loads(f.read())"
   ]
  },
  {
   "cell_type": "code",
   "execution_count": 8,
   "id": "bb5b8ad3-da13-44f3-81f0-505b01cb2278",
   "metadata": {},
   "outputs": [
    {
     "data": {
      "text/plain": [
       "dict_keys(['observations', 'actions', 'metadata', 'params'])"
      ]
     },
     "execution_count": 8,
     "metadata": {},
     "output_type": "execute_result"
    }
   ],
   "source": [
    "j.keys()"
   ]
  },
  {
   "cell_type": "code",
   "execution_count": 11,
   "id": "05d6a0b5-f624-44e5-8d8f-0a9356cd1e6f",
   "metadata": {},
   "outputs": [
    {
     "data": {
      "text/plain": [
       "506"
      ]
     },
     "execution_count": 11,
     "metadata": {},
     "output_type": "execute_result"
    }
   ],
   "source": [
    "len(j['observations'])"
   ]
  },
  {
   "cell_type": "code",
   "execution_count": 12,
   "id": "2bf51e22-d2ad-4d58-b535-ef46c3c65f13",
   "metadata": {},
   "outputs": [
    {
     "data": {
      "text/plain": [
       "505"
      ]
     },
     "execution_count": 12,
     "metadata": {},
     "output_type": "execute_result"
    }
   ],
   "source": [
    "len(j['actions'])"
   ]
  },
  {
   "cell_type": "markdown",
   "id": "83b8acf9-cfff-43a8-910f-e3dae466ac81",
   "metadata": {},
   "source": [
    "# Model Run"
   ]
  },
  {
   "cell_type": "code",
   "execution_count": 5,
   "id": "80b33cf2-35e0-495a-8815-55603fe78fbe",
   "metadata": {},
   "outputs": [],
   "source": [
    "from luxai_s3.params import EnvParams\n",
    "\n",
    "from luxai_s3.wrappers import LuxAIS3GymEnv, RecordEpisode\n",
    "from ebb.env.luxenv import LuxS3Env\n",
    "from ebb.env.wrappers import VecEnv, PytorchEnv, DictEnv\n",
    "from ebb.torchbeast.core.selfplay import split_env_output_by_player, pair_env_output_for_players\n",
    "\n",
    "\n",
    "def actor_model_apply(env_output, sample=True):\n",
    "  lef_env_out, rig_env_out = split_env_output_by_player(env_output)\n",
    "  lef_agent_out = actor_model(lef_env_out, sample=sample)\n",
    "  rig_agent_out = actor_model(rig_env_out, sample=sample)\n",
    "  return [(lef_env_out, lef_agent_out), (rig_env_out, rig_agent_out)]\n",
    "\n",
    "def get_merged_actions(env_agent_out):\n",
    "  lef_actions = env_agent_out[0][1]['actions']\n",
    "  rig_actions = env_agent_out[1][1]['actions']\n",
    "  return pair_env_output_for_players(lef_actions, rig_actions)"
   ]
  },
  {
   "cell_type": "code",
   "execution_count": 21,
   "id": "84dfc490-92ec-471d-922d-f18556c5093e",
   "metadata": {},
   "outputs": [
    {
     "data": {
      "text/plain": [
       "-248314507"
      ]
     },
     "execution_count": 21,
     "metadata": {},
     "output_type": "execute_result"
    }
   ],
   "source": [
    "game_env = LuxAIS3GymEnv(numpy_output=True)\n",
    "game_env = RecordEpisode(game_env, save_dir=\"episodes1\")\n",
    "\n",
    "lux_env = LuxS3Env('shaping', game_env, reward_shaping_params=reward_shaping_params)\n",
    "env = VecEnv([lux_env])\n",
    "env = PytorchEnv(env, torch.device('cpu'))\n",
    "env = DictEnv(env)\n",
    "\n",
    "actor_model = model\n",
    "\n",
    "env_output = env.reset(force=True)\n",
    "\n",
    "while True:\n",
    "    env_agent_output = actor_model_apply(env_output)\n",
    "    actions = get_merged_actions(env_agent_output)\n",
    "    env_output = env.step(actions)\n",
    "    if env_output[\"done\"].any():\n",
    "        break\n",
    "\n",
    "game_env.close()\n",
    "\n",
    "lux_env._seed"
   ]
  },
  {
   "cell_type": "code",
   "execution_count": null,
   "id": "463bfeae-fd1a-41d7-a5b4-dadb42510de0",
   "metadata": {},
   "outputs": [],
   "source": []
  }
 ],
 "metadata": {
  "kernelspec": {
   "display_name": "Python 3 (ipykernel)",
   "language": "python",
   "name": "python3"
  },
  "language_info": {
   "codemirror_mode": {
    "name": "ipython",
    "version": 3
   },
   "file_extension": ".py",
   "mimetype": "text/x-python",
   "name": "python",
   "nbconvert_exporter": "python",
   "pygments_lexer": "ipython3",
   "version": "3.12.5"
  }
 },
 "nbformat": 4,
 "nbformat_minor": 5
}
